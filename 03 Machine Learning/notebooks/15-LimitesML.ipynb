{
  "nbformat": 4,
  "nbformat_minor": 0,
  "metadata": {
    "colab": {
      "provenance": []
    },
    "kernelspec": {
      "name": "python3",
      "display_name": "Python 3"
    },
    "language_info": {
      "name": "python"
    }
  },
  "cells": [
    {
      "cell_type": "markdown",
      "source": [
        "<a href=\"https://colab.research.google.com/github/DCDPUAEM/DCDP_2022/blob/main/03%20Machine%20Learning/notebooks/15-LimitesML.ipynb\" target=\"_parent\"><img src=\"https://colab.research.google.com/assets/colab-badge.svg\" alt=\"Open In Colab\"/></a>"
      ],
      "metadata": {
        "id": "kxyW_ijZ4_qY"
      }
    },
    {
      "cell_type": "markdown",
      "source": [
        "<h1>Limitantes del Machine Learning Clásico</h1>\n",
        "\n",
        "En esta notebooks veremos algunas limitantes de los algoritmos de Machine Learning clásico."
      ],
      "metadata": {
        "id": "BC0LPz3Eho-a"
      }
    },
    {
      "cell_type": "markdown",
      "source": [
        "# Un dataset complejo en dimensionalidad alta: Fashion MNIST\n",
        "\n",
        "[Documentación](https://keras.io/api/datasets/fashion_mnist/)"
      ],
      "metadata": {
        "id": "-DXUqVOytolX"
      }
    },
    {
      "cell_type": "code",
      "execution_count": null,
      "metadata": {
        "id": "-cTPehmjdhvJ"
      },
      "outputs": [],
      "source": [
        "from keras.datasets.fashion_mnist import load_data\n",
        "\n",
        "(X_train, y_train), (X_test, y_test) = load_data()\n",
        "\n",
        "print(X_train.shape)\n",
        "print(y_train.shape)\n",
        "print(X_test.shape)\n",
        "print(y_test.shape)"
      ]
    },
    {
      "cell_type": "code",
      "source": [
        "X_train = X_train.reshape((60000,-1))\n",
        "X_test = X_test.reshape((10000,-1))\n",
        "\n",
        "print(X_train.shape)\n",
        "print(y_train.shape)\n",
        "print(X_test.shape)\n",
        "print(y_test.shape)"
      ],
      "metadata": {
        "id": "CAXpFVoOgfjs"
      },
      "execution_count": null,
      "outputs": []
    },
    {
      "cell_type": "code",
      "source": [
        "import matplotlib.pyplot as plt\n",
        "\n",
        "fig, axs = plt.subplots(2, 5)\n",
        "idxs = np.random.choice(list(range(X_train.shape[0])),size=10)\n",
        "for ax,k in zip(axs.ravel(),idxs):\n",
        "    ax.imshow(X_train[k].reshape((28, 28)), cmap='gray')\n",
        "    ax.set_title(str(y_train[k]))\n",
        "    ax.axis('off')\n",
        "fig.show()"
      ],
      "metadata": {
        "id": "uWesAkdVolcI"
      },
      "execution_count": null,
      "outputs": []
    },
    {
      "cell_type": "markdown",
      "source": [
        "1. Con la finalidad de visualizar el dataset original, aplica T-SNE con 2 componentes y grafica los puntos resultantes, indicando con colores diferentes las distintas clases. Haz esto tanto con el conjunto de prueba y entrenamiento. ¿Es tardado el proceso?\n",
        "\n",
        "2. Mide el score de silueta para el dataset original, usando el arreglo de clases como el arreglo de clusters. ¿Qué conclusión sacas de esto en relación con el rendimiento esperado en la tarea de clasificación?\n",
        "\n",
        "3. Prueba tres métodos de Machine Learning clásico para la tarea de clasificación. Realiza el entrenamiento con el conjunto de entrenamiento y evalua su rendimiento con el conjunto de prueba. Reporta el tiempo de ejecución y el rendimiento.\n",
        "\n",
        "4. Realiza reducción de dimensionalidad usando PCA, quedate con $k\\in [20,100]$ componentes principales. Repite la tarea de clasifcación con este dataset, otra vez usa los mismos 3 métodos del punto pasado. ¿Notas una mejoría en el tiempo de ejecución? ¿Hay una mejoría en el rendimiento?\n",
        "\n"
      ],
      "metadata": {
        "id": "7gMarTFGlaBz"
      }
    },
    {
      "cell_type": "markdown",
      "source": [
        "Recuerda que puedes parar la ejecución con el boton de la celda. No responde inmediatamente."
      ],
      "metadata": {
        "id": "RbmmkLv8lRtW"
      }
    },
    {
      "cell_type": "code",
      "source": [
        "\n"
      ],
      "metadata": {
        "id": "p1Dzb03Mg0EC"
      },
      "execution_count": null,
      "outputs": []
    },
    {
      "cell_type": "markdown",
      "source": [
        "# 2. Un dataset complejo en 2 dimensiones: espirales"
      ],
      "metadata": {
        "id": "RuOr_tFKnQcF"
      }
    },
    {
      "cell_type": "code",
      "source": [
        "import pandas as pd\n",
        "import numpy as np\n",
        "\n",
        "url = 'https://github.com/DCDPUAEM/DCDP/raw/main/03%20Machine%20Learning/data/spiral-2d-3classes.csv'\n",
        "df = pd.read_csv(url,index_col=0,thousands=',')\n",
        "\n",
        "X = df.iloc[:,:-1].values\n",
        "y = df.iloc[:,-1].values\n",
        "\n",
        "print(X.shape)\n",
        "print(y.shape)"
      ],
      "metadata": {
        "id": "7KQ1Wr2cnqvP"
      },
      "execution_count": null,
      "outputs": []
    },
    {
      "cell_type": "code",
      "source": [
        "import matplotlib.pyplot as plt\n",
        "\n",
        "plt.figure()\n",
        "plt.scatter(X[:,0],X[:,1],c=y)\n",
        "plt.show()"
      ],
      "metadata": {
        "id": "fc7xpKKXx7Nk"
      },
      "execution_count": null,
      "outputs": []
    },
    {
      "cell_type": "markdown",
      "source": [
        "Realizarás una tarea de clasificación para este dataset.\n",
        "\n",
        "Reflexiona las siguientes preguntas:\n",
        "\n",
        "1. ¿Son linealmente separables los datos?\n",
        "2. Sin realizar ninguna prueba, ¿qué algoritmo piensas que podría tener un buen rendimiento?\n",
        "3. ¿Crees necesario hacer re-escalamiento?\n",
        "\n",
        "Realiza las siguientes tareas:\n",
        "\n",
        "0. Divide el conjunto de datos en 85% de entrenamiento y 15% de prueba con un `random_state` 1678.\n",
        "\n",
        "1. Entrena tres diferentes clasificadores, cada una con un algoritmo diferente. En cada una de ellas observa el accuracy en el conjunto de entrenamiento, el conjunto de prueba y la frontera de decisión.\n",
        "\n",
        "2. Entrena el mejor clasificador que puedas para tener el mejor accuracy en el conjunto de prueba.\n",
        "\n"
      ],
      "metadata": {
        "id": "2BFZd7jVyhNn"
      }
    },
    {
      "cell_type": "code",
      "source": [
        "#@title Función para graficar la frontera de decisión: Ejecutar!\n",
        "\n",
        "from sklearn.inspection import DecisionBoundaryDisplay\n",
        "import numpy as np\n",
        "\n",
        "\n",
        "def graficar_FD(X,y,clf,h=0):\n",
        "    '''\n",
        "    X es todas las instancias las cuales incluiremos en el gráfico\n",
        "    '''\n",
        "    assert X.shape[1] == 2   # Sólo funciona para datos en dimensión 2\n",
        "    feature_1, feature_2 = np.meshgrid(\n",
        "    np.linspace(X[:,0].min()-h, X[:, 0].max()+h),\n",
        "    np.linspace(X[:, 1].min()-h, X[:, 1].max()+h)\n",
        "    )\n",
        "    grid = np.vstack([feature_1.ravel(), feature_2.ravel()]).T\n",
        "    y_grid_pred = clf.predict(grid)\n",
        "    y_grid_pred = y_grid_pred.reshape(feature_1.shape)\n",
        "    display = DecisionBoundaryDisplay(\n",
        "    xx0=feature_1, xx1=feature_2, response=y_grid_pred\n",
        "    )\n",
        "    display.plot()\n",
        "    display.ax_.scatter(\n",
        "        X[:, 0], X[:, 1], c=y, edgecolor=\"black\"\n",
        "    )\n",
        "    plt.show()\n",
        "    return display.ax_"
      ],
      "metadata": {
        "cellView": "form",
        "id": "dRKnlsk6ybRb"
      },
      "execution_count": null,
      "outputs": []
    },
    {
      "cell_type": "code",
      "source": [],
      "metadata": {
        "id": "8ZFWXzui4TSw"
      },
      "execution_count": null,
      "outputs": []
    },
    {
      "cell_type": "markdown",
      "source": [
        "Para graficar la frontera de decisión junto con el conjunto `X`:"
      ],
      "metadata": {
        "id": "3gb0_PY_4TgU"
      }
    },
    {
      "cell_type": "code",
      "source": [
        "_ = graficar_FD(X,y,clf)"
      ],
      "metadata": {
        "id": "awjOxGVM4MFA"
      },
      "execution_count": null,
      "outputs": []
    }
  ]
}