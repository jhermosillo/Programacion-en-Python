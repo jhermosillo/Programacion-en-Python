{
  "nbformat": 4,
  "nbformat_minor": 0,
  "metadata": {
    "colab": {
      "provenance": []
    },
    "kernelspec": {
      "name": "python3",
      "display_name": "Python 3"
    },
    "language_info": {
      "name": "python"
    }
  },
  "cells": [
    {
      "cell_type": "markdown",
      "source": [
        "<a href=\"https://colab.research.google.com/github/DCDPUAEM/DCDP/blob/main/03%20Machine%20Learning/notebooks/04-Polinomial-Regression.ipynb\" target=\"_parent\"><img src=\"https://colab.research.google.com/assets/colab-badge.svg\" alt=\"Open In Colab\"/></a>"
      ],
      "metadata": {
        "id": "yHlobrfdVG61"
      }
    },
    {
      "cell_type": "markdown",
      "source": [
        "# Regresión Polinomial\n",
        "\n",
        "En esta notebook exploraremos y experimentaremos con la regresión polinomial. Veremos varios ejemplos y al final realizaremos una práctica."
      ],
      "metadata": {
        "id": "FkEjx6ZOVQAq"
      }
    },
    {
      "cell_type": "code",
      "source": [
        "#@title Función para graficar la regresión simple\n",
        "\n",
        "import matplotlib.pyplot as plt\n",
        "import numpy as np\n",
        "\n",
        "def graficar(estimador,x,y):\n",
        "    xmin = np.min(x)\n",
        "    xmax = np.max(x)\n",
        "    x_values = np.linspace(xmin,xmax,100)\n",
        "    y_values = estimador.predict(x_values.reshape(-1,1))\n",
        "    y_pred = estimador.predict(x)\n",
        "    ymin = min(np.min(y),np.min(y_pred))\n",
        "    ymax = max(np.max(y),np.max(y_pred))\n",
        "    plt.figure(figsize=(10,5))\n",
        "    plt.subplot(1,2,1)\n",
        "    plt.scatter(x, y, marker='x',color='blue')\n",
        "    plt.plot(x_values, y_values, color='black')\n",
        "    plt.subplot(1,2,2)\n",
        "    plt.scatter(y,y_pred,color='blue')\n",
        "    plt.plot(np.linspace(ymin,ymax,100),np.linspace(ymin,ymax,100),color='black')\n",
        "    plt.show()"
      ],
      "metadata": {
        "id": "TNYbRP-yADp9",
        "cellView": "form"
      },
      "execution_count": null,
      "outputs": []
    },
    {
      "cell_type": "markdown",
      "source": [
        "## Ejemplo 1\n",
        "\n",
        "Este primer ejemplo es un ejemplo ilustrativo.\n",
        "\n",
        "Generemos algunos puntos sobre una parábola y perturbemoslos con ruido de una distribución Gaussiana."
      ],
      "metadata": {
        "id": "OOGEf45i-Ukr"
      }
    },
    {
      "cell_type": "code",
      "source": [
        "import numpy as np\n",
        "\n",
        "rng = np.random.RandomState(4595)\n",
        "size = 100\n",
        "\n",
        "b0 = 2\n",
        "b1 = -1\n",
        "b2 = 1\n",
        "\n",
        "x = 3 * rng.rand(size)\n",
        "y = (b0 + (b1*x) + (b2*x**2)) + rng.randn(size) # Agregamos ruido con distribución normal"
      ],
      "metadata": {
        "id": "pyj1hWzCVGi4"
      },
      "execution_count": null,
      "outputs": []
    },
    {
      "cell_type": "code",
      "execution_count": null,
      "metadata": {
        "id": "Zh5ZQGXQRjKA"
      },
      "outputs": [],
      "source": [
        "import matplotlib.pyplot as plt\n",
        "\n",
        "plt.figure(figsize=(7,4))\n",
        "plt.subplot(1,2,1)\n",
        "plt.scatter(x,b0 + (b1*x) + (b2*x**2))\n",
        "plt.subplot(1,2,2)\n",
        "plt.scatter(x,y)\n",
        "plt.show()"
      ]
    },
    {
      "cell_type": "markdown",
      "source": [
        "Hacemos un reshape porque los estimadores de sklearn reciben los arreglos de features como arreglos de tamaño\n",
        "\n",
        "$$\\text{número de instancias}\\times\\text{número de features}$$"
      ],
      "metadata": {
        "id": "Nv9Z2nsq7DRz"
      }
    },
    {
      "cell_type": "code",
      "source": [
        "x.shape"
      ],
      "metadata": {
        "id": "i6mIg7xTY4tC"
      },
      "execution_count": null,
      "outputs": []
    },
    {
      "cell_type": "code",
      "source": [
        "x = x.reshape(-1,1)\n",
        "print(x.shape)"
      ],
      "metadata": {
        "id": "sYeAJXv98aQQ"
      },
      "execution_count": null,
      "outputs": []
    },
    {
      "cell_type": "markdown",
      "source": [
        "Hagamos la división en prueba y entrenamiento. Recordar que hay que hacerla en este punto, para evitar el data leakage."
      ],
      "metadata": {
        "id": "PB5CcD2Y8czg"
      }
    },
    {
      "cell_type": "code",
      "source": [
        "from sklearn.model_selection import train_test_split\n",
        "\n",
        "x_train, x_test, y_train, y_test = train_test_split(x,y,train_size=0.8,random_state=2287)"
      ],
      "metadata": {
        "id": "Yhv5PjKv1xp_"
      },
      "execution_count": null,
      "outputs": []
    },
    {
      "cell_type": "markdown",
      "source": [
        "Para crear la nueva feature $x^2$ usaremos la clase [PolynomialFeatures](https://scikit-learn.org/stable/modules/generated/sklearn.preprocessing.PolynomialFeatures.html).\n",
        "\n",
        "Esta clase genera una nueva matriz de características (*features*) consistente en todas las combinaciones polinómicas de las caractéristicas de grado menor o igual al grado especificado.\n",
        "\n",
        "Por ejemplo, si una muestra de entrada es bidimensional con la forma\n",
        "\n",
        "$$[a, b]$$\n",
        "\n",
        "las características polinómicas (*polynomial features*) de grado 2 son\n",
        "\n",
        "$$[1, a, b, a^2, ab, b^2].$$"
      ],
      "metadata": {
        "id": "-0iHsOZseA_v"
      }
    },
    {
      "cell_type": "code",
      "source": [
        "from sklearn.preprocessing import PolynomialFeatures\n",
        "\n",
        "pfeats = PolynomialFeatures(degree=2, include_bias=False)\n",
        "# pfeats = PolynomialFeatures(degree=2, include_bias=True)\n",
        "new_x_train = pfeats.fit_transform(x_train)"
      ],
      "metadata": {
        "id": "VUPOjKd4d16Q"
      },
      "execution_count": null,
      "outputs": []
    },
    {
      "cell_type": "markdown",
      "source": [
        "Observar que le indicamos al constructor de la clase que no incluya el `bias` (la columna de 1s al principio de la nueva matriz de caracteristicas). Esto se hace porque pasaremos esta matriz a la regresión lineal, la cuál le agregará dicha columna."
      ],
      "metadata": {
        "id": "-efGBEsqiV-7"
      }
    },
    {
      "cell_type": "markdown",
      "source": [
        "La variable independiente era:"
      ],
      "metadata": {
        "id": "6nyEQ83qhXlF"
      }
    },
    {
      "cell_type": "code",
      "source": [
        "print(x_train[:5])"
      ],
      "metadata": {
        "id": "Y_eQXvcPhdAF"
      },
      "execution_count": null,
      "outputs": []
    },
    {
      "cell_type": "markdown",
      "source": [
        "Las nuevas variables independientes son:"
      ],
      "metadata": {
        "id": "NzkCqUzOhxN0"
      }
    },
    {
      "cell_type": "code",
      "source": [
        "print(new_x_train[:5])"
      ],
      "metadata": {
        "id": "PUZAMAgfhhkz"
      },
      "execution_count": null,
      "outputs": []
    },
    {
      "cell_type": "code",
      "source": [
        "from sklearn.linear_model import LinearRegression\n",
        "\n",
        "lr = LinearRegression()\n",
        "lr.fit(new_x_train,y_train)"
      ],
      "metadata": {
        "id": "JUKAfLxFiE78"
      },
      "execution_count": null,
      "outputs": []
    },
    {
      "cell_type": "code",
      "source": [
        "lr.score(new_x_train,y_train)"
      ],
      "metadata": {
        "id": "08bj3Xp7jZei"
      },
      "execution_count": null,
      "outputs": []
    },
    {
      "cell_type": "code",
      "source": [
        "print(f\"Intercepto: {lr.intercept_}\")\n",
        "print(f\"Coeficientes: {lr.coef_}\")"
      ],
      "metadata": {
        "id": "whnSaNJCjbwp"
      },
      "execution_count": null,
      "outputs": []
    },
    {
      "cell_type": "code",
      "source": [
        "b0 = lr.intercept_\n",
        "b1 = lr.coef_[0]\n",
        "b2 = lr.coef_[1]"
      ],
      "metadata": {
        "id": "y4GUQ6XOju4U"
      },
      "execution_count": null,
      "outputs": []
    },
    {
      "cell_type": "code",
      "source": [
        "x_values = np.linspace(0, 3, 100)\n",
        "\n",
        "y_hat = b0 + b1*x_values + b2*x_values**2\n",
        "plt.figure()\n",
        "plt.scatter(x, y, marker='x',color='red')\n",
        "plt.plot(x_values, y_hat, color='black')\n",
        "plt.show()"
      ],
      "metadata": {
        "id": "96Y646pBje2p"
      },
      "execution_count": null,
      "outputs": []
    },
    {
      "cell_type": "markdown",
      "source": [
        "⭕ Ahora evaluemos en el conjunto de prueba"
      ],
      "metadata": {
        "id": "SZzODT0G2WG4"
      }
    },
    {
      "cell_type": "code",
      "source": [
        "x_test = pfeats.transform(x_test)\n",
        "\n",
        "lr.score(x_test,y_test)"
      ],
      "metadata": {
        "id": "34nZlwF62V0E"
      },
      "execution_count": null,
      "outputs": []
    },
    {
      "cell_type": "code",
      "source": [
        "x_test.shape"
      ],
      "metadata": {
        "id": "iFa6FnfCbVg0"
      },
      "execution_count": null,
      "outputs": []
    },
    {
      "cell_type": "code",
      "source": [
        "x_test"
      ],
      "metadata": {
        "id": "PuOKSOfVb2kY"
      },
      "execution_count": null,
      "outputs": []
    },
    {
      "cell_type": "code",
      "source": [
        "from sklearn.metrics import mean_absolute_error\n",
        "\n",
        "y_pred_train = lr.predict(new_x_train)\n",
        "print(f\"MAE entrenamiento: {mean_absolute_error(y_train,y_pred_train)}\")\n",
        "\n",
        "y_pred = lr.predict(x_test)\n",
        "print(f\"MAE prueba: {mean_absolute_error(y_test,y_pred)}\")"
      ],
      "metadata": {
        "id": "oO9nY0iscMAt"
      },
      "execution_count": null,
      "outputs": []
    },
    {
      "cell_type": "markdown",
      "source": [
        "### Pipelines"
      ],
      "metadata": {
        "id": "Uo4y9jiE3DdB"
      }
    },
    {
      "cell_type": "code",
      "source": [
        "import numpy as np\n",
        "\n",
        "rng = np.random.RandomState(4595)\n",
        "size = 100\n",
        "\n",
        "b0 = 2\n",
        "b1 = -1\n",
        "b2 = 1\n",
        "\n",
        "x = 3 * rng.rand(size)\n",
        "y = (b0 + (b1*x) + (b2*x**2)) + rng.randn(size) # Agregamos ruido con distribución normal\n",
        "x = x.reshape(-1,1)"
      ],
      "metadata": {
        "id": "aishVLG_aCgl"
      },
      "execution_count": null,
      "outputs": []
    },
    {
      "cell_type": "code",
      "source": [
        "from sklearn.model_selection import train_test_split\n",
        "\n",
        "x_train, x_test, y_train, y_test = train_test_split(x,y,train_size=0.8,random_state=2287)"
      ],
      "metadata": {
        "id": "l5xIrhe7aGhz"
      },
      "execution_count": null,
      "outputs": []
    },
    {
      "cell_type": "code",
      "source": [
        "from sklearn.pipeline import Pipeline\n",
        "from sklearn.preprocessing import PolynomialFeatures\n",
        "from sklearn.linear_model import LinearRegression\n",
        "from sklearn.preprocessing import StandardScaler, MinMaxScaler\n",
        "\n",
        "pl = Pipeline([('pf',PolynomialFeatures(degree=2,include_bias=False)),\n",
        "               ('lr',LinearRegression())])"
      ],
      "metadata": {
        "id": "l_w3PaCbj6WT"
      },
      "execution_count": null,
      "outputs": []
    },
    {
      "cell_type": "code",
      "source": [
        "pl.fit(x_train,y_train)"
      ],
      "metadata": {
        "id": "7uvaHxmj6K35"
      },
      "execution_count": null,
      "outputs": []
    },
    {
      "cell_type": "markdown",
      "source": [
        "Podemos evaluar directamente el score, aún cuando el score es un método de `LinearRegression`"
      ],
      "metadata": {
        "id": "tBrfvdnk7eZ8"
      }
    },
    {
      "cell_type": "code",
      "source": [
        "x_train.shape"
      ],
      "metadata": {
        "id": "evVT1p7ThSLO"
      },
      "execution_count": null,
      "outputs": []
    },
    {
      "cell_type": "code",
      "source": [
        "pl.score(x_train,y_train)"
      ],
      "metadata": {
        "id": "He2kprrK6R1d"
      },
      "execution_count": null,
      "outputs": []
    },
    {
      "cell_type": "code",
      "source": [
        "pl.score(x_test,y_test)"
      ],
      "metadata": {
        "id": "jT53IrEoheqe"
      },
      "execution_count": null,
      "outputs": []
    },
    {
      "cell_type": "code",
      "source": [
        "pl.predict(x_test)"
      ],
      "metadata": {
        "id": "3fTf9UU0hxYH"
      },
      "execution_count": null,
      "outputs": []
    },
    {
      "cell_type": "markdown",
      "source": [
        "Podemos acceder a los atributos y métodos de cada parte del pipeline de la siguiente forma:"
      ],
      "metadata": {
        "id": "ibLGwcvn90Eu"
      }
    },
    {
      "cell_type": "code",
      "source": [
        "pl['lr']"
      ],
      "metadata": {
        "id": "kqAiuno6iJsR"
      },
      "execution_count": null,
      "outputs": []
    },
    {
      "cell_type": "code",
      "source": [
        "pl['lr'].coef_"
      ],
      "metadata": {
        "id": "j1yUYWmS7P40"
      },
      "execution_count": null,
      "outputs": []
    },
    {
      "cell_type": "code",
      "source": [
        "pl['lr'].intercept_"
      ],
      "metadata": {
        "id": "QSBoF1MTiQFP"
      },
      "execution_count": null,
      "outputs": []
    },
    {
      "cell_type": "code",
      "source": [
        "pl['pf'].n_output_features_"
      ],
      "metadata": {
        "id": "4BuwNTHG96Zl"
      },
      "execution_count": null,
      "outputs": []
    },
    {
      "cell_type": "markdown",
      "source": [
        "Veamos las predicciones en el conjunto de entrenamiento"
      ],
      "metadata": {
        "id": "wch6b6BTEobs"
      }
    },
    {
      "cell_type": "code",
      "source": [
        "graficar(pl,x_train,y_train)"
      ],
      "metadata": {
        "id": "50SVBCrH7ctq"
      },
      "execution_count": null,
      "outputs": []
    },
    {
      "cell_type": "markdown",
      "source": [
        "Ahora veamos y evaluemos las predicciones en el conjunto de prueba"
      ],
      "metadata": {
        "id": "ZTBc_fiy-M3K"
      }
    },
    {
      "cell_type": "code",
      "source": [
        "y_pred = pl.predict(x_test)"
      ],
      "metadata": {
        "id": "WzGD2b0K9K0l"
      },
      "execution_count": null,
      "outputs": []
    },
    {
      "cell_type": "code",
      "source": [
        "pl.score(x_test,y_test)"
      ],
      "metadata": {
        "id": "WDvN2RL2aMl2"
      },
      "execution_count": null,
      "outputs": []
    },
    {
      "cell_type": "code",
      "source": [
        "graficar(pl,x_test,y_test)"
      ],
      "metadata": {
        "id": "gbN06Ffv-Rxc"
      },
      "execution_count": null,
      "outputs": []
    },
    {
      "cell_type": "code",
      "source": [
        "from sklearn.metrics import mean_absolute_error\n",
        "\n",
        "print(f\"MAE en el conjunto de prueba: {np.round(mean_absolute_error(y_test,y_pred),3)}\")"
      ],
      "metadata": {
        "id": "HcWK8oE6-WUU"
      },
      "execution_count": null,
      "outputs": []
    },
    {
      "cell_type": "markdown",
      "source": [
        "### Regresión Lineal"
      ],
      "metadata": {
        "id": "6jDDrUECIER1"
      }
    },
    {
      "cell_type": "markdown",
      "source": [
        "También podemos usar este pipeline para probar rápidamente el modelo de regresión lineal."
      ],
      "metadata": {
        "id": "-ARHSKcw9dS3"
      }
    },
    {
      "cell_type": "code",
      "source": [
        "from sklearn.pipeline import Pipeline\n",
        "from sklearn.preprocessing import PolynomialFeatures\n",
        "from sklearn.linear_model import LinearRegression, Lasso, ElasticNet\n",
        "from sklearn.preprocessing import StandardScaler, MinMaxScaler\n",
        "# from sklearn.feature_selection import\n",
        "\n",
        "pl = Pipeline([\n",
        "                ('pf',PolynomialFeatures(degree=3,include_bias=False)),\n",
        "                ('scaler',MinMaxScaler()),\n",
        "               ('lr',ElasticNet(0.5))])\n",
        "\n",
        "pl.fit(x_train,y_train)\n",
        "print(f\"R2 en el conjunto de entrenamiento: {pl.score(x_train,y_train)}\")\n",
        "\n",
        "y_pred = pl.predict(x_test)\n",
        "\n",
        "print(f\"MAE en el conjunto de prueba: {np.round(mean_absolute_error(y_test,y_pred),3)}\")"
      ],
      "metadata": {
        "id": "MJnv4-Qw9h6a"
      },
      "execution_count": null,
      "outputs": []
    },
    {
      "cell_type": "code",
      "source": [
        "graficar(pl,x_test,y_test)"
      ],
      "metadata": {
        "id": "kanWdNK5--_z"
      },
      "execution_count": null,
      "outputs": []
    },
    {
      "cell_type": "markdown",
      "source": [
        "Hay ventajas en usar pipelines, permite tener un código más limpio y más control sobre la prueba de diferentes modelos. Por ejemplo, podemos probar varios grados facílmente:"
      ],
      "metadata": {
        "id": "HsarKdko8EwD"
      }
    },
    {
      "cell_type": "code",
      "source": [
        "for k in range(1,5):\n",
        "    pl = Pipeline([\n",
        "                ('pf',PolynomialFeatures(degree=k,include_bias=False)),\n",
        "                ('scaler',MinMaxScaler()),\n",
        "                ('lr',LinearRegression())])\n",
        "    pl.fit(x_train,y_train)\n",
        "    y_pred = pl.predict(x_test)\n",
        "    print(f\"MAE en el conjunto de prueba: {np.round(mean_absolute_error(y_test,y_pred),3)}, grado={k}\")"
      ],
      "metadata": {
        "id": "mwBlTOK5m0ie"
      },
      "execution_count": null,
      "outputs": []
    },
    {
      "cell_type": "markdown",
      "source": [
        "## Ejemplo 2: Práctica"
      ],
      "metadata": {
        "id": "KDYQ0DY0-aBF"
      }
    },
    {
      "cell_type": "markdown",
      "source": [
        "Usaremos el siguiente dataset de datos de peces. Hay un total de 159 filas (muestras de entrenamiento) y 7 columnas en el conjunto de datos.\n",
        "\n",
        "Los detalles de cada columna son los siguientes\n",
        "\n",
        "![fishes.png](data:image/png;base64,iVBORw0KGgoAAAANSUhEUgAAAPwAAADRCAYAAADomd+PAAAgAElEQVR4Xu2df8wdVbX35/53sZpci4p6ryhNlWoBITGtRQykhEZjKEKoVkjrjyIogq2giBZtQBAUg5hWEC3+KFERSUlRI8HQFEVqmyYqhQhRq8V7FdSWNxHt+5f33s++WSfr2Z2ZteecmTP7PGdNQugzZ8/ea6+1vnutvc+Z7/qX//7fq/DLNeAamAoN/IsDfirs7JN0DQQNOODdEVwDU6QBB/wUGdun6hpwwLsPuAamSAMO+Ckytk/VNeCAdx9wDUyRBioB/5//9ccpUoNP1TUwezTwH//+0srJ1AJ+7vP/bfZoYQJn8tcDB4sXHDl3AiV3kfvSAD5z9Mv+wwHflwFGGdcBP4r2pvNZB/wE290BP8HG60l0B3xPim9jWAd8G1qcrj4c8BNsbwf8BBuvJ9Ed8D0pvo1hHfBtaHG6+nDAT7C9HfATbLyeRB8L4J966qni29/+dvGXv/wlTPPVr351sWrVqqQpf/zjHy8+/elPJ7Vts9FvfvOb4qtf/WrxsY99rHje85436Jr7DzzwQHHRRRe1OdxQfaUCHh3q63Wve11xxhlnzJjXUAJED23durXYs2dPsNf9998fPl22bFkbXXsfLWmgc8AD9o985CPB8CeccEIQ+9577y2e+9znFh/60IfMaZx77rnF3XffbbZru8Evf/nL4lOf+lTx2te+tvjEJz4x6J773/nOd3pZhOI5pgIeHeo5oP+//vWvxbXXXmuCXvSQYoO//e1vxdNPP13Mnz+/uOOOO4K4qQt72/bz/so10DngP//5zxcveMELDjP8e9/73uKjH/1ocA4uogMZwAtf+MIZ0UcDHifSDqT/5t9LliwJ0Zc+zjnnnBBlfve73xXHHHPMINJwb968ecXOnTuLf/zjH8XrX//6AOr4wtGJ8FxvectbBs/HgOfvRx55JPR13HHHFW94wxvCM9zn+u1vfxvmdfrpp4dF7kc/+lFoe9ZZZxUvfvGLB8NWzb/OcZsAPgYsi9krXvGKgT7JXGKdSGb205/+NMhLVoDM3Jd5iK6Rk/vogsU9BrzY4jnPeU7x1re+1VxoHLDdaKBzwAPQG2+8cYZzx1Mh5TziiCOK5cuXB4chLfzCF74QmmnAx9E+/gyHBMAAFVC9+c1vLo466qji61//erFixYrgiJLeAmKi0T333FMqnwD7gx/8YIiOAARn14Dn35/73OcCaBiHcd/2trcF0OPwP/7xj4t3vetdg3Fe9rKXFW9/+9uLn/3sZ2GOX/nKV8Ic6+bfFeCr5jFnzpzirrvuCvMgIwPY3/rWt4IOWCi5Lr744kHGtn379gIQs8XRfWrA8+9f/epXYe4sgA8++ODAvt24tfdapYHOAW+l5ESWz3zmMwPnR1DAtXjx4uBUTQAvUSyOwtr5ABeOJ1E9/lsUpfvQe9O4b9JY2ePHTk5fkpHE48i8mP/GjRtnAGDt2rXFe97zntLMQxtylAiP3O9+97vDdgl9L126dJCdENF/8IMfhG1LWUqv5xwvHLLd0bqg/4ULF4asi0s/79AcrwZ6B7wGk0xdO0sOgJcozGEjUU/v4UX+v//978XBgwfDIgXI45S2CvA8T5ZB9JfrD3/4Q/G+971vAMC61Trlt/Rli65sWcikkHfu3LkF0Z2LuXDxWRngWRCI7IcOHSqQFdllcSgDvCzqZAKvec1rDtvOjNflp3u0zgGvo7VWNXv7M888M6S7Ek3k89tuuy2kiThiLoAnKpHKnn322YOTaED9+9//vuA8gnR/mAivo2lTVxwlwiMrB3ccnNZlFDHg+XvTpk2D85eUCC/zYo//8MMPhwXulltu8X18U4O30L5zwMs+98Mf/vAgRSWqyT5OgLRhw4ZwgMffl1122cChNOBZAKQdh0Bf/vKXByf4ul3bKb3oGXB+6UtfGkQ0Fi3Zv8pWRA7CUiN8PF/+vvnmm4t169aZgBgW8JJVyNmKBj/zQLfPPvtsSMGJzldeeeVAz3zGAi1nLFXbHT1/9MSWgW2UzFfORFrwYe+igQY6BzyyABQOzp555pkg2qte9aqCwzA5pdZA4kRbDthoq4EsIOc+p8bbtm0bK+AF1KSypLCA4eqrrw4LAGkwKbH8xiAV8KIfWUhIkU855ZSk7/mbAF77BMB7xzveMfiGRBaZJ598MixgHHjqb1AAJ4so2QBbmquuumrQHd/AiD6qDu3E/pzoY19+B5DD7xga4GTWNB0L4EVb1mENAJKv6SZJw23J3bSfVMCn6hL7sHDprwurniU9Z4HTP0qyxmk6P6s//7y5BsYK+Obi+RN1Gmgb8K7t2a8BB/wE29gBP8HG60l0B3xPim9jWAd8G1qcrj4c8BNsbwf8BBuvJ9Ed8D0pvo1hHfBtaHG6+nDAT7C9HfATbLyeRB8J8P/85z97EtuHdQ24BobVwFA01c888/+K5zsv/bA6b+U5t0ErapyqTiyfqSxEYT04VVrsabJug54UP8HDWj7jgM/YuJbxMhbdRetJA5bPOOB7MkzKsJbxUvrwNtOlActnHPAZ+4NlvIxFd9F60oDlMw74ngyTMqxlvJQ+vM10acDyGQd8xv5gGS9j0WetaLxxyFX1FuGf/vSn4iUveUlv87d8phXAf+1rXysee+yxMMkXvehFxfvf//5Gr1U20c53v/vdYteuXYFccrZflvFk/jjhrbfeWvz5z38Ot+CXg8+uq+uTn/xkYArucoyuZB+lX/x8x44dxctf/vLimmuuOawrSGB4/XjRokWBwTjFT3mmTV+2fGZkwAvYITxgkvfdd1+xe/fu4IBdXDg372q/8pWv7KL7rPq0jCfC4jQAEAYbmGwg54Bl9wMf+EAn8yGKcfUZyTqZmNEpTL8ULjnppJMOa/nrX/86MDl973vfC5+l+ik0cPJMG3OyfGZkwONs559//gwlsAiw+uMYv/jFL8JCAD010f9Nb3rTjOj/k5/8JHwGEwufaScimhO19HPSJxTVoliYWWFxgWZZ7vPZz3/+88CxRt+wzEzaImEZTxwkdhqtI3TABTkFuox1xGdlepa+yz6TPsXxcfaHHnoo2ODkk0+e4Qs//OEPi3379gUbwG5UlgrjL9gHxqPYD5gLQYS+8QPYkrhi34Kp58QTTwxtmWcsR52faaAB1DJ/Qkbovt74xjcG/n4NemRhkWUMFl38mAvfF3+s8kVsd9NNN5XOfZgFwPKZkQH/xS9+MRBVksbHKz6TvP7664sFCxYEckgUoKM/SuTv8847L0SmO++8s7jhhhtCPywkGD9+jj6/+c1vhjQI46xZsyYoFWNDniiRjXZwx11wwQVBb5s3bx70PYwi+3jGMp7IhO5JI8sAhY4BXZmOeL5Kz3Wf0ScXi7rYmH+zsMNxjz0BhmR/BAQWHJhwyzI/nF6ABE8+xUVoF9uXz2DhIXORcVkAYPCBCvzII48c+BIkmnAi4kt1fhaDvc6f2MqsXr06LE7a15GThWbLli0h1YfVifmKn9b5op47+GDL8I1vfGNod7N8ZmTAI5nsbfg3jodSWMllonoCOKc4BCnS7bffPlj1WTwkGlMmST9HpGHl1IqU6COpK4qnb1IkPtu7d+9gr2XRbw2t4Q4ftIwnQ8senuIXOD2EkhIJsQ08c1dccUVoLjoCmGyNiC4ahNjnwgsvDOCtsoHUBwDkgICIB2C5iHJwEbIg89nxxx8/kKXKBnGGov/Wz+jFXv9bfFAWIVmsJPOs8rP4DAKfYbERXdEPz0LoCcCRC0CXpfTIw3wlPdfy1fkifWILyXze+c53Bk7BYbNRy2daAbw4HqkdUVZW6Ngo2jCskux5jj322AFkcEwWDFK3qgMP3ScK3r9/fyg9JdcTTzwRFMgFASV9cogVp2Ed4rS1ri3jlQ0kgGNPz0Koo7G0l20YiyfOePTRRw+6gujy0ksvDYtBlQ10nwCCRSbmvGcRwR9YNFjEKdNFulu2768DPPORslfIhqwsJqmAZ+Gq8rP4jKPsMFJvWYcFPItWlS/Gcy/bIjdxKMtnRgY8io9XPIkSCCppjQj92c9+NhwwEa0lGscT0lEi/kwbWjKCutNilE2qRMpXdeDSRKHjbGsZTyJ2fIipM50ywEsU4TmJxk1soPsUW5dFPemTPS57fBYXndHJ51WAlwxRIt4wEZ70usrP4jmX+ZOe37CAl3HKfHHiAI/zrFy5cnA4IaeVRFkiCKsmaSMpCp+tX79+kCKxmlGEUQ42UDiHLRiJvdR1110XnpO9HM4S743Yp7GIkBJJhkFKhnNxSWqLHBSj1Id64wTvMGOlAB4wUWhCdMU4zF32y7LdorgEOmI/z1kJ2yX0eskllwxSSP6Gy55qwFxVNtApfbxloH/OY9A7dpHMSsaSMxqtjyrA0xeVcGXLob+STY3wLERVfhYvUrLAiK7EX6nFxzUs4Ot8ceIAr9M2lHLgwIFwmAOwUCCA5CLlI72OFwcWAy5OYUnNKUSBYxLlicqkcPq5MkPjGLQj5ZOxAQIFFuhTOOWl72HA18czKYBHLuYP8ERX3JOoyH22WLL1QZd6j6j1jP5OPfXUwdd5VTbQEV4WCfoXznvpn+c5LBW+erZrZV8VVgGevvV+mn7wkyYpPaDGR6v8LLarHHKKLrWuhgV8nS9OHOBFYUyKlV0fNmhwovSqgwieZa9V9pVN3XPaWFXt6vruA8RNxkwFvPSJDtCj3idrcNbpctjPZGzAif3L9uipNqzSTVs2bNLPqDKXzaXJ+E38RLe1fGbkPXydYGWHdsNOZBqfs4yXopOyPXzKc95mMjVg+UyngI9/JDOZKuxPast4KZLFP5JJecbbTK4GLJ/pFPCTq7Y8JLeMl4eULkVOGrB8xgGfk7UiWSzjZSy6i9aTBiyfccD3ZJiUYS3jpfThbaZLA5bPOOAz9gfLeBmL7qL1pAHLZyoB/8c/PlUcccS/9iS2D4sGDh36/24Dd4VGGsBnXvrSF1c+4xG+kTrH29harccrjY82CRqwfMYBn7EVLeNlLLqL1pMGLJ9xwPdkmJRhLeOl9OFtpksDls844DP2B8t4GYvuovWkActnHPA9GSZlWMt4KX14m+nSgOUzDviM/cEyXsaiu2g9acDyGQd8T4ZJGdYyXkofk9Ymd9733PVp+cxIgOd9ZwgpNONMGWuIEFtUsaII0UAZG0qs4LZ5vHM2oGU8ZOdtOAhDhFOOe+jorLPOOuxeHR9AKt8/toJdtgsK7Ca871CkQaZi+Uyqv8wWrn3LZ0YCvJBfaLJJXuifO3fuDALKmKivDGRlVFll7ep4vIUltU1i/z4XBMt4yBYTLwqZIguAkEcIEUldrYBUHnXrlWcANmwhjCa878w9xWdSed9nC9e+5TMjAR6lQ3EltEXiWLCS6Hua166KA1247OlTc5EvW7YsZBHQUAtzaBmPtzgijC6nnXbarKiKYhlPdAWzjyy6muFG36MtmVgV73r8KjP6FE5/6K+htRJaauxJBhHXGhD6LJhpNHWZXjTb4n0X+mnJLrW8ugZBKu+7fo2YeZA1VXHt6/nU+Sq2wG8h4YRuHQIYzdOv5ZQxhZsfneP32KCsnkNVILJ8ZmTACyklHGZCtgDooCeG5koTMNRxoMtKLPx19IfSYcGFPmndunWBLLOKx1uKAUDnBM1yHalin1G7ydiW8aQvTW0srKdw8muOfyibhSuwisdf86hTTwD2Wi4cFkBAwSx88LoPWHbIJoRKCpJScfAY7G3xvsOOJD7TBu977KfIzaIG0SdBSqiqy+ZT56v4Ibx+6F6qMkGqyaVrJWA3LuyEvindJmzL2AXQa7qv3gDPyrRz587A143QlJxCSdxDQLmHgFUc6AJk4ZOnckjMNS984HU83tOY0qNXveiSFkO6yLmJVJmRe3U8/jH9d8w1zxgCeHgKZXsgJJpC9FiX0rfJ+868BfBt8L7HgNfVlKqoo6v0qX01LiOlefZ1v/EYeitibaM0+K0gMXKEl4iMwcWxhKEU9k9WdD5DOVUc6Ow3ZYJlhycxVbBWolbUtAJeuNuJqmREOBz3WHRh6iVicK+Ox1+zAcd7aU17XeZ82jnrAN8m77sGfBu878MAvqmvIifVachCyYIPHTo0oE6fGMCjeCl1xESkqmZ8r45rXhuvjINNO2Ady+e0Al4WXRhnpf5a2b06Hn8N5Nj5dKHEUQDfJu+79hmJcKPwvg8D+GF8lTRdSoJNZIRH2ULtKxTRZffqONDL9mOy/5S+pYhEHeBTv1pqso/us62VnmnZcB5opvVeM74nh6plPP4ayHLwJ/z0pO8s2JLSx8VFtE3qvt5qk/c9Tun5u6wGQSoN9DCAl/mk+ipnLdQ6JKMVPMjZ1ERFePkqSIr3ofyye3Uc6NowtKOQBaf98Ng/8MADgwq1dQYUJR48eHBGva4+QTvK2E0AL99h669Iq+6V8fiX8f1T2BCueUo1SSlkK8LLoR7lp8q+BmyL910Dvg3e92EAjwxNfFXXD6BWApccME8U4Js6tcX5HRcd1F/9NR1rkts3AXzTeTaxgQBqlKqmsXzW+E3nQ/tx8L7Hcg3jq13MXeSyfGbkQ7thDFP3jDgXkZ0ywBxCccBR96ORtmXIpT/LeF3JKVFLvj4i26IYZBe/rutqDuPoN0dftXwmO8DLSs13llx8x0vhybKqNOMwap9jWMbrUjZSc4pwcrHwTlJNvi71EvctP7zJxVctn8kS8OM0WM5jWcbLWXaXrR8NWD7jgO/HLkmjWsZL6sQbTZUGLJ9xwGfsDpbxMhbdRetJA5bPOOB7MkzKsJbxUvrwNtOlActnnJc+Y39wXvqMjZOpaM5Ln6lhUsSyVuuUPrzNdGnA8hlP6TP2B8t4GYvuovWkActnHPA9GSZlWMt4KX14m+nSgOUzDviM/cEyXsaiu2g9acDyGQd8T4ZJGdYyXkof3ma6NGD5jAM+Y3+wjJex6C5aTxqwfMYB35NhUoa1jJfSh7eZLg1YPjMy4GExgVkWRs4+rlSedN535v36SXrjyzIe+ob0g0vIH8QGZTUDhrFPG6QiVdzw4/adVF9BT3WU2XV6FFZeSCi5YCCC/Ule/qpjHYo58oaxl+UzIwO+iuBvGGFTnolprCyCP2FShToZwE8SZ71lPPRVVhuA+zDPwGfX9C23WL+pfPV1tqvihu/ad5r6ip4DeuUtwaZvaQJufA1+QS7eONy9e3cgGqUv5vzEE0+UErTA+8Czo/io5TOdA76Ohx5ebuHh5hVYuMa5cDJej4W99oQTTgivyMoFvZLmnhfAl/Gk8wyRDsM9++yzRUzNlLLA9NnGMp7IpmmquSdMslKVBect41hHd+gFlmF0ffLJJwcdaf3GfPVVfWmbwZIjvG3Ikwr4vn1F2xp2GqmFkMpTTzvYmWLAalZhAF9WO0GzQU0s4C0eeri9oEOGVRUCTCG54DlSIT6DiP/RRx8tFi1aFN6Lv+OOO0JboQaq40nXBrQygT6BXTV2KuDj7Yqmgxb9wDfIwgmZBcQW6F7opoRXnYWxTL8xX31ZX9rWMOBu3759YM8UwOfkK9gjJpjknsVTn5JV0S9FOu68884Z1Zl4Fvuw8E4k4CWV1kw1dXTT4hRVzwF4HK0sTavjSRcwzWbAxxRUWs84Uswxv23btuBUZayrdWlw7NDYiuxASBl1+qtBbgEeR0+pWSC27NpXygCfwlOfskWRNlK9B92J/SC0HDULtYJEZyl9Kg99bMSyQyJ90JGyLytzsNkMeHQoICdK69JTHD5BKDlnzpygaiFPZCFuCnir9ht0ZEQoUlaIRKV+gAV4MoKUmgXj8pVxAF6KtUDrLv7NFmJiAZ/KQx8bsQyYmvrYAV++AWD/uHfv3nDoo7+N0NE+frIp4Kv6Eg58SlNJFdsmEZ5zBMk6ymYXLxi6xFQMkDZ8ZVjAl1XWoS/uk8VwgKqzACFnXbt2baAXZxGYWMCn8tDHgBfnER56vUcnpY8zAIs2eRpSeuYoejviiCMGNeW4D6iJuFKXjIUBgOlagLrcd51+ha9eio3I2cE555wTzlQ4HyCt14UrkMGK8NRdu+SSS4qrrroqfL3LXG688cYCXnxds2BcvjIs4HVdRPmaNOaujyslcYLPIo1O28hCx5LS8zWDvnAAnCiVhz52ChyGw6PHH3+8oJoKp75cUv0U5xDueV0iKXYILVMbyiyPrd3dtYwXj8xpsD78lIUA8FCQEz0S/QVYZRE+5vbX+hUgSl9sE6TmPGPz3TPOyzhSfDIF8NQWzMlXhgU8z+G7t912W/jqjYvS6VJsIu6XvTsLpdSia8NHLZ8ZeQ+f4u5Nebhjrm+cSarRpow3W9pYxmsyT3RKZJevPps8G7et6quNMWaTr8R+PIrOU5+1fGYsgE8VVtpJXToOMfjhAmloWbnepv1OWnvLeJM2ny7kdV+ZqVXLZ7IEvPyIg4jEpX+U04XT5NqnZbxc5R6nXO4rswDw43SYnMdywOdsnTxls3wmywifpyrHL5VlvPFL5CPmrgHLZxzwGVvQMl7GortoPWnA8hkHfE+GSRnWMl5KH95mujRg+Yzz0mfsD85Ln7FxMhXNeekzNUyKWNZqndKHt5kuDVg+4yl9xv5gGS9j0V20njRg+YwDvifDpAxrGS+lD28zXRqwfMYBn7E/WMbLWHQXrScNWD7jgO/JMCnDWsZL6cPbTJcGLJ9xwGfsD5bxMhbdRetJA5bPOOB7MkzKsJbxUvrwNtOlActnRgb8uLnFY/NZXOO8XAGdE9RLvKe9atWq3jj0m7qeZTzpD1IFfS1evDi8cCQcc5oFpqkMXbbnLUiumErbsmkXMqX68Sg8/bzvDg0YnARckGIKQ5C8R3/55Zcf9gozPnz11VcXF110kem7ls+MDPgU4r42DZRCcaXHQ76FCxcG2mRetd24cWMh9M1tytVFX5bxZEwYZYSFhns4FSw3woUO0QJXG+/CtznPMgIO+m+DCMKSU3QG+QZXqh8Py9MvBB+QuAhtOgxBy5cvDwsec2ZhZqGOi6WwMN5yyy0Dooy6uVk+0zng++Yaj6uepBrWcphxfG4ZTwNeCCPlno7qOBOXODcOtG/fvpDxUBtAVw2Sz6AJ5zMWSYnAVZz0wl0Pb9sjjzwSKMZ1hsH49ENko86ARLVUwNfx6jMvWHnI4ObNmzcjW2BcaM6FJ//uu+8eMB9v3bo1yAGjL3rBL4i49IWccPSLvrStNU+/NW/9HPx1mvmGz6R+wF133RUAf/PNNxeHDh06LCDxzv+BAwcKoX3LFvC5cY0L59ikkGmMAngdJTWw+Dc8anDTc23evHnAgSefQbuE4+/atSu0gdK6jt8+rg0Abfhxxx0XIpV+jsjGZ5oXn/41p14c4S1e/R07dhQrV64MJJFkb0KkKc/xNxe1D4R2S6Lp6tWrw6JG5iPbIkAPDwO6KPMTrde6eWtQVlUH0m2kXxZLze4kz0Idpqmyq0Bv+UxnET43XnoUlOtedljj1UV4FjeAReSPI6mmXtIZDzTUervDvhaOPABfxkl/7bXXhmIKcQoe/63HixcfC/BNePV132XPscXR1NnCJYcMEuEl+9DVYsqAKYugZpmt2oqkbFGkDaDWdRaE3o2KNlkDPjdeehTHJeytdWlRLp9Zq3Ud4HEgcRwNBMC3ZcuWAGT2+aSQpIpEyMsuu2wACPrWVONlnPRVdNGxg8tBF5z4pKZsEaSoiAX4Jrz6ep6xvHoBZExrD5+y3bAWOrFPE8CzkEjpMDKiNWvWhEWYQ7usAZ8TL72OVLmAOUWOUQCv6am18+pDTCluKI4U00nrE+mYk14DqM7xhdqa50mdm0b4Jrz68Tw1QMqos+MIr9u3CXhszQIUbxHk9D3OFqTGwDHHHBMWZoJU6tmT5TOdpfS58NKjvHvvvXdwYp0CtFzaWMarivCSXYmDaeclelxwwQWD8lBQfsthkiwGRF8OlAAEVNRSlgrnk28DGIPCF2V86noBILOiDzl5jgtFWBG+Ca9+vJggL9z2XHw1SxCSlD7OAGJAtQ14OR9h/ix88nWx6EbrTLCD3EIpnhXgc+alJ2rFl/Dm5wLsKjmaAF73wemy/r2Bdl4WQP4++uijB2WnpDCnOOGePXuKBQsWhBNsqQhTx0lfF+GJrOvXrx+Mh4PzNWlqSh+PW8erH4OUvznU45Se7YresrBgsbWRr8G6Bjz2QR70zzaKi7E5OCTTinXIQqkLS2YD+BTQzCau8ZT5ttUmFfDDjFdmk5hHXVJLfe4xLPd8Ux+I5zTMuHo+ccHNYXTW1jNd8tVbPjNySt+WEnQ/zjX+f9qwjNe27jnrePrpp4uzzz471DkjIul6cW2P12V/pO9SGptx+Ld8VdjluH33bflMloB3rvF+AM+oRHXAzkUhkLIfn/Tt1Knjyw9+aM+Jd/wT3tR+JqndRAJ+khTcpayW8boc2/ueTA1YPpNlhJ9MVbcvtWW89kf0HiddA5bPOOAztrBlvIxFd9F60oDlMw74ngyTMqxlvJQ+vM10acDyGeelz9gfnJc+Y+NkKprz0mdqmBSxrNU6pQ9vM10asHzGU/qM/cEyXsaiu2g9acDyGQd8T4ZJGdYyXkof3ma6NGD5jAM+Y3+wjJex6C5aTxqwfMYB35NhUoa1jJfSh7eZLg1YPuOAz9gfLONlLLqL1pMGLJ9xwPdkmJRhLeOl9OFtpksDls+MDPhUPu+u1G5xmE8DLz265UWRKs7zrnRf1W/MFNz1+JYP6PHLqLpS5MOPYL197LHHQnPIJnmrU7j/wQHv3ceEnLQV5uaYfjpl3KZtOgd86ov5TQWvat+Ulx6jLF26NJANwMQKFfANN9yQHUd72Xwt48kzFud5W7pP7Semykp9LrVdUx/Q/bI48OacADV1TPwI5lheHeaCdhv2X+H+BwcQwfAabtw3LEM8C3NQ15flMyNHeAvwffPS4xx61bXk7dogTfq3jCd9WZznwp9O+05PMzoAAA5ZSURBVJ07d86gqYJVJeaRp/199913GI+8vLYsz6xYsaJ0OhrwEhlhqtG88Ranu5Zh2bJlYbHmdV1e3YUpFgLO0047LdhW2GKgmC7jxddC8vov/Qi/HjTV999/f4jOBIWyYh08A2tsDFjNbItfaZnixRiGoVkP+Nx46YXje9OmTY1X+CZAbattCuBTOc+lqokUgqiyjXD3S4UUzSPPMxArUqQBnnfNVafnLICXvngPHZCx5TjqqKNm8NXLZ5rLXp5jQZk/f354bv/+/YF7j+h8xx13BHJHoeaK+eFpDwtvGUOxXvCRU4pRMB/6hPsuvmKK7jL70u/pp59e3HnnnYG6Wy6eRRZNV9WWfwyTFXYW4XPipZfCAyjo4osvnhgihBTAN6VARgdli4Q4NQCDb14WRU3HxP73uuuuC5Vq6miaBPDx3jWV6bbqOWGZLUvpNZe7rugSgyIGvK7YU7UVSckKpQ3Zh9SME1otFirNXz8rAZ8bLz1KFiZWqXzSpeLb6LsrwJcVRNQEkBxAPfjgg4HIcsmSJYMFUhNgxgUryyI8iwiRmf2rXLLPJUWvKuJQVjBE01Wn7OFTwBu3SXmmyq4CeLYcsm2Sgzyym1kP+Bx46csK/1XRD7cB0Lb7SAE8YzbhPKd9mW3KTpmlmMWiRYtmnIOQIZA2V6WpApy6k2uLyx459dmLPl0fN+BZIIUfXtuY+6TrbEt0FsCZCgfDa9euDVz0cu4wq/fwOfDSS2qn01AqeBCdqg6c2gbtKP2lAr4J5znyyB5Z6wV+ejjQqavGflb2v+LsRFh0t2HDhnD+UXd2oCvSkGrLSbYsFPRdB3g+09+mCL2zFFOMM5SybU1KtE6N8PpMQfwmllEDXuxBZlPG2z+KT1jPWj7Tyh4+Z156nYY++eSTxamnnnpYOV5LiX19bhlPy9WE81yiPMUXOT3mdJmCjELyiPNSFopDOT6TYgjC844jx8+UpfTcE7kYB/0TtaU8cl1dNmGd5XQf2XRtNQkmBw8eDF+DxdsDxm0T8PQn9dvF1+fOnTujGqwGPIGGA0U5c0g5Z2nLxyyfGRnwKYI25SSPD4SkoN4orKNdcoGn6GCYNpbxyvpsOs8q29TxwDe1pwBGl6W29BHPQ9LkHGrcN9WxNdc2P7d8ZiyAbzoh56X/P41Zxmuq10lpL6fbRHa+huO8gIyi7CuzSZnTuOS0fCZLwDsv/XQDntnLD2/4Nwdj/Cim6a/jxgWynMaZSMDnpMA+ZbGM16dsPnaeGrB8JssIn6cqxy+VZbzxS+Qj5q4By2cc8Blb0DJexqK7aD1pwPIZB3xPhkkZ1jJeSh/eZro0YPmM89Jn7A/OS5+xcTIVzXnpMzVMiljWap3Sh7eZLg1YPuMpfcb+YBkvY9FdtJ40YPmMA74nw6QMaxkvpQ9vM10asHzGAZ+xP1jGy1h0F60nDVg+44DvyTApw1rGS+nD20yXBiyfccBn7A+W8TIW3UXrSQOWzzjgezJMyrCW8VL68DbTpQHLZ0YGfBUvfQo3Oa9Zrl+/vrj99tvNFyP65r/vw20s44lMZbpO5Wovo7uqmmuKTcuebTJG/Hwd3768o3755ZcfxjbLC1gQdlx00UWBg29aLstnRgZ8FcFfKjc5Bj3ppJNMe9QRCcaUR2ZnE9LAMp5Mo0zXqaQLZTRgVeqpsyn2WbhwYWkhhiZj6LEtvn0hJ+VNurjIA8Qnt9xyy4CEYkJMPrKYls+MDfB1/PTCXaZ5z6FT5rVILhYEHAo2UNhNYEGBKpn74thlnOAja6/nDizjNQG8xQ8v5CJVfPAQTwD4m2666TAed8AFPTNMOFA1x0QlwkHPfYuPXqvc4tsXmqlDhw4dliXCqXDgwIFCaLF6NuXYhrd8ZiyAt/jphSqYdhRFOOOMM4qHH364ePTRRwshUOQzLkAP7xpRHYJArpinfGza7Xggy3ipgLf44YVqqo4PnsVV87hTeWXHjh2Bg10oyeGspzJLnELrbCPmkNd89FqdqXz7yI7PHH/88YOFRp5lATr//POTMsiOTTm27i2faQXwwn+mZwX3F0BO5aevaqcBL3zfjKOrfnhKf2Zx7LHHznAqsQlMqan88BYfPIDXpZSIwMJ3V5fSx4Cv47KTSaRsSaQNoNa89EKJpnnwxoa4ngcaC+DLVlFdjABHgsRQLsgML7300lD1Q7fbtWvXjHI8muY43sNrumkH/JlhcdWXBkwqP7zFBx/v4bVN+gQ8i5osPlBirVmzJqT4HNp5hJ+5ArUS4esAn8pPX7aiawd0wFeHDuvQLpUfvoyzX/PBjxPwzLYJ3z7nCHv37g2lsIRDPqViTM8BufXhe4/wqfz0sn+UQxa91+NQrw7wo3zt07rGW+zQMl7qHl4KSlj88BYffB3gy7KDsvS8jo8+Vl0Tvn3xM/rQ2wyP8GOO8AwnX68IN7nmhtdOxD6eA7jHH3888MdT0ZPLAnzMUz5byA7bAjw6TOWHr+ODrwO8LNBHHnnkYeyyw+zhxU2b8O2zoOlqOB7hD48+I6f0TQKaxWfeBR99E/lya5sK+CZyN7VBLnzwOXPBN9F/120tnxkr4K3JOh/9TA1ZxrP02fRz54NvqrH82ls+kxXgnY++X8AzuvPB5wfiJhJNFOCbTGwa2lrGmwYd+BybacDymawifLOpzf7WlvFmvwZ8hk01YPmMA76pRsfY3jLeGEXxoSZEA5bPOOAzNqRlvIxFd9F60oDlM85L35NhUoZ1XvoULXkbrQHnpZ9gf7BW6wmemovekQYsn/GUviPFt9GtZbw2xvA+ZpcGLJ9xwGdsb8t4GYvuovWkActnHPA9GSZlWMt4KX14m+nSgOUzDviM/cEyXsaiu2g9acDyGQd8T4ZJGdYyXkof3ma6NGD5jAM+Y3+wjJex6C5aTxqwfGYkwPPuNCyywjrLHMvYVbgHy+w999wTGEl0e62XOt5z56Wv9iAh+JQWixcvLqBuFl6AOnKKnvwyDAtLDVfMcpsqU928LF7+VH8ahVylD079TgFfxiwKScLcuXMDm6lcQn4I2ywXlMdllyZY4N/XXHPNgHHUyQyqYSC6khYsrNB2C8MNb8DV6T0VYG23K6PUajJG3bxiZp1h/WnSOPU7BTzG0QQJQqUEb/wNN9wQgB2znfCMFJ7gM+ioYbY599xzi/POOy+QMeIIW7duDSSXUFbX8dI3cZBJa2sZTy+oMYmljn7oWeudyLpv376g91NOOWUGrbR8BvUzn0FHLRGYBf6hhx6aUReAfi2uecanH/yCegPYlasK8Mhw4oknDgID7chYJFDwN1li1byQff78+YWw447iT5pTX8Yjq4VZZ968eZXZSV+c+pbPjJTSY7SYLpp7RBfhCY/ZZflcjHX99dcH9lqubdu2FUJtLRVFVq9eHZwOQ1fx0ldlC5MG7jJ5LePVAV4vtLENdu/eHRZXrs2bNw8WZ+GQu/DCC8NWDRZhLlhhhcIK21EgBLpq+gC8dVzz+jkYZaGTlueqAK+3hSwyl112WYEvrFixIowllNRl8xLZt2/fXsyZM2cgOwvgMP4U6xEu/pUrVwYdbNy4ccC+rO3XJ6e+5TMjA57VeOfOnSH9BpTU8nrqqafCvSuuuGJwj+IE2kAYYMmSJYMVkvMAFg+JVGUpWBUv/WwAd9uAJxXVGZMstPxf00XprRIssbrOH8CDARbAx/bSTm0RU+rxqgJADBgq3Nx6662BUx8ZhKsOmYjggF/3FTPcatnpe1h/qlo46zKUPjn1Owe8sM3eddddgVaY/wup5KZNmwJHOPdiBWn6Y3FCcdAqA2kG0lH3f5OwSFjGsyJ8WSTENlu2bAkgIhOjTBNMwUQsIqneGmiK8dheYiPaW4CXgy+KY1D+iS0CmUKdDUmJ8R+45SkWeeWVV4ZzIWjQWHzI7OR5ssA62Ufxp64B3zanvuUzI0d4lClcdDgRkb7qnjYwz5B+yX5eUre6CO+AL1+mynjp0TWAJsvSepeCEZyZcIqvI3zcjz6hju2lM4g6wDM2fsHzGqQW4GWr+P3vfz8APf5bBxB9/iMaik/XrUO7qsVnGMAjQ1+c+mMBvFAJY0Q54Km6J6mlOIIsEBiUiCKAjyNKHS/9JETrYWS0jFcV4XF2/qP2XgwyIucFF1wQ9t6Sia1bt25wMCoVYDmswjayD47tRf8UfqBNHeCxK31IdVd9mFgX4fEFzhcoNcaz8d9xxoh/8HUkqT7zYqET2QWAurBkqj8NC/i+OPUtn2klwsshGymkHKKV3dMGlvrdpHlcy5cvD+V9BfA4FKmnlAJONdAwwMr1Gct4GvB6DmRNq1atGpy+a71z5sLf1AgQ3UumhU3YN+/Zs6dYsGBB+IaEw1TSTj678cYbi/3794fTfcC0YcOGkCXUAZ7Mbf369YPxeE4WFWtbRlQGuLI4seXTX9Xq53UBSea1dOnScOiI7FzD+tOwgJcFCX2zbeLClzk4LNNZW5z6ls+0AvhRAEMkYf84W4pHjKKL+FnLeKOMVcZPH3O/S/kmQCcXbfg9RdNvRyw+/FHmop8d1zhN5B0np77lM70Dvonipq2tZby29cHJ9tNPPx1KPvNNCxFUin62PZb3140GLJ9xwHej91Z6tYzXyiBRJ0R1wM7Fj1/kULWLsbzP9jVg+YwDvn2dt9ajZbzWBvKOZo0GLJ9xwGdsast4GYvuovWkActnHPA9GSZlWMt4KX14m+nSgOUzDviM/cEyXsaiu2g9acDymVrA9ySzD+sacA2MoIHnP//fKp+uBPwI4/mjrgHXQKYacMBnahgXyzXQhQYc8F1o1ft0DWSqAQd8poZxsVwDXWjAAd+FVr1P10CmGnDAZ2oYF8s10IUGHPBdaNX7dA1kqgEHfKaGcbFcA11owAHfhVa9T9dAphr4H2dBvpqMDsmQAAAAAElFTkSuQmCC)"
      ],
      "metadata": {
        "id": "mLYg0H4SSGG2"
      }
    },
    {
      "cell_type": "markdown",
      "source": [
        "* Las variables independientes son \"Especie\", \"Longitud1\", \"Longitud2\", \"Longitud3\", \"Altura\" y \"Anchura\".\n",
        "* La variable dependiente es \"Peso\".\n",
        "\n",
        "Tenemos que estimar el peso del pez basándonos en sus valores de medición."
      ],
      "metadata": {
        "id": "lYdh1ysxS_b9"
      }
    },
    {
      "cell_type": "code",
      "source": [
        "import pandas as pd\n",
        "\n",
        "url = 'https://github.com/DCDPUAEM/DCDP/raw/main/03%20Machine%20Learning/data/fishes.csv'\n",
        "df = pd.read_csv(url)\n",
        "df"
      ],
      "metadata": {
        "id": "ibZ_qoLb-a1s"
      },
      "execution_count": null,
      "outputs": []
    },
    {
      "cell_type": "markdown",
      "source": [],
      "metadata": {
        "id": "CUy5-3tR7q6P"
      }
    },
    {
      "cell_type": "markdown",
      "source": [
        "# El problema de la multicolinealidad"
      ],
      "metadata": {
        "id": "JyRG_kUhnLTc"
      }
    },
    {
      "cell_type": "markdown",
      "source": [
        "Sobre la multilinearidad:\n",
        "\n",
        "\n",
        "*   [Estabilidad numérica](https://en.wikipedia.org/wiki/Multicollinearity#Consequences_of_multicollinearity)\n",
        "*   [Explicación](https://medium.com/@sujathamudadla1213/why-we-have-to-remove-highly-correlated-features-in-machine-learning-9a8416286f18)\n",
        "\n"
      ],
      "metadata": {
        "id": "y-GhjdukdnzG"
      }
    },
    {
      "cell_type": "markdown",
      "source": [
        "Agreguemos una variable con multicolinealidad perfecta\n",
        "\n",
        "$$x_1 = 2x_0$$"
      ],
      "metadata": {
        "id": "PmyTOtLBnXkY"
      }
    },
    {
      "cell_type": "code",
      "source": [
        "import numpy as np\n",
        "\n",
        "rng = np.random.RandomState(4595)\n",
        "size = 100\n",
        "\n",
        "b0 = 2\n",
        "b1 = -1\n",
        "\n",
        "x = 3 * rng.rand(size)\n",
        "y = (b0 + (b1*x) ) + rng.randn(size) # Agregamos ruido con distribución normal\n",
        "\n",
        "X = np.column_stack((x,2*x))"
      ],
      "metadata": {
        "id": "d4AKFnt1nXPp"
      },
      "execution_count": null,
      "outputs": []
    },
    {
      "cell_type": "code",
      "source": [
        "print(X[:5])"
      ],
      "metadata": {
        "id": "VLdfary7qEyC"
      },
      "execution_count": null,
      "outputs": []
    },
    {
      "cell_type": "markdown",
      "source": [
        "La clase `LinearRegression` sabe manejar este caso. Sin embargo, tenemos riesgo de inestabilidad numérica"
      ],
      "metadata": {
        "id": "Ve6oYePxnPRB"
      }
    },
    {
      "cell_type": "code",
      "source": [
        "from sklearn.linear_model import LinearRegression\n",
        "\n",
        "lr = LinearRegression()\n",
        "lr.fit(X,y)\n",
        "\n",
        "print(lr.coef_)"
      ],
      "metadata": {
        "id": "RFBPomGPQK76"
      },
      "execution_count": null,
      "outputs": []
    },
    {
      "cell_type": "markdown",
      "source": [
        "Sin embargo, si usamos directamente OLS para resolver el problema, tenemos un problema:"
      ],
      "metadata": {
        "id": "Us6FNFuJnyUx"
      }
    },
    {
      "cell_type": "code",
      "source": [
        "X = np.column_stack((np.ones(shape=x.shape),X))\n",
        "\n",
        "beta = (np.linalg.inv(np.transpose(X)@X)@np.transpose(X))@y"
      ],
      "metadata": {
        "id": "o2fxb3A0ke4f"
      },
      "execution_count": null,
      "outputs": []
    },
    {
      "cell_type": "markdown",
      "source": [
        "⭕ Práctica\n",
        "\n",
        "Construye un modelo de Regresión Lineal (Polinomial) para predecir el peso de un pez en función de las variables predictoras.\n",
        "\n",
        "**Preprocesamiento**\n",
        "\n",
        "* Verifica si hay valores faltantes.\n",
        "* Verifica la correlación entre variables usando el método [corr()](https://pandas.pydata.org/docs/reference/api/pandas.DataFrame.corr.html) del dataframe. Considera eliminar las variables con correlación para evitar la colinearidad. **Prueba con ambas opciones:** dejar todas las variables o no.\n",
        "* Explora la relación entre pares de variables usando [pairplot](https://seaborn.pydata.org/generated/seaborn.pairplot.html) de seaborn. Esto te puede ayudar a visualizar qué variables están más correlacionadas con la variable a predecir, además, de dar una idea de cómo es la relación.\n",
        "* Verifica el rango de las variables (no solamente el rango, sino también el máximo y mínimo). **Prueba con diferentes tipos de re-escalamiento y sin re-escalamiento**.\n",
        "* Usar PolinomialFeatures en función de tus observaciones del punto anterior. **Prueba con diferentes grados del polinomio.**\n",
        "* Usa la codificación one-hot para la(s) variable(s) categórica(s). **Prueba ambas opciones: incluye esta variable o no.**\n",
        "\n",
        "**Regresión Lineal**\n",
        "\n",
        "Entrena un modelo de RL separando el 80% para entrenamiento y reporta la métrica de rendimiento MAE y MSE. **Además, prueba usando regularización**\n",
        "\n",
        "\n",
        "\n",
        "**Pasos a realizar**\n",
        "\n",
        "1.   Primero prueba con el siguiente modelo: Regresión Polinomial de grado 2 con todas las variables numéricas, sin re-escalamiento, sin la variable categórica (intenta implementarlo como pipeline).\n",
        "2.  El mismo modelo anterior pero implementado como pipeline, en caso de que no lo hayas hecho así en el punto anterior.\n",
        "3.  Prueba diferentes modelos considerando las combinaciones de técnicas descritas arriba. Reporta el modelo que haya logrado el MAE/MSE más bajo.\n",
        "\n",
        "\n",
        "\n",
        "**Responde las siguientes preguntas:**\n",
        "\n",
        "* ¿Qué efecto tiene dejar todas las variables contra quitar variables correlacionadas?\n",
        "* ¿Cuál es el grado que mejor funcionó?"
      ],
      "metadata": {
        "id": "7N9f-krrUCCW"
      }
    },
    {
      "cell_type": "code",
      "source": [
        "from sklearn.pipeline import Pipeline\n",
        "from sklearn.preprocessing import PolynomialFeatures\n",
        "from sklearn.linear_model import LinearRegression, Lasso, Ridge\n",
        "from sklearn.preprocessing import StandardScaler, MinMaxScaler\n",
        "from sklearn.model_selection import train_test_split\n",
        "from sklearn.metrics import mean_absolute_error, mean_squared_error"
      ],
      "metadata": {
        "id": "vXzbD6bYOMDx"
      },
      "execution_count": null,
      "outputs": []
    },
    {
      "cell_type": "code",
      "source": [],
      "metadata": {
        "id": "AG3YqEq6nGHX"
      },
      "execution_count": null,
      "outputs": []
    }
  ]
}