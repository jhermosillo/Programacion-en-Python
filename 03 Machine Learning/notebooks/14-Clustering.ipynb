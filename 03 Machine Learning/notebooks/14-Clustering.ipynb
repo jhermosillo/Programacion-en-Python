{
  "cells": [
    {
      "cell_type": "markdown",
      "metadata": {
        "id": "f5y98twIUC-T"
      },
      "source": [
        "<a href=\"https://colab.research.google.com/github/DCDPUAEM/DCDP_2022/blob/main/03%20Machine%20Learning/notebooks/14-Clustering.ipynb\" target=\"_parent\"><img src=\"https://colab.research.google.com/assets/colab-badge.svg\" alt=\"Open In Colab\"/></a>"
      ]
    },
    {
      "cell_type": "markdown",
      "metadata": {
        "id": "gdQaBQt7UC-X"
      },
      "source": [
        "<h1>Clustering</h1>\n"
      ]
    },
    {
      "cell_type": "markdown",
      "metadata": {
        "id": "wpuaRVvnUC-c"
      },
      "source": [
        "* El análisis de agrupamiento, o agrupamiento, es una tarea de aprendizaje automático no supervisada.\n",
        "\n",
        "* Implica descubrir automáticamente la agrupación natural de los datos. A diferencia del aprendizaje supervisado (como el modelado predictivo), los algoritmos de agrupación solo interpretan los datos de entrada y encuentran grupos o agrupaciones naturales en el espacio de características.\n",
        "\n",
        "* Un grupo, o cluster, es un en el espacio de características donde las instancias están más cerca del grupo que de otros grupos.\n",
        "\n",
        "* Es probable que estos grupos reflejen algún mecanismo en funcionamiento en el dominio del que se extraen las instancias, un mecanismo que hace que algunas instancias tengan un parecido más fuerte entre sí que con las instancias restantes.\n",
        "\n",
        "* La agrupación en clústers puede ser útil como actividad de análisis de datos para obtener más información sobre el dominio del problema, el llamado descubrimiento de patrones o descubrimiento de conocimiento.\n",
        "\n",
        "* El agrupamiento también puede ser útil como un tipo de ingeniería de características, donde los ejemplos existentes y nuevos se pueden mapear y etiquetar como pertenecientes a uno de los grupos identificados en los datos.\n",
        "\n",
        "* La evaluación de los grupos identificados es subjetiva y puede requerir un experto en el dominio, aunque existen muchas medidas cuantitativas específicas de los grupos.\n",
        "\n",
        "&#128214; <u>Referencias bibliográficas</u>:\n",
        "* Flach, Peter (2012). Machine Learning: The Art and Science of Algorithms that Make Sense of Data. Cambridge University Press.\n",
        "\n",
        "[Algoritmos de clustering en scikit-learn](https://scikit-learn.org/stable/modules/clustering.html)"
      ]
    },
    {
      "cell_type": "markdown",
      "metadata": {
        "id": "Qy_dshVLUC-g"
      },
      "source": [
        "___"
      ]
    },
    {
      "cell_type": "markdown",
      "source": [
        "Recuerda la simbología de las secciones:\n",
        "\n",
        "* 🔽 Esta sección no forma parte del proceso usual de Machine Learning. Es una exploración didáctica de algún aspecto del funcionamiento del algoritmo.\n",
        "* ⚡ Esta sección incluye técnicas más avanzadas destinadas a optimizar o profundizar en el uso de los algoritmos.\n",
        "* ⭕ Esta sección contiene un ejercicio o práctica a realizar. Aún si no se establece una fecha de entrega, es muy recomendable realizarla para practicar conceptos clave de cada tema."
      ],
      "metadata": {
        "id": "Aow9Mtnl20yW"
      }
    },
    {
      "cell_type": "markdown",
      "metadata": {
        "id": "Yrhsqwc9UC-j"
      },
      "source": [
        "# Demostración ilustrativa de algunos algoritmos de agrupamiento"
      ]
    },
    {
      "cell_type": "code",
      "source": [
        "from sklearn.cluster import KMeans, AgglomerativeClustering, DBSCAN"
      ],
      "metadata": {
        "id": "bMNIcQ3lhySs"
      },
      "execution_count": null,
      "outputs": []
    },
    {
      "cell_type": "markdown",
      "metadata": {
        "id": "i5cjPkORUC-k"
      },
      "source": [
        "Generación de datos sintéticos"
      ]
    },
    {
      "cell_type": "code",
      "execution_count": null,
      "metadata": {
        "id": "FIrvqFYVUC-k"
      },
      "outputs": [],
      "source": [
        "import numpy as np\n",
        "from sklearn.datasets import make_classification, make_blobs\n",
        "import matplotlib.pyplot as plt\n",
        "\n",
        "# X, y = make_blobs(n_samples=500,centers=3, random_state=24)\n",
        "X, y = make_classification(n_samples=1000, n_features=2, n_informative=2, n_redundant=0, n_clusters_per_class=1, random_state=4)\n",
        "\n",
        "fig, axs = plt.subplots(1,2,figsize=(10,5))\n",
        "axs[0].scatter(X[:, 0], X[:, 1],c='black')\n",
        "axs[0].set_xticks([])\n",
        "axs[0].set_yticks([])\n",
        "axs[0].set_title(\"Datos para clustering\")\n",
        "axs[1].scatter(X[:, 0], X[:, 1],c=y)\n",
        "axs[1].set_xticks([])\n",
        "axs[1].set_yticks([])\n",
        "axs[1].set_title(\"Datos etiquetados\")\n",
        "fig.tight_layout()\n",
        "fig.show()"
      ]
    },
    {
      "cell_type": "markdown",
      "source": [
        "A diferencia del aprendizaje supervisado, en los métodos de clustering (implementados en scikit-learn) el proceso es de la siguiente manera:\n",
        "\n",
        "1. Inicializar el objeto, por ejemplo `modelo = KMeans(n_clusters=3)`.\n",
        "2. Hacer fit: `modelo.fit(X)`. Hay dos opciones:\n",
        "    * Obtener la lista de etiquetas de clusters como `y_clusters = modelo.predict(X)`.\n",
        "    * Obtener la lista de etiquetas de clusters usando el atributo `labels_` como `y_clusters = modelo.labels_`.\n",
        "\n",
        "También pueden obtenerse las etiquetas de los clusters directamente con el método `fit_transform()`.\n",
        "\n",
        "En esta notebook estaremos usando indistintamente los 3 métodos para ejemplificar su uso."
      ],
      "metadata": {
        "id": "-HKVaJOGLe8e"
      }
    },
    {
      "cell_type": "markdown",
      "metadata": {
        "id": "XewRUibwUC-u"
      },
      "source": [
        "## [K-MEANS](https://scikit-learn.org/stable/modules/generated/sklearn.cluster.KMeans.html)"
      ]
    },
    {
      "cell_type": "markdown",
      "source": [
        "Probemos varios valores de `n_clusters`\n",
        "\n",
        "\n",
        "\n"
      ],
      "metadata": {
        "id": "s_I4uuysgJbU"
      }
    },
    {
      "cell_type": "code",
      "execution_count": null,
      "metadata": {
        "id": "diS9kzsmUC-u"
      },
      "outputs": [],
      "source": [
        "from sklearn.cluster import KMeans\n",
        "\n",
        "modelo = KMeans(n_clusters=3)\n",
        "modelo.fit(X)\n",
        "y_clusters = modelo.predict(X)\n",
        "\n",
        "plt.figure()\n",
        "plt.scatter(X[:,0], X[:,1], c=y_clusters)\n",
        "plt.show()"
      ]
    },
    {
      "cell_type": "markdown",
      "source": [
        "Evaluemos la tarea de clustering usando la métrica de [score de silueta](https://scikit-learn.org/stable/modules/generated/sklearn.metrics.silhouette_score.html):"
      ],
      "metadata": {
        "id": "hdI7D6OnzY0H"
      }
    },
    {
      "cell_type": "code",
      "source": [
        "from sklearn.metrics import silhouette_score\n",
        "\n",
        "silhouette_score(X, y_clusters)"
      ],
      "metadata": {
        "id": "OzgZ1rbSzYfJ"
      },
      "execution_count": null,
      "outputs": []
    },
    {
      "cell_type": "markdown",
      "source": [
        "Evaluemos la tarea de clustering usando la métrica de [adjusted mutual information (AMI)](https://scikit-learn.org/stable/modules/generated/sklearn.metrics.adjusted_mutual_info_score.html).\n",
        "\n",
        "Recuerda que, para esta métrica, necesitamos dos clusterings que comparar. Idealmente, uno es el *ground-truth clustering*. Para esto usemos las etiquetas `y`."
      ],
      "metadata": {
        "id": "Gq3rmqrG16JQ"
      }
    },
    {
      "cell_type": "code",
      "source": [
        "from sklearn.metrics import adjusted_mutual_info_score\n",
        "\n",
        "adjusted_mutual_info_score(y, y_clusters)"
      ],
      "metadata": {
        "id": "G0ni5_5g2Hgp"
      },
      "execution_count": null,
      "outputs": []
    },
    {
      "cell_type": "markdown",
      "source": [
        "Estamos comparando estos clusterings:"
      ],
      "metadata": {
        "id": "gjE9jegq2Xt4"
      }
    },
    {
      "cell_type": "code",
      "source": [
        "#@title Estamos comparando estos dos clusterings\n",
        "\n",
        "fig, axs = plt.subplots(1,2,figsize=(10,5))\n",
        "axs[0].scatter(X[:, 0], X[:, 1],c=y)\n",
        "axs[0].set_xticks([])\n",
        "axs[0].set_yticks([])\n",
        "axs[0].set_title(\"Ground truth\")\n",
        "axs[1].scatter(X[:, 0], X[:, 1],c=y_clusters)\n",
        "axs[1].set_xticks([])\n",
        "axs[1].set_yticks([])\n",
        "axs[1].set_title(\"K-means\")\n",
        "fig.tight_layout()\n",
        "fig.show()"
      ],
      "metadata": {
        "cellView": "form",
        "id": "Tr__5Fob2ZzQ"
      },
      "execution_count": null,
      "outputs": []
    },
    {
      "cell_type": "markdown",
      "source": [
        "🔽 Veamos los centroides de cada cluster"
      ],
      "metadata": {
        "id": "PyyDVjX57DQJ"
      }
    },
    {
      "cell_type": "code",
      "source": [
        "centers = modelo.cluster_centers_\n",
        "\n",
        "plt.scatter(X[:, 0], X[:, 1],c=y_clusters)\n",
        "plt.scatter(centers[:,0],centers[:,1],color='black', marker='x',s=80)\n",
        "\n",
        "plt.show()"
      ],
      "metadata": {
        "id": "2N1VQf9z6ZUh"
      },
      "execution_count": null,
      "outputs": []
    },
    {
      "cell_type": "markdown",
      "source": [
        "### ⚡ ¿Cómo sabemos cuántos clusters buscar?\n",
        "\n",
        "Cuando los métodos de clustering requieren, como hiperparámetro, el número de clusters a encontrar, podemos realizar cualquiera de los siguientes análisis."
      ],
      "metadata": {
        "id": "NMispnH_B-24"
      }
    },
    {
      "cell_type": "markdown",
      "source": [
        "#### Elbow value\n",
        "\n",
        "❗ Sólo es para K-Means"
      ],
      "metadata": {
        "id": "olDjYLtJ07XJ"
      }
    },
    {
      "cell_type": "code",
      "source": [
        "max_num_clusters = 20\n",
        "\n",
        "inertias = []\n",
        "k_values = list(range(1,max_num_clusters))\n",
        "for k in k_values:\n",
        "    modelo = KMeans(n_clusters=k, n_init='auto')\n",
        "    modelo.fit(X)\n",
        "    inertias.append(modelo.inertia_)\n",
        "\n",
        "plt.figure(figsize=(7,5))\n",
        "plt.plot(k_values,inertias,color='red')\n",
        "plt.axvline(x=3,linestyle='dashed',color='gray')\n",
        "plt.ylabel(\"Inertia\", fontsize=15)\n",
        "plt.xlabel(\"Value of k\", fontsize=15)\n",
        "plt.xticks(k_values)\n",
        "plt.show()"
      ],
      "metadata": {
        "id": "ugk8MAJT7IuW"
      },
      "execution_count": null,
      "outputs": []
    },
    {
      "cell_type": "markdown",
      "source": [
        "#### Análisis de silueta\n",
        "\n",
        "**Funciona para cualquier método**\n",
        "\n",
        "También podemos usar el **score de silueta**, el cual es un valor $-1\\leq s\\leq 1$ que mide que tan coherente son los puntos dentro de sus propios clusters, en términos de las distancias a los demás clusters. Entre más alto el valor, la configuración del clúster es apropiada. **Este score es intrínseco del clustering**.\n",
        "\n",
        "Usaremos la implementación de [scikit-learn](https://scikit-learn.org/stable/modules/generated/sklearn.metrics.silhouette_score.html)."
      ],
      "metadata": {
        "id": "XIArcI2_ECzg"
      }
    },
    {
      "cell_type": "code",
      "source": [
        "from sklearn.metrics import silhouette_score\n",
        "\n",
        "max_num_clusters = 20\n",
        "\n",
        "siluetas = []\n",
        "k_values = list(range(2,max_num_clusters))\n",
        "for k in k_values:\n",
        "    kmeans = KMeans(n_clusters=k, n_init='auto').fit(X)\n",
        "    labels = kmeans.labels_\n",
        "    siluetas.append(silhouette_score(X, labels, metric='euclidean'))\n",
        "\n",
        "plt.figure(figsize=(7,5))\n",
        "plt.plot(k_values,siluetas,color='red')\n",
        "plt.axvline(x=3,linestyle='dashed',color='gray')\n",
        "plt.xticks(k_values)\n",
        "plt.ylabel(\"Silhoutte Scores\", fontsize=15)\n",
        "plt.xlabel(\"Value of k\", fontsize=15)\n",
        "plt.show()"
      ],
      "metadata": {
        "id": "A7mTsL6mDQXi"
      },
      "execution_count": null,
      "outputs": []
    },
    {
      "cell_type": "markdown",
      "source": [
        "#### Anáisis de Adjusted Mutual Information (AMI)\n",
        "\n",
        "Buscamos el clustering con el mayor valor de AMI.\n",
        "\n",
        "Es un score que asigna una puntuación a la comparación entre dos clusterings. La Información Mutua Ajustada mide que tanta información comparten dos clusterings en términos de los elementos que comparten, es decir, del tamaño de la intersección.\n",
        "\n",
        "\n",
        "\n"
      ],
      "metadata": {
        "id": "2A2Vmdrozb63"
      }
    },
    {
      "cell_type": "code",
      "source": [
        "from sklearn.metrics import adjusted_mutual_info_score\n",
        "\n",
        "max_num_clusters = 20\n",
        "\n",
        "scores = []\n",
        "k_values = list(range(2,max_num_clusters))\n",
        "for k in k_values:\n",
        "    kmeans = KMeans(n_clusters=k, n_init='auto')\n",
        "    kmeans.fit(X)\n",
        "    labels = kmeans.labels_\n",
        "    scores.append(adjusted_mutual_info_score(y, labels))\n",
        "\n",
        "plt.figure(figsize=(7,5))\n",
        "plt.plot(k_values,scores,color='red')\n",
        "plt.axvline(x=3,linestyle='dashed',color='gray')\n",
        "plt.xticks(k_values)\n",
        "plt.ylabel(\"Adjusted Mutual Information\", fontsize=15)\n",
        "plt.xlabel(\"Value of k\", fontsize=15)\n",
        "plt.show()"
      ],
      "metadata": {
        "id": "dfYSiusEy5_W"
      },
      "execution_count": null,
      "outputs": []
    },
    {
      "cell_type": "markdown",
      "source": [
        "Como podemos ver, en los tres casos se valida la hipótesis de que el mejor valor para $K$ es $K=3$. Esta hipótesis tiene mayor peso por el conocimiento previo del problema, es decir, al generar los datos sabiamos que teniamos 3 grupos de puntos."
      ],
      "metadata": {
        "id": "AYVmcBtfEq1Z"
      }
    },
    {
      "cell_type": "markdown",
      "source": [
        "### 🔽 K-Means es sensible a outliers"
      ],
      "metadata": {
        "id": "9RH5O2sb2awy"
      }
    },
    {
      "cell_type": "code",
      "source": [
        "from sklearn.datasets import make_blobs\n",
        "\n",
        "X, y = make_blobs(n_samples=500,centers=3, random_state=174)\n",
        "\n",
        "plt.figure()\n",
        "plt.scatter(X[:,0],X[:,1])\n",
        "plt.show()"
      ],
      "metadata": {
        "id": "DpExNQY52XnP"
      },
      "execution_count": null,
      "outputs": []
    },
    {
      "cell_type": "code",
      "source": [
        "Xp = X.copy()\n",
        "\n",
        "Xp[2] = Xp[2] + [4,0]\n",
        "Xp[5] = Xp[5] + [4.25,-1]\n",
        "Xp[1] = Xp[1] + [-3,0]\n",
        "\n",
        "plt.figure()\n",
        "plt.scatter(Xp[:,0],Xp[:,1],c=y)\n",
        "plt.scatter(Xp[[1,2,5],0],Xp[[1,2,5],1],marker='x',color='black')\n",
        "plt.show()"
      ],
      "metadata": {
        "id": "O9Tkyiyc27o2"
      },
      "execution_count": null,
      "outputs": []
    },
    {
      "cell_type": "code",
      "source": [
        "kmeans = KMeans(n_clusters=3)\n",
        "kmeans.fit(X)\n",
        "labels = kmeans.labels_\n",
        "\n",
        "kmeans_p = KMeans(n_clusters=3)\n",
        "kmeans_p.fit(Xp)\n",
        "labels_p = kmeans_p.labels_\n",
        "\n",
        "fig, axs = plt.subplots(1,2,figsize=(9,5),sharey=True)\n",
        "axs[0].scatter(X[:,0],X[:,1],c=labels)\n",
        "axs[1].scatter(Xp[:,0],Xp[:,1],c=labels_p)\n",
        "fig.show()"
      ],
      "metadata": {
        "id": "FMz7ly403R7p"
      },
      "execution_count": null,
      "outputs": []
    },
    {
      "cell_type": "code",
      "source": [
        "from sklearn.metrics import silhouette_score\n",
        "\n",
        "max_num_clusters = 20\n",
        "\n",
        "siluetas_1 = []\n",
        "siluetas_2 = []\n",
        "k_values = list(range(2,max_num_clusters))\n",
        "for k in k_values:\n",
        "    kmeans_1 = KMeans(n_clusters=k, n_init='auto').fit(X)\n",
        "    labels_1 = kmeans_1.labels_\n",
        "    siluetas_1.append(silhouette_score(X, labels_1, metric='euclidean'))\n",
        "    kmeans_2 = KMeans(n_clusters=k, n_init='auto').fit(X)\n",
        "    labels_2 = kmeans_2.labels_\n",
        "    siluetas_2.append(silhouette_score(Xp, labels_2, metric='euclidean'))\n",
        "\n",
        "fig, axs = plt.subplots(1,2)\n",
        "fig.suptitle(\"Silhoutte Scores\")\n",
        "axs[0].plot(k_values,siluetas_1,color='red')\n",
        "axs[0].set_title(\"Original dataset\")\n",
        "axs[1].plot(k_values,siluetas_2,color='red')\n",
        "axs[1].set_title(\"Con outliers\")\n",
        "plt.show()"
      ],
      "metadata": {
        "id": "uhgLD5P074NV"
      },
      "execution_count": null,
      "outputs": []
    },
    {
      "cell_type": "markdown",
      "metadata": {
        "id": "cT3pieSEUC-p"
      },
      "source": [
        "## [Clustering Jerárquico](https://scikit-learn.org/stable/modules/generated/sklearn.cluster.AgglomerativeClustering.html)\n",
        "\n",
        "* La agrupación jerárquica es una familia general de algoritmos de agrupación que crean agrupaciones anidadas fusionándolas o dividiéndolas sucesivamente. Esta jerarquía de grupos se representa como un árbol (o dendrograma). La raíz del árbol es el grupo único que reúne todas las muestras, siendo las hojas los grupos con una sola muestra.\n",
        "* La implementación [AgglomerativeClustering](https://scikit-learn.org/stable/modules/generated/sklearn.cluster.AgglomerativeClustering.html#sklearn.cluster.AgglomerativeClustering) de scikit-learn realiza una agrupación jerárquica utilizando un enfoque ascendente (bottom-up): cada observación comienza en su propio grupo, y los grupos se fusionan sucesivamente. Los criterios de vinculación (_linkage_) determinan la métrica utilizada para la estrategia de fusión:\n",
        "  - _Ward_ minimiza la suma de las diferencias al cuadrado dentro de todos los grupos. Es un enfoque que minimiza la varianza y, en este sentido, es similar a la función objetivo de k-means pero se aborda con un enfoque jerárquico aglomerativo.\n",
        "  - _Maximum_ o _complete Linkage_ minimiza la distancia máxima entre observaciones de pares de grupos.\n",
        "  - _Average linkage_ minimiza el promedio de las distancias entre todas las observaciones de pares de grupos.\n",
        "  - _Single linkage_ minimiza la distancia entre las observaciones más cercanas de pares de grupos.\n",
        "\n",
        "\n",
        "\n",
        "---\n",
        "\n",
        "\n",
        "Se puede especificar, ya sea el número de clusters o el umbral de distancia máxima:\n",
        "\n",
        "* Si `n_clusters`$\\geq2$ entonces nos regresa ese número de clusters.\n",
        "* Si `n_clusters`=None, hay que especificar un `distance_threshold`.\n",
        "* Si `distance_threshold`$\\neq$None, `n_clusters` debe ser None y `compute_full_tree` debe ser True.\n"
      ]
    },
    {
      "cell_type": "code",
      "execution_count": null,
      "metadata": {
        "id": "sIZ_4p5HUC-q"
      },
      "outputs": [],
      "source": [
        "from sklearn.cluster import AgglomerativeClustering\n",
        "\n",
        "# modelo = AgglomerativeClustering(n_clusters=3)\n",
        "# no_dendo = True\n",
        "\n",
        "# descomenta la siguiente línea si quieres ver un dendograma\n",
        "modelo = AgglomerativeClustering(distance_threshold=5.0,\n",
        "                                 n_clusters=None,\n",
        "                                 compute_full_tree=True)\n",
        "no_dendo=False\n",
        "\n",
        "\n",
        "yhat = modelo.fit_predict(X)\n",
        "\n",
        "clusters = np.unique(yhat)\n",
        "\n",
        "for cluster in clusters:\n",
        "    fila = np.where(yhat == cluster)\n",
        "    plt.scatter(X[fila, 0], X[fila, 1])\n",
        "plt.show()\n",
        "\n",
        "print(f\"{len(clusters)} clusters encontrados.\")"
      ]
    },
    {
      "cell_type": "markdown",
      "source": [
        "También podemos usar criterios externos para escoger un número de clusters adecuado. Por ejemplo, podemos usar el score de silueta. La conclusión es usar 3 clusters."
      ],
      "metadata": {
        "id": "6SeUcJL4H6VQ"
      }
    },
    {
      "cell_type": "code",
      "source": [
        "from sklearn.metrics import silhouette_score\n",
        "\n",
        "max_num_clusters = 20\n",
        "\n",
        "siluetas = []\n",
        "k_values = list(range(2,max_num_clusters))\n",
        "for k in k_values:\n",
        "    ac = AgglomerativeClustering(n_clusters=k)\n",
        "    ac.fit(X)\n",
        "    labels = ac.labels_\n",
        "    siluetas.append(silhouette_score(X, labels, metric='euclidean'))\n",
        "\n",
        "plt.figure(figsize=(7,5))\n",
        "plt.plot(k_values,siluetas,color='red')\n",
        "plt.axvline(x=3,linestyle='dashed',color='gray')\n",
        "plt.xticks(k_values)\n",
        "plt.ylabel(\"Silhoutte Scores\", fontsize=15)\n",
        "plt.xlabel(\"Value of k\", fontsize=15)\n",
        "plt.show()"
      ],
      "metadata": {
        "id": "okjT7LBkHfle"
      },
      "execution_count": null,
      "outputs": []
    },
    {
      "cell_type": "code",
      "execution_count": null,
      "metadata": {
        "id": "DMSw79gBUC-r"
      },
      "outputs": [],
      "source": [
        "from scipy.cluster.hierarchy import dendrogram\n",
        "\n",
        "def plot_dendrogram(model, **kwargs):\n",
        "    # Create linkage matrix and then plot the dendrogram\n",
        "\n",
        "    # create the counts of samples under each node\n",
        "    counts = np.zeros(model.children_.shape[0])\n",
        "    n_samples = len(model.labels_)\n",
        "    for i, merge in enumerate(model.children_):\n",
        "        current_count = 0\n",
        "        for child_idx in merge:\n",
        "            if child_idx < n_samples:\n",
        "                current_count += 1  # leaf node\n",
        "            else:\n",
        "                current_count += counts[child_idx - n_samples]\n",
        "        counts[i] = current_count\n",
        "\n",
        "    linkage_matrix = np.column_stack([model.children_, model.distances_,\n",
        "                                      counts]).astype(float)\n",
        "\n",
        "    # Plot the corresponding dendrogram\n",
        "    dendrogram(linkage_matrix, **kwargs)\n",
        "\n",
        "if not no_dendo:\n",
        "    plt.figure(dpi=120)\n",
        "    plt.title('Hierarchical Clustering Dendrogram')\n",
        "    # plot the top three levels of the dendrogram\n",
        "    plot_dendrogram(modelo, truncate_mode='level', p=3)\n",
        "    plt.xlabel(\"Number of points in node (or index of point if no parenthesis).\")\n",
        "    plt.show()"
      ]
    },
    {
      "cell_type": "markdown",
      "metadata": {
        "id": "JogoUSPjUC-t"
      },
      "source": [
        "## [DBSCAN](https://scikit-learn.org/stable/modules/generated/sklearn.cluster.DBSCAN.html)\n",
        "* [Martin Ester, Hans-Peter Kriegel, Jörg Sander, Xiaowei Xu (1996). _A Density-Based Algorithm for Discovering Clusters in Large Spatial Databases with Noise_. Proceedings of Knowledge Discovery and Databases - The International Conference on Knowledge Discovery & Data Mining.](https://www.aaai.org/Papers/KDD/1996/KDD96-037.pdf)\n",
        "* DBSCAN recurre a una noción de cúmulos basada en la densidad de los mismos, que está diseñada para descubrir grupos de formas arbitrarias. DBSCAN requiere solo un parámetro de entrada $\\varepsilon$, el cual determina la distancia máxima entre dos puntos para considerarse cercanos. El otro parámetro importante es el `min_samples` el cual representa el número mínimo de puntos que puede haber en un cluster.\n",
        "\n",
        "* DBSCAN reconoce ruido. Es decir, puede dejar puntos sin asignar a ningún cluster.\n",
        "\n",
        "* \"_La razón principal por la que reconocemos los grupos, es que dentro de cada grupo tenemos una densidad típica de puntos que es considerablemente más alta que fuera del grupo. Además, la densidad dentro de las áreas de ruido es menor que la densidad en cualquiera de los grupos._\""
      ]
    },
    {
      "cell_type": "code",
      "execution_count": null,
      "metadata": {
        "id": "U1LX9VnhUC-t"
      },
      "outputs": [],
      "source": [
        "from sklearn.cluster import DBSCAN\n",
        "\n",
        "modelo = DBSCAN(eps=0.530, min_samples=9)\n",
        "\n",
        "yhat = modelo.fit_predict(X)\n",
        "\n",
        "clusters = [j for j in np.unique(yhat) if j!=-1]    # Todos los clusters que no son ruido\n",
        "\n",
        "plt.figure()\n",
        "plt.scatter(X[yhat==-1,0],X[yhat==-1,1],marker='x',color='gray',label='ruido')\n",
        "for cluster in clusters:\n",
        "    filas = np.where(yhat == cluster)\n",
        "    plt.scatter(X[filas, 0], X[filas, 1])\n",
        "plt.legend(loc='best')\n",
        "plt.show()"
      ]
    },
    {
      "cell_type": "markdown",
      "source": [
        "¿Cómo denota DBSCAN a los puntos que no pertenecen a ningún cluster (ruido)?"
      ],
      "metadata": {
        "id": "KpTEpVasivPA"
      }
    },
    {
      "cell_type": "code",
      "source": [
        "np.unique(yhat)"
      ],
      "metadata": {
        "id": "ps_FP5NHivAZ"
      },
      "execution_count": null,
      "outputs": []
    },
    {
      "cell_type": "markdown",
      "source": [
        "Una particularidad de DBSCAN es la susceptibilidad de los resultados en función del principal parámetro $\\varepsilon$."
      ],
      "metadata": {
        "id": "Ldbjw07gv4sV"
      }
    },
    {
      "cell_type": "code",
      "source": [
        "valores_eps = np.linspace(0.0001,10,100)\n",
        "num_clusters = []\n",
        "\n",
        "for eps in valores_eps:\n",
        "    modelo = DBSCAN(eps=eps, min_samples=5)\n",
        "    yhat = modelo.fit_predict(X)\n",
        "    clusters = np.unique(yhat)\n",
        "    num_clusters.append(len(clusters))\n",
        "\n",
        "plt.plot(valores_eps,num_clusters)\n",
        "plt.suptitle(\"Número de clusters en función del parámetro eps\")\n",
        "plt.xlabel(\"eps\",fontsize=15)\n",
        "plt.ylabel(\"Número de clusters\", fontsize=15)\n",
        "plt.show()"
      ],
      "metadata": {
        "id": "etCJvkj_Rcc_"
      },
      "execution_count": null,
      "outputs": []
    },
    {
      "cell_type": "markdown",
      "source": [
        "## 🔽 Comparación de K-Means, AgglomerativeClustering y DBSCAN en datasets grandes"
      ],
      "metadata": {
        "id": "OgQLbw2a4cp9"
      }
    },
    {
      "cell_type": "code",
      "source": [
        "from sklearn.datasets import make_blobs\n",
        "import matplotlib.pyplot as plt\n",
        "\n",
        "X, y = make_blobs(n_samples=15000,centers=3, random_state=174)\n",
        "\n",
        "plt.figure()\n",
        "plt.scatter(X[:,0],X[:,1],c='black')\n",
        "plt.show()"
      ],
      "metadata": {
        "id": "dJOUl_US4kOv",
        "colab": {
          "base_uri": "https://localhost:8080/",
          "height": 450
        },
        "outputId": "623fdf99-afac-466b-9a14-6e0ed90d2937"
      },
      "execution_count": 1,
      "outputs": [
        {
          "output_type": "display_data",
          "data": {
            "text/plain": [
              "<Figure size 640x480 with 1 Axes>"
            ],
            "image/png": "[encoded data removed]"
          },
          "metadata": {}
        }
      ]
    },
    {
      "cell_type": "code",
      "source": [
        "import time\n",
        "from sklearn.cluster import KMeans, AgglomerativeClustering, DBSCAN\n",
        "\n",
        "modelos = [KMeans(n_clusters=3),AgglomerativeClustering(n_clusters=3),DBSCAN()]\n",
        "\n",
        "fig, axs = plt.subplots(1,3,figsize=(15,5))\n",
        "\n",
        "for modelo,ax in zip(modelos,axs):\n",
        "    inicio = time.time()\n",
        "    modelo.fit(X)\n",
        "    final = time.time()\n",
        "    print(f\"{modelo.__class__.__name__}\\tTiempo de ejecución: {final-inicio}\")\n",
        "    clusters = modelo.labels_\n",
        "    ax.scatter(X[:,0],X[:,1],c=clusters)\n",
        "    ax.set_title(f\"{modelo.__class__.__name__}\")\n",
        "    ax.set_xticks([])\n",
        "    ax.set_yticks([])\n",
        "fig.show()"
      ],
      "metadata": {
        "id": "AIMIZCoziRUM",
        "colab": {
          "base_uri": "https://localhost:8080/",
          "height": 530
        },
        "outputId": "de8d393c-e35e-46fe-f7ef-bafa0a0aef65"
      },
      "execution_count": 2,
      "outputs": [
        {
          "output_type": "stream",
          "name": "stderr",
          "text": [
            "/usr/local/lib/python3.10/dist-packages/sklearn/cluster/_kmeans.py:870: FutureWarning: The default value of `n_init` will change from 10 to 'auto' in 1.4. Set the value of `n_init` explicitly to suppress the warning\n",
            "  warnings.warn(\n"
          ]
        },
        {
          "output_type": "stream",
          "name": "stdout",
          "text": [
            "KMeans\tTiempo de ejecución: 0.4726829528808594\n",
            "AgglomerativeClustering\tTiempo de ejecución: 9.96725869178772\n",
            "DBSCAN\tTiempo de ejecución: 0.41020631790161133\n"
          ]
        },
        {
          "output_type": "display_data",
          "data": {
            "text/plain": [
              "<Figure size 1500x500 with 3 Axes>"
            ],
            "image/png": "[encoded data removed]"
          },
          "metadata": {}
        }
      ]
    },
    {
      "cell_type": "markdown",
      "source": [
        "**Conclusiones**\n",
        "\n",
        "* KMeans es bueno con datasets grandes.\n",
        "* AgglomerativeClustering tarda con datasets grandes.\n",
        "* DBSCAN es el mejor con datasets grandes."
      ],
      "metadata": {
        "id": "vfQcOuopkXq7"
      }
    },
    {
      "cell_type": "markdown",
      "source": [
        "## Otros métodos"
      ],
      "metadata": {
        "id": "68s4pOjOw8mF"
      }
    },
    {
      "cell_type": "markdown",
      "metadata": {
        "id": "_PeZ1RewUC-m"
      },
      "source": [
        "### [Affinity Propagation](https://scikit-learn.org/stable/modules/generated/sklearn.cluster.AffinityPropagation.html)\n",
        "\n",
        "* [Brendan J. Frey, Delbert Dueck (2007). Clustering by passing messages between data points. Science 315 (5814); pp. 972-6.](https://pdfs.semanticscholar.org/ea78/2c8b0848987e9575ea648e0419054d3f5bbf.pdf?_ga=2.62870572.1030401696.1591021245-1055786045.1581021538)\n",
        "\n",
        "* AffinityPropagation crea clusters enviando mensajes entre pares de muestras hasta la convergencia. Los mensajes enviados entre pares representan la idoneidad de una muestra para ser el ejemplar de la otra, que se actualiza en respuesta a los valores de otros pares. Esta actualización se produce de forma iterativa hasta la convergencia, momento en el que se eligen los ejemplares definitivos y, por tanto, se obtiene la agrupación final.\n",
        "\n",
        "* AffinityPropagation puede ser interesante, ya que elige el número de clusters en función de los datos proporcionados. Para ello, los dos parámetros importantes son la preferencia, que controla cuántos ejemplares se utilizan, y el factor de amortiguación, que amortigua los mensajes de responsabilidad y disponibilidad para evitar oscilaciones numéricas al actualizar estos mensajes.\n",
        "\n",
        "* El principal inconveniente de la propagación por afinidad es su complejidad."
      ]
    },
    {
      "cell_type": "code",
      "execution_count": null,
      "metadata": {
        "id": "qEEowNZbUC-o"
      },
      "outputs": [],
      "source": [
        "from sklearn.cluster import AffinityPropagation\n",
        "\n",
        "modelo = AffinityPropagation(damping=0.5,max_iter=500,random_state=None)\n",
        "\n",
        "modelo.fit(X)\n",
        "yhat = modelo.fit_predict(X)\n",
        "\n",
        "clusters = np.unique(yhat)\n",
        "\n",
        "print(f\"Se encontraron {clusters.shape[0]} clusters\")\n",
        "\n",
        "for cluster in clusters:\n",
        "    fila = np.where(yhat == cluster)\n",
        "    plt.scatter(X[fila, 0], X[fila, 1])\n",
        "\n",
        "plt.show()"
      ]
    },
    {
      "cell_type": "markdown",
      "metadata": {
        "id": "U0ywQ1YzUC-r"
      },
      "source": [
        "### [BIRCH](https://scikit-learn.org/stable/modules/generated/sklearn.cluster.Birch.html)\n",
        "\n",
        "* Tian Zhang, Raghu Ramakrishnan and Miron Livny (1996). _BIRCH: An Efficient Data Clustering Method for Very Large Databases_.  ACM SIGMOD Record. DOI:10.1145/235968.233324.\n",
        "* BIRCH (Balanced Iterative Reducing and Clustering using Hierarchies) es un método de clustering de tipo jerárquico bottom-up, especialmente diseñado para grandes conjuntos de datos.\n",
        "* BIRCH agrupa de forma incremental y dinámica datos, con la métrica Euclidiana, de entrada para intentar producir la mejor calidad de agrupación con los recursos disponibles.\n"
      ]
    },
    {
      "cell_type": "code",
      "execution_count": null,
      "metadata": {
        "id": "onKzt5_aUC-s"
      },
      "outputs": [],
      "source": [
        "from sklearn.cluster import Birch\n",
        "\n",
        "modelo = Birch(threshold=0.01, n_clusters=3)\n",
        "\n",
        "modelo.fit(X)\n",
        "yhat = modelo.predict(X)\n",
        "\n",
        "clusters = np.unique(yhat)\n",
        "\n",
        "for cluster in clusters:\n",
        "    fila = np.where(yhat == cluster)\n",
        "    plt.scatter(X[fila, 0], X[fila, 1])\n",
        "\n",
        "plt.show()"
      ]
    },
    {
      "cell_type": "markdown",
      "source": [
        "### [OPTICS](https://scikit-learn.org/stable/modules/generated/sklearn.cluster.OPTICS.html)\n",
        "\n",
        "OPTICS (Ordering Points To Identify the Clustering Structure) está muy relacionado con DBSCAN, también encuentra puntos *nucleo* y expande a partir de ellos. A diferencia de DBSCAN, mantiene una jerarquía de clusters para un intervalo de radios pequeños. Es una mejor alternativa a DBSCAN en datasets grandes."
      ],
      "metadata": {
        "id": "Yk-Fo_ZkRGLS"
      }
    },
    {
      "cell_type": "code",
      "source": [
        "from sklearn.cluster import OPTICS\n",
        "\n",
        "modelo = OPTICS(max_eps=200, min_samples=9)\n",
        "\n",
        "yhat = modelo.fit_predict(X)\n",
        "\n",
        "clusters = np.unique(yhat)\n",
        "\n",
        "for cluster in clusters:\n",
        "    filas = np.where(yhat == cluster)\n",
        "    plt.scatter(X[filas, 0], X[filas, 1])\n",
        "\n",
        "plt.show()"
      ],
      "metadata": {
        "id": "bDeYrKNhRFbU"
      },
      "execution_count": null,
      "outputs": []
    },
    {
      "cell_type": "code",
      "source": [
        "num_clusters = []\n",
        "valores_eps = np.linspace(0.0001,200,100)\n",
        "\n",
        "for eps in valores_eps:\n",
        "    modelo = OPTICS(eps=eps, min_samples=5)\n",
        "    yhat = modelo.fit_predict(X)\n",
        "    clusters = np.unique(yhat)\n",
        "    num_clusters.append(len(clusters))\n",
        "\n",
        "plt.plot(valores_eps,num_clusters)\n",
        "plt.suptitle(\"Número de clusters en función del parámetro eps\")\n",
        "plt.xlabel(\"eps\",fontsize=15)\n",
        "plt.ylabel(\"Número de clusters\", fontsize=15)\n",
        "plt.show()"
      ],
      "metadata": {
        "id": "e0BzdpuQSVXX"
      },
      "execution_count": null,
      "outputs": []
    },
    {
      "cell_type": "markdown",
      "metadata": {
        "id": "EY5OUxZbUC-u"
      },
      "source": [
        "### [Spectral Clustering](https://scikit-learn.org/stable/modules/generated/sklearn.cluster.SpectralClustering.html)\n",
        "\n",
        "* La agrupación espectral es una clase general de métodos de agrupación, extraída del álgebra lineal.\n",
        "\n",
        "* \"_Una alternativa prometedora que ha surgido recientemente en varios campos es utilizar métodos espectrales para la agrupación. Aquí, uno usa los vectores propios más altos de una matriz derivada de la distancia entre puntos._\" [Andrew Y. Ng, Michael I. Jordan and Yair Weiss (2002). _On Spectral Clustering: Analysis and an algorithm_. In ADVANCES IN NEURAL INFORMATION PROCESSING SYSTEMS.](https://papers.nips.cc/paper/2092-on-spectral-clustering-analysis-and-an-algorithm.pdf)\n",
        "\n",
        "* Un review del método: https://link.springer.com/article/10.1007/s11222-007-9033-z\n",
        "\n",
        "* El hiperparámetro \"n_clusters\" es utilizado para especificar el número estimado de clústeres en los datos."
      ]
    },
    {
      "cell_type": "code",
      "execution_count": null,
      "metadata": {
        "id": "knNzMY8vUC-u"
      },
      "outputs": [],
      "source": [
        "from sklearn.cluster import SpectralClustering\n",
        "\n",
        "modelo = SpectralClustering(n_clusters=2)\n",
        "\n",
        "yhat = modelo.fit_predict(X)\n",
        "\n",
        "clusters = np.unique(yhat)\n",
        "\n",
        "for cluster in clusters:\n",
        "    fila = np.where(yhat == cluster)\n",
        "    plt.scatter(X[fila, 0], X[fila, 1])\n",
        "\n",
        "plt.show()"
      ]
    },
    {
      "cell_type": "markdown",
      "source": [
        "## Más métricas"
      ],
      "metadata": {
        "id": "woMLwJCXiqFP"
      }
    },
    {
      "cell_type": "markdown",
      "source": [
        "Hay más métricas que pueden usarse para el clustering. Las hay de dos tipos:\n",
        "\n",
        "1. Cuando no se conoce un clustering *ground truth*, en este caso se evalua el módelo unicamente con la información de él mismo. Por ejemplo:\n",
        "\n",
        "    * [Silhoutte score](https://scikit-learn.org/stable/modules/generated/sklearn.metrics.silhouette_score.html#sklearn.metrics.silhouette_score)\n",
        "    * [Calinski-Harabasz Index](https://scikit-learn.org/stable/modules/generated/sklearn.metrics.calinski_harabasz_score.html#sklearn.metrics.calinski_harabasz_score)\n",
        "    * [Davies-Bouldin Index](https://scikit-learn.org/stable/modules/generated/sklearn.metrics.davies_bouldin_score.html#sklearn.metrics.davies_bouldin_score)\n",
        "    * ...\n",
        "\n",
        "2. Cuando se conoce un clustering *ground truth* o se quieren comparar dos clusterings. Por ejemplo:\n",
        "    * [AMI](https://scikit-learn.org/stable/modules/generated/sklearn.metrics.adjusted_mutual_info_score.html#sklearn.metrics.adjusted_mutual_info_score)\n",
        "    * [V-measure](https://scikit-learn.org/stable/modules/generated/sklearn.metrics.v_measure_score.html#sklearn.metrics.v_measure_score)\n",
        "    * [Rand index](https://scikit-learn.org/stable/modules/generated/sklearn.metrics.rand_score.html#sklearn.metrics.rand_score)\n",
        "    * ...\n"
      ],
      "metadata": {
        "id": "TwZ6xR8Ditvq"
      }
    },
    {
      "cell_type": "markdown",
      "source": [
        "## ⭕ Práctica"
      ],
      "metadata": {
        "id": "xd9VdumvETie"
      }
    },
    {
      "cell_type": "markdown",
      "source": [
        "¿Puedes encontrar buenos clusterings para los siguientes datasets?\n",
        "\n",
        "Considera dos datasets DS1 y DS2/DS3. En cada uno de ellos, prueba los siguientes métodos:\n",
        "\n",
        "1. K-Means\n",
        "2. AgglomerativeClustering\n",
        "3. DBSCAN\n",
        "\n",
        "Tareas a realizar:\n",
        "\n",
        "* Realiza una busqueda de hiperparámetros basándote en alguna métrica como AMI, Silhoutte, Elbow Value (para el caso de K-Means) o alguna otra.\n",
        "* Con estos hiperparámetros, escoge el mejor clustering de cada uno de los tres métodos.\n",
        "* Compara visualmente los 3 clusterings obtenidos.\n",
        "* Usando el score de silueta y el índice Calinski-Harabasz, ¿cuál de los tres clusterings fue mejor?\n",
        "* En el caso del dataset DS1, tienes un *ground truth* clustering. Reporta el valor de la métrica [AMI](https://scikit-learn.org/stable/modules/generated/sklearn.metrics.adjusted_mutual_info_score.html#sklearn.metrics.adjusted_mutual_info_score) y [ARI](https://scikit-learn.org/stable/modules/generated/sklearn.metrics.adjusted_rand_score.html#sklearn.metrics.adjusted_rand_score)."
      ],
      "metadata": {
        "id": "U4pvJ24QjBeT"
      }
    },
    {
      "cell_type": "code",
      "execution_count": 3,
      "metadata": {
        "id": "nqCnMpbRUC-z"
      },
      "outputs": [],
      "source": [
        "from sklearn.datasets import make_moons, make_blobs\n",
        "import numpy as np\n",
        "\n",
        "n_samples = 500\n",
        "\n",
        "DS1 = make_moons(n_samples=n_samples, noise=.05)\n",
        "DS2 = np.random.rand(n_samples, 2)\n",
        "DS3 = make_blobs(n_samples=n_samples, cluster_std=[1.0, 2.5, 0.5], random_state=170)"
      ]
    },
    {
      "cell_type": "code",
      "source": [
        "import matplotlib.pyplot as plt\n",
        "\n",
        "X, y = DS1\n",
        "# X, y = DS3\n",
        "# X = DS2\n",
        "\n",
        "plt.figure()\n",
        "plt.scatter(X[:,0],X[:,1])\n",
        "plt.show()"
      ],
      "metadata": {
        "id": "FrbW98Gz940R",
        "colab": {
          "base_uri": "https://localhost:8080/",
          "height": 450
        },
        "outputId": "02a4c632-eaca-4ea7-979c-d6ab382a573e"
      },
      "execution_count": 4,
      "outputs": [
        {
          "output_type": "display_data",
          "data": {
            "text/plain": [
              "<Figure size 640x480 with 1 Axes>"
            ],
            "image/png": "[encoded data removed]"
          },
          "metadata": {}
        }
      ]
    },
    {
      "cell_type": "code",
      "source": [],
      "metadata": {
        "id": "GK6IZ8wOntck"
      },
      "execution_count": null,
      "outputs": []
    },
    {
      "cell_type": "markdown",
      "source": [
        "Graficar los clusters:"
      ],
      "metadata": {
        "id": "Su_f19cQnuMd"
      }
    },
    {
      "cell_type": "code",
      "execution_count": null,
      "metadata": {
        "id": "zepYvT6PUC-z"
      },
      "outputs": [],
      "source": [
        "fig, axs = plt.subplots(1,2,figsize=(9,5),sharey=True)\n",
        "axs[0].scatter(X[:,0],X[:,1], c=y)\n",
        "axs[0].set_title(\"Original dataset\")\n",
        "axs[1].scatter(X[:,0],X[:,1], c=y_clusters)\n",
        "axs[1].set_title(\"Clustering\")\n",
        "fig.show()"
      ]
    },
    {
      "cell_type": "markdown",
      "source": [
        "# Ejemplo 1: Documentos de Wikipedia\n",
        "\n",
        "Usaremos otra vez el dataset de documentos de Wikipedia, tomaremos la versión parcial y preprocesada de la sesión pasada.\n",
        "\n",
        "El objetivo de la práctica es segmentar los documentos en grupos con temáticas similares. Para esto, usaremos algoritmos de clustering. Si las representaciones vectoriales de los documentos son *buenas*, lograremos este objetivo."
      ],
      "metadata": {
        "id": "baK_yZkgTibB"
      }
    },
    {
      "cell_type": "code",
      "source": [
        "!pip install wordcloud -qq"
      ],
      "metadata": {
        "id": "vy_MugDLg2Dv"
      },
      "execution_count": 5,
      "outputs": []
    },
    {
      "cell_type": "code",
      "source": [
        "import pandas as pd\n",
        "import numpy as np\n",
        "\n",
        "url = \"https://raw.githubusercontent.com/DCDPUAEM/DCDP/main/03%20Machine%20Learning/data/spanish-wikipedia-dataframe.csv\"\n",
        "df = pd.read_csv(url,index_col=0)\n",
        "df"
      ],
      "metadata": {
        "id": "ON51TIO0Tj6O",
        "colab": {
          "base_uri": "https://localhost:8080/",
          "height": 444
        },
        "outputId": "a7ed955b-30ca-4c89-8afb-05bbb2eccd6a"
      },
      "execution_count": 6,
      "outputs": [
        {
          "output_type": "execute_result",
          "data": {
            "text/plain": [
              "      doc_id                                              Texto\n",
              "0     646956  amaury iii señor montfort amaury conde évreux ...\n",
              "1     646957  ruud janssen tilburg july artista holandés flu...\n",
              "2     646958  grandes crónicas francia compilación obras his...\n",
              "3     646961  san miguel basauri grupo barrios tomado barrio...\n",
              "4     646963  río perené corto río perú constituye parte sup...\n",
              "...      ...                                                ...\n",
              "4018  665821  iese puede hacer referencia siguiente institut...\n",
              "4019  665823  cygni abreviado cyg sistema estelar triple loc...\n",
              "4020  665831  acrónimo ima puede referirse instituto mundo á...\n",
              "4021  665833  eleonora cassano buenos aires enero bailarina ...\n",
              "4022  665845  modadalidad dobles masculino bádminton juegos ...\n",
              "\n",
              "[4023 rows x 2 columns]"
            ],
            "text/html": [
              "\n",
              "  <div id=\"df-20aa3d52-e8eb-49ac-a048-6aa7989adf61\" class=\"colab-df-container\">\n",
              "    <div>\n",
              "<style scoped>\n",
              "    .dataframe tbody tr th:only-of-type {\n",
              "        vertical-align: middle;\n",
              "    }\n",
              "\n",
              "    .dataframe tbody tr th {\n",
              "        vertical-align: top;\n",
              "    }\n",
              "\n",
              "    .dataframe thead th {\n",
              "        text-align: right;\n",
              "    }\n",
              "</style>\n",
              "<table border=\"1\" class=\"dataframe\">\n",
              "  <thead>\n",
              "    <tr style=\"text-align: right;\">\n",
              "      <th></th>\n",
              "      <th>doc_id</th>\n",
              "      <th>Texto</th>\n",
              "    </tr>\n",
              "  </thead>\n",
              "  <tbody>\n",
              "    <tr>\n",
              "      <th>0</th>\n",
              "      <td>646956</td>\n",
              "      <td>amaury iii señor montfort amaury conde évreux ...</td>\n",
              "    </tr>\n",
              "    <tr>\n",
              "      <th>1</th>\n",
              "      <td>646957</td>\n",
              "      <td>ruud janssen tilburg july artista holandés flu...</td>\n",
              "    </tr>\n",
              "    <tr>\n",
              "      <th>2</th>\n",
              "      <td>646958</td>\n",
              "      <td>grandes crónicas francia compilación obras his...</td>\n",
              "    </tr>\n",
              "    <tr>\n",
              "      <th>3</th>\n",
              "      <td>646961</td>\n",
              "      <td>san miguel basauri grupo barrios tomado barrio...</td>\n",
              "    </tr>\n",
              "    <tr>\n",
              "      <th>4</th>\n",
              "      <td>646963</td>\n",
              "      <td>río perené corto río perú constituye parte sup...</td>\n",
              "    </tr>\n",
              "    <tr>\n",
              "      <th>...</th>\n",
              "      <td>...</td>\n",
              "      <td>...</td>\n",
              "    </tr>\n",
              "    <tr>\n",
              "      <th>4018</th>\n",
              "      <td>665821</td>\n",
              "      <td>iese puede hacer referencia siguiente institut...</td>\n",
              "    </tr>\n",
              "    <tr>\n",
              "      <th>4019</th>\n",
              "      <td>665823</td>\n",
              "      <td>cygni abreviado cyg sistema estelar triple loc...</td>\n",
              "    </tr>\n",
              "    <tr>\n",
              "      <th>4020</th>\n",
              "      <td>665831</td>\n",
              "      <td>acrónimo ima puede referirse instituto mundo á...</td>\n",
              "    </tr>\n",
              "    <tr>\n",
              "      <th>4021</th>\n",
              "      <td>665833</td>\n",
              "      <td>eleonora cassano buenos aires enero bailarina ...</td>\n",
              "    </tr>\n",
              "    <tr>\n",
              "      <th>4022</th>\n",
              "      <td>665845</td>\n",
              "      <td>modadalidad dobles masculino bádminton juegos ...</td>\n",
              "    </tr>\n",
              "  </tbody>\n",
              "</table>\n",
              "<p>4023 rows × 2 columns</p>\n",
              "</div>\n",
              "    <div class=\"colab-df-buttons\">\n",
              "\n",
              "  <div class=\"colab-df-container\">\n",
              "    <button class=\"colab-df-convert\" onclick=\"convertToInteractive('df-20aa3d52-e8eb-49ac-a048-6aa7989adf61')\"\n",
              "            title=\"Convert this dataframe to an interactive table.\"\n",
              "            style=\"display:none;\">\n",
              "\n",
              "  <svg xmlns=\"http://www.w3.org/2000/svg\" height=\"24px\" viewBox=\"0 -960 960 960\">\n",
              "    <path d=\"M120-120v-720h720v720H120Zm60-500h600v-160H180v160Zm220 220h160v-160H400v160Zm0 220h160v-160H400v160ZM180-400h160v-160H180v160Zm440 0h160v-160H620v160ZM180-180h160v-160H180v160Zm440 0h160v-160H620v160Z\"/>\n",
              "  </svg>\n",
              "    </button>\n",
              "\n",
              "  <style>\n",
              "    .colab-df-container {\n",
              "      display:flex;\n",
              "      gap: 12px;\n",
              "    }\n",
              "\n",
              "    .colab-df-convert {\n",
              "      background-color: #E8F0FE;\n",
              "      border: none;\n",
              "      border-radius: 50%;\n",
              "      cursor: pointer;\n",
              "      display: none;\n",
              "      fill: #1967D2;\n",
              "      height: 32px;\n",
              "      padding: 0 0 0 0;\n",
              "      width: 32px;\n",
              "    }\n",
              "\n",
              "    .colab-df-convert:hover {\n",
              "      background-color: #E2EBFA;\n",
              "      box-shadow: 0px 1px 2px rgba(60, 64, 67, 0.3), 0px 1px 3px 1px rgba(60, 64, 67, 0.15);\n",
              "      fill: #174EA6;\n",
              "    }\n",
              "\n",
              "    .colab-df-buttons div {\n",
              "      margin-bottom: 4px;\n",
              "    }\n",
              "\n",
              "    [theme=dark] .colab-df-convert {\n",
              "      background-color: #3B4455;\n",
              "      fill: #D2E3FC;\n",
              "    }\n",
              "\n",
              "    [theme=dark] .colab-df-convert:hover {\n",
              "      background-color: #434B5C;\n",
              "      box-shadow: 0px 1px 3px 1px rgba(0, 0, 0, 0.15);\n",
              "      filter: drop-shadow(0px 1px 2px rgba(0, 0, 0, 0.3));\n",
              "      fill: #FFFFFF;\n",
              "    }\n",
              "  </style>\n",
              "\n",
              "    <script>\n",
              "      const buttonEl =\n",
              "        document.querySelector('#df-20aa3d52-e8eb-49ac-a048-6aa7989adf61 button.colab-df-convert');\n",
              "      buttonEl.style.display =\n",
              "        google.colab.kernel.accessAllowed ? 'block' : 'none';\n",
              "\n",
              "      async function convertToInteractive(key) {\n",
              "        const element = document.querySelector('#df-20aa3d52-e8eb-49ac-a048-6aa7989adf61');\n",
              "        const dataTable =\n",
              "          await google.colab.kernel.invokeFunction('convertToInteractive',\n",
              "                                                    [key], {});\n",
              "        if (!dataTable) return;\n",
              "\n",
              "        const docLinkHtml = 'Like what you see? Visit the ' +\n",
              "          '<a target=\"_blank\" href=https://colab.research.google.com/notebooks/data_table.ipynb>data table notebook</a>'\n",
              "          + ' to learn more about interactive tables.';\n",
              "        element.innerHTML = '';\n",
              "        dataTable['output_type'] = 'display_data';\n",
              "        await google.colab.output.renderOutput(dataTable, element);\n",
              "        const docLink = document.createElement('div');\n",
              "        docLink.innerHTML = docLinkHtml;\n",
              "        element.appendChild(docLink);\n",
              "      }\n",
              "    </script>\n",
              "  </div>\n",
              "\n",
              "\n",
              "<div id=\"df-8a3562b2-2bde-49c3-a5ed-2de5048939bb\">\n",
              "  <button class=\"colab-df-quickchart\" onclick=\"quickchart('df-8a3562b2-2bde-49c3-a5ed-2de5048939bb')\"\n",
              "            title=\"Suggest charts\"\n",
              "            style=\"display:none;\">\n",
              "\n",
              "<svg xmlns=\"http://www.w3.org/2000/svg\" height=\"24px\"viewBox=\"0 0 24 24\"\n",
              "     width=\"24px\">\n",
              "    <g>\n",
              "        <path d=\"M19 3H5c-1.1 0-2 .9-2 2v14c0 1.1.9 2 2 2h14c1.1 0 2-.9 2-2V5c0-1.1-.9-2-2-2zM9 17H7v-7h2v7zm4 0h-2V7h2v10zm4 0h-2v-4h2v4z\"/>\n",
              "    </g>\n",
              "</svg>\n",
              "  </button>\n",
              "\n",
              "<style>\n",
              "  .colab-df-quickchart {\n",
              "      --bg-color: #E8F0FE;\n",
              "      --fill-color: #1967D2;\n",
              "      --hover-bg-color: #E2EBFA;\n",
              "      --hover-fill-color: #174EA6;\n",
              "      --disabled-fill-color: #AAA;\n",
              "      --disabled-bg-color: #DDD;\n",
              "  }\n",
              "\n",
              "  [theme=dark] .colab-df-quickchart {\n",
              "      --bg-color: #3B4455;\n",
              "      --fill-color: #D2E3FC;\n",
              "      --hover-bg-color: #434B5C;\n",
              "      --hover-fill-color: #FFFFFF;\n",
              "      --disabled-bg-color: #3B4455;\n",
              "      --disabled-fill-color: #666;\n",
              "  }\n",
              "\n",
              "  .colab-df-quickchart {\n",
              "    background-color: var(--bg-color);\n",
              "    border: none;\n",
              "    border-radius: 50%;\n",
              "    cursor: pointer;\n",
              "    display: none;\n",
              "    fill: var(--fill-color);\n",
              "    height: 32px;\n",
              "    padding: 0;\n",
              "    width: 32px;\n",
              "  }\n",
              "\n",
              "  .colab-df-quickchart:hover {\n",
              "    background-color: var(--hover-bg-color);\n",
              "    box-shadow: 0 1px 2px rgba(60, 64, 67, 0.3), 0 1px 3px 1px rgba(60, 64, 67, 0.15);\n",
              "    fill: var(--button-hover-fill-color);\n",
              "  }\n",
              "\n",
              "  .colab-df-quickchart-complete:disabled,\n",
              "  .colab-df-quickchart-complete:disabled:hover {\n",
              "    background-color: var(--disabled-bg-color);\n",
              "    fill: var(--disabled-fill-color);\n",
              "    box-shadow: none;\n",
              "  }\n",
              "\n",
              "  .colab-df-spinner {\n",
              "    border: 2px solid var(--fill-color);\n",
              "    border-color: transparent;\n",
              "    border-bottom-color: var(--fill-color);\n",
              "    animation:\n",
              "      spin 1s steps(1) infinite;\n",
              "  }\n",
              "\n",
              "  @keyframes spin {\n",
              "    0% {\n",
              "      border-color: transparent;\n",
              "      border-bottom-color: var(--fill-color);\n",
              "      border-left-color: var(--fill-color);\n",
              "    }\n",
              "    20% {\n",
              "      border-color: transparent;\n",
              "      border-left-color: var(--fill-color);\n",
              "      border-top-color: var(--fill-color);\n",
              "    }\n",
              "    30% {\n",
              "      border-color: transparent;\n",
              "      border-left-color: var(--fill-color);\n",
              "      border-top-color: var(--fill-color);\n",
              "      border-right-color: var(--fill-color);\n",
              "    }\n",
              "    40% {\n",
              "      border-color: transparent;\n",
              "      border-right-color: var(--fill-color);\n",
              "      border-top-color: var(--fill-color);\n",
              "    }\n",
              "    60% {\n",
              "      border-color: transparent;\n",
              "      border-right-color: var(--fill-color);\n",
              "    }\n",
              "    80% {\n",
              "      border-color: transparent;\n",
              "      border-right-color: var(--fill-color);\n",
              "      border-bottom-color: var(--fill-color);\n",
              "    }\n",
              "    90% {\n",
              "      border-color: transparent;\n",
              "      border-bottom-color: var(--fill-color);\n",
              "    }\n",
              "  }\n",
              "</style>\n",
              "\n",
              "  <script>\n",
              "    async function quickchart(key) {\n",
              "      const quickchartButtonEl =\n",
              "        document.querySelector('#' + key + ' button');\n",
              "      quickchartButtonEl.disabled = true;  // To prevent multiple clicks.\n",
              "      quickchartButtonEl.classList.add('colab-df-spinner');\n",
              "      try {\n",
              "        const charts = await google.colab.kernel.invokeFunction(\n",
              "            'suggestCharts', [key], {});\n",
              "      } catch (error) {\n",
              "        console.error('Error during call to suggestCharts:', error);\n",
              "      }\n",
              "      quickchartButtonEl.classList.remove('colab-df-spinner');\n",
              "      quickchartButtonEl.classList.add('colab-df-quickchart-complete');\n",
              "    }\n",
              "    (() => {\n",
              "      let quickchartButtonEl =\n",
              "        document.querySelector('#df-8a3562b2-2bde-49c3-a5ed-2de5048939bb button');\n",
              "      quickchartButtonEl.style.display =\n",
              "        google.colab.kernel.accessAllowed ? 'block' : 'none';\n",
              "    })();\n",
              "  </script>\n",
              "</div>\n",
              "\n",
              "  <div id=\"id_419311c5-51ef-4124-bf11-facd489828e2\">\n",
              "    <style>\n",
              "      .colab-df-generate {\n",
              "        background-color: #E8F0FE;\n",
              "        border: none;\n",
              "        border-radius: 50%;\n",
              "        cursor: pointer;\n",
              "        display: none;\n",
              "        fill: #1967D2;\n",
              "        height: 32px;\n",
              "        padding: 0 0 0 0;\n",
              "        width: 32px;\n",
              "      }\n",
              "\n",
              "      .colab-df-generate:hover {\n",
              "        background-color: #E2EBFA;\n",
              "        box-shadow: 0px 1px 2px rgba(60, 64, 67, 0.3), 0px 1px 3px 1px rgba(60, 64, 67, 0.15);\n",
              "        fill: #174EA6;\n",
              "      }\n",
              "\n",
              "      [theme=dark] .colab-df-generate {\n",
              "        background-color: #3B4455;\n",
              "        fill: #D2E3FC;\n",
              "      }\n",
              "\n",
              "      [theme=dark] .colab-df-generate:hover {\n",
              "        background-color: #434B5C;\n",
              "        box-shadow: 0px 1px 3px 1px rgba(0, 0, 0, 0.15);\n",
              "        filter: drop-shadow(0px 1px 2px rgba(0, 0, 0, 0.3));\n",
              "        fill: #FFFFFF;\n",
              "      }\n",
              "    </style>\n",
              "    <button class=\"colab-df-generate\" onclick=\"generateWithVariable('df')\"\n",
              "            title=\"Generate code using this dataframe.\"\n",
              "            style=\"display:none;\">\n",
              "\n",
              "  <svg xmlns=\"http://www.w3.org/2000/svg\" height=\"24px\"viewBox=\"0 0 24 24\"\n",
              "       width=\"24px\">\n",
              "    <path d=\"M7,19H8.4L18.45,9,17,7.55,7,17.6ZM5,21V16.75L18.45,3.32a2,2,0,0,1,2.83,0l1.4,1.43a1.91,1.91,0,0,1,.58,1.4,1.91,1.91,0,0,1-.58,1.4L9.25,21ZM18.45,9,17,7.55Zm-12,3A5.31,5.31,0,0,0,4.9,8.1,5.31,5.31,0,0,0,1,6.5,5.31,5.31,0,0,0,4.9,4.9,5.31,5.31,0,0,0,6.5,1,5.31,5.31,0,0,0,8.1,4.9,5.31,5.31,0,0,0,12,6.5,5.46,5.46,0,0,0,6.5,12Z\"/>\n",
              "  </svg>\n",
              "    </button>\n",
              "    <script>\n",
              "      (() => {\n",
              "      const buttonEl =\n",
              "        document.querySelector('#id_419311c5-51ef-4124-bf11-facd489828e2 button.colab-df-generate');\n",
              "      buttonEl.style.display =\n",
              "        google.colab.kernel.accessAllowed ? 'block' : 'none';\n",
              "\n",
              "      buttonEl.onclick = () => {\n",
              "        google.colab.notebook.generateWithVariable('df');\n",
              "      }\n",
              "      })();\n",
              "    </script>\n",
              "  </div>\n",
              "\n",
              "    </div>\n",
              "  </div>\n"
            ],
            "application/vnd.google.colaboratory.intrinsic+json": {
              "type": "dataframe",
              "variable_name": "df",
              "summary": "{\n  \"name\": \"df\",\n  \"rows\": 4023,\n  \"fields\": [\n    {\n      \"column\": \"doc_id\",\n      \"properties\": {\n        \"dtype\": \"string\",\n        \"num_unique_values\": 4023,\n        \"samples\": [\n          \"655781\",\n          \"653402\",\n          \"660241\"\n        ],\n        \"semantic_type\": \"\",\n        \"description\": \"\"\n      }\n    },\n    {\n      \"column\": \"Texto\",\n      \"properties\": {\n        \"dtype\": \"string\",\n        \"num_unique_values\": 4023,\n        \"samples\": [\n          \"partido dem\\u00f3crata liberal pdl partido ideolog\\u00eda liberal espa\\u00f1ol fundado antonio garrigues walker constituido partidos territoriales federados constituy\\u00f3 base partido reformista democr\\u00e1tico liderado miquel roca integr\\u00f3 prd present\\u00f3 elecciones generales fracasando estrepitosamente fracaso conllev\\u00f3 autodisoluci\\u00f3n prd pdl superviviese disoluci\\u00f3n grupo militantes refund\\u00f3 partido dem\\u00f3crata liberal catalu\\u00f1a relanz\\u00f3 pdl toda espa\\u00f1a constituyendo federaci\\u00f3n partidos liberales adem\\u00e1s pdl participaba uni\\u00f3n progresista liberal logr\\u00f3 consolidarse referencias\",\n          \"pic midi bigorre occitano gasc\\u00f3n pic mieidia big\\u00f2rra situado departamento franc\\u00e9s altos pirineos alcanza altura metros conocido cosas presencia observatorio astron\\u00f3mico antena televisi\\u00f3n geograf\\u00eda situado pirineos franceses departamento altos pirineos cerca bagn\\u00e8resdebigorre refiri\\u00e9ndose pueblo antiguo condado bigorre comt\\u00e9 bigorreel pico conoce panor\\u00e1mica cadenas monta\\u00f1osas francoespa\\u00f1olas posible acceder pico pie trav\\u00e9s senderos monta\\u00f1a bien telef\\u00e9rico salida mongie telef\\u00e9rico formado dos secciones premier tron\\u00e7on mongie taoulet comporte plusieurs pyl\\u00f4nes deuxi\\u00e8me tron\\u00e7on taoulet pic midi comporte quun seul pyl\\u00f4ne pr\\u00e8s gare darriv\\u00e9e pr\\u00e9sente une trav\\u00e9e c\\u00e2ble long taoulet pyl\\u00f4ne enlaces externos site lobservatoire lhistoire site lunette jean r\\u00f6sch des webcams direct sommet carnet bord blog lobservatoire lhistoire histoires pic midi bigorre activit\\u00e9s sport nature pic midi\",\n          \"historia chilo\\u00e9 archipi\\u00e9lago sur chile inici\\u00f3 llegada primeros seres humanos territorio chilote a\\u00f1o primeros pobladores vestigios humanos antiguos chilo\\u00e9 fechados datan a\\u00f1os encontraron bajo vivienda puente quilo pen\\u00ednsula lacuy sector noroeste comuna ancud trata huesos humanos diversas clases restos alimentos piedras trabajadas carb\\u00f3n conchales toda costa isla grande existen conchales decir dep\\u00f3sitos conchas moluscos acci\\u00f3n humana acompa\\u00f1adas herramientas piedra huellas fogatas ocasionalmente aparecen esqueletos aves marinas ciertos casos seres humanos restos se\\u00f1alan presencia grupos n\\u00f3madas dedicados primariamente recolecci\\u00f3n mariscos almejas choritos choros zapatos secundariamente caza pesca encontrado sitios cantos tallados conocidos t\\u00e9rmino ingl\\u00e9s chopper bifaces lascas piedra adem\\u00e1s objetos hueso conchales antiguos datado a\\u00f1os permanecen uso pues comunidades locales ven basureros tiempos relativamente recientes sitios arqueol\\u00f3gicos da\\u00f1ados seriamente maremoto seguido deterior\\u00e1ndose acci\\u00f3n natural extraen conchas usar caminos remueven usarlos material relleno chonos chonos primeros habitantes conocidos archipi\\u00e9lago nombre designa varios pueblos n\\u00f3madas marinos baja estatura habitaban chilo\\u00e9 golfo penas parecen haber relacionado pueblos canoeros australes alacalufes kaw\\u00e9sqar recorr\\u00edan mar interior chilo\\u00e9 atravesaban golfo corcovado archipi\\u00e9lagos chonos guaitecas embarcaciones tres tablas llamadas dalcas asentaban temporalmente sitios resguardados vientos pueden reconocerse presencia conchales dedicaban recolecci\\u00f3n mariscos caza lobos marinos postula principal sistema cocci\\u00f3n alimentos medio piedras calientes dentro hoyo cubierto luego hojas pangue antecesor curanto vest\\u00edan pieles lobo mantos tejidos pelo perro mayor parte registros idioma idiomas perdido puede saber ciencia cierta pretendido idioma chono dialecto idioma kaw\\u00e9sqar postula nombres laitec linlinao quenac provienen lengua chonos desplazados hacia sur llegada pueblo sedentario continente trataba porci\\u00f3n huilliches buscaban nuevos lugares asentamiento posiblemente empuje mapuches norte relaciones chonos huilliches siempre pac\\u00edficas mediados siglo xvi producido mezcla \\u00e9tnica cultural ambos grupos modo chonos comenzaron practicar incipientemente agricultura principalmente papa mientras huilliches adoptaron costumbres marineras chonos principalmente uso dalca llegada espa\\u00f1oles trasladaron hacia zonas alejadas aunque emprend\\u00edan continuas expediciones pillaje causaban temor poblados huilliches sur isla alarma autoridades espa\\u00f1olas paulatinamente establecieron relaciones comerciales europeos llegando ser proveedores esclavos siglo xviii decidieron radicarse pac\\u00edficamente chilo\\u00e9 reunidos misi\\u00f3n isla cail\\u00edn cultura termin\\u00f3 desaparecer sedentarizarse mezclarse chilotes pueblos canoeros sur radicados misi\\u00f3n estudios gen\\u00e9ticos realizados chilo\\u00e9 se\\u00f1alan poblaci\\u00f3n isla laitec presenta marcadores gen\\u00e9ticos diferentes poblaciones septentrionales chilo\\u00e9 parecidos pueblos fueguinos podr\\u00eda ser indicador ancestros chonos huilliches \\u00e9poca determinada probablemente primera mitad segundo milenio arrib\\u00f3 archipi\\u00e9lago pueblo agricultores ganaderos cultura lengua mapuche historiograf\\u00eda convencional recibido indistintamente nombre huilliches veliches cuncos establecieron zona norte isla grande alrededores canal chacao luego expandieron hacia sur colonizando territorios momento ocupado chonos mezcl\\u00e1ndose parcialmente modo huilliches consolidaron presencia toda costa norte porci\\u00f3n septentrional costa oriente isla grande principalmente pen\\u00ednsula ril\\u00e1n toda quinchao islas vecinas sur fiordo castro costa sur chonchi huildad habitaban payos parecen haber sido huilliches chonos mezclados suficientemente diferenciados culturalmente ser considerados pueblo conquistadores espa\\u00f1oles huilliches practicaban agricultura roza principales cultivos papa ma\\u00edz mango cereal qu\\u00ednoa s\\u00f3lo cultivaban terrenos cercanos mar rozados fuego despejados nunca colonizaron interior isla grande permaneci\\u00f3 despoblada siglo xix principal herramienta luma palo aguzado entierra suelo haciendo fuerza torso luego levanta abrir surcos criaban auqu\\u00e9nido llamado chilihueque probablemente alguna variedad llama daba lana carne entingui\\u00f3 siglo complementaban alimentaci\\u00f3n recolecci\\u00f3n frutos silvestres productos mar contacto chonos aprendieron confeccionar dalcas tres tablas alerce sucesivo emplearon viajes dentro mar interior incluso hacia continente conquista espa\\u00f1ola llegada conquistadores espa\\u00f1oles am\\u00e9rica ocurri\\u00f3 estrecho magallanes primer sitio actual territorio chileno ser visitado europeo hernando magallanes hizo tal cosa descubrimiento parte europeos territorio continental chile ocurri\\u00f3 cuatro a\\u00f1os tarde nave alonso camargo avist\\u00f3 costas chilo\\u00e9 mientras viajaba per\\u00fa a\\u00f1os despu\\u00e9s pedro valdivia organiz\\u00f3 expedici\\u00f3n fin recolectar informaci\\u00f3n geogr\\u00e1fica puso mando expedici\\u00f3n capit\\u00e1n francisco ulloa lleg\\u00f3 canal chacao recorri\\u00f3 islas archipi\\u00e9lago considerado primer europeo conocer chilo\\u00e9 juan fern\\u00e1ndez ladrillero ingresa canales chilo\\u00e9 toma contacto abor\\u00edgenes mismo a\\u00f1o garc\\u00eda hurtado mendoza inicia expedici\\u00f3n explorar territorio hacia sur llegar canal chacao pueden proseguir env\\u00edan pocos hombres piraguas seguir sur cuatro d\\u00edas volver contar descubierto cronista alonso g\\u00f3ngora marmolejo relata modo vueltos dieron raz\\u00f3n archipi\\u00e9lago grande islas montosas aunque bien poblado naturales parec\\u00eda contrataci\\u00f3n indios ser toda mar fines comienzos francisco villagra arrib\\u00f3 islas chilo\\u00e9 barco salido valdivia enter\\u00f3 exploradores comarca f\\u00e9rtil bien poblada poder irse nave encall\\u00f3 causa gran diferencias nivel agua mareas luego debi\\u00f3 hacer frente ataque ind\\u00edgena espa\\u00f1oles lograron repeler ataque incluso capturar enemigos informarse situaci\\u00f3n territorio hecho regresaron arauco comienza proceso conquista chilo\\u00e9 orden gobernador rodrigo quiroga designado cumplir tarea yerno mart\\u00edn ruiz gamboa llev\\u00f3 consigo hombres pertrechados asentarse nuevas posesiones cruzaron canal chacao cuatro d\\u00edas usando dalcas tardaron tiempo pues aparte mismos enseres deb\\u00edan hacer atravesar caballos atados embarcaciones ruiz gamboa consider\\u00f3 adecuado fundar ciudad junto r\\u00edo ind\\u00edgenas llamaban quilque actual r\\u00edo gamboa bautiz\\u00f3 santiago castro mientras isla llamada nueva galicia t\\u00e9rmino prosper\\u00f3 mantuvo voz huilliche chilo\\u00e9 despu\\u00e9s repartir ind\\u00edgenas encomienda dejar establecidas dem\\u00e1s instituciones pertinentes ruiz gamboa retorn\\u00f3 continente seguir combatiendo guerra arauco momento repartir ind\\u00edgenas tributarios cada encomienda mart\\u00edn ruiz gamboa estim\\u00f3 setenta cav\\u00edes existentes isla reun\\u00edan unas mil almas c\\u00e1lculo demostr\\u00f3 ser exagerado aunque conoce exactitud cantidad poblaci\\u00f3n nativa existente isla momento conquista espa\\u00f1ola diversos historiadores estiman unas mil personas bas\\u00e1ndose principalmente cantidad ind\\u00edgenas tributarios mil segundo reparto llevado cabo mismo a\\u00f1o corregidor alonso ben\\u00edtez colonia despu\\u00e9s desastre curalaba mapuches vencieron mataron gobernador chile chilo\\u00e9 qued\\u00f3 separado resto posesiones espa\\u00f1olas todas ciudades r\\u00edo biob\\u00edo canal chacao abandonadas destruidas siglo xvii habitantes castro sufrieron ataques corsarios holandeses destruyeron parcialmente ciudad espa\\u00f1oles solicitaron repetidas veces despoblar islas causa miseria aislamiento dec\\u00edan vivir hizo caso relevancia estrat\\u00e9gica asentamiento espa\\u00f1a rey autoriz\\u00f3 virrey per\\u00fa hiciese cargo defensa entregara gobierno militar mismo dispusiera amat usando dicha atribuci\\u00f3n a\\u00f1o siguiente reemplaz\\u00f3 gobernador chilo\\u00e9 manuel fern\\u00e1ndez castelblanco capit\\u00e1n carlos beranger anexi\\u00f3n chilo\\u00e9 virreinato car\\u00e1cter transitoria pues decreto virrey amat se\\u00f1alaba s\\u00f3lo ahora mientras duraren operaciones van emprender fortificaci\\u00f3n realiz\\u00f3 beranguer fundando villa fuerte real san carlos chilo\\u00e9 actual ciudad ancud pas\\u00f3 ser sede gobernadores provincia finalmente cre\\u00f3 intendencia chilo\\u00e9 dependiente lima vez bajo jurisdicci\\u00f3n capitan\\u00eda general chile intendencia transform\\u00f3 gobernaci\\u00f3n militar primeros a\\u00f1os mercedarios franciscanos cargo labor espiritual llegaron primeros jesuitas fundaron primera iglesia castro evangelizar nativos jesuitas haciendo capillas archipi\\u00e9lago hoy pueden encontrar tras expulsi\\u00f3n compa\\u00f1\\u00eda jes\\u00fas orden franciscana asumi\\u00f3 asistencia religiosa archipi\\u00e9lago independencia chile central iniciado proceso juntismo desembocando proceso independencia chilo\\u00e9 manten\\u00eda vinculaci\\u00f3n virreinato per\\u00fa vivi\\u00f3 proceso similar manteni\\u00e9ndose autoridades alteraci\\u00f3n alguna as\\u00ed orden virrey abascal desembarc\\u00f3 villa fuerte real san carlos chilo\\u00e9 actual ancud brigadier don antonio pareja encargo formar expedici\\u00f3n restaurar poder real reino chile hizo auxilio gobernador chilo\\u00e9 entusiasta apoyo poblaci\\u00f3n chilota formado ej\\u00e9rcito chilo\\u00e9 sali\\u00f3 villa fuerte real san carlos hacia valdivia all\\u00ed inici\\u00f3 combates independentistas reino chile culminaron derrota \\u00e9stos llamado desastre rancagua posterior entrada victoriosa chilotes ciudad santiago octubre producida independencia chile bajo gobierno bernardo ohiggins lord cochrane despu\\u00e9s haber asaltado tomado ciudad valdivia dirigi\\u00f3 chilo\\u00e9 asalt\\u00f3 castillo san miguel ag\\u00fci rechazado derrotado reembarcar dirigirse chile primer \\u00e9xito militar anim\\u00f3 gobernador chilo\\u00e9 don antonio quintanilla organizar defensa provincia continuaba fiel monarqu\\u00eda as\\u00ed pudo derrotar nueva expedici\\u00f3n chilena dirigida director supremo ram\\u00f3n freire batalla mocopulli abril dos a\\u00f1os tarde chile organiz\\u00f3 ej\\u00e9rcito expedicionario objetivo anexar chilo\\u00e9 vez tras batallas campos pudeto bellavista enero retiro tropas chilotas hacia interior provincia acord\\u00f3 tregua finalmente convino tratado tratado tantauco firmado comisionados ambos ej\\u00e9rcitos puente san antonio ratificado freire quintanilla enero cuyo primer art\\u00edculo declaraba provincia archipi\\u00e9lago chilo\\u00e9 territorio abraza hallan poder ej\\u00e9rcito real incorporado rep\\u00fablica chile parte integrante habitantes gozar\\u00e1n igualdad derechos ciudadanos chilenos qued\\u00f3 mando chilo\\u00e9 partir momento coronel jos\\u00e9 santiago aldunate soportar rebeliones primeros tiempos gobierno periodo republicano despu\\u00e9s independencia chilo\\u00e9 vio beneficiado apertura comercio centro abastecimiento balleneros extranjeros mediados siglo xix principios siglo principal productor durmientes ferrocarriles continente partir entonces comenzaron formarse nuevos pueblos dedicarse industria as\\u00ed nacieron quell\\u00f3n dalcahue chonchi quemchi entregando tierras colonos alemanes ingleses franceses espa\\u00f1oles grandes industrias productoras auge ganader\\u00eda comenz\\u00f3 ocupar zona interior islas pues s\\u00f3lo ocupaban costas construcci\\u00f3n ferrocarril ancud castro complet\\u00f3 ocupaci\\u00f3n tierras interiores isla \\u00e9ste ferrocarril hoy encuentra servicio finales siglo chilo\\u00e9 sigui\\u00f3 modelo impuesto chile experiment\\u00f3 cambios sistemas vida nuevas empresas acuicultura salmoneras trajeron beneficios chilotes generaci\\u00f3n empleos problemas alteraci\\u00f3n ecosistemas present\\u00f3 primera vez proyecto construcci\\u00f3n puente permitiera unir isla grande territorio continental idea construcci\\u00f3n viaducto s\\u00f3lo comenzar\\u00eda concretarse gobierno ricardo lagos lanz\\u00f3 proyecto parte obras celebrar bicentenario pa\\u00eds embargo proyecto puente bicentenario cancelado luego costo estimado superara creces presupuesto inicialmente notas bibliograf\\u00eda enlaces externos\"\n        ],\n        \"semantic_type\": \"\",\n        \"description\": \"\"\n      }\n    }\n  ]\n}"
            }
          },
          "metadata": {},
          "execution_count": 6
        }
      ]
    },
    {
      "cell_type": "markdown",
      "source": [
        "Nos quedamos con documentos que tengan entre 50 y 200 palabras"
      ],
      "metadata": {
        "id": "97lA4vxehL0Y"
      }
    },
    {
      "cell_type": "code",
      "source": [
        "df['Palabras'] = df['Texto'].apply(lambda x: x.split())\n",
        "df['Total'] = df['Palabras'].apply(lambda x: len(x))\n",
        "df.drop(columns=['Palabras'],inplace=True)\n",
        "\n",
        "df = df[(df['Total'] < 200) & (df['Total'] > 50)]\n",
        "df.reset_index(drop=True,inplace=True)\n",
        "df"
      ],
      "metadata": {
        "id": "Mk9O0MoXV5PC",
        "colab": {
          "base_uri": "https://localhost:8080/",
          "height": 444
        },
        "outputId": "017a8e0b-fb1a-41cd-fcaf-0538bcd45bf6"
      },
      "execution_count": 7,
      "outputs": [
        {
          "output_type": "execute_result",
          "data": {
            "text/plain": [
              "      doc_id                                              Texto  Total\n",
              "0     646956  amaury iii señor montfort amaury conde évreux ...     98\n",
              "1     646957  ruud janssen tilburg july artista holandés flu...    171\n",
              "2     646958  grandes crónicas francia compilación obras his...    161\n",
              "3     646961  san miguel basauri grupo barrios tomado barrio...     98\n",
              "4     646963  río perené corto río perú constituye parte sup...     85\n",
              "...      ...                                                ...    ...\n",
              "1915  665796  panthymonium banda death metal progresivo suec...    127\n",
              "1916  665797  bulto redondo formas relieve propia estatuaria...    116\n",
              "1917  665804  alto carrión comarca natural situada parte ori...     81\n",
              "1918  665809  elena roger cantante actriz argentina conocida...    156\n",
              "1919  665833  eleonora cassano buenos aires enero bailarina ...     89\n",
              "\n",
              "[1920 rows x 3 columns]"
            ],
            "text/html": [
              "\n",
              "  <div id=\"df-cfa2262a-4512-4e65-81a4-c8fb5bda691a\" class=\"colab-df-container\">\n",
              "    <div>\n",
              "<style scoped>\n",
              "    .dataframe tbody tr th:only-of-type {\n",
              "        vertical-align: middle;\n",
              "    }\n",
              "\n",
              "    .dataframe tbody tr th {\n",
              "        vertical-align: top;\n",
              "    }\n",
              "\n",
              "    .dataframe thead th {\n",
              "        text-align: right;\n",
              "    }\n",
              "</style>\n",
              "<table border=\"1\" class=\"dataframe\">\n",
              "  <thead>\n",
              "    <tr style=\"text-align: right;\">\n",
              "      <th></th>\n",
              "      <th>doc_id</th>\n",
              "      <th>Texto</th>\n",
              "      <th>Total</th>\n",
              "    </tr>\n",
              "  </thead>\n",
              "  <tbody>\n",
              "    <tr>\n",
              "      <th>0</th>\n",
              "      <td>646956</td>\n",
              "      <td>amaury iii señor montfort amaury conde évreux ...</td>\n",
              "      <td>98</td>\n",
              "    </tr>\n",
              "    <tr>\n",
              "      <th>1</th>\n",
              "      <td>646957</td>\n",
              "      <td>ruud janssen tilburg july artista holandés flu...</td>\n",
              "      <td>171</td>\n",
              "    </tr>\n",
              "    <tr>\n",
              "      <th>2</th>\n",
              "      <td>646958</td>\n",
              "      <td>grandes crónicas francia compilación obras his...</td>\n",
              "      <td>161</td>\n",
              "    </tr>\n",
              "    <tr>\n",
              "      <th>3</th>\n",
              "      <td>646961</td>\n",
              "      <td>san miguel basauri grupo barrios tomado barrio...</td>\n",
              "      <td>98</td>\n",
              "    </tr>\n",
              "    <tr>\n",
              "      <th>4</th>\n",
              "      <td>646963</td>\n",
              "      <td>río perené corto río perú constituye parte sup...</td>\n",
              "      <td>85</td>\n",
              "    </tr>\n",
              "    <tr>\n",
              "      <th>...</th>\n",
              "      <td>...</td>\n",
              "      <td>...</td>\n",
              "      <td>...</td>\n",
              "    </tr>\n",
              "    <tr>\n",
              "      <th>1915</th>\n",
              "      <td>665796</td>\n",
              "      <td>panthymonium banda death metal progresivo suec...</td>\n",
              "      <td>127</td>\n",
              "    </tr>\n",
              "    <tr>\n",
              "      <th>1916</th>\n",
              "      <td>665797</td>\n",
              "      <td>bulto redondo formas relieve propia estatuaria...</td>\n",
              "      <td>116</td>\n",
              "    </tr>\n",
              "    <tr>\n",
              "      <th>1917</th>\n",
              "      <td>665804</td>\n",
              "      <td>alto carrión comarca natural situada parte ori...</td>\n",
              "      <td>81</td>\n",
              "    </tr>\n",
              "    <tr>\n",
              "      <th>1918</th>\n",
              "      <td>665809</td>\n",
              "      <td>elena roger cantante actriz argentina conocida...</td>\n",
              "      <td>156</td>\n",
              "    </tr>\n",
              "    <tr>\n",
              "      <th>1919</th>\n",
              "      <td>665833</td>\n",
              "      <td>eleonora cassano buenos aires enero bailarina ...</td>\n",
              "      <td>89</td>\n",
              "    </tr>\n",
              "  </tbody>\n",
              "</table>\n",
              "<p>1920 rows × 3 columns</p>\n",
              "</div>\n",
              "    <div class=\"colab-df-buttons\">\n",
              "\n",
              "  <div class=\"colab-df-container\">\n",
              "    <button class=\"colab-df-convert\" onclick=\"convertToInteractive('df-cfa2262a-4512-4e65-81a4-c8fb5bda691a')\"\n",
              "            title=\"Convert this dataframe to an interactive table.\"\n",
              "            style=\"display:none;\">\n",
              "\n",
              "  <svg xmlns=\"http://www.w3.org/2000/svg\" height=\"24px\" viewBox=\"0 -960 960 960\">\n",
              "    <path d=\"M120-120v-720h720v720H120Zm60-500h600v-160H180v160Zm220 220h160v-160H400v160Zm0 220h160v-160H400v160ZM180-400h160v-160H180v160Zm440 0h160v-160H620v160ZM180-180h160v-160H180v160Zm440 0h160v-160H620v160Z\"/>\n",
              "  </svg>\n",
              "    </button>\n",
              "\n",
              "  <style>\n",
              "    .colab-df-container {\n",
              "      display:flex;\n",
              "      gap: 12px;\n",
              "    }\n",
              "\n",
              "    .colab-df-convert {\n",
              "      background-color: #E8F0FE;\n",
              "      border: none;\n",
              "      border-radius: 50%;\n",
              "      cursor: pointer;\n",
              "      display: none;\n",
              "      fill: #1967D2;\n",
              "      height: 32px;\n",
              "      padding: 0 0 0 0;\n",
              "      width: 32px;\n",
              "    }\n",
              "\n",
              "    .colab-df-convert:hover {\n",
              "      background-color: #E2EBFA;\n",
              "      box-shadow: 0px 1px 2px rgba(60, 64, 67, 0.3), 0px 1px 3px 1px rgba(60, 64, 67, 0.15);\n",
              "      fill: #174EA6;\n",
              "    }\n",
              "\n",
              "    .colab-df-buttons div {\n",
              "      margin-bottom: 4px;\n",
              "    }\n",
              "\n",
              "    [theme=dark] .colab-df-convert {\n",
              "      background-color: #3B4455;\n",
              "      fill: #D2E3FC;\n",
              "    }\n",
              "\n",
              "    [theme=dark] .colab-df-convert:hover {\n",
              "      background-color: #434B5C;\n",
              "      box-shadow: 0px 1px 3px 1px rgba(0, 0, 0, 0.15);\n",
              "      filter: drop-shadow(0px 1px 2px rgba(0, 0, 0, 0.3));\n",
              "      fill: #FFFFFF;\n",
              "    }\n",
              "  </style>\n",
              "\n",
              "    <script>\n",
              "      const buttonEl =\n",
              "        document.querySelector('#df-cfa2262a-4512-4e65-81a4-c8fb5bda691a button.colab-df-convert');\n",
              "      buttonEl.style.display =\n",
              "        google.colab.kernel.accessAllowed ? 'block' : 'none';\n",
              "\n",
              "      async function convertToInteractive(key) {\n",
              "        const element = document.querySelector('#df-cfa2262a-4512-4e65-81a4-c8fb5bda691a');\n",
              "        const dataTable =\n",
              "          await google.colab.kernel.invokeFunction('convertToInteractive',\n",
              "                                                    [key], {});\n",
              "        if (!dataTable) return;\n",
              "\n",
              "        const docLinkHtml = 'Like what you see? Visit the ' +\n",
              "          '<a target=\"_blank\" href=https://colab.research.google.com/notebooks/data_table.ipynb>data table notebook</a>'\n",
              "          + ' to learn more about interactive tables.';\n",
              "        element.innerHTML = '';\n",
              "        dataTable['output_type'] = 'display_data';\n",
              "        await google.colab.output.renderOutput(dataTable, element);\n",
              "        const docLink = document.createElement('div');\n",
              "        docLink.innerHTML = docLinkHtml;\n",
              "        element.appendChild(docLink);\n",
              "      }\n",
              "    </script>\n",
              "  </div>\n",
              "\n",
              "\n",
              "<div id=\"df-a16c4cb1-b11e-447a-afb6-9b524ef71591\">\n",
              "  <button class=\"colab-df-quickchart\" onclick=\"quickchart('df-a16c4cb1-b11e-447a-afb6-9b524ef71591')\"\n",
              "            title=\"Suggest charts\"\n",
              "            style=\"display:none;\">\n",
              "\n",
              "<svg xmlns=\"http://www.w3.org/2000/svg\" height=\"24px\"viewBox=\"0 0 24 24\"\n",
              "     width=\"24px\">\n",
              "    <g>\n",
              "        <path d=\"M19 3H5c-1.1 0-2 .9-2 2v14c0 1.1.9 2 2 2h14c1.1 0 2-.9 2-2V5c0-1.1-.9-2-2-2zM9 17H7v-7h2v7zm4 0h-2V7h2v10zm4 0h-2v-4h2v4z\"/>\n",
              "    </g>\n",
              "</svg>\n",
              "  </button>\n",
              "\n",
              "<style>\n",
              "  .colab-df-quickchart {\n",
              "      --bg-color: #E8F0FE;\n",
              "      --fill-color: #1967D2;\n",
              "      --hover-bg-color: #E2EBFA;\n",
              "      --hover-fill-color: #174EA6;\n",
              "      --disabled-fill-color: #AAA;\n",
              "      --disabled-bg-color: #DDD;\n",
              "  }\n",
              "\n",
              "  [theme=dark] .colab-df-quickchart {\n",
              "      --bg-color: #3B4455;\n",
              "      --fill-color: #D2E3FC;\n",
              "      --hover-bg-color: #434B5C;\n",
              "      --hover-fill-color: #FFFFFF;\n",
              "      --disabled-bg-color: #3B4455;\n",
              "      --disabled-fill-color: #666;\n",
              "  }\n",
              "\n",
              "  .colab-df-quickchart {\n",
              "    background-color: var(--bg-color);\n",
              "    border: none;\n",
              "    border-radius: 50%;\n",
              "    cursor: pointer;\n",
              "    display: none;\n",
              "    fill: var(--fill-color);\n",
              "    height: 32px;\n",
              "    padding: 0;\n",
              "    width: 32px;\n",
              "  }\n",
              "\n",
              "  .colab-df-quickchart:hover {\n",
              "    background-color: var(--hover-bg-color);\n",
              "    box-shadow: 0 1px 2px rgba(60, 64, 67, 0.3), 0 1px 3px 1px rgba(60, 64, 67, 0.15);\n",
              "    fill: var(--button-hover-fill-color);\n",
              "  }\n",
              "\n",
              "  .colab-df-quickchart-complete:disabled,\n",
              "  .colab-df-quickchart-complete:disabled:hover {\n",
              "    background-color: var(--disabled-bg-color);\n",
              "    fill: var(--disabled-fill-color);\n",
              "    box-shadow: none;\n",
              "  }\n",
              "\n",
              "  .colab-df-spinner {\n",
              "    border: 2px solid var(--fill-color);\n",
              "    border-color: transparent;\n",
              "    border-bottom-color: var(--fill-color);\n",
              "    animation:\n",
              "      spin 1s steps(1) infinite;\n",
              "  }\n",
              "\n",
              "  @keyframes spin {\n",
              "    0% {\n",
              "      border-color: transparent;\n",
              "      border-bottom-color: var(--fill-color);\n",
              "      border-left-color: var(--fill-color);\n",
              "    }\n",
              "    20% {\n",
              "      border-color: transparent;\n",
              "      border-left-color: var(--fill-color);\n",
              "      border-top-color: var(--fill-color);\n",
              "    }\n",
              "    30% {\n",
              "      border-color: transparent;\n",
              "      border-left-color: var(--fill-color);\n",
              "      border-top-color: var(--fill-color);\n",
              "      border-right-color: var(--fill-color);\n",
              "    }\n",
              "    40% {\n",
              "      border-color: transparent;\n",
              "      border-right-color: var(--fill-color);\n",
              "      border-top-color: var(--fill-color);\n",
              "    }\n",
              "    60% {\n",
              "      border-color: transparent;\n",
              "      border-right-color: var(--fill-color);\n",
              "    }\n",
              "    80% {\n",
              "      border-color: transparent;\n",
              "      border-right-color: var(--fill-color);\n",
              "      border-bottom-color: var(--fill-color);\n",
              "    }\n",
              "    90% {\n",
              "      border-color: transparent;\n",
              "      border-bottom-color: var(--fill-color);\n",
              "    }\n",
              "  }\n",
              "</style>\n",
              "\n",
              "  <script>\n",
              "    async function quickchart(key) {\n",
              "      const quickchartButtonEl =\n",
              "        document.querySelector('#' + key + ' button');\n",
              "      quickchartButtonEl.disabled = true;  // To prevent multiple clicks.\n",
              "      quickchartButtonEl.classList.add('colab-df-spinner');\n",
              "      try {\n",
              "        const charts = await google.colab.kernel.invokeFunction(\n",
              "            'suggestCharts', [key], {});\n",
              "      } catch (error) {\n",
              "        console.error('Error during call to suggestCharts:', error);\n",
              "      }\n",
              "      quickchartButtonEl.classList.remove('colab-df-spinner');\n",
              "      quickchartButtonEl.classList.add('colab-df-quickchart-complete');\n",
              "    }\n",
              "    (() => {\n",
              "      let quickchartButtonEl =\n",
              "        document.querySelector('#df-a16c4cb1-b11e-447a-afb6-9b524ef71591 button');\n",
              "      quickchartButtonEl.style.display =\n",
              "        google.colab.kernel.accessAllowed ? 'block' : 'none';\n",
              "    })();\n",
              "  </script>\n",
              "</div>\n",
              "\n",
              "  <div id=\"id_3036c50a-16e3-4e12-b8b5-cfd11330bd70\">\n",
              "    <style>\n",
              "      .colab-df-generate {\n",
              "        background-color: #E8F0FE;\n",
              "        border: none;\n",
              "        border-radius: 50%;\n",
              "        cursor: pointer;\n",
              "        display: none;\n",
              "        fill: #1967D2;\n",
              "        height: 32px;\n",
              "        padding: 0 0 0 0;\n",
              "        width: 32px;\n",
              "      }\n",
              "\n",
              "      .colab-df-generate:hover {\n",
              "        background-color: #E2EBFA;\n",
              "        box-shadow: 0px 1px 2px rgba(60, 64, 67, 0.3), 0px 1px 3px 1px rgba(60, 64, 67, 0.15);\n",
              "        fill: #174EA6;\n",
              "      }\n",
              "\n",
              "      [theme=dark] .colab-df-generate {\n",
              "        background-color: #3B4455;\n",
              "        fill: #D2E3FC;\n",
              "      }\n",
              "\n",
              "      [theme=dark] .colab-df-generate:hover {\n",
              "        background-color: #434B5C;\n",
              "        box-shadow: 0px 1px 3px 1px rgba(0, 0, 0, 0.15);\n",
              "        filter: drop-shadow(0px 1px 2px rgba(0, 0, 0, 0.3));\n",
              "        fill: #FFFFFF;\n",
              "      }\n",
              "    </style>\n",
              "    <button class=\"colab-df-generate\" onclick=\"generateWithVariable('df')\"\n",
              "            title=\"Generate code using this dataframe.\"\n",
              "            style=\"display:none;\">\n",
              "\n",
              "  <svg xmlns=\"http://www.w3.org/2000/svg\" height=\"24px\"viewBox=\"0 0 24 24\"\n",
              "       width=\"24px\">\n",
              "    <path d=\"M7,19H8.4L18.45,9,17,7.55,7,17.6ZM5,21V16.75L18.45,3.32a2,2,0,0,1,2.83,0l1.4,1.43a1.91,1.91,0,0,1,.58,1.4,1.91,1.91,0,0,1-.58,1.4L9.25,21ZM18.45,9,17,7.55Zm-12,3A5.31,5.31,0,0,0,4.9,8.1,5.31,5.31,0,0,0,1,6.5,5.31,5.31,0,0,0,4.9,4.9,5.31,5.31,0,0,0,6.5,1,5.31,5.31,0,0,0,8.1,4.9,5.31,5.31,0,0,0,12,6.5,5.46,5.46,0,0,0,6.5,12Z\"/>\n",
              "  </svg>\n",
              "    </button>\n",
              "    <script>\n",
              "      (() => {\n",
              "      const buttonEl =\n",
              "        document.querySelector('#id_3036c50a-16e3-4e12-b8b5-cfd11330bd70 button.colab-df-generate');\n",
              "      buttonEl.style.display =\n",
              "        google.colab.kernel.accessAllowed ? 'block' : 'none';\n",
              "\n",
              "      buttonEl.onclick = () => {\n",
              "        google.colab.notebook.generateWithVariable('df');\n",
              "      }\n",
              "      })();\n",
              "    </script>\n",
              "  </div>\n",
              "\n",
              "    </div>\n",
              "  </div>\n"
            ],
            "application/vnd.google.colaboratory.intrinsic+json": {
              "type": "dataframe",
              "variable_name": "df",
              "summary": "{\n  \"name\": \"df\",\n  \"rows\": 1920,\n  \"fields\": [\n    {\n      \"column\": \"doc_id\",\n      \"properties\": {\n        \"dtype\": \"string\",\n        \"num_unique_values\": 1920,\n        \"samples\": [\n          \"657116\",\n          \"663490\",\n          \"653740\"\n        ],\n        \"semantic_type\": \"\",\n        \"description\": \"\"\n      }\n    },\n    {\n      \"column\": \"Texto\",\n      \"properties\": {\n        \"dtype\": \"string\",\n        \"num_unique_values\": 1920,\n        \"samples\": [\n          \"centro social recreativo espa\\u00f1ol club f\\u00fatbol argentino villa sarmiento partido mor\\u00f3n buenos aires actualmente equipo desafiliado torneos afa tr\\u00e1s descender temporada historia fundado junio grupo entusiastas objetivo practicar deportes solo f\\u00fatbol sino diferentes actividades b\\u00e1squet voley pelota paleta esgrima club nunca estadio propio siempre alquil\\u00f3 cancha hacer local afili\\u00f3 asociaci\\u00f3n f\\u00fatbol argentino comenz\\u00f3 participar divisi\\u00f3n aficionados nunca obtuvo ascenso desafiliado cuatro oportunidades perder categor\\u00eda sede social ubicada villa sarmiento estanislao campo plantilla estadio tener estadio propio hace generalmente veces local cancha club atl\\u00e9tico atlas palmar\\u00e9s torneos nacionales goleadas favor primera pilar primera defensores unidos enlances externos centro espa\\u00f1ol cenicienta f\\u00fatbol argentino centro espa\\u00f1ol futbol pagina oficial centro espa\\u00f1ol sitio oficial cento social recreativo espa\\u00f1ol p\\u00e1gina oficial\",\n          \"jos\\u00e9 antequera castro criollo paname\\u00f1o ilustre linaje nacido ciudad panam\\u00e1 estudi\\u00f3 real pontificia universidad san javier ocupo varias cargos administraci\\u00f3n indiana primer puesto administraci\\u00f3n colonial oidor real audiencia canciller\\u00eda panam\\u00e1 despu\\u00e9s traslada espa\\u00f1a permanece varios a\\u00f1os regresa am\\u00e9rica juez pesquisador paraguay objetivo solucionar problemas criollos gobernador asunci\\u00f3n don diego reyes balmaceda misi\\u00f3n paraguay diferente resultado abrazar\\u00e1 causa criolla destituir\\u00e1 gobernador ocupando mismo dicho cargo pol\\u00edtica antequera provoc\\u00f3 rebeli\\u00f3n denominada revoluci\\u00f3n comunera prolongar\\u00e1 gobernador condenado muerte ajusticiado medio trifulca plaza armas lima fallecieron dos religiosos franciscanos principal premisa pueblo derecho elegir gobernantes gobernaba hac\\u00eda bien\",\n          \"jos\\u00e9 mar\\u00eda txema aguirre larraona polic\\u00eda auton\\u00f3mico vasco vecino zalla vizcaya espa\\u00f1a asesinado octubre a\\u00f1os edad atentado banda terrorista euskadi askatasuna eta pretend\\u00eda perpetrar museo guggenheim bilbao sucesos agente ertzaintza ejercicio deber custodiaba junto compa\\u00f1eros inmediaciones museo d\\u00edas previos inauguraci\\u00f3n iba contar presencia lehendakari gobierno vasco jos\\u00e9 antonio ardanza presidente gobierno espa\\u00f1ol jos\\u00e9 mar\\u00eda aznar rey espa\\u00f1a juan carlos agente observ\\u00f3 furgoneta jardiner\\u00eda sospechosa pretend\\u00eda depositar unas macetas explosivos inmediaciones museo tras comprobar falsedad matr\\u00edcula veh\\u00edculo agente dispuso identificar ocupantes instante miembro eta dispar\\u00f3 bocajarro provoc\\u00e1ndole graves heridas llevado hospital basurto bilbao falleci\\u00f3 tras varias horas operaci\\u00f3n despu\\u00e9s disparos presunto autor eneko gogeaskoetxea dio fuga presunto compa\\u00f1ero comando katu eta kepa arronategi detenido polic\\u00eda municipal actualmente plaza acceso dicho museo lleva nombre txema agirre\"\n        ],\n        \"semantic_type\": \"\",\n        \"description\": \"\"\n      }\n    },\n    {\n      \"column\": \"Total\",\n      \"properties\": {\n        \"dtype\": \"number\",\n        \"std\": 41,\n        \"min\": 51,\n        \"max\": 199,\n        \"num_unique_values\": 149,\n        \"samples\": [\n          94,\n          176,\n          142\n        ],\n        \"semantic_type\": \"\",\n        \"description\": \"\"\n      }\n    }\n  ]\n}"
            }
          },
          "metadata": {},
          "execution_count": 7
        }
      ]
    },
    {
      "cell_type": "markdown",
      "source": [
        "Construimos la matriz BOW de los documentos y hacemos PCA para obtener una matriz de caracteristicas (numéricas continuas)."
      ],
      "metadata": {
        "id": "I6zM-rCnhQ3K"
      }
    },
    {
      "cell_type": "code",
      "source": [
        "from sklearn.feature_extraction.text import CountVectorizer\n",
        "from sklearn.decomposition import PCA\n",
        "\n",
        "docs_list = df['Texto'].values\n",
        "\n",
        "cv = CountVectorizer(max_features=None)\n",
        "X_bow = cv.fit_transform(docs_list)\n",
        "print(X_bow.shape)\n",
        "\n",
        "pca = PCA(svd_solver='auto')\n",
        "X_pca = pca.fit_transform(np.asarray(X_bow.todense()))\n",
        "print(X_pca.shape)"
      ],
      "metadata": {
        "id": "g1r0VLlGUjN5",
        "colab": {
          "base_uri": "https://localhost:8080/"
        },
        "outputId": "4442c730-0df0-43c7-d79c-57ceef5309cf"
      },
      "execution_count": 8,
      "outputs": [
        {
          "output_type": "stream",
          "name": "stdout",
          "text": [
            "(1920, 43448)\n",
            "(1920, 1920)\n"
          ]
        }
      ]
    },
    {
      "cell_type": "markdown",
      "source": [
        "Tomamos las primeras `n_dim` componentes principales como representación vectorial de cada documento."
      ],
      "metadata": {
        "id": "65nedGJjhcnx"
      }
    },
    {
      "cell_type": "code",
      "source": [
        "n_dim = 20\n",
        "\n",
        "X_pca_dim = X_pca[:,:n_dim]\n",
        "print(X_pca_dim.shape)"
      ],
      "metadata": {
        "id": "v1EwVtj_VY1W",
        "colab": {
          "base_uri": "https://localhost:8080/"
        },
        "outputId": "9cd29e44-146d-4d8b-bc4a-8b6c597a3de9"
      },
      "execution_count": 9,
      "outputs": [
        {
          "output_type": "stream",
          "name": "stdout",
          "text": [
            "(1920, 20)\n"
          ]
        }
      ]
    },
    {
      "cell_type": "code",
      "source": [
        "X_pca_dim[:3,:5]"
      ],
      "metadata": {
        "colab": {
          "base_uri": "https://localhost:8080/"
        },
        "id": "QnUYEBO_jQxg",
        "outputId": "61677deb-1b4b-4d38-8d23-b5ca3576be12"
      },
      "execution_count": 10,
      "outputs": [
        {
          "output_type": "execute_result",
          "data": {
            "text/plain": [
              "array([[-0.07236496,  0.10698003,  0.24813108, -1.0381068 , -1.17581605],\n",
              "       [ 0.58067962,  0.1666584 ,  0.71641712,  0.02005204, -0.14788703],\n",
              "       [-0.19673891, -0.08894159, -0.52975373,  0.45828754, -1.88215345]])"
            ]
          },
          "metadata": {},
          "execution_count": 10
        }
      ]
    },
    {
      "cell_type": "markdown",
      "source": [
        "Hacemos clustering a las representaciones vectoriales."
      ],
      "metadata": {
        "id": "3Mtik-oKirjb"
      }
    },
    {
      "cell_type": "code",
      "source": [
        "from sklearn.cluster import KMeans\n",
        "\n",
        "num = 5\n",
        "\n",
        "clustering = KMeans(n_clusters=num)\n",
        "clustering.fit(X_pca_dim)\n",
        "clusters = clustering.labels_"
      ],
      "metadata": {
        "id": "Pr19w-riUksN"
      },
      "execution_count": 28,
      "outputs": []
    },
    {
      "cell_type": "code",
      "source": [
        "idxs_per_cluster = {j:np.where(clusters==j)[0] for j in np.unique(clusters)}\n",
        "documents_per_cluster = {j:df.loc[idxs_per_cluster[j],'Texto'].values for j in np.unique(clusters)}\n",
        "\n",
        "# documents_per_cluster"
      ],
      "metadata": {
        "id": "clyEjbRtVprv"
      },
      "execution_count": 29,
      "outputs": []
    },
    {
      "cell_type": "markdown",
      "source": [
        "Con la finalidad de explorar el contenido de los textos de cada cluster, hacemos una nube de palabras de los documentos de cada cluster. Para esto, usamos el módulo [wordcloud](https://pypi.org/project/wordcloud/).\n",
        "\n",
        "Aquí puedes ver [ejemplos de su uso](https://github.com/amueller/word_cloud/tree/main)"
      ],
      "metadata": {
        "id": "_RQzX5gShqcD"
      }
    },
    {
      "cell_type": "code",
      "source": [
        "from wordcloud import WordCloud\n",
        "import matplotlib.pyplot as plt\n",
        "\n",
        "\n",
        "fig, axs = plt.subplots(nrows=1,ncols=num,figsize=(5*num,5),dpi=100)\n",
        "for k,ax in enumerate(axs):\n",
        "    wordcloud = WordCloud().generate(\" \".join(documents_per_cluster[k]))\n",
        "    ax.imshow(wordcloud, interpolation='bilinear')\n",
        "    ax.axis(\"off\")\n",
        "    ax.set_title(f\"Cluster {k}\")\n",
        "fig.show()"
      ],
      "metadata": {
        "id": "WCmQvHOdd2WS",
        "colab": {
          "base_uri": "https://localhost:8080/",
          "height": 157
        },
        "outputId": "8199e4a7-e219-49b9-f666-7a7377c3f2f1"
      },
      "execution_count": 30,
      "outputs": [
        {
          "output_type": "display_data",
          "data": {
            "text/plain": [
              "<Figure size 2500x500 with 5 Axes>"
            ],
            "image/png": "[encoded data removed]"
          },
          "metadata": {}
        }
      ]
    },
    {
      "cell_type": "code",
      "source": [
        "from sklearn.metrics import silhouette_score\n",
        "\n",
        "print(f\"Score de silueta: {silhouette_score(X_pca_dim,clusters)}\")"
      ],
      "metadata": {
        "id": "bHXfJgDrjXg5",
        "colab": {
          "base_uri": "https://localhost:8080/"
        },
        "outputId": "aa6a04e3-38bc-4d61-98d9-7e4324e708a9"
      },
      "execution_count": 31,
      "outputs": [
        {
          "output_type": "stream",
          "name": "stdout",
          "text": [
            "Score de silueta: 0.27944249599773413\n"
          ]
        }
      ]
    },
    {
      "cell_type": "code",
      "source": [
        "Ks = list(range(2,20))\n",
        "siluetas = []\n",
        "inercias = []\n",
        "\n",
        "for k in Ks:\n",
        "    clustering = KMeans(n_clusters=k)\n",
        "    clustering.fit(X_pca_dim)\n",
        "    clusters = clustering.labels_\n",
        "    siluetas.append(silhouette_score(X_pca_dim,clusters))\n",
        "    inercias.append(clustering.inertia_)\n",
        "\n",
        "fig, axs = plt.subplots(1,2,figsize=(10,5))\n",
        "axs[0].plot(Ks,siluetas)\n",
        "axs[0].set_title(\"Silhoutte Score\")\n",
        "axs[1].plot(Ks,inercias)\n",
        "axs[1].set_title(\"Inertia\")\n",
        "fig.show()"
      ],
      "metadata": {
        "colab": {
          "base_uri": "https://localhost:8080/",
          "height": 488
        },
        "id": "C8DcTDwolLR_",
        "outputId": "8cf34b23-a91c-4422-ba1e-87d65b6ec036"
      },
      "execution_count": 21,
      "outputs": [
        {
          "output_type": "display_data",
          "data": {
            "text/plain": [
              "<Figure size 1000x500 with 2 Axes>"
            ],
            "image/png": "[encoded data removed]"
          },
          "metadata": {}
        }
      ]
    },
    {
      "cell_type": "markdown",
      "source": [
        "❓\n",
        "\n",
        "* ¿Puedes ver de qué tratan los documentos de cada cluster?\n",
        "* Prueba a cambiar el número de clusters.\n",
        "* Prueba a cambiar el número de dimensiones de las representaciones vectoriales.\n",
        "* Prueba a cambiar el método de clustering\n",
        "* En cada tarea de clustering, mide el coeficiente de silueta."
      ],
      "metadata": {
        "id": "HtwoFKxDiL15"
      }
    },
    {
      "cell_type": "markdown",
      "source": [
        "# Ejemplo 2: Canciones de Spotify"
      ],
      "metadata": {
        "id": "NrEN69yjS9Za"
      }
    },
    {
      "cell_type": "markdown",
      "source": [
        "Este conjunto de datos contiene estadísticas de audio de las 2.000 canciones top de Spotify. Los datos contienen alrededor de 15 columnas que describen la canción y algunas de sus cualidades. Se incluyen canciones publicadas desde 1956 hasta 2019 de algunos artistas notables y famosos. Estos datos contienen características de audio como Danceability, BPM, Liveness, Valence(Positivity) y algunas más:\n",
        "\n",
        "* Índice: ID\n",
        "* Título: Nombre de la pista\n",
        "* Artista: Nombre del artista\n",
        "* Género superior: Género de la pista\n",
        "* Año: Año de lanzamiento de la pista\n",
        "* Pulsaciones por minuto (BPM): El tempo de la canción\n",
        "* Energy: La energía de una canción: cuanto más alto sea el valor, más energética será la canción.\n",
        "* Danceability: Cuanto más alto sea el valor, más fácil será bailar esta canción.\n",
        "* Loudness: Cuanto más alto sea el valor, más fuerte será la canción.\n",
        "* Liveness: ...\n",
        "* Valence: Cuanto más alto sea el valor, más positivo será el estado de ánimo de la canción.\n",
        "* Duración: La duración de la canción.\n",
        "* Acousticness: Cuanto más alto sea el valor, más acústica será la canción.\n",
        "* Speechiness: Cuanto más alto sea el valor, más palabras habladas contiene la canción.\n",
        "* Popularity: Cuanto más alto sea el valor, más popular es la canción.\n",
        "\n",
        "Este dataset se encuentra en [Kaggle](https://www.kaggle.com/datasets/iamsumat/spotify-top-2000s-mega-dataset)"
      ],
      "metadata": {
        "id": "YUSnLgDc6yxU"
      }
    },
    {
      "cell_type": "code",
      "source": [
        "import pandas as pd\n",
        "import numpy as np\n",
        "\n",
        "url = 'https://github.com/DCDPUAEM/DCDP/raw/main/03%20Machine%20Learning/data/spotify-2000.csv'\n",
        "df = pd.read_csv(url,index_col=0,thousands=',')\n",
        "df"
      ],
      "metadata": {
        "id": "2p5rJTnaEKAA",
        "colab": {
          "base_uri": "https://localhost:8080/",
          "height": 735
        },
        "outputId": "828386e9-a0bf-4018-a0a5-5b1436253220"
      },
      "execution_count": 32,
      "outputs": [
        {
          "output_type": "execute_result",
          "data": {
            "text/plain": [
              "                        Title                    Artist            Top Genre  \\\n",
              "Index                                                                          \n",
              "1                     Sunrise               Norah Jones      adult standards   \n",
              "2                 Black Night               Deep Purple           album rock   \n",
              "3              Clint Eastwood                  Gorillaz  alternative hip hop   \n",
              "4               The Pretender              Foo Fighters    alternative metal   \n",
              "5      Waitin' On A Sunny Day         Bruce Springsteen         classic rock   \n",
              "...                       ...                       ...                  ...   \n",
              "1990         Heartbreak Hotel             Elvis Presley      adult standards   \n",
              "1991                Hound Dog             Elvis Presley      adult standards   \n",
              "1992          Johnny B. Goode               Chuck Berry           blues rock   \n",
              "1993                Take Five  The Dave Brubeck Quartet                bebop   \n",
              "1994           Blueberry Hill               Fats Domino      adult standards   \n",
              "\n",
              "       Year  Beats Per Minute (BPM)  Energy  Danceability  Loudness (dB)  \\\n",
              "Index                                                                      \n",
              "1      2004                     157      30            53            -14   \n",
              "2      2000                     135      79            50            -11   \n",
              "3      2001                     168      69            66             -9   \n",
              "4      2007                     173      96            43             -4   \n",
              "5      2002                     106      82            58             -5   \n",
              "...     ...                     ...     ...           ...            ...   \n",
              "1990   1958                      94      21            70            -12   \n",
              "1991   1958                     175      76            36             -8   \n",
              "1992   1959                     168      80            53             -9   \n",
              "1993   1959                     174      26            45            -13   \n",
              "1994   1959                     133      50            49            -10   \n",
              "\n",
              "       Liveness  Valence  Length (Duration)  Acousticness  Speechiness  \\\n",
              "Index                                                                    \n",
              "1            11       68                201            94            3   \n",
              "2            17       81                207            17            7   \n",
              "3             7       52                341             2           17   \n",
              "4             3       37                269             0            4   \n",
              "5            10       87                256             1            3   \n",
              "...         ...      ...                ...           ...          ...   \n",
              "1990         11       72                128            84            7   \n",
              "1991         76       95                136            73            6   \n",
              "1992         31       97                162            74            7   \n",
              "1993          7       60                324            54            4   \n",
              "1994         16       83                148            74            3   \n",
              "\n",
              "       Popularity  \n",
              "Index              \n",
              "1              71  \n",
              "2              39  \n",
              "3              69  \n",
              "4              76  \n",
              "5              59  \n",
              "...           ...  \n",
              "1990           63  \n",
              "1991           69  \n",
              "1992           74  \n",
              "1993           65  \n",
              "1994           56  \n",
              "\n",
              "[1994 rows x 14 columns]"
            ],
            "text/html": [
              "\n",
              "  <div id=\"df-93a2b1a3-c0fc-42d0-bafa-858fb5fd6d80\" class=\"colab-df-container\">\n",
              "    <div>\n",
              "<style scoped>\n",
              "    .dataframe tbody tr th:only-of-type {\n",
              "        vertical-align: middle;\n",
              "    }\n",
              "\n",
              "    .dataframe tbody tr th {\n",
              "        vertical-align: top;\n",
              "    }\n",
              "\n",
              "    .dataframe thead th {\n",
              "        text-align: right;\n",
              "    }\n",
              "</style>\n",
              "<table border=\"1\" class=\"dataframe\">\n",
              "  <thead>\n",
              "    <tr style=\"text-align: right;\">\n",
              "      <th></th>\n",
              "      <th>Title</th>\n",
              "      <th>Artist</th>\n",
              "      <th>Top Genre</th>\n",
              "      <th>Year</th>\n",
              "      <th>Beats Per Minute (BPM)</th>\n",
              "      <th>Energy</th>\n",
              "      <th>Danceability</th>\n",
              "      <th>Loudness (dB)</th>\n",
              "      <th>Liveness</th>\n",
              "      <th>Valence</th>\n",
              "      <th>Length (Duration)</th>\n",
              "      <th>Acousticness</th>\n",
              "      <th>Speechiness</th>\n",
              "      <th>Popularity</th>\n",
              "    </tr>\n",
              "    <tr>\n",
              "      <th>Index</th>\n",
              "      <th></th>\n",
              "      <th></th>\n",
              "      <th></th>\n",
              "      <th></th>\n",
              "      <th></th>\n",
              "      <th></th>\n",
              "      <th></th>\n",
              "      <th></th>\n",
              "      <th></th>\n",
              "      <th></th>\n",
              "      <th></th>\n",
              "      <th></th>\n",
              "      <th></th>\n",
              "      <th></th>\n",
              "    </tr>\n",
              "  </thead>\n",
              "  <tbody>\n",
              "    <tr>\n",
              "      <th>1</th>\n",
              "      <td>Sunrise</td>\n",
              "      <td>Norah Jones</td>\n",
              "      <td>adult standards</td>\n",
              "      <td>2004</td>\n",
              "      <td>157</td>\n",
              "      <td>30</td>\n",
              "      <td>53</td>\n",
              "      <td>-14</td>\n",
              "      <td>11</td>\n",
              "      <td>68</td>\n",
              "      <td>201</td>\n",
              "      <td>94</td>\n",
              "      <td>3</td>\n",
              "      <td>71</td>\n",
              "    </tr>\n",
              "    <tr>\n",
              "      <th>2</th>\n",
              "      <td>Black Night</td>\n",
              "      <td>Deep Purple</td>\n",
              "      <td>album rock</td>\n",
              "      <td>2000</td>\n",
              "      <td>135</td>\n",
              "      <td>79</td>\n",
              "      <td>50</td>\n",
              "      <td>-11</td>\n",
              "      <td>17</td>\n",
              "      <td>81</td>\n",
              "      <td>207</td>\n",
              "      <td>17</td>\n",
              "      <td>7</td>\n",
              "      <td>39</td>\n",
              "    </tr>\n",
              "    <tr>\n",
              "      <th>3</th>\n",
              "      <td>Clint Eastwood</td>\n",
              "      <td>Gorillaz</td>\n",
              "      <td>alternative hip hop</td>\n",
              "      <td>2001</td>\n",
              "      <td>168</td>\n",
              "      <td>69</td>\n",
              "      <td>66</td>\n",
              "      <td>-9</td>\n",
              "      <td>7</td>\n",
              "      <td>52</td>\n",
              "      <td>341</td>\n",
              "      <td>2</td>\n",
              "      <td>17</td>\n",
              "      <td>69</td>\n",
              "    </tr>\n",
              "    <tr>\n",
              "      <th>4</th>\n",
              "      <td>The Pretender</td>\n",
              "      <td>Foo Fighters</td>\n",
              "      <td>alternative metal</td>\n",
              "      <td>2007</td>\n",
              "      <td>173</td>\n",
              "      <td>96</td>\n",
              "      <td>43</td>\n",
              "      <td>-4</td>\n",
              "      <td>3</td>\n",
              "      <td>37</td>\n",
              "      <td>269</td>\n",
              "      <td>0</td>\n",
              "      <td>4</td>\n",
              "      <td>76</td>\n",
              "    </tr>\n",
              "    <tr>\n",
              "      <th>5</th>\n",
              "      <td>Waitin' On A Sunny Day</td>\n",
              "      <td>Bruce Springsteen</td>\n",
              "      <td>classic rock</td>\n",
              "      <td>2002</td>\n",
              "      <td>106</td>\n",
              "      <td>82</td>\n",
              "      <td>58</td>\n",
              "      <td>-5</td>\n",
              "      <td>10</td>\n",
              "      <td>87</td>\n",
              "      <td>256</td>\n",
              "      <td>1</td>\n",
              "      <td>3</td>\n",
              "      <td>59</td>\n",
              "    </tr>\n",
              "    <tr>\n",
              "      <th>...</th>\n",
              "      <td>...</td>\n",
              "      <td>...</td>\n",
              "      <td>...</td>\n",
              "      <td>...</td>\n",
              "      <td>...</td>\n",
              "      <td>...</td>\n",
              "      <td>...</td>\n",
              "      <td>...</td>\n",
              "      <td>...</td>\n",
              "      <td>...</td>\n",
              "      <td>...</td>\n",
              "      <td>...</td>\n",
              "      <td>...</td>\n",
              "      <td>...</td>\n",
              "    </tr>\n",
              "    <tr>\n",
              "      <th>1990</th>\n",
              "      <td>Heartbreak Hotel</td>\n",
              "      <td>Elvis Presley</td>\n",
              "      <td>adult standards</td>\n",
              "      <td>1958</td>\n",
              "      <td>94</td>\n",
              "      <td>21</td>\n",
              "      <td>70</td>\n",
              "      <td>-12</td>\n",
              "      <td>11</td>\n",
              "      <td>72</td>\n",
              "      <td>128</td>\n",
              "      <td>84</td>\n",
              "      <td>7</td>\n",
              "      <td>63</td>\n",
              "    </tr>\n",
              "    <tr>\n",
              "      <th>1991</th>\n",
              "      <td>Hound Dog</td>\n",
              "      <td>Elvis Presley</td>\n",
              "      <td>adult standards</td>\n",
              "      <td>1958</td>\n",
              "      <td>175</td>\n",
              "      <td>76</td>\n",
              "      <td>36</td>\n",
              "      <td>-8</td>\n",
              "      <td>76</td>\n",
              "      <td>95</td>\n",
              "      <td>136</td>\n",
              "      <td>73</td>\n",
              "      <td>6</td>\n",
              "      <td>69</td>\n",
              "    </tr>\n",
              "    <tr>\n",
              "      <th>1992</th>\n",
              "      <td>Johnny B. Goode</td>\n",
              "      <td>Chuck Berry</td>\n",
              "      <td>blues rock</td>\n",
              "      <td>1959</td>\n",
              "      <td>168</td>\n",
              "      <td>80</td>\n",
              "      <td>53</td>\n",
              "      <td>-9</td>\n",
              "      <td>31</td>\n",
              "      <td>97</td>\n",
              "      <td>162</td>\n",
              "      <td>74</td>\n",
              "      <td>7</td>\n",
              "      <td>74</td>\n",
              "    </tr>\n",
              "    <tr>\n",
              "      <th>1993</th>\n",
              "      <td>Take Five</td>\n",
              "      <td>The Dave Brubeck Quartet</td>\n",
              "      <td>bebop</td>\n",
              "      <td>1959</td>\n",
              "      <td>174</td>\n",
              "      <td>26</td>\n",
              "      <td>45</td>\n",
              "      <td>-13</td>\n",
              "      <td>7</td>\n",
              "      <td>60</td>\n",
              "      <td>324</td>\n",
              "      <td>54</td>\n",
              "      <td>4</td>\n",
              "      <td>65</td>\n",
              "    </tr>\n",
              "    <tr>\n",
              "      <th>1994</th>\n",
              "      <td>Blueberry Hill</td>\n",
              "      <td>Fats Domino</td>\n",
              "      <td>adult standards</td>\n",
              "      <td>1959</td>\n",
              "      <td>133</td>\n",
              "      <td>50</td>\n",
              "      <td>49</td>\n",
              "      <td>-10</td>\n",
              "      <td>16</td>\n",
              "      <td>83</td>\n",
              "      <td>148</td>\n",
              "      <td>74</td>\n",
              "      <td>3</td>\n",
              "      <td>56</td>\n",
              "    </tr>\n",
              "  </tbody>\n",
              "</table>\n",
              "<p>1994 rows × 14 columns</p>\n",
              "</div>\n",
              "    <div class=\"colab-df-buttons\">\n",
              "\n",
              "  <div class=\"colab-df-container\">\n",
              "    <button class=\"colab-df-convert\" onclick=\"convertToInteractive('df-93a2b1a3-c0fc-42d0-bafa-858fb5fd6d80')\"\n",
              "            title=\"Convert this dataframe to an interactive table.\"\n",
              "            style=\"display:none;\">\n",
              "\n",
              "  <svg xmlns=\"http://www.w3.org/2000/svg\" height=\"24px\" viewBox=\"0 -960 960 960\">\n",
              "    <path d=\"M120-120v-720h720v720H120Zm60-500h600v-160H180v160Zm220 220h160v-160H400v160Zm0 220h160v-160H400v160ZM180-400h160v-160H180v160Zm440 0h160v-160H620v160ZM180-180h160v-160H180v160Zm440 0h160v-160H620v160Z\"/>\n",
              "  </svg>\n",
              "    </button>\n",
              "\n",
              "  <style>\n",
              "    .colab-df-container {\n",
              "      display:flex;\n",
              "      gap: 12px;\n",
              "    }\n",
              "\n",
              "    .colab-df-convert {\n",
              "      background-color: #E8F0FE;\n",
              "      border: none;\n",
              "      border-radius: 50%;\n",
              "      cursor: pointer;\n",
              "      display: none;\n",
              "      fill: #1967D2;\n",
              "      height: 32px;\n",
              "      padding: 0 0 0 0;\n",
              "      width: 32px;\n",
              "    }\n",
              "\n",
              "    .colab-df-convert:hover {\n",
              "      background-color: #E2EBFA;\n",
              "      box-shadow: 0px 1px 2px rgba(60, 64, 67, 0.3), 0px 1px 3px 1px rgba(60, 64, 67, 0.15);\n",
              "      fill: #174EA6;\n",
              "    }\n",
              "\n",
              "    .colab-df-buttons div {\n",
              "      margin-bottom: 4px;\n",
              "    }\n",
              "\n",
              "    [theme=dark] .colab-df-convert {\n",
              "      background-color: #3B4455;\n",
              "      fill: #D2E3FC;\n",
              "    }\n",
              "\n",
              "    [theme=dark] .colab-df-convert:hover {\n",
              "      background-color: #434B5C;\n",
              "      box-shadow: 0px 1px 3px 1px rgba(0, 0, 0, 0.15);\n",
              "      filter: drop-shadow(0px 1px 2px rgba(0, 0, 0, 0.3));\n",
              "      fill: #FFFFFF;\n",
              "    }\n",
              "  </style>\n",
              "\n",
              "    <script>\n",
              "      const buttonEl =\n",
              "        document.querySelector('#df-93a2b1a3-c0fc-42d0-bafa-858fb5fd6d80 button.colab-df-convert');\n",
              "      buttonEl.style.display =\n",
              "        google.colab.kernel.accessAllowed ? 'block' : 'none';\n",
              "\n",
              "      async function convertToInteractive(key) {\n",
              "        const element = document.querySelector('#df-93a2b1a3-c0fc-42d0-bafa-858fb5fd6d80');\n",
              "        const dataTable =\n",
              "          await google.colab.kernel.invokeFunction('convertToInteractive',\n",
              "                                                    [key], {});\n",
              "        if (!dataTable) return;\n",
              "\n",
              "        const docLinkHtml = 'Like what you see? Visit the ' +\n",
              "          '<a target=\"_blank\" href=https://colab.research.google.com/notebooks/data_table.ipynb>data table notebook</a>'\n",
              "          + ' to learn more about interactive tables.';\n",
              "        element.innerHTML = '';\n",
              "        dataTable['output_type'] = 'display_data';\n",
              "        await google.colab.output.renderOutput(dataTable, element);\n",
              "        const docLink = document.createElement('div');\n",
              "        docLink.innerHTML = docLinkHtml;\n",
              "        element.appendChild(docLink);\n",
              "      }\n",
              "    </script>\n",
              "  </div>\n",
              "\n",
              "\n",
              "<div id=\"df-5253af48-c974-4522-80b0-ee7f537c8485\">\n",
              "  <button class=\"colab-df-quickchart\" onclick=\"quickchart('df-5253af48-c974-4522-80b0-ee7f537c8485')\"\n",
              "            title=\"Suggest charts\"\n",
              "            style=\"display:none;\">\n",
              "\n",
              "<svg xmlns=\"http://www.w3.org/2000/svg\" height=\"24px\"viewBox=\"0 0 24 24\"\n",
              "     width=\"24px\">\n",
              "    <g>\n",
              "        <path d=\"M19 3H5c-1.1 0-2 .9-2 2v14c0 1.1.9 2 2 2h14c1.1 0 2-.9 2-2V5c0-1.1-.9-2-2-2zM9 17H7v-7h2v7zm4 0h-2V7h2v10zm4 0h-2v-4h2v4z\"/>\n",
              "    </g>\n",
              "</svg>\n",
              "  </button>\n",
              "\n",
              "<style>\n",
              "  .colab-df-quickchart {\n",
              "      --bg-color: #E8F0FE;\n",
              "      --fill-color: #1967D2;\n",
              "      --hover-bg-color: #E2EBFA;\n",
              "      --hover-fill-color: #174EA6;\n",
              "      --disabled-fill-color: #AAA;\n",
              "      --disabled-bg-color: #DDD;\n",
              "  }\n",
              "\n",
              "  [theme=dark] .colab-df-quickchart {\n",
              "      --bg-color: #3B4455;\n",
              "      --fill-color: #D2E3FC;\n",
              "      --hover-bg-color: #434B5C;\n",
              "      --hover-fill-color: #FFFFFF;\n",
              "      --disabled-bg-color: #3B4455;\n",
              "      --disabled-fill-color: #666;\n",
              "  }\n",
              "\n",
              "  .colab-df-quickchart {\n",
              "    background-color: var(--bg-color);\n",
              "    border: none;\n",
              "    border-radius: 50%;\n",
              "    cursor: pointer;\n",
              "    display: none;\n",
              "    fill: var(--fill-color);\n",
              "    height: 32px;\n",
              "    padding: 0;\n",
              "    width: 32px;\n",
              "  }\n",
              "\n",
              "  .colab-df-quickchart:hover {\n",
              "    background-color: var(--hover-bg-color);\n",
              "    box-shadow: 0 1px 2px rgba(60, 64, 67, 0.3), 0 1px 3px 1px rgba(60, 64, 67, 0.15);\n",
              "    fill: var(--button-hover-fill-color);\n",
              "  }\n",
              "\n",
              "  .colab-df-quickchart-complete:disabled,\n",
              "  .colab-df-quickchart-complete:disabled:hover {\n",
              "    background-color: var(--disabled-bg-color);\n",
              "    fill: var(--disabled-fill-color);\n",
              "    box-shadow: none;\n",
              "  }\n",
              "\n",
              "  .colab-df-spinner {\n",
              "    border: 2px solid var(--fill-color);\n",
              "    border-color: transparent;\n",
              "    border-bottom-color: var(--fill-color);\n",
              "    animation:\n",
              "      spin 1s steps(1) infinite;\n",
              "  }\n",
              "\n",
              "  @keyframes spin {\n",
              "    0% {\n",
              "      border-color: transparent;\n",
              "      border-bottom-color: var(--fill-color);\n",
              "      border-left-color: var(--fill-color);\n",
              "    }\n",
              "    20% {\n",
              "      border-color: transparent;\n",
              "      border-left-color: var(--fill-color);\n",
              "      border-top-color: var(--fill-color);\n",
              "    }\n",
              "    30% {\n",
              "      border-color: transparent;\n",
              "      border-left-color: var(--fill-color);\n",
              "      border-top-color: var(--fill-color);\n",
              "      border-right-color: var(--fill-color);\n",
              "    }\n",
              "    40% {\n",
              "      border-color: transparent;\n",
              "      border-right-color: var(--fill-color);\n",
              "      border-top-color: var(--fill-color);\n",
              "    }\n",
              "    60% {\n",
              "      border-color: transparent;\n",
              "      border-right-color: var(--fill-color);\n",
              "    }\n",
              "    80% {\n",
              "      border-color: transparent;\n",
              "      border-right-color: var(--fill-color);\n",
              "      border-bottom-color: var(--fill-color);\n",
              "    }\n",
              "    90% {\n",
              "      border-color: transparent;\n",
              "      border-bottom-color: var(--fill-color);\n",
              "    }\n",
              "  }\n",
              "</style>\n",
              "\n",
              "  <script>\n",
              "    async function quickchart(key) {\n",
              "      const quickchartButtonEl =\n",
              "        document.querySelector('#' + key + ' button');\n",
              "      quickchartButtonEl.disabled = true;  // To prevent multiple clicks.\n",
              "      quickchartButtonEl.classList.add('colab-df-spinner');\n",
              "      try {\n",
              "        const charts = await google.colab.kernel.invokeFunction(\n",
              "            'suggestCharts', [key], {});\n",
              "      } catch (error) {\n",
              "        console.error('Error during call to suggestCharts:', error);\n",
              "      }\n",
              "      quickchartButtonEl.classList.remove('colab-df-spinner');\n",
              "      quickchartButtonEl.classList.add('colab-df-quickchart-complete');\n",
              "    }\n",
              "    (() => {\n",
              "      let quickchartButtonEl =\n",
              "        document.querySelector('#df-5253af48-c974-4522-80b0-ee7f537c8485 button');\n",
              "      quickchartButtonEl.style.display =\n",
              "        google.colab.kernel.accessAllowed ? 'block' : 'none';\n",
              "    })();\n",
              "  </script>\n",
              "</div>\n",
              "\n",
              "  <div id=\"id_d9220fda-6697-4e89-ba64-74be0b3ca008\">\n",
              "    <style>\n",
              "      .colab-df-generate {\n",
              "        background-color: #E8F0FE;\n",
              "        border: none;\n",
              "        border-radius: 50%;\n",
              "        cursor: pointer;\n",
              "        display: none;\n",
              "        fill: #1967D2;\n",
              "        height: 32px;\n",
              "        padding: 0 0 0 0;\n",
              "        width: 32px;\n",
              "      }\n",
              "\n",
              "      .colab-df-generate:hover {\n",
              "        background-color: #E2EBFA;\n",
              "        box-shadow: 0px 1px 2px rgba(60, 64, 67, 0.3), 0px 1px 3px 1px rgba(60, 64, 67, 0.15);\n",
              "        fill: #174EA6;\n",
              "      }\n",
              "\n",
              "      [theme=dark] .colab-df-generate {\n",
              "        background-color: #3B4455;\n",
              "        fill: #D2E3FC;\n",
              "      }\n",
              "\n",
              "      [theme=dark] .colab-df-generate:hover {\n",
              "        background-color: #434B5C;\n",
              "        box-shadow: 0px 1px 3px 1px rgba(0, 0, 0, 0.15);\n",
              "        filter: drop-shadow(0px 1px 2px rgba(0, 0, 0, 0.3));\n",
              "        fill: #FFFFFF;\n",
              "      }\n",
              "    </style>\n",
              "    <button class=\"colab-df-generate\" onclick=\"generateWithVariable('df')\"\n",
              "            title=\"Generate code using this dataframe.\"\n",
              "            style=\"display:none;\">\n",
              "\n",
              "  <svg xmlns=\"http://www.w3.org/2000/svg\" height=\"24px\"viewBox=\"0 0 24 24\"\n",
              "       width=\"24px\">\n",
              "    <path d=\"M7,19H8.4L18.45,9,17,7.55,7,17.6ZM5,21V16.75L18.45,3.32a2,2,0,0,1,2.83,0l1.4,1.43a1.91,1.91,0,0,1,.58,1.4,1.91,1.91,0,0,1-.58,1.4L9.25,21ZM18.45,9,17,7.55Zm-12,3A5.31,5.31,0,0,0,4.9,8.1,5.31,5.31,0,0,0,1,6.5,5.31,5.31,0,0,0,4.9,4.9,5.31,5.31,0,0,0,6.5,1,5.31,5.31,0,0,0,8.1,4.9,5.31,5.31,0,0,0,12,6.5,5.46,5.46,0,0,0,6.5,12Z\"/>\n",
              "  </svg>\n",
              "    </button>\n",
              "    <script>\n",
              "      (() => {\n",
              "      const buttonEl =\n",
              "        document.querySelector('#id_d9220fda-6697-4e89-ba64-74be0b3ca008 button.colab-df-generate');\n",
              "      buttonEl.style.display =\n",
              "        google.colab.kernel.accessAllowed ? 'block' : 'none';\n",
              "\n",
              "      buttonEl.onclick = () => {\n",
              "        google.colab.notebook.generateWithVariable('df');\n",
              "      }\n",
              "      })();\n",
              "    </script>\n",
              "  </div>\n",
              "\n",
              "    </div>\n",
              "  </div>\n"
            ],
            "application/vnd.google.colaboratory.intrinsic+json": {
              "type": "dataframe",
              "variable_name": "df",
              "summary": "{\n  \"name\": \"df\",\n  \"rows\": 1994,\n  \"fields\": [\n    {\n      \"column\": \"Index\",\n      \"properties\": {\n        \"dtype\": \"number\",\n        \"std\": 575,\n        \"min\": 1,\n        \"max\": 1994,\n        \"num_unique_values\": 1994,\n        \"samples\": [\n          890,\n          1673,\n          415\n        ],\n        \"semantic_type\": \"\",\n        \"description\": \"\"\n      }\n    },\n    {\n      \"column\": \"Title\",\n      \"properties\": {\n        \"dtype\": \"string\",\n        \"num_unique_values\": 1958,\n        \"samples\": [\n          \"You Don't Bring Me Flowers\",\n          \"All For Nothing\",\n          \"Driver's Seat\"\n        ],\n        \"semantic_type\": \"\",\n        \"description\": \"\"\n      }\n    },\n    {\n      \"column\": \"Artist\",\n      \"properties\": {\n        \"dtype\": \"category\",\n        \"num_unique_values\": 731,\n        \"samples\": [\n          \"The Mamas & The Papas\",\n          \"Guus Meeuwis\",\n          \"First Aid Kit\"\n        ],\n        \"semantic_type\": \"\",\n        \"description\": \"\"\n      }\n    },\n    {\n      \"column\": \"Top Genre\",\n      \"properties\": {\n        \"dtype\": \"category\",\n        \"num_unique_values\": 149,\n        \"samples\": [\n          \"g funk\",\n          \"dutch americana\",\n          \"classic soul\"\n        ],\n        \"semantic_type\": \"\",\n        \"description\": \"\"\n      }\n    },\n    {\n      \"column\": \"Year\",\n      \"properties\": {\n        \"dtype\": \"number\",\n        \"std\": 16,\n        \"min\": 1956,\n        \"max\": 2019,\n        \"num_unique_values\": 63,\n        \"samples\": [\n          1958,\n          1967,\n          2004\n        ],\n        \"semantic_type\": \"\",\n        \"description\": \"\"\n      }\n    },\n    {\n      \"column\": \"Beats Per Minute (BPM)\",\n      \"properties\": {\n        \"dtype\": \"number\",\n        \"std\": 28,\n        \"min\": 37,\n        \"max\": 206,\n        \"num_unique_values\": 145,\n        \"samples\": [\n          93,\n          206,\n          122\n        ],\n        \"semantic_type\": \"\",\n        \"description\": \"\"\n      }\n    },\n    {\n      \"column\": \"Energy\",\n      \"properties\": {\n        \"dtype\": \"number\",\n        \"std\": 22,\n        \"min\": 3,\n        \"max\": 100,\n        \"num_unique_values\": 98,\n        \"samples\": [\n          36,\n          35,\n          10\n        ],\n        \"semantic_type\": \"\",\n        \"description\": \"\"\n      }\n    },\n    {\n      \"column\": \"Danceability\",\n      \"properties\": {\n        \"dtype\": \"number\",\n        \"std\": 15,\n        \"min\": 10,\n        \"max\": 96,\n        \"num_unique_values\": 84,\n        \"samples\": [\n          17,\n          53,\n          24\n        ],\n        \"semantic_type\": \"\",\n        \"description\": \"\"\n      }\n    },\n    {\n      \"column\": \"Loudness (dB)\",\n      \"properties\": {\n        \"dtype\": \"number\",\n        \"std\": 3,\n        \"min\": -27,\n        \"max\": -2,\n        \"num_unique_values\": 23,\n        \"samples\": [\n          -15,\n          -2,\n          -14\n        ],\n        \"semantic_type\": \"\",\n        \"description\": \"\"\n      }\n    },\n    {\n      \"column\": \"Liveness\",\n      \"properties\": {\n        \"dtype\": \"number\",\n        \"std\": 16,\n        \"min\": 2,\n        \"max\": 99,\n        \"num_unique_values\": 94,\n        \"samples\": [\n          21,\n          5,\n          52\n        ],\n        \"semantic_type\": \"\",\n        \"description\": \"\"\n      }\n    },\n    {\n      \"column\": \"Valence\",\n      \"properties\": {\n        \"dtype\": \"number\",\n        \"std\": 24,\n        \"min\": 3,\n        \"max\": 99,\n        \"num_unique_values\": 97,\n        \"samples\": [\n          69,\n          63,\n          95\n        ],\n        \"semantic_type\": \"\",\n        \"description\": \"\"\n      }\n    },\n    {\n      \"column\": \"Length (Duration)\",\n      \"properties\": {\n        \"dtype\": \"number\",\n        \"std\": 93,\n        \"min\": 93,\n        \"max\": 1412,\n        \"num_unique_values\": 350,\n        \"samples\": [\n          194,\n          703,\n          406\n        ],\n        \"semantic_type\": \"\",\n        \"description\": \"\"\n      }\n    },\n    {\n      \"column\": \"Acousticness\",\n      \"properties\": {\n        \"dtype\": \"number\",\n        \"std\": 29,\n        \"min\": 0,\n        \"max\": 99,\n        \"num_unique_values\": 100,\n        \"samples\": [\n          23,\n          76,\n          85\n        ],\n        \"semantic_type\": \"\",\n        \"description\": \"\"\n      }\n    },\n    {\n      \"column\": \"Speechiness\",\n      \"properties\": {\n        \"dtype\": \"number\",\n        \"std\": 4,\n        \"min\": 2,\n        \"max\": 55,\n        \"num_unique_values\": 37,\n        \"samples\": [\n          13,\n          25,\n          2\n        ],\n        \"semantic_type\": \"\",\n        \"description\": \"\"\n      }\n    },\n    {\n      \"column\": \"Popularity\",\n      \"properties\": {\n        \"dtype\": \"number\",\n        \"std\": 14,\n        \"min\": 11,\n        \"max\": 100,\n        \"num_unique_values\": 81,\n        \"samples\": [\n          78,\n          71,\n          84\n        ],\n        \"semantic_type\": \"\",\n        \"description\": \"\"\n      }\n    }\n  ]\n}"
            }
          },
          "metadata": {},
          "execution_count": 32
        }
      ]
    },
    {
      "cell_type": "code",
      "source": [
        "df.dtypes"
      ],
      "metadata": {
        "id": "AuqCCslwj11Q"
      },
      "execution_count": null,
      "outputs": []
    },
    {
      "cell_type": "code",
      "source": [
        "generos = df['Top Genre'].unique()\n",
        "print(f\"Hay {len(generos)} géneros únicos:\")\n",
        "print(generos)"
      ],
      "metadata": {
        "id": "FUbx_iOg_c7N"
      },
      "execution_count": null,
      "outputs": []
    },
    {
      "cell_type": "code",
      "source": [
        "df.describe()"
      ],
      "metadata": {
        "id": "oRqQgbox70gt"
      },
      "execution_count": null,
      "outputs": []
    },
    {
      "cell_type": "markdown",
      "source": [
        "A manera de análisis exploratorio, veamos las correlaciones entre variables, ¿qué observamos?"
      ],
      "metadata": {
        "id": "U4-A0tlA9kRk"
      }
    },
    {
      "cell_type": "code",
      "source": [
        "from seaborn import heatmap\n",
        "import matplotlib.pyplot as plt\n",
        "\n",
        "correlaciones = df.iloc[:,3:].corr()\n",
        "heatmap(correlaciones)\n",
        "plt.show()"
      ],
      "metadata": {
        "id": "5of0zRUs9I24"
      },
      "execution_count": null,
      "outputs": []
    },
    {
      "cell_type": "markdown",
      "source": [
        "Dado que algunos métodos de clustering son susceptibles a la escala de valores, hacemos un escalamiento."
      ],
      "metadata": {
        "id": "_hud5RYP7zhy"
      }
    },
    {
      "cell_type": "code",
      "source": [
        "from sklearn.preprocessing import MinMaxScaler\n",
        "\n",
        "\n",
        "df2 = df[[\"Beats Per Minute (BPM)\", \"Loudness (dB)\",\n",
        "              \"Liveness\", \"Valence\", \"Acousticness\",\n",
        "              \"Speechiness\"]].copy()\n",
        "\n",
        "scaler = MinMaxScaler()\n",
        "df2[df2.columns] = scaler.fit_transform(df2[df2.columns])\n",
        "X = df2.values\n",
        "\n",
        "df2.head(3)"
      ],
      "metadata": {
        "id": "N_Tb3EgWTljS",
        "colab": {
          "base_uri": "https://localhost:8080/",
          "height": 195
        },
        "outputId": "d267137f-35e2-46b1-abc8-3e3c995522be"
      },
      "execution_count": 33,
      "outputs": [
        {
          "output_type": "execute_result",
          "data": {
            "text/plain": [
              "       Beats Per Minute (BPM)  Loudness (dB)  Liveness   Valence  \\\n",
              "Index                                                              \n",
              "1                    0.710059           0.52  0.092784  0.677083   \n",
              "2                    0.579882           0.64  0.154639  0.812500   \n",
              "3                    0.775148           0.72  0.051546  0.510417   \n",
              "\n",
              "       Acousticness  Speechiness  \n",
              "Index                             \n",
              "1          0.949495     0.018868  \n",
              "2          0.171717     0.094340  \n",
              "3          0.020202     0.283019  "
            ],
            "text/html": [
              "\n",
              "  <div id=\"df-13d442d6-9a17-4f2e-a274-8d730abb6706\" class=\"colab-df-container\">\n",
              "    <div>\n",
              "<style scoped>\n",
              "    .dataframe tbody tr th:only-of-type {\n",
              "        vertical-align: middle;\n",
              "    }\n",
              "\n",
              "    .dataframe tbody tr th {\n",
              "        vertical-align: top;\n",
              "    }\n",
              "\n",
              "    .dataframe thead th {\n",
              "        text-align: right;\n",
              "    }\n",
              "</style>\n",
              "<table border=\"1\" class=\"dataframe\">\n",
              "  <thead>\n",
              "    <tr style=\"text-align: right;\">\n",
              "      <th></th>\n",
              "      <th>Beats Per Minute (BPM)</th>\n",
              "      <th>Loudness (dB)</th>\n",
              "      <th>Liveness</th>\n",
              "      <th>Valence</th>\n",
              "      <th>Acousticness</th>\n",
              "      <th>Speechiness</th>\n",
              "    </tr>\n",
              "    <tr>\n",
              "      <th>Index</th>\n",
              "      <th></th>\n",
              "      <th></th>\n",
              "      <th></th>\n",
              "      <th></th>\n",
              "      <th></th>\n",
              "      <th></th>\n",
              "    </tr>\n",
              "  </thead>\n",
              "  <tbody>\n",
              "    <tr>\n",
              "      <th>1</th>\n",
              "      <td>0.710059</td>\n",
              "      <td>0.52</td>\n",
              "      <td>0.092784</td>\n",
              "      <td>0.677083</td>\n",
              "      <td>0.949495</td>\n",
              "      <td>0.018868</td>\n",
              "    </tr>\n",
              "    <tr>\n",
              "      <th>2</th>\n",
              "      <td>0.579882</td>\n",
              "      <td>0.64</td>\n",
              "      <td>0.154639</td>\n",
              "      <td>0.812500</td>\n",
              "      <td>0.171717</td>\n",
              "      <td>0.094340</td>\n",
              "    </tr>\n",
              "    <tr>\n",
              "      <th>3</th>\n",
              "      <td>0.775148</td>\n",
              "      <td>0.72</td>\n",
              "      <td>0.051546</td>\n",
              "      <td>0.510417</td>\n",
              "      <td>0.020202</td>\n",
              "      <td>0.283019</td>\n",
              "    </tr>\n",
              "  </tbody>\n",
              "</table>\n",
              "</div>\n",
              "    <div class=\"colab-df-buttons\">\n",
              "\n",
              "  <div class=\"colab-df-container\">\n",
              "    <button class=\"colab-df-convert\" onclick=\"convertToInteractive('df-13d442d6-9a17-4f2e-a274-8d730abb6706')\"\n",
              "            title=\"Convert this dataframe to an interactive table.\"\n",
              "            style=\"display:none;\">\n",
              "\n",
              "  <svg xmlns=\"http://www.w3.org/2000/svg\" height=\"24px\" viewBox=\"0 -960 960 960\">\n",
              "    <path d=\"M120-120v-720h720v720H120Zm60-500h600v-160H180v160Zm220 220h160v-160H400v160Zm0 220h160v-160H400v160ZM180-400h160v-160H180v160Zm440 0h160v-160H620v160ZM180-180h160v-160H180v160Zm440 0h160v-160H620v160Z\"/>\n",
              "  </svg>\n",
              "    </button>\n",
              "\n",
              "  <style>\n",
              "    .colab-df-container {\n",
              "      display:flex;\n",
              "      gap: 12px;\n",
              "    }\n",
              "\n",
              "    .colab-df-convert {\n",
              "      background-color: #E8F0FE;\n",
              "      border: none;\n",
              "      border-radius: 50%;\n",
              "      cursor: pointer;\n",
              "      display: none;\n",
              "      fill: #1967D2;\n",
              "      height: 32px;\n",
              "      padding: 0 0 0 0;\n",
              "      width: 32px;\n",
              "    }\n",
              "\n",
              "    .colab-df-convert:hover {\n",
              "      background-color: #E2EBFA;\n",
              "      box-shadow: 0px 1px 2px rgba(60, 64, 67, 0.3), 0px 1px 3px 1px rgba(60, 64, 67, 0.15);\n",
              "      fill: #174EA6;\n",
              "    }\n",
              "\n",
              "    .colab-df-buttons div {\n",
              "      margin-bottom: 4px;\n",
              "    }\n",
              "\n",
              "    [theme=dark] .colab-df-convert {\n",
              "      background-color: #3B4455;\n",
              "      fill: #D2E3FC;\n",
              "    }\n",
              "\n",
              "    [theme=dark] .colab-df-convert:hover {\n",
              "      background-color: #434B5C;\n",
              "      box-shadow: 0px 1px 3px 1px rgba(0, 0, 0, 0.15);\n",
              "      filter: drop-shadow(0px 1px 2px rgba(0, 0, 0, 0.3));\n",
              "      fill: #FFFFFF;\n",
              "    }\n",
              "  </style>\n",
              "\n",
              "    <script>\n",
              "      const buttonEl =\n",
              "        document.querySelector('#df-13d442d6-9a17-4f2e-a274-8d730abb6706 button.colab-df-convert');\n",
              "      buttonEl.style.display =\n",
              "        google.colab.kernel.accessAllowed ? 'block' : 'none';\n",
              "\n",
              "      async function convertToInteractive(key) {\n",
              "        const element = document.querySelector('#df-13d442d6-9a17-4f2e-a274-8d730abb6706');\n",
              "        const dataTable =\n",
              "          await google.colab.kernel.invokeFunction('convertToInteractive',\n",
              "                                                    [key], {});\n",
              "        if (!dataTable) return;\n",
              "\n",
              "        const docLinkHtml = 'Like what you see? Visit the ' +\n",
              "          '<a target=\"_blank\" href=https://colab.research.google.com/notebooks/data_table.ipynb>data table notebook</a>'\n",
              "          + ' to learn more about interactive tables.';\n",
              "        element.innerHTML = '';\n",
              "        dataTable['output_type'] = 'display_data';\n",
              "        await google.colab.output.renderOutput(dataTable, element);\n",
              "        const docLink = document.createElement('div');\n",
              "        docLink.innerHTML = docLinkHtml;\n",
              "        element.appendChild(docLink);\n",
              "      }\n",
              "    </script>\n",
              "  </div>\n",
              "\n",
              "\n",
              "<div id=\"df-f7c72db4-fefa-4291-b95a-bf1003185a96\">\n",
              "  <button class=\"colab-df-quickchart\" onclick=\"quickchart('df-f7c72db4-fefa-4291-b95a-bf1003185a96')\"\n",
              "            title=\"Suggest charts\"\n",
              "            style=\"display:none;\">\n",
              "\n",
              "<svg xmlns=\"http://www.w3.org/2000/svg\" height=\"24px\"viewBox=\"0 0 24 24\"\n",
              "     width=\"24px\">\n",
              "    <g>\n",
              "        <path d=\"M19 3H5c-1.1 0-2 .9-2 2v14c0 1.1.9 2 2 2h14c1.1 0 2-.9 2-2V5c0-1.1-.9-2-2-2zM9 17H7v-7h2v7zm4 0h-2V7h2v10zm4 0h-2v-4h2v4z\"/>\n",
              "    </g>\n",
              "</svg>\n",
              "  </button>\n",
              "\n",
              "<style>\n",
              "  .colab-df-quickchart {\n",
              "      --bg-color: #E8F0FE;\n",
              "      --fill-color: #1967D2;\n",
              "      --hover-bg-color: #E2EBFA;\n",
              "      --hover-fill-color: #174EA6;\n",
              "      --disabled-fill-color: #AAA;\n",
              "      --disabled-bg-color: #DDD;\n",
              "  }\n",
              "\n",
              "  [theme=dark] .colab-df-quickchart {\n",
              "      --bg-color: #3B4455;\n",
              "      --fill-color: #D2E3FC;\n",
              "      --hover-bg-color: #434B5C;\n",
              "      --hover-fill-color: #FFFFFF;\n",
              "      --disabled-bg-color: #3B4455;\n",
              "      --disabled-fill-color: #666;\n",
              "  }\n",
              "\n",
              "  .colab-df-quickchart {\n",
              "    background-color: var(--bg-color);\n",
              "    border: none;\n",
              "    border-radius: 50%;\n",
              "    cursor: pointer;\n",
              "    display: none;\n",
              "    fill: var(--fill-color);\n",
              "    height: 32px;\n",
              "    padding: 0;\n",
              "    width: 32px;\n",
              "  }\n",
              "\n",
              "  .colab-df-quickchart:hover {\n",
              "    background-color: var(--hover-bg-color);\n",
              "    box-shadow: 0 1px 2px rgba(60, 64, 67, 0.3), 0 1px 3px 1px rgba(60, 64, 67, 0.15);\n",
              "    fill: var(--button-hover-fill-color);\n",
              "  }\n",
              "\n",
              "  .colab-df-quickchart-complete:disabled,\n",
              "  .colab-df-quickchart-complete:disabled:hover {\n",
              "    background-color: var(--disabled-bg-color);\n",
              "    fill: var(--disabled-fill-color);\n",
              "    box-shadow: none;\n",
              "  }\n",
              "\n",
              "  .colab-df-spinner {\n",
              "    border: 2px solid var(--fill-color);\n",
              "    border-color: transparent;\n",
              "    border-bottom-color: var(--fill-color);\n",
              "    animation:\n",
              "      spin 1s steps(1) infinite;\n",
              "  }\n",
              "\n",
              "  @keyframes spin {\n",
              "    0% {\n",
              "      border-color: transparent;\n",
              "      border-bottom-color: var(--fill-color);\n",
              "      border-left-color: var(--fill-color);\n",
              "    }\n",
              "    20% {\n",
              "      border-color: transparent;\n",
              "      border-left-color: var(--fill-color);\n",
              "      border-top-color: var(--fill-color);\n",
              "    }\n",
              "    30% {\n",
              "      border-color: transparent;\n",
              "      border-left-color: var(--fill-color);\n",
              "      border-top-color: var(--fill-color);\n",
              "      border-right-color: var(--fill-color);\n",
              "    }\n",
              "    40% {\n",
              "      border-color: transparent;\n",
              "      border-right-color: var(--fill-color);\n",
              "      border-top-color: var(--fill-color);\n",
              "    }\n",
              "    60% {\n",
              "      border-color: transparent;\n",
              "      border-right-color: var(--fill-color);\n",
              "    }\n",
              "    80% {\n",
              "      border-color: transparent;\n",
              "      border-right-color: var(--fill-color);\n",
              "      border-bottom-color: var(--fill-color);\n",
              "    }\n",
              "    90% {\n",
              "      border-color: transparent;\n",
              "      border-bottom-color: var(--fill-color);\n",
              "    }\n",
              "  }\n",
              "</style>\n",
              "\n",
              "  <script>\n",
              "    async function quickchart(key) {\n",
              "      const quickchartButtonEl =\n",
              "        document.querySelector('#' + key + ' button');\n",
              "      quickchartButtonEl.disabled = true;  // To prevent multiple clicks.\n",
              "      quickchartButtonEl.classList.add('colab-df-spinner');\n",
              "      try {\n",
              "        const charts = await google.colab.kernel.invokeFunction(\n",
              "            'suggestCharts', [key], {});\n",
              "      } catch (error) {\n",
              "        console.error('Error during call to suggestCharts:', error);\n",
              "      }\n",
              "      quickchartButtonEl.classList.remove('colab-df-spinner');\n",
              "      quickchartButtonEl.classList.add('colab-df-quickchart-complete');\n",
              "    }\n",
              "    (() => {\n",
              "      let quickchartButtonEl =\n",
              "        document.querySelector('#df-f7c72db4-fefa-4291-b95a-bf1003185a96 button');\n",
              "      quickchartButtonEl.style.display =\n",
              "        google.colab.kernel.accessAllowed ? 'block' : 'none';\n",
              "    })();\n",
              "  </script>\n",
              "</div>\n",
              "\n",
              "    </div>\n",
              "  </div>\n"
            ],
            "application/vnd.google.colaboratory.intrinsic+json": {
              "type": "dataframe",
              "variable_name": "df2",
              "summary": "{\n  \"name\": \"df2\",\n  \"rows\": 1994,\n  \"fields\": [\n    {\n      \"column\": \"Index\",\n      \"properties\": {\n        \"dtype\": \"number\",\n        \"std\": 575,\n        \"min\": 1,\n        \"max\": 1994,\n        \"num_unique_values\": 1994,\n        \"samples\": [\n          890,\n          1673,\n          415\n        ],\n        \"semantic_type\": \"\",\n        \"description\": \"\"\n      }\n    },\n    {\n      \"column\": \"Beats Per Minute (BPM)\",\n      \"properties\": {\n        \"dtype\": \"number\",\n        \"std\": 0.1658467197856596,\n        \"min\": 0.0,\n        \"max\": 1.0,\n        \"num_unique_values\": 145,\n        \"samples\": [\n          0.33136094674556216,\n          1.0,\n          0.5029585798816568\n        ],\n        \"semantic_type\": \"\",\n        \"description\": \"\"\n      }\n    },\n    {\n      \"column\": \"Loudness (dB)\",\n      \"properties\": {\n        \"dtype\": \"number\",\n        \"std\": 0.14591505495862653,\n        \"min\": 0.0,\n        \"max\": 1.0,\n        \"num_unique_values\": 23,\n        \"samples\": [\n          0.4800000000000001,\n          1.0,\n          0.52\n        ],\n        \"semantic_type\": \"\",\n        \"description\": \"\"\n      }\n    },\n    {\n      \"column\": \"Liveness\",\n      \"properties\": {\n        \"dtype\": \"number\",\n        \"std\": 0.17244719554338084,\n        \"min\": 0.0,\n        \"max\": 0.9999999999999999,\n        \"num_unique_values\": 94,\n        \"samples\": [\n          0.1958762886597938,\n          0.03092783505154639,\n          0.5154639175257731\n        ],\n        \"semantic_type\": \"\",\n        \"description\": \"\"\n      }\n    },\n    {\n      \"column\": \"Valence\",\n      \"properties\": {\n        \"dtype\": \"number\",\n        \"std\": 0.25893970785157694,\n        \"min\": 0.0,\n        \"max\": 1.0,\n        \"num_unique_values\": 97,\n        \"samples\": [\n          0.6875,\n          0.625,\n          0.9583333333333333\n        ],\n        \"semantic_type\": \"\",\n        \"description\": \"\"\n      }\n    },\n    {\n      \"column\": \"Acousticness\",\n      \"properties\": {\n        \"dtype\": \"number\",\n        \"std\": 0.2930503670427619,\n        \"min\": 0.0,\n        \"max\": 1.0,\n        \"num_unique_values\": 100,\n        \"samples\": [\n          0.23232323232323235,\n          0.7676767676767677,\n          0.8585858585858587\n        ],\n        \"semantic_type\": \"\",\n        \"description\": \"\"\n      }\n    },\n    {\n      \"column\": \"Speechiness\",\n      \"properties\": {\n        \"dtype\": \"number\",\n        \"std\": 0.08304841490893995,\n        \"min\": 0.0,\n        \"max\": 1.0,\n        \"num_unique_values\": 37,\n        \"samples\": [\n          0.20754716981132076,\n          0.4339622641509434,\n          0.0\n        ],\n        \"semantic_type\": \"\",\n        \"description\": \"\"\n      }\n    }\n  ]\n}"
            }
          },
          "metadata": {},
          "execution_count": 33
        }
      ]
    },
    {
      "cell_type": "code",
      "source": [
        "df2.describe()"
      ],
      "metadata": {
        "id": "Cdq-yECD-rBr"
      },
      "execution_count": null,
      "outputs": []
    },
    {
      "cell_type": "markdown",
      "source": [
        "Usamos K-means para segmentar en 10 grupos"
      ],
      "metadata": {
        "id": "cK5a1QqrB03t"
      }
    },
    {
      "cell_type": "code",
      "source": [
        "from sklearn.cluster import KMeans\n",
        "\n",
        "modelo = KMeans(n_clusters=10, n_init='auto')\n",
        "\n",
        "modelo.fit(X)\n",
        "clusters = modelo.labels_\n",
        "\n",
        "print(f\"Las primeras 10 etiquetas: {clusters[:10]}\")"
      ],
      "metadata": {
        "id": "BC2tD2N28yVq",
        "colab": {
          "base_uri": "https://localhost:8080/"
        },
        "outputId": "0e14fddb-25bd-42fe-c47b-16da5d82e862"
      },
      "execution_count": 34,
      "outputs": [
        {
          "output_type": "stream",
          "name": "stdout",
          "text": [
            "Las primeras 10 etiquetas: [1 3 5 5 3 7 0 7 7 0]\n"
          ]
        }
      ]
    },
    {
      "cell_type": "markdown",
      "source": [
        "Integramos la información de los clusters al dataframe original."
      ],
      "metadata": {
        "id": "QGUA-MzoCCDr"
      }
    },
    {
      "cell_type": "code",
      "source": [
        "df[\"Music Segments\"] = clusters\n",
        "df[\"Music Segments\"] = df[\"Music Segments\"].map({0: \"Cluster 1\", 1:\n",
        "    \"Cluster 2\", 2: \"Cluster 3\", 3: \"Cluster 4\", 4: \"Cluster 5\",\n",
        "    5: \"Cluster 6\", 6: \"Cluster 7\", 7: \"Cluster 8\",\n",
        "    8: \"Cluster 9\", 9: \"Cluster 10\"})\n",
        "df.head(5)"
      ],
      "metadata": {
        "id": "rhHEN2zCUo0R",
        "colab": {
          "base_uri": "https://localhost:8080/",
          "height": 431
        },
        "outputId": "5ca2625c-53f3-4452-b7cc-1f3f2376f80a"
      },
      "execution_count": 35,
      "outputs": [
        {
          "output_type": "execute_result",
          "data": {
            "text/plain": [
              "                        Title             Artist            Top Genre  Year  \\\n",
              "Index                                                                         \n",
              "1                     Sunrise        Norah Jones      adult standards  2004   \n",
              "2                 Black Night        Deep Purple           album rock  2000   \n",
              "3              Clint Eastwood           Gorillaz  alternative hip hop  2001   \n",
              "4               The Pretender       Foo Fighters    alternative metal  2007   \n",
              "5      Waitin' On A Sunny Day  Bruce Springsteen         classic rock  2002   \n",
              "\n",
              "       Beats Per Minute (BPM)  Energy  Danceability  Loudness (dB)  Liveness  \\\n",
              "Index                                                                          \n",
              "1                         157      30            53            -14        11   \n",
              "2                         135      79            50            -11        17   \n",
              "3                         168      69            66             -9         7   \n",
              "4                         173      96            43             -4         3   \n",
              "5                         106      82            58             -5        10   \n",
              "\n",
              "       Valence  Length (Duration)  Acousticness  Speechiness  Popularity  \\\n",
              "Index                                                                      \n",
              "1           68                201            94            3          71   \n",
              "2           81                207            17            7          39   \n",
              "3           52                341             2           17          69   \n",
              "4           37                269             0            4          76   \n",
              "5           87                256             1            3          59   \n",
              "\n",
              "      Music Segments  \n",
              "Index                 \n",
              "1          Cluster 2  \n",
              "2          Cluster 4  \n",
              "3          Cluster 6  \n",
              "4          Cluster 6  \n",
              "5          Cluster 4  "
            ],
            "text/html": [
              "\n",
              "  <div id=\"df-37871d37-bdeb-4fca-ad47-972dbf55cab3\" class=\"colab-df-container\">\n",
              "    <div>\n",
              "<style scoped>\n",
              "    .dataframe tbody tr th:only-of-type {\n",
              "        vertical-align: middle;\n",
              "    }\n",
              "\n",
              "    .dataframe tbody tr th {\n",
              "        vertical-align: top;\n",
              "    }\n",
              "\n",
              "    .dataframe thead th {\n",
              "        text-align: right;\n",
              "    }\n",
              "</style>\n",
              "<table border=\"1\" class=\"dataframe\">\n",
              "  <thead>\n",
              "    <tr style=\"text-align: right;\">\n",
              "      <th></th>\n",
              "      <th>Title</th>\n",
              "      <th>Artist</th>\n",
              "      <th>Top Genre</th>\n",
              "      <th>Year</th>\n",
              "      <th>Beats Per Minute (BPM)</th>\n",
              "      <th>Energy</th>\n",
              "      <th>Danceability</th>\n",
              "      <th>Loudness (dB)</th>\n",
              "      <th>Liveness</th>\n",
              "      <th>Valence</th>\n",
              "      <th>Length (Duration)</th>\n",
              "      <th>Acousticness</th>\n",
              "      <th>Speechiness</th>\n",
              "      <th>Popularity</th>\n",
              "      <th>Music Segments</th>\n",
              "    </tr>\n",
              "    <tr>\n",
              "      <th>Index</th>\n",
              "      <th></th>\n",
              "      <th></th>\n",
              "      <th></th>\n",
              "      <th></th>\n",
              "      <th></th>\n",
              "      <th></th>\n",
              "      <th></th>\n",
              "      <th></th>\n",
              "      <th></th>\n",
              "      <th></th>\n",
              "      <th></th>\n",
              "      <th></th>\n",
              "      <th></th>\n",
              "      <th></th>\n",
              "      <th></th>\n",
              "    </tr>\n",
              "  </thead>\n",
              "  <tbody>\n",
              "    <tr>\n",
              "      <th>1</th>\n",
              "      <td>Sunrise</td>\n",
              "      <td>Norah Jones</td>\n",
              "      <td>adult standards</td>\n",
              "      <td>2004</td>\n",
              "      <td>157</td>\n",
              "      <td>30</td>\n",
              "      <td>53</td>\n",
              "      <td>-14</td>\n",
              "      <td>11</td>\n",
              "      <td>68</td>\n",
              "      <td>201</td>\n",
              "      <td>94</td>\n",
              "      <td>3</td>\n",
              "      <td>71</td>\n",
              "      <td>Cluster 2</td>\n",
              "    </tr>\n",
              "    <tr>\n",
              "      <th>2</th>\n",
              "      <td>Black Night</td>\n",
              "      <td>Deep Purple</td>\n",
              "      <td>album rock</td>\n",
              "      <td>2000</td>\n",
              "      <td>135</td>\n",
              "      <td>79</td>\n",
              "      <td>50</td>\n",
              "      <td>-11</td>\n",
              "      <td>17</td>\n",
              "      <td>81</td>\n",
              "      <td>207</td>\n",
              "      <td>17</td>\n",
              "      <td>7</td>\n",
              "      <td>39</td>\n",
              "      <td>Cluster 4</td>\n",
              "    </tr>\n",
              "    <tr>\n",
              "      <th>3</th>\n",
              "      <td>Clint Eastwood</td>\n",
              "      <td>Gorillaz</td>\n",
              "      <td>alternative hip hop</td>\n",
              "      <td>2001</td>\n",
              "      <td>168</td>\n",
              "      <td>69</td>\n",
              "      <td>66</td>\n",
              "      <td>-9</td>\n",
              "      <td>7</td>\n",
              "      <td>52</td>\n",
              "      <td>341</td>\n",
              "      <td>2</td>\n",
              "      <td>17</td>\n",
              "      <td>69</td>\n",
              "      <td>Cluster 6</td>\n",
              "    </tr>\n",
              "    <tr>\n",
              "      <th>4</th>\n",
              "      <td>The Pretender</td>\n",
              "      <td>Foo Fighters</td>\n",
              "      <td>alternative metal</td>\n",
              "      <td>2007</td>\n",
              "      <td>173</td>\n",
              "      <td>96</td>\n",
              "      <td>43</td>\n",
              "      <td>-4</td>\n",
              "      <td>3</td>\n",
              "      <td>37</td>\n",
              "      <td>269</td>\n",
              "      <td>0</td>\n",
              "      <td>4</td>\n",
              "      <td>76</td>\n",
              "      <td>Cluster 6</td>\n",
              "    </tr>\n",
              "    <tr>\n",
              "      <th>5</th>\n",
              "      <td>Waitin' On A Sunny Day</td>\n",
              "      <td>Bruce Springsteen</td>\n",
              "      <td>classic rock</td>\n",
              "      <td>2002</td>\n",
              "      <td>106</td>\n",
              "      <td>82</td>\n",
              "      <td>58</td>\n",
              "      <td>-5</td>\n",
              "      <td>10</td>\n",
              "      <td>87</td>\n",
              "      <td>256</td>\n",
              "      <td>1</td>\n",
              "      <td>3</td>\n",
              "      <td>59</td>\n",
              "      <td>Cluster 4</td>\n",
              "    </tr>\n",
              "  </tbody>\n",
              "</table>\n",
              "</div>\n",
              "    <div class=\"colab-df-buttons\">\n",
              "\n",
              "  <div class=\"colab-df-container\">\n",
              "    <button class=\"colab-df-convert\" onclick=\"convertToInteractive('df-37871d37-bdeb-4fca-ad47-972dbf55cab3')\"\n",
              "            title=\"Convert this dataframe to an interactive table.\"\n",
              "            style=\"display:none;\">\n",
              "\n",
              "  <svg xmlns=\"http://www.w3.org/2000/svg\" height=\"24px\" viewBox=\"0 -960 960 960\">\n",
              "    <path d=\"M120-120v-720h720v720H120Zm60-500h600v-160H180v160Zm220 220h160v-160H400v160Zm0 220h160v-160H400v160ZM180-400h160v-160H180v160Zm440 0h160v-160H620v160ZM180-180h160v-160H180v160Zm440 0h160v-160H620v160Z\"/>\n",
              "  </svg>\n",
              "    </button>\n",
              "\n",
              "  <style>\n",
              "    .colab-df-container {\n",
              "      display:flex;\n",
              "      gap: 12px;\n",
              "    }\n",
              "\n",
              "    .colab-df-convert {\n",
              "      background-color: #E8F0FE;\n",
              "      border: none;\n",
              "      border-radius: 50%;\n",
              "      cursor: pointer;\n",
              "      display: none;\n",
              "      fill: #1967D2;\n",
              "      height: 32px;\n",
              "      padding: 0 0 0 0;\n",
              "      width: 32px;\n",
              "    }\n",
              "\n",
              "    .colab-df-convert:hover {\n",
              "      background-color: #E2EBFA;\n",
              "      box-shadow: 0px 1px 2px rgba(60, 64, 67, 0.3), 0px 1px 3px 1px rgba(60, 64, 67, 0.15);\n",
              "      fill: #174EA6;\n",
              "    }\n",
              "\n",
              "    .colab-df-buttons div {\n",
              "      margin-bottom: 4px;\n",
              "    }\n",
              "\n",
              "    [theme=dark] .colab-df-convert {\n",
              "      background-color: #3B4455;\n",
              "      fill: #D2E3FC;\n",
              "    }\n",
              "\n",
              "    [theme=dark] .colab-df-convert:hover {\n",
              "      background-color: #434B5C;\n",
              "      box-shadow: 0px 1px 3px 1px rgba(0, 0, 0, 0.15);\n",
              "      filter: drop-shadow(0px 1px 2px rgba(0, 0, 0, 0.3));\n",
              "      fill: #FFFFFF;\n",
              "    }\n",
              "  </style>\n",
              "\n",
              "    <script>\n",
              "      const buttonEl =\n",
              "        document.querySelector('#df-37871d37-bdeb-4fca-ad47-972dbf55cab3 button.colab-df-convert');\n",
              "      buttonEl.style.display =\n",
              "        google.colab.kernel.accessAllowed ? 'block' : 'none';\n",
              "\n",
              "      async function convertToInteractive(key) {\n",
              "        const element = document.querySelector('#df-37871d37-bdeb-4fca-ad47-972dbf55cab3');\n",
              "        const dataTable =\n",
              "          await google.colab.kernel.invokeFunction('convertToInteractive',\n",
              "                                                    [key], {});\n",
              "        if (!dataTable) return;\n",
              "\n",
              "        const docLinkHtml = 'Like what you see? Visit the ' +\n",
              "          '<a target=\"_blank\" href=https://colab.research.google.com/notebooks/data_table.ipynb>data table notebook</a>'\n",
              "          + ' to learn more about interactive tables.';\n",
              "        element.innerHTML = '';\n",
              "        dataTable['output_type'] = 'display_data';\n",
              "        await google.colab.output.renderOutput(dataTable, element);\n",
              "        const docLink = document.createElement('div');\n",
              "        docLink.innerHTML = docLinkHtml;\n",
              "        element.appendChild(docLink);\n",
              "      }\n",
              "    </script>\n",
              "  </div>\n",
              "\n",
              "\n",
              "<div id=\"df-6d036aa9-4819-4be7-aee5-60931a8dbbba\">\n",
              "  <button class=\"colab-df-quickchart\" onclick=\"quickchart('df-6d036aa9-4819-4be7-aee5-60931a8dbbba')\"\n",
              "            title=\"Suggest charts\"\n",
              "            style=\"display:none;\">\n",
              "\n",
              "<svg xmlns=\"http://www.w3.org/2000/svg\" height=\"24px\"viewBox=\"0 0 24 24\"\n",
              "     width=\"24px\">\n",
              "    <g>\n",
              "        <path d=\"M19 3H5c-1.1 0-2 .9-2 2v14c0 1.1.9 2 2 2h14c1.1 0 2-.9 2-2V5c0-1.1-.9-2-2-2zM9 17H7v-7h2v7zm4 0h-2V7h2v10zm4 0h-2v-4h2v4z\"/>\n",
              "    </g>\n",
              "</svg>\n",
              "  </button>\n",
              "\n",
              "<style>\n",
              "  .colab-df-quickchart {\n",
              "      --bg-color: #E8F0FE;\n",
              "      --fill-color: #1967D2;\n",
              "      --hover-bg-color: #E2EBFA;\n",
              "      --hover-fill-color: #174EA6;\n",
              "      --disabled-fill-color: #AAA;\n",
              "      --disabled-bg-color: #DDD;\n",
              "  }\n",
              "\n",
              "  [theme=dark] .colab-df-quickchart {\n",
              "      --bg-color: #3B4455;\n",
              "      --fill-color: #D2E3FC;\n",
              "      --hover-bg-color: #434B5C;\n",
              "      --hover-fill-color: #FFFFFF;\n",
              "      --disabled-bg-color: #3B4455;\n",
              "      --disabled-fill-color: #666;\n",
              "  }\n",
              "\n",
              "  .colab-df-quickchart {\n",
              "    background-color: var(--bg-color);\n",
              "    border: none;\n",
              "    border-radius: 50%;\n",
              "    cursor: pointer;\n",
              "    display: none;\n",
              "    fill: var(--fill-color);\n",
              "    height: 32px;\n",
              "    padding: 0;\n",
              "    width: 32px;\n",
              "  }\n",
              "\n",
              "  .colab-df-quickchart:hover {\n",
              "    background-color: var(--hover-bg-color);\n",
              "    box-shadow: 0 1px 2px rgba(60, 64, 67, 0.3), 0 1px 3px 1px rgba(60, 64, 67, 0.15);\n",
              "    fill: var(--button-hover-fill-color);\n",
              "  }\n",
              "\n",
              "  .colab-df-quickchart-complete:disabled,\n",
              "  .colab-df-quickchart-complete:disabled:hover {\n",
              "    background-color: var(--disabled-bg-color);\n",
              "    fill: var(--disabled-fill-color);\n",
              "    box-shadow: none;\n",
              "  }\n",
              "\n",
              "  .colab-df-spinner {\n",
              "    border: 2px solid var(--fill-color);\n",
              "    border-color: transparent;\n",
              "    border-bottom-color: var(--fill-color);\n",
              "    animation:\n",
              "      spin 1s steps(1) infinite;\n",
              "  }\n",
              "\n",
              "  @keyframes spin {\n",
              "    0% {\n",
              "      border-color: transparent;\n",
              "      border-bottom-color: var(--fill-color);\n",
              "      border-left-color: var(--fill-color);\n",
              "    }\n",
              "    20% {\n",
              "      border-color: transparent;\n",
              "      border-left-color: var(--fill-color);\n",
              "      border-top-color: var(--fill-color);\n",
              "    }\n",
              "    30% {\n",
              "      border-color: transparent;\n",
              "      border-left-color: var(--fill-color);\n",
              "      border-top-color: var(--fill-color);\n",
              "      border-right-color: var(--fill-color);\n",
              "    }\n",
              "    40% {\n",
              "      border-color: transparent;\n",
              "      border-right-color: var(--fill-color);\n",
              "      border-top-color: var(--fill-color);\n",
              "    }\n",
              "    60% {\n",
              "      border-color: transparent;\n",
              "      border-right-color: var(--fill-color);\n",
              "    }\n",
              "    80% {\n",
              "      border-color: transparent;\n",
              "      border-right-color: var(--fill-color);\n",
              "      border-bottom-color: var(--fill-color);\n",
              "    }\n",
              "    90% {\n",
              "      border-color: transparent;\n",
              "      border-bottom-color: var(--fill-color);\n",
              "    }\n",
              "  }\n",
              "</style>\n",
              "\n",
              "  <script>\n",
              "    async function quickchart(key) {\n",
              "      const quickchartButtonEl =\n",
              "        document.querySelector('#' + key + ' button');\n",
              "      quickchartButtonEl.disabled = true;  // To prevent multiple clicks.\n",
              "      quickchartButtonEl.classList.add('colab-df-spinner');\n",
              "      try {\n",
              "        const charts = await google.colab.kernel.invokeFunction(\n",
              "            'suggestCharts', [key], {});\n",
              "      } catch (error) {\n",
              "        console.error('Error during call to suggestCharts:', error);\n",
              "      }\n",
              "      quickchartButtonEl.classList.remove('colab-df-spinner');\n",
              "      quickchartButtonEl.classList.add('colab-df-quickchart-complete');\n",
              "    }\n",
              "    (() => {\n",
              "      let quickchartButtonEl =\n",
              "        document.querySelector('#df-6d036aa9-4819-4be7-aee5-60931a8dbbba button');\n",
              "      quickchartButtonEl.style.display =\n",
              "        google.colab.kernel.accessAllowed ? 'block' : 'none';\n",
              "    })();\n",
              "  </script>\n",
              "</div>\n",
              "\n",
              "    </div>\n",
              "  </div>\n"
            ],
            "application/vnd.google.colaboratory.intrinsic+json": {
              "type": "dataframe",
              "variable_name": "df",
              "summary": "{\n  \"name\": \"df\",\n  \"rows\": 1994,\n  \"fields\": [\n    {\n      \"column\": \"Index\",\n      \"properties\": {\n        \"dtype\": \"number\",\n        \"std\": 575,\n        \"min\": 1,\n        \"max\": 1994,\n        \"num_unique_values\": 1994,\n        \"samples\": [\n          890,\n          1673,\n          415\n        ],\n        \"semantic_type\": \"\",\n        \"description\": \"\"\n      }\n    },\n    {\n      \"column\": \"Title\",\n      \"properties\": {\n        \"dtype\": \"string\",\n        \"num_unique_values\": 1958,\n        \"samples\": [\n          \"You Don't Bring Me Flowers\",\n          \"All For Nothing\",\n          \"Driver's Seat\"\n        ],\n        \"semantic_type\": \"\",\n        \"description\": \"\"\n      }\n    },\n    {\n      \"column\": \"Artist\",\n      \"properties\": {\n        \"dtype\": \"category\",\n        \"num_unique_values\": 731,\n        \"samples\": [\n          \"The Mamas & The Papas\",\n          \"Guus Meeuwis\",\n          \"First Aid Kit\"\n        ],\n        \"semantic_type\": \"\",\n        \"description\": \"\"\n      }\n    },\n    {\n      \"column\": \"Top Genre\",\n      \"properties\": {\n        \"dtype\": \"category\",\n        \"num_unique_values\": 149,\n        \"samples\": [\n          \"g funk\",\n          \"dutch americana\",\n          \"classic soul\"\n        ],\n        \"semantic_type\": \"\",\n        \"description\": \"\"\n      }\n    },\n    {\n      \"column\": \"Year\",\n      \"properties\": {\n        \"dtype\": \"number\",\n        \"std\": 16,\n        \"min\": 1956,\n        \"max\": 2019,\n        \"num_unique_values\": 63,\n        \"samples\": [\n          1958,\n          1967,\n          2004\n        ],\n        \"semantic_type\": \"\",\n        \"description\": \"\"\n      }\n    },\n    {\n      \"column\": \"Beats Per Minute (BPM)\",\n      \"properties\": {\n        \"dtype\": \"number\",\n        \"std\": 28,\n        \"min\": 37,\n        \"max\": 206,\n        \"num_unique_values\": 145,\n        \"samples\": [\n          93,\n          206,\n          122\n        ],\n        \"semantic_type\": \"\",\n        \"description\": \"\"\n      }\n    },\n    {\n      \"column\": \"Energy\",\n      \"properties\": {\n        \"dtype\": \"number\",\n        \"std\": 22,\n        \"min\": 3,\n        \"max\": 100,\n        \"num_unique_values\": 98,\n        \"samples\": [\n          36,\n          35,\n          10\n        ],\n        \"semantic_type\": \"\",\n        \"description\": \"\"\n      }\n    },\n    {\n      \"column\": \"Danceability\",\n      \"properties\": {\n        \"dtype\": \"number\",\n        \"std\": 15,\n        \"min\": 10,\n        \"max\": 96,\n        \"num_unique_values\": 84,\n        \"samples\": [\n          17,\n          53,\n          24\n        ],\n        \"semantic_type\": \"\",\n        \"description\": \"\"\n      }\n    },\n    {\n      \"column\": \"Loudness (dB)\",\n      \"properties\": {\n        \"dtype\": \"number\",\n        \"std\": 3,\n        \"min\": -27,\n        \"max\": -2,\n        \"num_unique_values\": 23,\n        \"samples\": [\n          -15,\n          -2,\n          -14\n        ],\n        \"semantic_type\": \"\",\n        \"description\": \"\"\n      }\n    },\n    {\n      \"column\": \"Liveness\",\n      \"properties\": {\n        \"dtype\": \"number\",\n        \"std\": 16,\n        \"min\": 2,\n        \"max\": 99,\n        \"num_unique_values\": 94,\n        \"samples\": [\n          21,\n          5,\n          52\n        ],\n        \"semantic_type\": \"\",\n        \"description\": \"\"\n      }\n    },\n    {\n      \"column\": \"Valence\",\n      \"properties\": {\n        \"dtype\": \"number\",\n        \"std\": 24,\n        \"min\": 3,\n        \"max\": 99,\n        \"num_unique_values\": 97,\n        \"samples\": [\n          69,\n          63,\n          95\n        ],\n        \"semantic_type\": \"\",\n        \"description\": \"\"\n      }\n    },\n    {\n      \"column\": \"Length (Duration)\",\n      \"properties\": {\n        \"dtype\": \"number\",\n        \"std\": 93,\n        \"min\": 93,\n        \"max\": 1412,\n        \"num_unique_values\": 350,\n        \"samples\": [\n          194,\n          703,\n          406\n        ],\n        \"semantic_type\": \"\",\n        \"description\": \"\"\n      }\n    },\n    {\n      \"column\": \"Acousticness\",\n      \"properties\": {\n        \"dtype\": \"number\",\n        \"std\": 29,\n        \"min\": 0,\n        \"max\": 99,\n        \"num_unique_values\": 100,\n        \"samples\": [\n          23,\n          76,\n          85\n        ],\n        \"semantic_type\": \"\",\n        \"description\": \"\"\n      }\n    },\n    {\n      \"column\": \"Speechiness\",\n      \"properties\": {\n        \"dtype\": \"number\",\n        \"std\": 4,\n        \"min\": 2,\n        \"max\": 55,\n        \"num_unique_values\": 37,\n        \"samples\": [\n          13,\n          25,\n          2\n        ],\n        \"semantic_type\": \"\",\n        \"description\": \"\"\n      }\n    },\n    {\n      \"column\": \"Popularity\",\n      \"properties\": {\n        \"dtype\": \"number\",\n        \"std\": 14,\n        \"min\": 11,\n        \"max\": 100,\n        \"num_unique_values\": 81,\n        \"samples\": [\n          78,\n          71,\n          84\n        ],\n        \"semantic_type\": \"\",\n        \"description\": \"\"\n      }\n    },\n    {\n      \"column\": \"Music Segments\",\n      \"properties\": {\n        \"dtype\": \"category\",\n        \"num_unique_values\": 10,\n        \"samples\": [\n          \"Cluster 7\",\n          \"Cluster 4\",\n          \"Cluster 5\"\n        ],\n        \"semantic_type\": \"\",\n        \"description\": \"\"\n      }\n    }\n  ]\n}"
            }
          },
          "metadata": {},
          "execution_count": 35
        }
      ]
    },
    {
      "cell_type": "markdown",
      "source": [
        "Observemos un cluster"
      ],
      "metadata": {
        "id": "dn_xNOGSl4vi"
      }
    },
    {
      "cell_type": "code",
      "source": [
        "cluster = 'Cluster 3'\n",
        "\n",
        "df[df['Music Segments']==cluster][['Artist','Title','Top Genre','Year']]"
      ],
      "metadata": {
        "id": "MCCBqzzVl6-c",
        "colab": {
          "base_uri": "https://localhost:8080/",
          "height": 1000
        },
        "outputId": "bc77bcca-9b69-4556-c372-bf09f3c7a1d2"
      },
      "execution_count": 36,
      "outputs": [
        {
          "output_type": "execute_result",
          "data": {
            "text/plain": [
              "                                Artist  \\\n",
              "Index                                    \n",
              "47                            Lou Reed   \n",
              "79                       Marco Borsato   \n",
              "95                         Rowwen Hèze   \n",
              "129                     Bram Vermeulen   \n",
              "160                  The Weather Girls   \n",
              "164                      Ramses Shaffy   \n",
              "174                         John Mayer   \n",
              "196                      Michel Sardou   \n",
              "259                     Paul McCartney   \n",
              "289                            Kyteman   \n",
              "321                       Guus Meeuwis   \n",
              "353                            De Kast   \n",
              "401                   Claudia De Breij   \n",
              "441                        Johnny Cash   \n",
              "476                     Maggie MacNeal   \n",
              "493                        Andre Hazes   \n",
              "494                               BLØF   \n",
              "499                        Johnny Cash   \n",
              "505                             Drs. P   \n",
              "537                Derek & The Dominos   \n",
              "606                      Wim Sonneveld   \n",
              "760                          Lady Gaga   \n",
              "790                             Snelle   \n",
              "821                        The Beatles   \n",
              "949                      Elvis Presley   \n",
              "956                       Roger Glover   \n",
              "958                       Reinhard Mey   \n",
              "973                  Bruce Springsteen   \n",
              "1070                      Muddy Waters   \n",
              "1078                         The Babys   \n",
              "1086   Herman Brood & His Wild Romance   \n",
              "1150                       Frank Zappa   \n",
              "1374                 Bruce Springsteen   \n",
              "1419                            Prince   \n",
              "1573                      Eric Clapton   \n",
              "1592                     Paul de Leeuw   \n",
              "1638                           Nirvana   \n",
              "1654                           Nirvana   \n",
              "1687                     Elvis Presley   \n",
              "1759                    George Michael   \n",
              "1774                          Stef Bos   \n",
              "1790                          Stef Bos   \n",
              "1846                    Gilbert Bécaud   \n",
              "1879             The Mamas & The Papas   \n",
              "1886                       The Beatles   \n",
              "1991                     Elvis Presley   \n",
              "\n",
              "                                                   Title         Top Genre  \\\n",
              "Index                                                                        \n",
              "47                                            Sweet Jane          art rock   \n",
              "79                                Wat Zou Je Doen - Live     dutch cabaret   \n",
              "95                                        Limburg - Live  carnaval limburg   \n",
              "129                                         De wedstrijd      belgian rock   \n",
              "160                                     It's Raining Men             disco   \n",
              "164    Zing - Vecht - Huil - Bid - Lach - Werk En Bew...     dutch cabaret   \n",
              "174    Free Fallin' - Live at the Nokia Theatre, Los ...        neo mellow   \n",
              "196                                Les lacs du Connemara           chanson   \n",
              "259                              Live And Let Die - Live        album rock   \n",
              "289                             Sorry - (Live in Tivoli)       dutch indie   \n",
              "321                                    Geef Mij Je Angst         dutch pop   \n",
              "353                                          In Nije Dei         dutch pop   \n",
              "401                                   Mag Ik Dan Bij Jou     dutch cabaret   \n",
              "441                               A Boy Named Sue (Live)  arkansas country   \n",
              "476                                   Terug Naar De Kust          nederpop   \n",
              "493                                            Droomland         dutch pop   \n",
              "494                                     Wat Zou Je Doen?         dutch pop   \n",
              "499                                          San Quentin  arkansas country   \n",
              "505                                             Dodenrit        dutch rock   \n",
              "537                                                Layla        album rock   \n",
              "606                                      Het Dorp - Live     dutch cabaret   \n",
              "760                          Always Remember Us This Way         dance pop   \n",
              "790                                               Reünie     dutch hip hop   \n",
              "821                           Get Back - Remastered 2009  british invasion   \n",
              "949                                               My Boy   adult standards   \n",
              "956                                          Love Is All         hard rock   \n",
              "958                                   Gute Nacht Freunde        german pop   \n",
              "973                                         Thunder Road      classic rock   \n",
              "1070                                         Mannish Boy             blues   \n",
              "1078                                       Isn't It Time        album rock   \n",
              "1086                                      Saturday Night       dutch indie   \n",
              "1150                                        Dancin' Fool        album rock   \n",
              "1374   Fire - Live at the Winterland, San Francisco, ...      classic rock   \n",
              "1419                                           The Cross              funk   \n",
              "1573   Layla - Acoustic; Live at MTV Unplugged, Bray ...        album rock   \n",
              "1592                             Vlieg Met Me Mee - Live     dutch cabaret   \n",
              "1638                      Where Did You Sleep Last Night  alternative rock   \n",
              "1654                                               Polly  alternative rock   \n",
              "1687                                 An American Trilogy   adult standards   \n",
              "1759                     Don't Let the Sun Go Down on Me        dance rock   \n",
              "1774                                     Is Dit Nu Later       christelijk   \n",
              "1790                                      Ik Heb Je Lief       christelijk   \n",
              "1846                                            Nathalie           chanson   \n",
              "1879                     Monday, Monday - Single Version   adult standards   \n",
              "1886                 A Day In The Life - Remastered 2009  british invasion   \n",
              "1991                                           Hound Dog   adult standards   \n",
              "\n",
              "       Year  \n",
              "Index        \n",
              "47     2008  \n",
              "79     2006  \n",
              "95     2008  \n",
              "129    2006  \n",
              "160    2008  \n",
              "164    2006  \n",
              "174    2008  \n",
              "196    2004  \n",
              "259    2003  \n",
              "289    2009  \n",
              "321    2006  \n",
              "353    2004  \n",
              "401    2010  \n",
              "441    2011  \n",
              "476    2011  \n",
              "493    2012  \n",
              "494    2012  \n",
              "499    2012  \n",
              "505    2012  \n",
              "537    2013  \n",
              "606    2015  \n",
              "760    2018  \n",
              "790    2019  \n",
              "821    1970  \n",
              "949    1974  \n",
              "956    1974  \n",
              "958    1974  \n",
              "973    1975  \n",
              "1070   1977  \n",
              "1078   1977  \n",
              "1086   1978  \n",
              "1150   1979  \n",
              "1374   1986  \n",
              "1419   1987  \n",
              "1573   1992  \n",
              "1592   1992  \n",
              "1638   1994  \n",
              "1654   1994  \n",
              "1687   1995  \n",
              "1759   1998  \n",
              "1774   1998  \n",
              "1790   1998  \n",
              "1846   1964  \n",
              "1879   1966  \n",
              "1886   1967  \n",
              "1991   1958  "
            ],
            "text/html": [
              "\n",
              "  <div id=\"df-94537792-6bfa-46fb-bcf5-1975455e9668\" class=\"colab-df-container\">\n",
              "    <div>\n",
              "<style scoped>\n",
              "    .dataframe tbody tr th:only-of-type {\n",
              "        vertical-align: middle;\n",
              "    }\n",
              "\n",
              "    .dataframe tbody tr th {\n",
              "        vertical-align: top;\n",
              "    }\n",
              "\n",
              "    .dataframe thead th {\n",
              "        text-align: right;\n",
              "    }\n",
              "</style>\n",
              "<table border=\"1\" class=\"dataframe\">\n",
              "  <thead>\n",
              "    <tr style=\"text-align: right;\">\n",
              "      <th></th>\n",
              "      <th>Artist</th>\n",
              "      <th>Title</th>\n",
              "      <th>Top Genre</th>\n",
              "      <th>Year</th>\n",
              "    </tr>\n",
              "    <tr>\n",
              "      <th>Index</th>\n",
              "      <th></th>\n",
              "      <th></th>\n",
              "      <th></th>\n",
              "      <th></th>\n",
              "    </tr>\n",
              "  </thead>\n",
              "  <tbody>\n",
              "    <tr>\n",
              "      <th>47</th>\n",
              "      <td>Lou Reed</td>\n",
              "      <td>Sweet Jane</td>\n",
              "      <td>art rock</td>\n",
              "      <td>2008</td>\n",
              "    </tr>\n",
              "    <tr>\n",
              "      <th>79</th>\n",
              "      <td>Marco Borsato</td>\n",
              "      <td>Wat Zou Je Doen - Live</td>\n",
              "      <td>dutch cabaret</td>\n",
              "      <td>2006</td>\n",
              "    </tr>\n",
              "    <tr>\n",
              "      <th>95</th>\n",
              "      <td>Rowwen Hèze</td>\n",
              "      <td>Limburg - Live</td>\n",
              "      <td>carnaval limburg</td>\n",
              "      <td>2008</td>\n",
              "    </tr>\n",
              "    <tr>\n",
              "      <th>129</th>\n",
              "      <td>Bram Vermeulen</td>\n",
              "      <td>De wedstrijd</td>\n",
              "      <td>belgian rock</td>\n",
              "      <td>2006</td>\n",
              "    </tr>\n",
              "    <tr>\n",
              "      <th>160</th>\n",
              "      <td>The Weather Girls</td>\n",
              "      <td>It's Raining Men</td>\n",
              "      <td>disco</td>\n",
              "      <td>2008</td>\n",
              "    </tr>\n",
              "    <tr>\n",
              "      <th>164</th>\n",
              "      <td>Ramses Shaffy</td>\n",
              "      <td>Zing - Vecht - Huil - Bid - Lach - Werk En Bew...</td>\n",
              "      <td>dutch cabaret</td>\n",
              "      <td>2006</td>\n",
              "    </tr>\n",
              "    <tr>\n",
              "      <th>174</th>\n",
              "      <td>John Mayer</td>\n",
              "      <td>Free Fallin' - Live at the Nokia Theatre, Los ...</td>\n",
              "      <td>neo mellow</td>\n",
              "      <td>2008</td>\n",
              "    </tr>\n",
              "    <tr>\n",
              "      <th>196</th>\n",
              "      <td>Michel Sardou</td>\n",
              "      <td>Les lacs du Connemara</td>\n",
              "      <td>chanson</td>\n",
              "      <td>2004</td>\n",
              "    </tr>\n",
              "    <tr>\n",
              "      <th>259</th>\n",
              "      <td>Paul McCartney</td>\n",
              "      <td>Live And Let Die - Live</td>\n",
              "      <td>album rock</td>\n",
              "      <td>2003</td>\n",
              "    </tr>\n",
              "    <tr>\n",
              "      <th>289</th>\n",
              "      <td>Kyteman</td>\n",
              "      <td>Sorry - (Live in Tivoli)</td>\n",
              "      <td>dutch indie</td>\n",
              "      <td>2009</td>\n",
              "    </tr>\n",
              "    <tr>\n",
              "      <th>321</th>\n",
              "      <td>Guus Meeuwis</td>\n",
              "      <td>Geef Mij Je Angst</td>\n",
              "      <td>dutch pop</td>\n",
              "      <td>2006</td>\n",
              "    </tr>\n",
              "    <tr>\n",
              "      <th>353</th>\n",
              "      <td>De Kast</td>\n",
              "      <td>In Nije Dei</td>\n",
              "      <td>dutch pop</td>\n",
              "      <td>2004</td>\n",
              "    </tr>\n",
              "    <tr>\n",
              "      <th>401</th>\n",
              "      <td>Claudia De Breij</td>\n",
              "      <td>Mag Ik Dan Bij Jou</td>\n",
              "      <td>dutch cabaret</td>\n",
              "      <td>2010</td>\n",
              "    </tr>\n",
              "    <tr>\n",
              "      <th>441</th>\n",
              "      <td>Johnny Cash</td>\n",
              "      <td>A Boy Named Sue (Live)</td>\n",
              "      <td>arkansas country</td>\n",
              "      <td>2011</td>\n",
              "    </tr>\n",
              "    <tr>\n",
              "      <th>476</th>\n",
              "      <td>Maggie MacNeal</td>\n",
              "      <td>Terug Naar De Kust</td>\n",
              "      <td>nederpop</td>\n",
              "      <td>2011</td>\n",
              "    </tr>\n",
              "    <tr>\n",
              "      <th>493</th>\n",
              "      <td>Andre Hazes</td>\n",
              "      <td>Droomland</td>\n",
              "      <td>dutch pop</td>\n",
              "      <td>2012</td>\n",
              "    </tr>\n",
              "    <tr>\n",
              "      <th>494</th>\n",
              "      <td>BLØF</td>\n",
              "      <td>Wat Zou Je Doen?</td>\n",
              "      <td>dutch pop</td>\n",
              "      <td>2012</td>\n",
              "    </tr>\n",
              "    <tr>\n",
              "      <th>499</th>\n",
              "      <td>Johnny Cash</td>\n",
              "      <td>San Quentin</td>\n",
              "      <td>arkansas country</td>\n",
              "      <td>2012</td>\n",
              "    </tr>\n",
              "    <tr>\n",
              "      <th>505</th>\n",
              "      <td>Drs. P</td>\n",
              "      <td>Dodenrit</td>\n",
              "      <td>dutch rock</td>\n",
              "      <td>2012</td>\n",
              "    </tr>\n",
              "    <tr>\n",
              "      <th>537</th>\n",
              "      <td>Derek &amp; The Dominos</td>\n",
              "      <td>Layla</td>\n",
              "      <td>album rock</td>\n",
              "      <td>2013</td>\n",
              "    </tr>\n",
              "    <tr>\n",
              "      <th>606</th>\n",
              "      <td>Wim Sonneveld</td>\n",
              "      <td>Het Dorp - Live</td>\n",
              "      <td>dutch cabaret</td>\n",
              "      <td>2015</td>\n",
              "    </tr>\n",
              "    <tr>\n",
              "      <th>760</th>\n",
              "      <td>Lady Gaga</td>\n",
              "      <td>Always Remember Us This Way</td>\n",
              "      <td>dance pop</td>\n",
              "      <td>2018</td>\n",
              "    </tr>\n",
              "    <tr>\n",
              "      <th>790</th>\n",
              "      <td>Snelle</td>\n",
              "      <td>Reünie</td>\n",
              "      <td>dutch hip hop</td>\n",
              "      <td>2019</td>\n",
              "    </tr>\n",
              "    <tr>\n",
              "      <th>821</th>\n",
              "      <td>The Beatles</td>\n",
              "      <td>Get Back - Remastered 2009</td>\n",
              "      <td>british invasion</td>\n",
              "      <td>1970</td>\n",
              "    </tr>\n",
              "    <tr>\n",
              "      <th>949</th>\n",
              "      <td>Elvis Presley</td>\n",
              "      <td>My Boy</td>\n",
              "      <td>adult standards</td>\n",
              "      <td>1974</td>\n",
              "    </tr>\n",
              "    <tr>\n",
              "      <th>956</th>\n",
              "      <td>Roger Glover</td>\n",
              "      <td>Love Is All</td>\n",
              "      <td>hard rock</td>\n",
              "      <td>1974</td>\n",
              "    </tr>\n",
              "    <tr>\n",
              "      <th>958</th>\n",
              "      <td>Reinhard Mey</td>\n",
              "      <td>Gute Nacht Freunde</td>\n",
              "      <td>german pop</td>\n",
              "      <td>1974</td>\n",
              "    </tr>\n",
              "    <tr>\n",
              "      <th>973</th>\n",
              "      <td>Bruce Springsteen</td>\n",
              "      <td>Thunder Road</td>\n",
              "      <td>classic rock</td>\n",
              "      <td>1975</td>\n",
              "    </tr>\n",
              "    <tr>\n",
              "      <th>1070</th>\n",
              "      <td>Muddy Waters</td>\n",
              "      <td>Mannish Boy</td>\n",
              "      <td>blues</td>\n",
              "      <td>1977</td>\n",
              "    </tr>\n",
              "    <tr>\n",
              "      <th>1078</th>\n",
              "      <td>The Babys</td>\n",
              "      <td>Isn't It Time</td>\n",
              "      <td>album rock</td>\n",
              "      <td>1977</td>\n",
              "    </tr>\n",
              "    <tr>\n",
              "      <th>1086</th>\n",
              "      <td>Herman Brood &amp; His Wild Romance</td>\n",
              "      <td>Saturday Night</td>\n",
              "      <td>dutch indie</td>\n",
              "      <td>1978</td>\n",
              "    </tr>\n",
              "    <tr>\n",
              "      <th>1150</th>\n",
              "      <td>Frank Zappa</td>\n",
              "      <td>Dancin' Fool</td>\n",
              "      <td>album rock</td>\n",
              "      <td>1979</td>\n",
              "    </tr>\n",
              "    <tr>\n",
              "      <th>1374</th>\n",
              "      <td>Bruce Springsteen</td>\n",
              "      <td>Fire - Live at the Winterland, San Francisco, ...</td>\n",
              "      <td>classic rock</td>\n",
              "      <td>1986</td>\n",
              "    </tr>\n",
              "    <tr>\n",
              "      <th>1419</th>\n",
              "      <td>Prince</td>\n",
              "      <td>The Cross</td>\n",
              "      <td>funk</td>\n",
              "      <td>1987</td>\n",
              "    </tr>\n",
              "    <tr>\n",
              "      <th>1573</th>\n",
              "      <td>Eric Clapton</td>\n",
              "      <td>Layla - Acoustic; Live at MTV Unplugged, Bray ...</td>\n",
              "      <td>album rock</td>\n",
              "      <td>1992</td>\n",
              "    </tr>\n",
              "    <tr>\n",
              "      <th>1592</th>\n",
              "      <td>Paul de Leeuw</td>\n",
              "      <td>Vlieg Met Me Mee - Live</td>\n",
              "      <td>dutch cabaret</td>\n",
              "      <td>1992</td>\n",
              "    </tr>\n",
              "    <tr>\n",
              "      <th>1638</th>\n",
              "      <td>Nirvana</td>\n",
              "      <td>Where Did You Sleep Last Night</td>\n",
              "      <td>alternative rock</td>\n",
              "      <td>1994</td>\n",
              "    </tr>\n",
              "    <tr>\n",
              "      <th>1654</th>\n",
              "      <td>Nirvana</td>\n",
              "      <td>Polly</td>\n",
              "      <td>alternative rock</td>\n",
              "      <td>1994</td>\n",
              "    </tr>\n",
              "    <tr>\n",
              "      <th>1687</th>\n",
              "      <td>Elvis Presley</td>\n",
              "      <td>An American Trilogy</td>\n",
              "      <td>adult standards</td>\n",
              "      <td>1995</td>\n",
              "    </tr>\n",
              "    <tr>\n",
              "      <th>1759</th>\n",
              "      <td>George Michael</td>\n",
              "      <td>Don't Let the Sun Go Down on Me</td>\n",
              "      <td>dance rock</td>\n",
              "      <td>1998</td>\n",
              "    </tr>\n",
              "    <tr>\n",
              "      <th>1774</th>\n",
              "      <td>Stef Bos</td>\n",
              "      <td>Is Dit Nu Later</td>\n",
              "      <td>christelijk</td>\n",
              "      <td>1998</td>\n",
              "    </tr>\n",
              "    <tr>\n",
              "      <th>1790</th>\n",
              "      <td>Stef Bos</td>\n",
              "      <td>Ik Heb Je Lief</td>\n",
              "      <td>christelijk</td>\n",
              "      <td>1998</td>\n",
              "    </tr>\n",
              "    <tr>\n",
              "      <th>1846</th>\n",
              "      <td>Gilbert Bécaud</td>\n",
              "      <td>Nathalie</td>\n",
              "      <td>chanson</td>\n",
              "      <td>1964</td>\n",
              "    </tr>\n",
              "    <tr>\n",
              "      <th>1879</th>\n",
              "      <td>The Mamas &amp; The Papas</td>\n",
              "      <td>Monday, Monday - Single Version</td>\n",
              "      <td>adult standards</td>\n",
              "      <td>1966</td>\n",
              "    </tr>\n",
              "    <tr>\n",
              "      <th>1886</th>\n",
              "      <td>The Beatles</td>\n",
              "      <td>A Day In The Life - Remastered 2009</td>\n",
              "      <td>british invasion</td>\n",
              "      <td>1967</td>\n",
              "    </tr>\n",
              "    <tr>\n",
              "      <th>1991</th>\n",
              "      <td>Elvis Presley</td>\n",
              "      <td>Hound Dog</td>\n",
              "      <td>adult standards</td>\n",
              "      <td>1958</td>\n",
              "    </tr>\n",
              "  </tbody>\n",
              "</table>\n",
              "</div>\n",
              "    <div class=\"colab-df-buttons\">\n",
              "\n",
              "  <div class=\"colab-df-container\">\n",
              "    <button class=\"colab-df-convert\" onclick=\"convertToInteractive('df-94537792-6bfa-46fb-bcf5-1975455e9668')\"\n",
              "            title=\"Convert this dataframe to an interactive table.\"\n",
              "            style=\"display:none;\">\n",
              "\n",
              "  <svg xmlns=\"http://www.w3.org/2000/svg\" height=\"24px\" viewBox=\"0 -960 960 960\">\n",
              "    <path d=\"M120-120v-720h720v720H120Zm60-500h600v-160H180v160Zm220 220h160v-160H400v160Zm0 220h160v-160H400v160ZM180-400h160v-160H180v160Zm440 0h160v-160H620v160ZM180-180h160v-160H180v160Zm440 0h160v-160H620v160Z\"/>\n",
              "  </svg>\n",
              "    </button>\n",
              "\n",
              "  <style>\n",
              "    .colab-df-container {\n",
              "      display:flex;\n",
              "      gap: 12px;\n",
              "    }\n",
              "\n",
              "    .colab-df-convert {\n",
              "      background-color: #E8F0FE;\n",
              "      border: none;\n",
              "      border-radius: 50%;\n",
              "      cursor: pointer;\n",
              "      display: none;\n",
              "      fill: #1967D2;\n",
              "      height: 32px;\n",
              "      padding: 0 0 0 0;\n",
              "      width: 32px;\n",
              "    }\n",
              "\n",
              "    .colab-df-convert:hover {\n",
              "      background-color: #E2EBFA;\n",
              "      box-shadow: 0px 1px 2px rgba(60, 64, 67, 0.3), 0px 1px 3px 1px rgba(60, 64, 67, 0.15);\n",
              "      fill: #174EA6;\n",
              "    }\n",
              "\n",
              "    .colab-df-buttons div {\n",
              "      margin-bottom: 4px;\n",
              "    }\n",
              "\n",
              "    [theme=dark] .colab-df-convert {\n",
              "      background-color: #3B4455;\n",
              "      fill: #D2E3FC;\n",
              "    }\n",
              "\n",
              "    [theme=dark] .colab-df-convert:hover {\n",
              "      background-color: #434B5C;\n",
              "      box-shadow: 0px 1px 3px 1px rgba(0, 0, 0, 0.15);\n",
              "      filter: drop-shadow(0px 1px 2px rgba(0, 0, 0, 0.3));\n",
              "      fill: #FFFFFF;\n",
              "    }\n",
              "  </style>\n",
              "\n",
              "    <script>\n",
              "      const buttonEl =\n",
              "        document.querySelector('#df-94537792-6bfa-46fb-bcf5-1975455e9668 button.colab-df-convert');\n",
              "      buttonEl.style.display =\n",
              "        google.colab.kernel.accessAllowed ? 'block' : 'none';\n",
              "\n",
              "      async function convertToInteractive(key) {\n",
              "        const element = document.querySelector('#df-94537792-6bfa-46fb-bcf5-1975455e9668');\n",
              "        const dataTable =\n",
              "          await google.colab.kernel.invokeFunction('convertToInteractive',\n",
              "                                                    [key], {});\n",
              "        if (!dataTable) return;\n",
              "\n",
              "        const docLinkHtml = 'Like what you see? Visit the ' +\n",
              "          '<a target=\"_blank\" href=https://colab.research.google.com/notebooks/data_table.ipynb>data table notebook</a>'\n",
              "          + ' to learn more about interactive tables.';\n",
              "        element.innerHTML = '';\n",
              "        dataTable['output_type'] = 'display_data';\n",
              "        await google.colab.output.renderOutput(dataTable, element);\n",
              "        const docLink = document.createElement('div');\n",
              "        docLink.innerHTML = docLinkHtml;\n",
              "        element.appendChild(docLink);\n",
              "      }\n",
              "    </script>\n",
              "  </div>\n",
              "\n",
              "\n",
              "<div id=\"df-84a4185a-8426-490d-8789-90729ecb1da3\">\n",
              "  <button class=\"colab-df-quickchart\" onclick=\"quickchart('df-84a4185a-8426-490d-8789-90729ecb1da3')\"\n",
              "            title=\"Suggest charts\"\n",
              "            style=\"display:none;\">\n",
              "\n",
              "<svg xmlns=\"http://www.w3.org/2000/svg\" height=\"24px\"viewBox=\"0 0 24 24\"\n",
              "     width=\"24px\">\n",
              "    <g>\n",
              "        <path d=\"M19 3H5c-1.1 0-2 .9-2 2v14c0 1.1.9 2 2 2h14c1.1 0 2-.9 2-2V5c0-1.1-.9-2-2-2zM9 17H7v-7h2v7zm4 0h-2V7h2v10zm4 0h-2v-4h2v4z\"/>\n",
              "    </g>\n",
              "</svg>\n",
              "  </button>\n",
              "\n",
              "<style>\n",
              "  .colab-df-quickchart {\n",
              "      --bg-color: #E8F0FE;\n",
              "      --fill-color: #1967D2;\n",
              "      --hover-bg-color: #E2EBFA;\n",
              "      --hover-fill-color: #174EA6;\n",
              "      --disabled-fill-color: #AAA;\n",
              "      --disabled-bg-color: #DDD;\n",
              "  }\n",
              "\n",
              "  [theme=dark] .colab-df-quickchart {\n",
              "      --bg-color: #3B4455;\n",
              "      --fill-color: #D2E3FC;\n",
              "      --hover-bg-color: #434B5C;\n",
              "      --hover-fill-color: #FFFFFF;\n",
              "      --disabled-bg-color: #3B4455;\n",
              "      --disabled-fill-color: #666;\n",
              "  }\n",
              "\n",
              "  .colab-df-quickchart {\n",
              "    background-color: var(--bg-color);\n",
              "    border: none;\n",
              "    border-radius: 50%;\n",
              "    cursor: pointer;\n",
              "    display: none;\n",
              "    fill: var(--fill-color);\n",
              "    height: 32px;\n",
              "    padding: 0;\n",
              "    width: 32px;\n",
              "  }\n",
              "\n",
              "  .colab-df-quickchart:hover {\n",
              "    background-color: var(--hover-bg-color);\n",
              "    box-shadow: 0 1px 2px rgba(60, 64, 67, 0.3), 0 1px 3px 1px rgba(60, 64, 67, 0.15);\n",
              "    fill: var(--button-hover-fill-color);\n",
              "  }\n",
              "\n",
              "  .colab-df-quickchart-complete:disabled,\n",
              "  .colab-df-quickchart-complete:disabled:hover {\n",
              "    background-color: var(--disabled-bg-color);\n",
              "    fill: var(--disabled-fill-color);\n",
              "    box-shadow: none;\n",
              "  }\n",
              "\n",
              "  .colab-df-spinner {\n",
              "    border: 2px solid var(--fill-color);\n",
              "    border-color: transparent;\n",
              "    border-bottom-color: var(--fill-color);\n",
              "    animation:\n",
              "      spin 1s steps(1) infinite;\n",
              "  }\n",
              "\n",
              "  @keyframes spin {\n",
              "    0% {\n",
              "      border-color: transparent;\n",
              "      border-bottom-color: var(--fill-color);\n",
              "      border-left-color: var(--fill-color);\n",
              "    }\n",
              "    20% {\n",
              "      border-color: transparent;\n",
              "      border-left-color: var(--fill-color);\n",
              "      border-top-color: var(--fill-color);\n",
              "    }\n",
              "    30% {\n",
              "      border-color: transparent;\n",
              "      border-left-color: var(--fill-color);\n",
              "      border-top-color: var(--fill-color);\n",
              "      border-right-color: var(--fill-color);\n",
              "    }\n",
              "    40% {\n",
              "      border-color: transparent;\n",
              "      border-right-color: var(--fill-color);\n",
              "      border-top-color: var(--fill-color);\n",
              "    }\n",
              "    60% {\n",
              "      border-color: transparent;\n",
              "      border-right-color: var(--fill-color);\n",
              "    }\n",
              "    80% {\n",
              "      border-color: transparent;\n",
              "      border-right-color: var(--fill-color);\n",
              "      border-bottom-color: var(--fill-color);\n",
              "    }\n",
              "    90% {\n",
              "      border-color: transparent;\n",
              "      border-bottom-color: var(--fill-color);\n",
              "    }\n",
              "  }\n",
              "</style>\n",
              "\n",
              "  <script>\n",
              "    async function quickchart(key) {\n",
              "      const quickchartButtonEl =\n",
              "        document.querySelector('#' + key + ' button');\n",
              "      quickchartButtonEl.disabled = true;  // To prevent multiple clicks.\n",
              "      quickchartButtonEl.classList.add('colab-df-spinner');\n",
              "      try {\n",
              "        const charts = await google.colab.kernel.invokeFunction(\n",
              "            'suggestCharts', [key], {});\n",
              "      } catch (error) {\n",
              "        console.error('Error during call to suggestCharts:', error);\n",
              "      }\n",
              "      quickchartButtonEl.classList.remove('colab-df-spinner');\n",
              "      quickchartButtonEl.classList.add('colab-df-quickchart-complete');\n",
              "    }\n",
              "    (() => {\n",
              "      let quickchartButtonEl =\n",
              "        document.querySelector('#df-84a4185a-8426-490d-8789-90729ecb1da3 button');\n",
              "      quickchartButtonEl.style.display =\n",
              "        google.colab.kernel.accessAllowed ? 'block' : 'none';\n",
              "    })();\n",
              "  </script>\n",
              "</div>\n",
              "\n",
              "    </div>\n",
              "  </div>\n"
            ],
            "application/vnd.google.colaboratory.intrinsic+json": {
              "type": "dataframe",
              "summary": "{\n  \"name\": \"df[df['Music Segments']==cluster][['Artist','Title','Top Genre','Year']]\",\n  \"rows\": 46,\n  \"fields\": [\n    {\n      \"column\": \"Index\",\n      \"properties\": {\n        \"dtype\": \"number\",\n        \"std\": 621,\n        \"min\": 47,\n        \"max\": 1991,\n        \"num_unique_values\": 46,\n        \"samples\": [\n          1759,\n          956,\n          958\n        ],\n        \"semantic_type\": \"\",\n        \"description\": \"\"\n      }\n    },\n    {\n      \"column\": \"Artist\",\n      \"properties\": {\n        \"dtype\": \"string\",\n        \"num_unique_values\": 39,\n        \"samples\": [\n          \"Paul de Leeuw\",\n          \"Stef Bos\",\n          \"The Weather Girls\"\n        ],\n        \"semantic_type\": \"\",\n        \"description\": \"\"\n      }\n    },\n    {\n      \"column\": \"Title\",\n      \"properties\": {\n        \"dtype\": \"string\",\n        \"num_unique_values\": 46,\n        \"samples\": [\n          \"Don't Let the Sun Go Down on Me\",\n          \"Love Is All\",\n          \"Gute Nacht Freunde\"\n        ],\n        \"semantic_type\": \"\",\n        \"description\": \"\"\n      }\n    },\n    {\n      \"column\": \"Top Genre\",\n      \"properties\": {\n        \"dtype\": \"string\",\n        \"num_unique_values\": 25,\n        \"samples\": [\n          \"dutch indie\",\n          \"adult standards\",\n          \"art rock\"\n        ],\n        \"semantic_type\": \"\",\n        \"description\": \"\"\n      }\n    },\n    {\n      \"column\": \"Year\",\n      \"properties\": {\n        \"dtype\": \"number\",\n        \"std\": 16,\n        \"min\": 1958,\n        \"max\": 2019,\n        \"num_unique_values\": 28,\n        \"samples\": [\n          2015,\n          1966,\n          2013\n        ],\n        \"semantic_type\": \"\",\n        \"description\": \"\"\n      }\n    }\n  ]\n}"
            }
          },
          "metadata": {},
          "execution_count": 36
        }
      ]
    },
    {
      "cell_type": "markdown",
      "source": [
        "Podemos ver los artistas en este cluster"
      ],
      "metadata": {
        "id": "YueDpOXR59u5"
      }
    },
    {
      "cell_type": "code",
      "source": [
        "df[df['Music Segments']==cluster]['Artist'].unique()"
      ],
      "metadata": {
        "id": "zEI8jGX86AUv",
        "colab": {
          "base_uri": "https://localhost:8080/"
        },
        "outputId": "3904c681-7639-45ff-a301-4491ea46eadc"
      },
      "execution_count": 37,
      "outputs": [
        {
          "output_type": "execute_result",
          "data": {
            "text/plain": [
              "array(['Lou Reed', 'Marco Borsato', 'Rowwen Hèze', 'Bram Vermeulen',\n",
              "       'The Weather Girls', 'Ramses Shaffy', 'John Mayer',\n",
              "       'Michel Sardou', 'Paul McCartney', 'Kyteman', 'Guus Meeuwis',\n",
              "       'De Kast', 'Claudia De Breij', 'Johnny Cash', 'Maggie MacNeal',\n",
              "       'Andre Hazes', 'BLØF', 'Drs. P', 'Derek & The Dominos',\n",
              "       'Wim Sonneveld', 'Lady Gaga', 'Snelle', 'The Beatles',\n",
              "       'Elvis Presley', 'Roger Glover', 'Reinhard Mey',\n",
              "       'Bruce Springsteen', 'Muddy Waters', 'The Babys',\n",
              "       'Herman Brood & His Wild Romance', 'Frank Zappa', 'Prince',\n",
              "       'Eric Clapton', 'Paul de Leeuw', 'Nirvana', 'George Michael',\n",
              "       'Stef Bos', 'Gilbert Bécaud', 'The Mamas & The Papas'],\n",
              "      dtype=object)"
            ]
          },
          "metadata": {},
          "execution_count": 37
        }
      ]
    },
    {
      "cell_type": "markdown",
      "source": [
        "Graficamos usando solamente 3 features. Usamos el módulo [plotly](https://plotly.com/python/) para gráficas interactivas.\n",
        "\n",
        "Otra alternativa es [Bokeh](https://bokeh.org/)."
      ],
      "metadata": {
        "id": "wcoMmKJDCHfP"
      }
    },
    {
      "cell_type": "code",
      "source": [
        "import plotly.graph_objects as go\n",
        "\n",
        "PLOT = go.Figure()\n",
        "\n",
        "for i in list(df[\"Music Segments\"].unique()):\n",
        "    PLOT.add_trace(go.Scatter3d(x = df[df[\"Music Segments\"]==i]['Beats Per Minute (BPM)'],\n",
        "                                    y = df[df[\"Music Segments\"] ==i]['Energy'],\n",
        "                                    z = df[df[\"Music Segments\"] ==i]['Danceability'],\n",
        "                                    mode = 'markers',marker_size = 6, marker_line_width = 1,\n",
        "                                    name = str(i)))\n",
        "PLOT.update_traces(hovertemplate='Beats Per Minute (BPM): %{x} <br>Energy: %{y} <br>Danceability: %{z}')\n",
        "\n",
        "PLOT.update_layout(width = 800, height = 800, autosize = True, showlegend = True,\n",
        "                   scene = dict(xaxis=dict(title = 'Beats Per Minute (BPM)', titlefont_color = 'black'),\n",
        "                                yaxis=dict(title = 'Energy', titlefont_color = 'black'),\n",
        "                                zaxis=dict(title = 'Danceability', titlefont_color = 'black')),\n",
        "                   font = dict(family = \"Arial\", color  = 'black', size = 12))\n",
        "\n",
        "PLOT.show()"
      ],
      "metadata": {
        "id": "m1dXHIGFUG04",
        "colab": {
          "base_uri": "https://localhost:8080/",
          "height": 837
        },
        "outputId": "356b5249-32fc-4cec-8edb-bd743cf45fbf"
      },
      "execution_count": 38,
      "outputs": [
        {
          "output_type": "display_data",
          "data": {
            "text/html": [
              "<html>\n",
              "<head><meta charset=\"utf-8\" /></head>\n",
              "<body>\n",
              "    <div>            <script src=\"https://cdnjs.cloudflare.com/ajax/libs/mathjax/2.7.5/MathJax.js?config=TeX-AMS-MML_SVG\"></script><script type=\"text/javascript\">if (window.MathJax && window.MathJax.Hub && window.MathJax.Hub.Config) {window.MathJax.Hub.Config({SVG: {font: \"STIX-Web\"}});}</script>                <script type=\"text/javascript\">window.PlotlyConfig = {MathJaxConfig: 'local'};</script>\n",
              "        <script charset=\"utf-8\" src=\"https://cdn.plot.ly/plotly-2.24.1.min.js\"></script>                <div id=\"228c6996-50a4-4626-9b71-64ad3583739b\" class=\"plotly-graph-div\" style=\"height:800px; width:800px;\"></div>            <script type=\"text/javascript\">                                    window.PLOTLYENV=window.PLOTLYENV || {};                                    if (document.getElementById(\"228c6996-50a4-4626-9b71-64ad3583739b\")) {                    Plotly.newPlot(                        \"228c6996-50a4-4626-9b71-64ad3583739b\",                        [{\"marker\":{\"line\":{\"width\":1},\"size\":6},\"mode\":\"markers\",\"name\":\"Cluster 2\",\"x\":[157,119,86,176,178,100,131,124,121,98,131,115,129,123,129,87,108,122,151,138,123,113,123,117,136,115,129,120,106,160,86,131,112,127,83,135,109,127,96,108,122,128,131,81,126,106,100,93,135,91,93,155,118,86,139,162,129,131,81,92,139,123,134,128,184,156,167,143,121,111,132,83,134,128,77,111,117,148,148,106,95,130,107,100,121,130,93,129,139,105,110,101,121,120,75,122,127,116,77,129,103,194,118,82,145,79,112,204,107,170,93,114,121,101,117,83,177,127,129,132,89,177,115,172,129,113,119,118,111,111,102,106,127,115,81,132,174,108,114,119,148,98,143,137,166,92,121,99,145,179,95,118,127,104,108,125,172,138,95,117,120,112,138,112,126,100,81,125,114,119,103,140,114,130,80,115,132,104,92,83,110,128,182,108,109,95,167,94,168,174,133],\"y\":[30,53,56,74,68,55,72,55,41,62,71,61,59,63,51,68,75,67,46,89,73,42,71,41,65,59,50,75,35,64,75,24,65,33,58,33,59,47,65,61,40,54,41,49,60,74,57,84,43,32,49,28,39,52,97,57,57,50,86,42,67,51,26,69,34,50,47,63,19,40,48,45,51,57,29,54,65,93,41,54,56,73,43,75,69,70,46,45,45,38,71,88,57,76,66,57,79,26,76,84,72,93,63,40,51,35,42,41,66,35,51,71,67,94,45,88,90,52,72,82,45,55,70,94,46,25,81,71,68,69,35,52,39,69,65,49,90,53,39,70,48,54,48,49,50,64,95,47,28,54,87,31,60,59,44,85,40,58,72,29,47,61,28,44,75,68,35,63,39,47,48,24,66,60,78,48,58,37,46,43,64,76,50,54,90,66,58,21,80,26,50],\"z\":[53,68,44,66,30,59,49,50,83,66,78,67,93,65,69,57,62,63,69,56,48,74,87,71,64,66,86,62,64,59,52,75,81,79,27,65,41,76,83,57,43,33,55,50,73,63,74,64,70,76,44,50,47,61,54,37,61,42,44,81,57,65,54,56,38,53,30,57,41,63,69,60,51,58,59,67,54,44,66,76,79,70,65,56,78,48,81,75,59,84,80,78,80,63,53,87,46,67,60,65,92,49,76,65,52,62,82,62,45,56,62,57,60,54,82,56,50,55,60,70,62,52,68,46,78,68,62,73,79,58,67,72,74,57,52,72,41,91,57,67,39,64,66,76,40,56,70,87,81,45,60,65,62,66,50,48,39,65,48,58,46,55,58,55,57,51,48,39,63,70,40,70,60,66,53,68,50,77,61,48,52,69,40,86,43,56,65,70,53,45,49],\"type\":\"scatter3d\",\"hovertemplate\":\"Beats Per Minute (BPM): %{x} \\u003cbr\\u003eEnergy: %{y} \\u003cbr\\u003eDanceability: %{z}\"},{\"marker\":{\"line\":{\"width\":1},\"size\":6},\"mode\":\"markers\",\"name\":\"Cluster 4\",\"x\":[135,106,112,96,148,118,131,166,103,105,132,106,136,103,120,91,93,89,115,138,129,98,138,105,120,133,125,127,117,91,180,114,130,94,95,175,174,139,133,143,109,80,100,115,125,103,141,87,100,124,130,106,119,117,77,97,147,110,120,123,133,128,140,127,132,170,146,100,141,105,151,116,148,117,120,126,160,139,97,160,94,118,115,117,111,121,130,131,129,92,100,112,126,128,111,116,124,124,140,103,107,108,178,116,119,121,103,105,147,130,104,109,129,120,147,170,114,171,106,131,125,124,144,117,98,128,118,110,138,129,133,141,136,107,108,119,106,81,107,177,109,135,123,119,127,107,106,137,76,177,119,98,127,148,134,96,123,93,122,121,131,104,128,151,155,136,132,127,119,134,116,118,119,82,115,120,114,110,127,133,169,127,120,145,110,151,131,119,143,131,108,122,118,172,93,117,141,170,98,94,113,127,122,125,134,125,122,105,127,143,177,120,92,124,105,139,129,118,117,126,135,82,84,87,131,121,185,114,143,174,123,130,128,115,92,136,123,111,174,111,132,106,88,131,115,118,113,119,134,125,113,126,153,169,181,125,132,103,115,142,104,130,102,102,153,145,115,140,113,112,144,131,109,156,104,117,175,126,160,92,117,94,125,104,98,91,120,107,124,76,142,97,119,129,98,85,119,98,139,127,107,130,127,110,104,126,125,104,103,142,121,153,93,143,104,116,86,160,111,139,99,136,95,97,127,151,115,90,95,130,133,179,121],\"y\":[79,82,81,89,76,82,72,75,86,73,55,84,80,86,60,63,77,47,97,93,72,69,56,66,92,81,92,66,75,94,66,60,71,70,88,79,78,77,72,74,58,97,83,89,74,95,92,65,63,56,70,73,81,73,89,79,90,41,59,84,80,71,86,90,63,69,92,93,71,88,95,81,84,78,60,81,82,88,74,80,54,72,61,74,90,73,70,46,64,85,88,75,83,78,74,74,69,89,49,76,77,58,80,47,84,63,88,66,91,85,72,65,93,78,59,89,59,46,60,58,54,54,75,91,61,64,44,61,75,49,67,82,83,74,70,83,72,71,57,78,88,94,52,72,71,69,80,69,52,48,64,65,60,87,75,70,78,72,56,38,87,39,85,81,94,86,76,78,82,80,87,53,60,52,73,66,54,53,77,72,70,38,74,89,89,43,53,88,76,42,39,93,74,60,37,65,66,70,94,60,83,82,92,71,63,80,65,40,63,76,80,80,73,46,79,83,92,82,96,80,58,57,90,66,82,67,52,46,83,61,89,78,76,91,80,77,96,27,54,86,93,58,63,88,49,67,94,82,45,70,84,73,74,83,62,69,63,69,56,85,74,68,25,59,45,97,88,81,81,68,59,86,51,48,79,91,79,86,85,94,77,61,91,82,64,61,79,71,65,56,82,70,53,67,41,94,58,91,80,79,79,82,35,86,88,88,92,86,61,63,80,63,74,90,87,92,68,80,53,81,69,86,73,78,49,58,56,75,41,62,66,77,39],\"z\":[50,58,65,63,91,67,64,70,63,68,85,70,67,70,85,67,52,86,60,55,61,67,74,95,67,86,52,66,61,62,50,88,66,83,62,35,68,53,87,71,74,73,71,74,69,54,58,61,63,80,79,79,85,49,69,71,53,67,79,47,74,73,79,73,69,57,64,64,75,66,58,79,52,52,85,64,65,64,66,65,79,78,86,64,64,67,68,60,67,68,62,91,69,81,66,67,83,77,57,53,60,74,66,74,63,61,76,75,60,59,55,65,63,56,56,32,63,54,65,67,68,47,66,57,60,51,48,66,75,72,67,57,51,55,68,48,82,45,59,39,62,59,72,67,67,69,67,55,73,65,91,69,62,73,62,49,61,53,78,76,70,69,77,58,48,72,80,71,88,65,64,67,83,48,71,79,81,93,53,68,44,56,71,64,64,63,87,72,56,88,80,63,73,53,67,92,58,75,62,81,74,89,85,69,65,74,60,61,43,60,54,71,67,93,58,51,74,78,57,63,69,62,57,63,60,76,73,69,54,76,53,67,78,63,53,52,54,90,65,56,64,76,53,66,73,75,73,71,60,63,71,70,45,55,61,63,55,52,78,53,66,64,96,77,69,71,66,61,64,60,62,74,74,62,59,50,46,67,58,67,65,64,45,72,48,74,66,85,76,59,58,62,47,62,85,44,73,53,76,77,75,55,53,77,80,58,64,53,71,76,96,57,67,72,73,61,87,49,69,59,60,72,53,41,73,49,81,42,54,44,64,51,72],\"type\":\"scatter3d\",\"hovertemplate\":\"Beats Per Minute (BPM): %{x} \\u003cbr\\u003eEnergy: %{y} \\u003cbr\\u003eDanceability: %{z}\"},{\"marker\":{\"line\":{\"width\":1},\"size\":6},\"mode\":\"markers\",\"name\":\"Cluster 6\",\"x\":[168,173,142,154,181,156,186,168,194,171,183,139,159,160,160,145,177,171,193,165,139,128,190,164,138,136,170,147,170,186,180,173,169,184,149,134,171,149,138,138,140,150,136,164,150,153,172,172,174,144,186,169,153,166,183,156,172,168,166,172,131,180,152,145,170,142,168,148,152,162,167,156,170,171,168,164,142,163,150,150,170,145,167,135,145,168,168,140,171,174,174,140,178,198,180,197,140,142,163,154,171,203,175,161,161,168,168,146,147,141,142,173,159,152,148,172,175,148,169,156,167,188,175,140,174,159,149,140,196,191,180,150,134,198,153,206,180,141,186,160,174,172,167,181,153,157,165,144,160,147,171,140,203,176,159,167,141,150,168,174,175,163,150,137,169,171,158,164,142,144,136,204,150,181,177,159,169,184,146,145,142,140,165,197],\"y\":[69,96,51,70,59,79,99,57,43,58,44,48,67,71,85,91,76,74,58,56,77,91,76,76,55,97,61,93,66,87,66,66,65,82,88,88,64,81,62,84,82,81,93,54,92,91,66,76,45,77,54,88,84,56,50,91,96,94,87,76,76,42,88,56,75,96,77,70,86,82,89,87,64,50,76,72,92,79,83,43,49,91,68,83,91,93,82,68,75,72,44,57,64,61,63,64,71,66,66,38,73,82,59,84,56,60,47,94,51,93,70,87,84,67,48,84,66,91,84,97,74,70,72,51,94,54,94,59,93,93,95,80,86,52,64,89,76,98,44,61,89,80,61,53,78,88,60,94,98,87,50,65,64,60,96,64,66,63,94,52,87,92,82,76,72,92,88,85,95,90,92,47,79,85,37,80,77,53,73,46,97,44,38,71],\"z\":[66,43,60,68,56,29,38,38,35,51,56,52,43,50,55,38,58,69,43,48,55,60,79,50,59,41,45,51,46,34,51,43,26,26,18,63,46,52,49,47,42,49,54,78,35,54,45,45,46,51,30,35,32,41,45,48,60,48,36,34,48,50,51,60,45,46,38,49,46,46,49,37,73,36,43,48,56,39,38,49,28,57,50,46,55,51,61,51,56,43,64,34,38,30,47,18,62,36,42,35,35,27,23,26,44,54,28,27,58,33,46,33,29,55,81,20,39,27,47,31,49,31,31,80,25,58,53,38,31,40,44,25,50,70,36,38,26,31,24,43,36,21,38,39,26,44,31,43,41,64,40,47,26,50,37,31,38,34,32,81,37,33,55,60,41,36,41,25,53,43,47,24,34,15,43,46,35,41,44,31,48,30,53,31],\"type\":\"scatter3d\",\"hovertemplate\":\"Beats Per Minute (BPM): %{x} \\u003cbr\\u003eEnergy: %{y} \\u003cbr\\u003eDanceability: %{z}\"},{\"marker\":{\"line\":{\"width\":1},\"size\":6},\"mode\":\"markers\",\"name\":\"Cluster 8\",\"x\":[99,137,148,124,123,127,87,138,152,138,75,76,122,96,123,136,131,128,130,112,122,68,137,129,130,120,75,101,127,97,92,129,92,109,133,120,122,138,105,116,135,142,124,144,90,113,123,133,145,110,118,139,98,127,116,111,131,123,122,76,135,114,88,104,171,85,131,140,105,95,118,128,115,111,127,131,123,108,115,110,117,126,140,138,104,138,97,126,168,118,140,135,138,88,142,107,100,154,132,130,116,86,128,128,108,121,85,140,125,140,93,130,94,114,128,128,121,128,130,123,121,106,87,116,92,98,74,120,95,114,120,132,115,114,96,69,152,105,100,98,128,120,109,100,105,86,114,120,120,132,139,127,76,119,117,131,133,133,127,102,85,123,82,80,90,102,102,89,130,128,112,109,104,135,112,134,127,112,146,140,125,137,99,113,98,130,117,90,118,120,75,110,126,124,97,90,114,127,110,125,86,119,92,90,147,126,134,120,140,138,80,142,73,109,132,139,89,105,125,131,81,104,120,110,125,143,145,144,91,92,95,130,112,94,116,113,105,90,120,94,145,84,128,74,149,54,88,132,127,61,81,75,96,133,136,113,76,119,130,87,77,102,128,121,77,102,109,96,128,81,117,150,96,90,130,125,95,98,150,95,112,127,117,97,103,106,111,80,129,134,95,103,118,89],\"y\":[46,96,92,46,90,54,31,42,81,64,64,77,77,60,59,43,80,40,70,81,74,72,72,82,94,56,92,78,56,55,57,39,57,78,20,69,87,85,81,62,75,48,46,55,25,95,73,88,59,76,73,77,73,93,88,84,90,93,97,58,77,30,87,59,48,58,91,55,59,94,77,80,64,66,59,42,81,72,61,56,62,83,59,78,61,87,73,79,82,73,51,66,74,40,75,69,76,58,68,83,81,41,79,87,88,66,43,63,64,95,48,70,34,34,58,93,48,46,93,92,62,67,65,50,74,55,51,47,45,59,60,69,71,32,62,62,60,66,61,73,49,85,52,71,52,61,79,83,90,87,53,46,66,36,72,70,33,76,62,72,60,42,50,33,90,58,37,59,46,49,69,68,56,89,71,98,37,30,34,98,59,74,68,93,41,62,67,100,84,92,53,43,72,99,69,82,89,86,53,28,58,91,84,86,18,67,89,57,63,57,64,36,73,85,74,60,76,94,59,37,55,60,57,87,77,43,44,55,47,43,43,42,75,48,85,63,83,82,43,45,99,79,87,23,67,56,38,39,58,36,54,51,66,88,99,37,39,50,82,49,52,59,51,66,42,39,50,80,80,90,27,59,77,40,66,96,64,62,40,91,65,92,58,15,13,30,32,29,54,34,72,59,62,55],\"z\":[54,37,36,74,52,38,27,21,32,71,37,46,30,53,48,28,75,40,52,53,64,60,28,53,37,41,51,44,61,62,62,59,26,70,34,79,55,60,55,49,51,57,53,54,52,22,49,46,43,50,45,44,60,42,74,62,61,45,45,35,47,70,25,56,26,50,47,56,43,33,53,45,60,87,40,31,50,58,37,71,48,60,45,48,28,23,50,60,51,43,44,53,43,37,50,30,51,27,52,55,73,21,57,68,54,60,67,39,55,58,74,76,38,44,57,52,66,72,48,45,88,57,66,58,70,37,36,77,60,49,52,34,63,50,41,59,32,40,70,67,41,60,57,55,77,51,60,43,52,47,59,34,22,39,49,32,27,41,39,50,27,40,33,49,47,52,82,39,43,38,50,38,43,33,37,32,47,59,51,32,38,43,37,26,75,54,60,28,54,46,44,54,49,45,67,29,79,54,52,53,54,28,41,57,36,51,50,51,46,37,29,56,21,28,50,54,36,39,46,53,55,66,61,31,65,47,42,27,53,52,44,53,42,31,54,45,35,40,51,36,64,10,55,45,29,36,42,35,79,34,56,36,64,49,61,47,26,75,68,59,44,59,57,38,62,48,27,22,57,39,39,44,59,62,44,46,30,60,45,92,58,63,30,52,59,35,65,26,56,40,27,47,48,38],\"type\":\"scatter3d\",\"hovertemplate\":\"Beats Per Minute (BPM): %{x} \\u003cbr\\u003eEnergy: %{y} \\u003cbr\\u003eDanceability: %{z}\"},{\"marker\":{\"line\":{\"width\":1},\"size\":6},\"mode\":\"markers\",\"name\":\"Cluster 1\",\"x\":[102,112,138,112,123,105,100,99,132,99,81,110,79,105,120,115,92,105,101,94,75,123,99,126,96,94,103,114,115,92,115,98,94,111,111,118,110,79,105,100,112,130,90,136,135,110,106,74,87,72,100,96,120,143,132,93,119,110,116,123,110,104,122,109,120,89,108,95,103,120,79,130,90,104,123,85,80,130,92,103,124,71,85,125,127,110,77,110,81,108,134,99,105,102,122,116,128,124,117,125,112,89,136,98,113,130,123,100,107,95,90,125,135,128,103,116,92,91,109,82,68,87,132,124,94,111,124,98,94,113,124,137,127,121,119,93,91,96,124,106,109,117,81,125,130,127,126,119,125,91,106,125,98,112,104,104,89,91,91,105,133,114,88,96,83,77,123,122,118,116,120,105,131,101,125,117,137,94,82,121,119,78,115,119,125,95,115,120,117,126,112,81,122,81,135,127,115,115,134,103,117,109,110,99,98,110,105,82,114,96,82,89,113,125,101,100,99,118,114,128,119,103,102,101,116,129,98,122,74,125,115,90,132,94,84,116,120,108,85,75,123,85,120,123,127,89,117,100,99,89,106,101,136,134,131,115,123,102,118,86,116,93,132,99,90,94,80,76,122,130,122,90,123,89,95,98,133,96,103,118,117,108,110,89,123,97,130,109,117,137,125,71,65,109,112,108,100,115,113,110,102,99,126,90,124,80,117,101,87,129],\"y\":[71,67,99,74,68,68,85,70,41,87,65,96,60,91,76,67,90,86,69,84,67,72,77,95,64,77,81,83,72,95,70,50,70,87,57,84,87,64,90,78,78,49,52,98,80,78,68,63,78,87,80,91,91,83,84,93,92,80,59,70,77,57,71,84,39,73,68,47,69,93,73,83,71,63,73,87,81,73,71,76,78,63,53,78,72,85,51,64,76,87,92,68,76,73,71,78,87,85,79,88,92,82,90,72,83,70,75,53,80,84,40,78,66,78,64,83,87,70,41,90,58,93,71,86,68,75,76,56,45,93,80,47,41,70,50,46,38,31,71,68,78,85,64,60,80,54,69,76,70,42,96,76,58,76,97,54,75,73,82,50,49,35,69,90,67,57,80,72,62,91,49,36,67,75,93,54,69,38,77,73,76,51,60,73,55,56,74,79,35,76,50,47,95,61,75,81,78,68,66,91,47,60,71,50,94,47,83,42,77,68,28,65,95,95,77,98,51,98,85,84,63,69,65,84,67,74,41,31,42,76,77,41,88,56,45,39,79,57,40,88,82,35,82,66,79,85,61,66,67,83,67,83,76,56,59,52,92,51,97,83,62,26,86,65,91,77,51,71,83,47,72,86,73,65,43,91,97,50,90,57,58,84,89,72,80,74,62,43,49,90,47,53,33,91,67,69,73,65,81,58,44,56,49,90,72,45,39,42,55,41],\"z\":[71,91,51,65,53,28,58,69,62,55,50,43,56,46,70,72,50,56,62,52,30,82,65,51,59,37,71,42,53,66,73,52,63,60,70,59,51,47,43,60,58,95,63,54,56,65,38,46,36,43,71,56,55,44,61,44,70,58,68,61,56,77,70,64,62,63,61,37,55,51,50,51,51,67,54,42,37,53,56,45,53,51,55,55,68,78,57,70,50,74,59,62,73,48,66,65,58,62,40,60,64,53,65,68,67,66,59,56,82,60,73,78,67,67,62,52,51,54,81,58,23,50,42,79,54,67,40,70,49,56,60,47,71,54,46,45,25,69,46,66,44,28,55,48,41,58,64,52,42,44,68,84,52,49,39,71,61,49,53,70,52,50,43,47,43,54,44,36,65,57,75,63,58,36,62,59,49,56,56,40,66,38,62,87,44,57,65,54,72,65,74,48,40,58,73,56,62,43,67,57,73,82,66,29,51,66,54,44,56,64,52,62,65,45,56,27,60,85,88,49,71,44,56,60,65,48,58,72,69,64,68,63,49,72,62,65,70,66,52,28,58,56,50,68,43,63,53,67,69,47,56,31,53,56,43,65,51,49,57,41,80,33,61,59,86,53,65,52,59,80,40,53,72,87,48,51,51,92,35,68,73,72,60,60,46,57,77,72,52,60,60,52,31,53,50,51,39,45,44,55,48,45,51,41,54,39,68,48,27,46],\"type\":\"scatter3d\",\"hovertemplate\":\"Beats Per Minute (BPM): %{x} \\u003cbr\\u003eEnergy: %{y} \\u003cbr\\u003eDanceability: %{z}\"},{\"marker\":{\"line\":{\"width\":1},\"size\":6},\"mode\":\"markers\",\"name\":\"Cluster 5\",\"x\":[109,133,142,88,72,108,90,77,101,83,110,61,104,93,125,119,128,124,126,99,79,104,112,100,110,92,105,162,124,144,174,95,113,73,123,67,128,78,117,137,83,94,74,91,99,135,155,80,82,89,116,166,131,126,122,78,85,73,119,112,126,123,76,120,78,131,93,80,135,147,174,122,95,100,123,106,109,90,142,105,108,98,84,90,103,86,110,87,87,89,73,72,106,113,80,128,99,92,140,132,148,159,89,128,76,92,123,138,169,87,92,119,145,136,105,86,60,116,73,140,90,146,83,136,138,79,138,159,134,81,125,105,37,68,135,96,184,102,90,67,134,113,129,133,121,112,84,111,114,73,132,90,79,81,110,108,123,94,125,161,104,101,134,172,115,91,96,82,120,121,87,95,129,125,142,115,102,87,120,75,89,125,67,74,84,97,90,78,135,123,124,87,98,99,70,100,94,136,126,99,76,177,153,77,81,80,99,91,116,136,154,127,77,100,175,66,111,107,97,79,113,80,83,129,93,127,81,132,95,144,105,128,90,94,77,170,89,136,121,75,119,168],\"y\":[5,42,24,20,21,35,26,18,24,25,35,13,44,37,41,38,37,46,17,48,27,29,8,19,33,38,44,33,33,34,6,26,55,18,34,13,30,14,18,33,53,18,17,30,19,33,20,45,52,57,33,29,32,32,26,20,32,28,26,31,34,54,5,26,40,22,41,37,23,31,13,39,42,38,55,27,33,21,28,24,7,21,20,24,31,22,41,38,25,34,25,33,32,17,21,32,26,36,21,33,21,17,25,36,26,9,38,48,26,11,28,4,27,16,32,22,22,22,30,24,47,31,18,14,32,18,29,16,52,25,27,29,25,45,28,21,9,33,26,12,23,21,23,38,32,32,10,42,19,26,7,14,27,25,8,55,41,13,6,26,6,31,38,14,8,27,32,20,30,8,35,20,16,47,18,31,56,33,32,19,26,15,21,30,37,14,26,31,37,36,43,33,37,29,13,33,9,37,31,28,40,21,23,13,20,9,29,22,19,17,24,10,17,29,10,9,24,22,18,33,28,14,75,25,38,18,24,17,40,26,55,21,38,13,17,34,27,6,3,66,24,7],\"z\":[44,42,34,73,46,47,43,55,42,42,39,27,29,48,67,52,61,56,33,59,19,66,53,48,63,57,29,56,76,64,35,47,67,26,45,47,48,26,54,51,66,56,33,28,65,56,42,31,43,53,53,38,29,65,39,24,52,61,46,62,47,45,63,42,57,46,67,56,40,55,50,58,50,61,55,72,67,12,59,61,52,61,59,59,40,43,50,35,41,71,49,45,52,68,15,55,71,41,59,30,33,48,53,38,55,42,44,53,47,70,70,47,40,44,57,54,23,28,36,25,37,30,30,45,26,33,27,41,40,25,62,46,27,44,30,57,39,34,25,16,35,38,42,51,50,38,55,56,69,52,19,27,34,39,52,63,70,60,41,54,49,61,44,39,67,40,61,32,46,50,39,54,63,60,44,69,78,63,74,49,52,59,31,43,54,32,75,51,24,30,42,52,48,49,35,43,48,53,45,43,34,49,38,44,37,46,27,69,56,54,50,34,50,40,38,36,60,53,33,40,33,22,39,34,49,56,54,41,54,36,52,38,42,69,27,25,40,32,31,40,75,17],\"type\":\"scatter3d\",\"hovertemplate\":\"Beats Per Minute (BPM): %{x} \\u003cbr\\u003eEnergy: %{y} \\u003cbr\\u003eDanceability: %{z}\"},{\"marker\":{\"line\":{\"width\":1},\"size\":6},\"mode\":\"markers\",\"name\":\"Cluster 9\",\"x\":[102,117,168,92,92,160,162,107,85,128,159,80,104,110,174,131,96,105,114,139,90,112,174,131,94,136,135,111,92,125,95,189,147,118,116,147,121,104,141,100,134,134,78,89,101,127,135,125,156,91,95,115,106,117,105,136,119,117,127,129,147,117,113,106,126,111,144,154,135,140,120,102,92,134,103,92,135,110,106,133,122,127,149,96,85,122,117,127],\"y\":[88,93,60,76,69,74,62,79,76,77,99,77,86,86,96,96,63,86,89,71,66,77,92,83,75,78,72,64,88,88,79,76,68,89,87,89,76,51,63,45,51,75,68,64,88,79,89,68,87,82,85,85,68,92,78,92,75,79,96,94,95,71,45,84,99,85,91,95,90,90,34,72,65,82,75,29,72,86,85,80,98,90,90,67,56,72,38,87],\"z\":[54,38,58,52,76,27,32,69,37,74,24,78,54,50,49,62,66,64,59,82,54,65,55,43,65,45,76,62,66,56,36,43,40,76,55,55,61,38,41,49,45,29,66,57,54,48,50,46,56,67,60,73,63,64,55,37,50,61,65,70,26,66,37,46,73,64,59,35,40,23,82,59,48,72,35,77,27,33,54,52,71,56,43,45,40,62,49,41],\"type\":\"scatter3d\",\"hovertemplate\":\"Beats Per Minute (BPM): %{x} \\u003cbr\\u003eEnergy: %{y} \\u003cbr\\u003eDanceability: %{z}\"},{\"marker\":{\"line\":{\"width\":1},\"size\":6},\"mode\":\"markers\",\"name\":\"Cluster 10\",\"x\":[74,80,122,88,109,79,58,96,123,100,80,91,76,70,115,83,98,79,81,90,98,75,82,82,81,108,94,96,82,97,92,100,85,79,79,76,95,75,79,116,108,84,86,85,83,90,78,49,108,72,75,80,103,90,90,96,82,105,97,98,76,82,80,122,115,83,109,81,99,109,120,121,92,112,104,81,111,104,81,64,94,102,80,77,98,125,84,77,104,81,87,82,76,114,61,117,115,110,86,79,106,90,86,112,73,77,110,85,105,104,119,98,82,84,94,91,81,92,77,87,83,113,81,116,94,113,104,105,90,115,75,93,94,100,73,110,73,84,68,71,89,94,122,84,87,119,99,103,100,85,107,125,98,80,76,82,112,119,63,86,75,91],\"y\":[65,47,87,32,42,36,40,38,69,63,72,59,57,59,55,63,35,48,41,39,68,41,25,48,39,74,50,52,47,55,81,80,29,33,60,55,55,55,45,39,38,42,28,41,41,74,40,37,40,26,71,66,63,39,30,39,36,47,38,59,35,34,42,57,31,42,78,60,57,33,48,47,38,36,46,54,53,41,50,46,32,63,48,56,93,39,56,70,37,62,57,45,24,71,25,34,57,31,42,44,66,55,51,80,45,29,31,50,55,29,65,42,38,37,35,37,42,13,68,40,69,40,49,83,32,31,34,67,43,75,41,57,29,80,34,43,40,54,51,58,77,46,51,48,35,26,21,44,65,48,29,73,50,50,44,24,52,63,13,62,38,46],\"z\":[62,62,64,52,35,53,25,54,69,61,51,56,46,43,54,41,54,48,66,53,62,33,53,68,14,59,51,32,41,74,70,59,64,40,51,35,78,48,78,69,61,42,32,17,27,49,54,39,49,35,60,55,48,52,64,57,28,72,40,82,61,34,48,39,55,47,45,22,56,56,36,56,59,48,31,48,35,79,69,27,48,68,59,66,42,48,53,41,55,63,60,51,18,67,49,65,59,40,30,22,65,50,71,65,53,55,67,42,75,71,32,52,68,45,64,75,15,63,36,14,31,69,53,64,47,65,65,42,39,48,52,58,74,79,44,60,41,77,33,39,41,56,48,50,27,67,34,69,53,20,55,41,39,50,31,55,46,63,53,32,40,55],\"type\":\"scatter3d\",\"hovertemplate\":\"Beats Per Minute (BPM): %{x} \\u003cbr\\u003eEnergy: %{y} \\u003cbr\\u003eDanceability: %{z}\"},{\"marker\":{\"line\":{\"width\":1},\"size\":6},\"mode\":\"markers\",\"name\":\"Cluster 7\",\"x\":[130,146,149,124,160,122,138,171,141,173,159,130,166,170,179,128,134,184,205,179,170,186,120,144,146,182,199,131,134,131,149,137,155,124,174,144,146,129,134,146,175,130,146,161,134,170,158,144,142,163,190,146,125,148,150,143,136,131,134,140,145,133,125,135,137,136,161,181,140,169,144,134,129,180,126,121,123,118,140,178,135,177,200,133,137,135,125,151,178,170,179,190,159,176,171,137,123,116,131,123,116,175,156,139,144,132,170,152,132,130,138,142,153,174,132,139,132,138,138,119,136,160,150,174,138,155,121,137,164,166,167,174,139,140,174,133,133,167,144,176,145,129,156,154],\"y\":[48,44,30,59,61,49,44,20,30,55,64,41,57,54,47,52,36,44,47,54,68,40,49,44,40,24,36,75,53,28,20,30,54,39,28,40,58,66,71,69,52,44,45,38,41,46,45,59,66,51,53,28,40,63,66,40,33,79,32,39,43,32,53,92,53,55,43,39,40,38,40,58,37,43,28,37,65,17,42,34,31,32,42,43,34,27,67,32,29,28,36,24,57,26,34,48,16,28,31,13,31,45,41,52,48,29,39,52,27,51,55,28,40,33,47,43,53,44,45,25,46,61,80,42,62,47,36,24,43,49,61,38,28,43,38,47,36,52,55,91,43,44,30,36],\"z\":[55,56,33,47,36,35,46,34,71,34,52,61,32,51,33,64,67,27,38,29,44,32,60,47,38,19,28,58,59,33,28,59,27,61,36,56,47,57,33,59,48,72,54,35,46,18,48,38,46,49,26,49,50,49,25,44,50,31,28,43,41,42,68,69,60,43,31,36,51,23,39,30,43,22,55,51,55,43,32,39,41,29,29,39,54,55,42,38,30,47,53,45,35,31,28,49,46,44,50,50,32,42,45,51,34,55,19,45,32,57,33,39,54,38,57,57,58,50,49,54,53,28,29,53,63,34,57,61,26,38,24,44,49,44,21,40,59,18,63,21,31,54,40,45],\"type\":\"scatter3d\",\"hovertemplate\":\"Beats Per Minute (BPM): %{x} \\u003cbr\\u003eEnergy: %{y} \\u003cbr\\u003eDanceability: %{z}\"},{\"marker\":{\"line\":{\"width\":1},\"size\":6},\"mode\":\"markers\",\"name\":\"Cluster 3\",\"x\":[115,104,157,136,136,130,173,112,150,68,81,130,132,105,117,100,184,84,148,114,114,130,96,123,92,112,100,141,111,117,92,133,120,99,94,176,109,115,84,135,134,131,135,110,163,175],\"y\":[46,92,93,85,93,32,30,59,93,47,56,49,29,46,45,47,51,40,60,93,44,50,35,59,53,81,25,76,74,93,61,64,32,64,52,47,59,39,13,55,51,48,63,46,46,76],\"z\":[83,66,23,58,66,53,32,30,24,35,37,41,54,52,49,32,35,70,51,41,37,55,51,76,39,60,55,37,60,52,63,55,43,44,56,35,57,62,21,44,41,30,42,49,36,36],\"type\":\"scatter3d\",\"hovertemplate\":\"Beats Per Minute (BPM): %{x} \\u003cbr\\u003eEnergy: %{y} \\u003cbr\\u003eDanceability: %{z}\"}],                        {\"template\":{\"data\":{\"histogram2dcontour\":[{\"type\":\"histogram2dcontour\",\"colorbar\":{\"outlinewidth\":0,\"ticks\":\"\"},\"colorscale\":[[0.0,\"#0d0887\"],[0.1111111111111111,\"#46039f\"],[0.2222222222222222,\"#7201a8\"],[0.3333333333333333,\"#9c179e\"],[0.4444444444444444,\"#bd3786\"],[0.5555555555555556,\"#d8576b\"],[0.6666666666666666,\"#ed7953\"],[0.7777777777777778,\"#fb9f3a\"],[0.8888888888888888,\"#fdca26\"],[1.0,\"#f0f921\"]]}],\"choropleth\":[{\"type\":\"choropleth\",\"colorbar\":{\"outlinewidth\":0,\"ticks\":\"\"}}],\"histogram2d\":[{\"type\":\"histogram2d\",\"colorbar\":{\"outlinewidth\":0,\"ticks\":\"\"},\"colorscale\":[[0.0,\"#0d0887\"],[0.1111111111111111,\"#46039f\"],[0.2222222222222222,\"#7201a8\"],[0.3333333333333333,\"#9c179e\"],[0.4444444444444444,\"#bd3786\"],[0.5555555555555556,\"#d8576b\"],[0.6666666666666666,\"#ed7953\"],[0.7777777777777778,\"#fb9f3a\"],[0.8888888888888888,\"#fdca26\"],[1.0,\"#f0f921\"]]}],\"heatmap\":[{\"type\":\"heatmap\",\"colorbar\":{\"outlinewidth\":0,\"ticks\":\"\"},\"colorscale\":[[0.0,\"#0d0887\"],[0.1111111111111111,\"#46039f\"],[0.2222222222222222,\"#7201a8\"],[0.3333333333333333,\"#9c179e\"],[0.4444444444444444,\"#bd3786\"],[0.5555555555555556,\"#d8576b\"],[0.6666666666666666,\"#ed7953\"],[0.7777777777777778,\"#fb9f3a\"],[0.8888888888888888,\"#fdca26\"],[1.0,\"#f0f921\"]]}],\"heatmapgl\":[{\"type\":\"heatmapgl\",\"colorbar\":{\"outlinewidth\":0,\"ticks\":\"\"},\"colorscale\":[[0.0,\"#0d0887\"],[0.1111111111111111,\"#46039f\"],[0.2222222222222222,\"#7201a8\"],[0.3333333333333333,\"#9c179e\"],[0.4444444444444444,\"#bd3786\"],[0.5555555555555556,\"#d8576b\"],[0.6666666666666666,\"#ed7953\"],[0.7777777777777778,\"#fb9f3a\"],[0.8888888888888888,\"#fdca26\"],[1.0,\"#f0f921\"]]}],\"contourcarpet\":[{\"type\":\"contourcarpet\",\"colorbar\":{\"outlinewidth\":0,\"ticks\":\"\"}}],\"contour\":[{\"type\":\"contour\",\"colorbar\":{\"outlinewidth\":0,\"ticks\":\"\"},\"colorscale\":[[0.0,\"#0d0887\"],[0.1111111111111111,\"#46039f\"],[0.2222222222222222,\"#7201a8\"],[0.3333333333333333,\"#9c179e\"],[0.4444444444444444,\"#bd3786\"],[0.5555555555555556,\"#d8576b\"],[0.6666666666666666,\"#ed7953\"],[0.7777777777777778,\"#fb9f3a\"],[0.8888888888888888,\"#fdca26\"],[1.0,\"#f0f921\"]]}],\"surface\":[{\"type\":\"surface\",\"colorbar\":{\"outlinewidth\":0,\"ticks\":\"\"},\"colorscale\":[[0.0,\"#0d0887\"],[0.1111111111111111,\"#46039f\"],[0.2222222222222222,\"#7201a8\"],[0.3333333333333333,\"#9c179e\"],[0.4444444444444444,\"#bd3786\"],[0.5555555555555556,\"#d8576b\"],[0.6666666666666666,\"#ed7953\"],[0.7777777777777778,\"#fb9f3a\"],[0.8888888888888888,\"#fdca26\"],[1.0,\"#f0f921\"]]}],\"mesh3d\":[{\"type\":\"mesh3d\",\"colorbar\":{\"outlinewidth\":0,\"ticks\":\"\"}}],\"scatter\":[{\"fillpattern\":{\"fillmode\":\"overlay\",\"size\":10,\"solidity\":0.2},\"type\":\"scatter\"}],\"parcoords\":[{\"type\":\"parcoords\",\"line\":{\"colorbar\":{\"outlinewidth\":0,\"ticks\":\"\"}}}],\"scatterpolargl\":[{\"type\":\"scatterpolargl\",\"marker\":{\"colorbar\":{\"outlinewidth\":0,\"ticks\":\"\"}}}],\"bar\":[{\"error_x\":{\"color\":\"#2a3f5f\"},\"error_y\":{\"color\":\"#2a3f5f\"},\"marker\":{\"line\":{\"color\":\"#E5ECF6\",\"width\":0.5},\"pattern\":{\"fillmode\":\"overlay\",\"size\":10,\"solidity\":0.2}},\"type\":\"bar\"}],\"scattergeo\":[{\"type\":\"scattergeo\",\"marker\":{\"colorbar\":{\"outlinewidth\":0,\"ticks\":\"\"}}}],\"scatterpolar\":[{\"type\":\"scatterpolar\",\"marker\":{\"colorbar\":{\"outlinewidth\":0,\"ticks\":\"\"}}}],\"histogram\":[{\"marker\":{\"pattern\":{\"fillmode\":\"overlay\",\"size\":10,\"solidity\":0.2}},\"type\":\"histogram\"}],\"scattergl\":[{\"type\":\"scattergl\",\"marker\":{\"colorbar\":{\"outlinewidth\":0,\"ticks\":\"\"}}}],\"scatter3d\":[{\"type\":\"scatter3d\",\"line\":{\"colorbar\":{\"outlinewidth\":0,\"ticks\":\"\"}},\"marker\":{\"colorbar\":{\"outlinewidth\":0,\"ticks\":\"\"}}}],\"scattermapbox\":[{\"type\":\"scattermapbox\",\"marker\":{\"colorbar\":{\"outlinewidth\":0,\"ticks\":\"\"}}}],\"scatterternary\":[{\"type\":\"scatterternary\",\"marker\":{\"colorbar\":{\"outlinewidth\":0,\"ticks\":\"\"}}}],\"scattercarpet\":[{\"type\":\"scattercarpet\",\"marker\":{\"colorbar\":{\"outlinewidth\":0,\"ticks\":\"\"}}}],\"carpet\":[{\"aaxis\":{\"endlinecolor\":\"#2a3f5f\",\"gridcolor\":\"white\",\"linecolor\":\"white\",\"minorgridcolor\":\"white\",\"startlinecolor\":\"#2a3f5f\"},\"baxis\":{\"endlinecolor\":\"#2a3f5f\",\"gridcolor\":\"white\",\"linecolor\":\"white\",\"minorgridcolor\":\"white\",\"startlinecolor\":\"#2a3f5f\"},\"type\":\"carpet\"}],\"table\":[{\"cells\":{\"fill\":{\"color\":\"#EBF0F8\"},\"line\":{\"color\":\"white\"}},\"header\":{\"fill\":{\"color\":\"#C8D4E3\"},\"line\":{\"color\":\"white\"}},\"type\":\"table\"}],\"barpolar\":[{\"marker\":{\"line\":{\"color\":\"#E5ECF6\",\"width\":0.5},\"pattern\":{\"fillmode\":\"overlay\",\"size\":10,\"solidity\":0.2}},\"type\":\"barpolar\"}],\"pie\":[{\"automargin\":true,\"type\":\"pie\"}]},\"layout\":{\"autotypenumbers\":\"strict\",\"colorway\":[\"#636efa\",\"#EF553B\",\"#00cc96\",\"#ab63fa\",\"#FFA15A\",\"#19d3f3\",\"#FF6692\",\"#B6E880\",\"#FF97FF\",\"#FECB52\"],\"font\":{\"color\":\"#2a3f5f\"},\"hovermode\":\"closest\",\"hoverlabel\":{\"align\":\"left\"},\"paper_bgcolor\":\"white\",\"plot_bgcolor\":\"#E5ECF6\",\"polar\":{\"bgcolor\":\"#E5ECF6\",\"angularaxis\":{\"gridcolor\":\"white\",\"linecolor\":\"white\",\"ticks\":\"\"},\"radialaxis\":{\"gridcolor\":\"white\",\"linecolor\":\"white\",\"ticks\":\"\"}},\"ternary\":{\"bgcolor\":\"#E5ECF6\",\"aaxis\":{\"gridcolor\":\"white\",\"linecolor\":\"white\",\"ticks\":\"\"},\"baxis\":{\"gridcolor\":\"white\",\"linecolor\":\"white\",\"ticks\":\"\"},\"caxis\":{\"gridcolor\":\"white\",\"linecolor\":\"white\",\"ticks\":\"\"}},\"coloraxis\":{\"colorbar\":{\"outlinewidth\":0,\"ticks\":\"\"}},\"colorscale\":{\"sequential\":[[0.0,\"#0d0887\"],[0.1111111111111111,\"#46039f\"],[0.2222222222222222,\"#7201a8\"],[0.3333333333333333,\"#9c179e\"],[0.4444444444444444,\"#bd3786\"],[0.5555555555555556,\"#d8576b\"],[0.6666666666666666,\"#ed7953\"],[0.7777777777777778,\"#fb9f3a\"],[0.8888888888888888,\"#fdca26\"],[1.0,\"#f0f921\"]],\"sequentialminus\":[[0.0,\"#0d0887\"],[0.1111111111111111,\"#46039f\"],[0.2222222222222222,\"#7201a8\"],[0.3333333333333333,\"#9c179e\"],[0.4444444444444444,\"#bd3786\"],[0.5555555555555556,\"#d8576b\"],[0.6666666666666666,\"#ed7953\"],[0.7777777777777778,\"#fb9f3a\"],[0.8888888888888888,\"#fdca26\"],[1.0,\"#f0f921\"]],\"diverging\":[[0,\"#8e0152\"],[0.1,\"#c51b7d\"],[0.2,\"#de77ae\"],[0.3,\"#f1b6da\"],[0.4,\"#fde0ef\"],[0.5,\"#f7f7f7\"],[0.6,\"#e6f5d0\"],[0.7,\"#b8e186\"],[0.8,\"#7fbc41\"],[0.9,\"#4d9221\"],[1,\"#276419\"]]},\"xaxis\":{\"gridcolor\":\"white\",\"linecolor\":\"white\",\"ticks\":\"\",\"title\":{\"standoff\":15},\"zerolinecolor\":\"white\",\"automargin\":true,\"zerolinewidth\":2},\"yaxis\":{\"gridcolor\":\"white\",\"linecolor\":\"white\",\"ticks\":\"\",\"title\":{\"standoff\":15},\"zerolinecolor\":\"white\",\"automargin\":true,\"zerolinewidth\":2},\"scene\":{\"xaxis\":{\"backgroundcolor\":\"#E5ECF6\",\"gridcolor\":\"white\",\"linecolor\":\"white\",\"showbackground\":true,\"ticks\":\"\",\"zerolinecolor\":\"white\",\"gridwidth\":2},\"yaxis\":{\"backgroundcolor\":\"#E5ECF6\",\"gridcolor\":\"white\",\"linecolor\":\"white\",\"showbackground\":true,\"ticks\":\"\",\"zerolinecolor\":\"white\",\"gridwidth\":2},\"zaxis\":{\"backgroundcolor\":\"#E5ECF6\",\"gridcolor\":\"white\",\"linecolor\":\"white\",\"showbackground\":true,\"ticks\":\"\",\"zerolinecolor\":\"white\",\"gridwidth\":2}},\"shapedefaults\":{\"line\":{\"color\":\"#2a3f5f\"}},\"annotationdefaults\":{\"arrowcolor\":\"#2a3f5f\",\"arrowhead\":0,\"arrowwidth\":1},\"geo\":{\"bgcolor\":\"white\",\"landcolor\":\"#E5ECF6\",\"subunitcolor\":\"white\",\"showland\":true,\"showlakes\":true,\"lakecolor\":\"white\"},\"title\":{\"x\":0.05},\"mapbox\":{\"style\":\"light\"}}},\"scene\":{\"xaxis\":{\"title\":{\"text\":\"Beats Per Minute (BPM)\",\"font\":{\"color\":\"black\"}}},\"yaxis\":{\"title\":{\"text\":\"Energy\",\"font\":{\"color\":\"black\"}}},\"zaxis\":{\"title\":{\"text\":\"Danceability\",\"font\":{\"color\":\"black\"}}}},\"font\":{\"family\":\"Arial\",\"color\":\"black\",\"size\":12},\"width\":800,\"height\":800,\"autosize\":true,\"showlegend\":true},                        {\"responsive\": true}                    ).then(function(){\n",
              "                            \n",
              "var gd = document.getElementById('228c6996-50a4-4626-9b71-64ad3583739b');\n",
              "var x = new MutationObserver(function (mutations, observer) {{\n",
              "        var display = window.getComputedStyle(gd).display;\n",
              "        if (!display || display === 'none') {{\n",
              "            console.log([gd, 'removed!']);\n",
              "            Plotly.purge(gd);\n",
              "            observer.disconnect();\n",
              "        }}\n",
              "}});\n",
              "\n",
              "// Listen for the removal of the full notebook cells\n",
              "var notebookContainer = gd.closest('#notebook-container');\n",
              "if (notebookContainer) {{\n",
              "    x.observe(notebookContainer, {childList: true});\n",
              "}}\n",
              "\n",
              "// Listen for the clearing of the current output cell\n",
              "var outputEl = gd.closest('.output');\n",
              "if (outputEl) {{\n",
              "    x.observe(outputEl, {childList: true});\n",
              "}}\n",
              "\n",
              "                        })                };                            </script>        </div>\n",
              "</body>\n",
              "</html>"
            ]
          },
          "metadata": {}
        }
      ]
    },
    {
      "cell_type": "markdown",
      "source": [
        "Usando sólo dos dimensiones:"
      ],
      "metadata": {
        "id": "7okOAKI4GRMT"
      }
    },
    {
      "cell_type": "code",
      "source": [
        "plt.figure(dpi=120)\n",
        "for segment in df[\"Music Segments\"].unique():\n",
        "    plt.scatter(x = df[df[\"Music Segments\"]==segment]['Beats Per Minute (BPM)'],\n",
        "                y = df[df[\"Music Segments\"] ==segment]['Energy'])\n",
        "plt.show()"
      ],
      "metadata": {
        "id": "2VhzrHq0FYFf"
      },
      "execution_count": null,
      "outputs": []
    },
    {
      "cell_type": "code",
      "source": [
        "plt.figure(dpi=120)\n",
        "for segment in df[\"Music Segments\"].unique():\n",
        "    plt.scatter(x = df[df[\"Music Segments\"]==segment]['Danceability'],\n",
        "                y = df[df[\"Music Segments\"] ==segment]['Energy'])\n",
        "plt.show()"
      ],
      "metadata": {
        "id": "B5nypRH6GVDq"
      },
      "execution_count": null,
      "outputs": []
    },
    {
      "cell_type": "code",
      "source": [
        "from sklearn.metrics import silhouette_score\n",
        "\n",
        "print(f\"Score de silueta: {silhouette_score(X,clusters)}\")"
      ],
      "metadata": {
        "id": "EKMSEGpXgP5U"
      },
      "execution_count": null,
      "outputs": []
    },
    {
      "cell_type": "markdown",
      "source": [
        "⭕ Preguntas:\n",
        "* Siendo K-Means, ¿por qué se no se ve la separación perfecta?\n",
        "\n",
        "⭕ Ejercicio 1. Continuando con este método de K-Means:\n",
        "* ¿Qué valor de K es mejor? Puedes usar cualquiera de los 3 criteros de arriba, empezando por el *elbow value*.\n",
        "* Una vez que hayas escogido un valor para $K$, reportar los valores de las métricas de clustering: score de Silueta, [Calinski-Harabasz Index](https://scikit-learn.org/stable/modules/generated/sklearn.metrics.calinski_harabasz_score.html#sklearn.metrics.calinski_harabasz_score) y [Davies-Bouldin Index](https://scikit-learn.org/stable/modules/generated/sklearn.metrics.davies_bouldin_score.html#sklearn.metrics.davies_bouldin_score).\n",
        "\n",
        "⭕ Ejercicio 2:\n",
        "\n",
        "* Repetir el experimento, ahora usando Agglomerative Clustering y DBSCAN.\n",
        "* ¿Puedes elevar las métricas de clustering? Considera las métricas score de Silueta y [Davies-Bouldin Index](https://scikit-learn.org/stable/modules/generated/sklearn.metrics.davies_bouldin_score.html#sklearn.metrics.davies_bouldin_score).\n",
        "* Explora visualmente algunas canciones de los clusters, ¿tiene sentido el agrupamiento?"
      ],
      "metadata": {
        "id": "ACYNyhKPefTU"
      }
    },
    {
      "cell_type": "code",
      "source": [],
      "metadata": {
        "id": "x2gwkihWG6Qn"
      },
      "execution_count": null,
      "outputs": []
    },
    {
      "cell_type": "markdown",
      "source": [
        "# Ejemplo 3: `20newsgroups`"
      ],
      "metadata": {
        "id": "0saXLbUX3uh9"
      }
    },
    {
      "cell_type": "markdown",
      "source": [
        "Retomamos el corpus de documentos `20newsgroups`. Realizaremos un clustering en las representaciones de los documentos para ver qué documentos se agrupan juntos.\n",
        "\n",
        "Este dataset se encuentra disponible en sklearn, [documentación](https://scikit-learn.org/0.19/modules/generated/sklearn.datasets.fetch_20newsgroups.html#sklearn.datasets.fetch_20newsgroups)."
      ],
      "metadata": {
        "id": "TvuZKGxMXqlb"
      }
    },
    {
      "cell_type": "code",
      "source": [
        "#@title Descargamos el dataset\n",
        "from sklearn.datasets import fetch_20newsgroups\n",
        "import numpy as np\n",
        "\n",
        "data_full = fetch_20newsgroups(remove=('headers', 'footers', 'quotes'),\n",
        "                               categories=['soc.religion.christian','sci.space','rec.autos'])"
      ],
      "metadata": {
        "id": "-1ujSDe-4xPx",
        "cellView": "form"
      },
      "execution_count": null,
      "outputs": []
    },
    {
      "cell_type": "code",
      "source": [
        "docs = data_full.data\n",
        "print(f\"Número de documentos: {len(docs)}\")\n",
        "topics = data_full.target\n",
        "print(f\"Número de tópicos: {np.unique(topics).shape[0]}\")"
      ],
      "metadata": {
        "id": "Y5Z3lysw4-D-"
      },
      "execution_count": null,
      "outputs": []
    },
    {
      "cell_type": "code",
      "source": [
        "docs[:2]"
      ],
      "metadata": {
        "id": "TfektfBKjNd1"
      },
      "execution_count": null,
      "outputs": []
    },
    {
      "cell_type": "markdown",
      "source": [
        "## Representaciones *term-document* y *tf-idf*\n",
        "\n",
        "Hemos visto que los documentos se pueden representar por medio de vectores *sparse* cuyas componentes son conteos de las apariciones de ciertas palabras. Es decir, el modelo **BOW** (bag of words).\n",
        "\n",
        "Otra forma parecida de representar documentos es por medio de vectores cuyas componentes ahora representan índices *tf-idf* (term frequency - inverse document frequency). Estas tienen la ventaja de restar importancia a palabras que aparecen en muchos documentos.\n",
        "\n",
        "Para un corpus $D$ de documentos, el índice $tfidf$ de un término $t$ en un documento $d$ se calcula como\n",
        "\n",
        "$$tfidf(t,d,D)=tf(t,d)idf(t,D)$$\n",
        "\n",
        "donde\n",
        "\n",
        "$$tf(t,d)=\\frac{f_{t,d}}{\\sum_{s\\in d}f_{s,d}}$$\n",
        "\n",
        "$$idf(t,D)=\\log\\frac{N}{|\\{d\\in D : t\\in d\\}|}$$\n",
        "\n",
        "$f_{t,d}$ es el número de ocurrencias de un término $t$ en un documento $d$, $N$ es el número de documentos en $D$."
      ],
      "metadata": {
        "id": "pJ2riMEvdhLS"
      }
    },
    {
      "cell_type": "code",
      "source": [
        "from sklearn.feature_extraction.text import TfidfVectorizer\n",
        "\n",
        "\n",
        "corpus = [\n",
        "        'This is the first document.',\n",
        "        'This document is the second document.',\n",
        "        'And this is the third one.',\n",
        "        'Is this the first document?',\n",
        "        ]\n",
        "\n",
        "tfidf_vectorizer = TfidfVectorizer()\n",
        "X_tfidf = tfidf_vectorizer.fit_transform(corpus)\n",
        "print(f\"Vocabulario:\\n{tfidf_vectorizer.get_feature_names_out()}\")\n",
        "print(f\"Es una matriz sparse:\\n{X_tfidf}\")\n",
        "print(f\"Primeras tres columnas:\\n{X_tfidf.todense()[:,:3]}\")"
      ],
      "metadata": {
        "id": "s1X2lUBMfxFJ"
      },
      "execution_count": null,
      "outputs": []
    },
    {
      "cell_type": "markdown",
      "source": [
        "Recordemos el modelo **BOW**"
      ],
      "metadata": {
        "id": "YqaG2PNowXpE"
      }
    },
    {
      "cell_type": "code",
      "source": [
        "from sklearn.feature_extraction.text import CountVectorizer\n",
        "\n",
        "count_vectorizer = CountVectorizer()\n",
        "X_counts = count_vectorizer.fit_transform(corpus)\n",
        "print(f\"El vocabulario:\\n{count_vectorizer.get_feature_names_out()}\")\n",
        "print(f\"Las primeras tres columnas:\\n{X_counts.todense()[:,:3]}\")"
      ],
      "metadata": {
        "id": "9eph-7ZsglIU"
      },
      "execution_count": null,
      "outputs": []
    },
    {
      "cell_type": "markdown",
      "source": [
        "## Clustering"
      ],
      "metadata": {
        "id": "qe3PsrBrdqKe"
      }
    },
    {
      "cell_type": "markdown",
      "source": [
        "Traemos la función para limpiar texto de hace algunas sesiones"
      ],
      "metadata": {
        "id": "nelHZO35lj9u"
      }
    },
    {
      "cell_type": "code",
      "source": [
        "url = \"https://raw.githubusercontent.com/DCDPUAEM/DCDP/main/03%20Machine%20Learning/data/limpiador_texto.py\"\n",
        "!wget --no-cache --backups=1 {url}"
      ],
      "metadata": {
        "id": "O8hfDrERlecE"
      },
      "execution_count": null,
      "outputs": []
    },
    {
      "cell_type": "code",
      "source": [
        "from nltk import download\n",
        "\n",
        "download('stopwords')\n",
        "download('punkt')"
      ],
      "metadata": {
        "id": "sm99y0I5lqlb"
      },
      "execution_count": null,
      "outputs": []
    },
    {
      "cell_type": "code",
      "source": [
        "from limpiador_texto import preprocesar_textos\n",
        "\n",
        "clean_docs = preprocesar_textos(docs)"
      ],
      "metadata": {
        "id": "MO7c9yE4l0iA"
      },
      "execution_count": null,
      "outputs": []
    },
    {
      "cell_type": "markdown",
      "source": [
        "Realizamos el clustering con las dos representaciones y calculamos las métricas de rendimiento del clustering."
      ],
      "metadata": {
        "id": "WwvyWWKmlw3t"
      }
    },
    {
      "cell_type": "code",
      "source": [
        "from sklearn.feature_extraction.text import TfidfVectorizer\n",
        "from sklearn.cluster import KMeans\n",
        "from sklearn.metrics import adjusted_mutual_info_score, adjusted_rand_score, silhouette_score\n",
        "\n",
        "\n",
        "vectorizer = TfidfVectorizer(stop_words='english',\n",
        "                             max_features=200)\n",
        "X_tfidf = vectorizer.fit_transform(docs)\n",
        "# X_tfidf = vectorizer.fit_transform(clean_docs)\n",
        "print(X_tfidf.shape)\n",
        "\n",
        "clustering = KMeans(n_clusters=3, n_init='auto')\n",
        "clustering.fit(X_tfidf)\n",
        "clusters = clustering.labels_\n",
        "\n",
        "print(f\"AMI: {adjusted_mutual_info_score(topics,clusters)}\")\n",
        "print(f\"AR: {adjusted_rand_score(topics,clusters)}\")\n",
        "print(f\"Silhoutte del clustering obtenido: {silhouette_score(X_tfidf,clusters)}\")\n",
        "print(f\"Silhoutte de los tópicos: {silhouette_score(X_tfidf,topics)}\")"
      ],
      "metadata": {
        "id": "0CTGrbYo6BwH"
      },
      "execution_count": null,
      "outputs": []
    },
    {
      "cell_type": "code",
      "source": [
        "from sklearn.feature_extraction.text import CountVectorizer\n",
        "from sklearn.cluster import KMeans\n",
        "from sklearn.metrics import adjusted_mutual_info_score, adjusted_rand_score, silhouette_score\n",
        "\n",
        "\n",
        "vectorizer = CountVectorizer(stop_words='english',\n",
        "                             max_features=200)\n",
        "# X_counts = vectorizer.fit_transform(docs)\n",
        "X_counts = vectorizer.fit_transform(clean_docs)\n",
        "print(X_counts.shape)\n",
        "\n",
        "clustering = KMeans(n_clusters=3, n_init='auto',random_state=57)\n",
        "clustering.fit(np.asarray(X_counts.todense()))\n",
        "clusters_counts = clustering.labels_\n",
        "\n",
        "print(f\"AMI: {adjusted_mutual_info_score(topics,clusters_counts)}\")\n",
        "print(f\"AR: {adjusted_rand_score(topics,clusters_counts)}\")\n",
        "print(f\"Silhoutte del clustering obtenido: {silhouette_score(np.asarray(X_counts.todense()),clusters_counts)}\")\n",
        "print(f\"Silhoutte de los tópicos: {silhouette_score(np.asarray(X_counts.todense()),topics)}\")"
      ],
      "metadata": {
        "id": "nKV0jP58FYYJ"
      },
      "execution_count": null,
      "outputs": []
    },
    {
      "cell_type": "code",
      "source": [
        "from sklearn.feature_extraction.text import CountVectorizer\n",
        "from sklearn.cluster import KMeans\n",
        "from sklearn.metrics import adjusted_mutual_info_score, adjusted_rand_score, silhouette_score\n",
        "from sklearn.decomposition import PCA\n",
        "\n",
        "\n",
        "vectorizer = CountVectorizer(stop_words='english',\n",
        "                             max_features=200)\n",
        "# X_counts = vectorizer.fit_transform(docs)\n",
        "X_counts = vectorizer.fit_transform(clean_docs)\n",
        "print(X_counts.shape)\n",
        "\n",
        "pca = PCA(svd_solver='auto',n_components=30)\n",
        "X_pca = pca.fit_transform(np.asarray(X_counts.todense()))\n",
        "print(X_pca.shape)\n",
        "\n",
        "clustering = KMeans(n_clusters=3, n_init='auto',random_state=57)\n",
        "clustering.fit(np.asarray(X_pca))\n",
        "clusters_counts = clustering.labels_\n",
        "\n",
        "print(f\"AMI: {adjusted_mutual_info_score(topics,clusters_counts)}\")\n",
        "print(f\"AR: {adjusted_rand_score(topics,clusters_counts)}\")\n",
        "print(f\"Silhoutte del clustering obtenido: {silhouette_score(X_pca,clusters_counts)}\")\n",
        "print(f\"Silhoutte de los tópicos: {silhouette_score(X_pca,topics)}\")"
      ],
      "metadata": {
        "id": "-ujg9kANLDN7"
      },
      "execution_count": null,
      "outputs": []
    },
    {
      "cell_type": "markdown",
      "source": [
        "Podríamos explorar el comportamiento del parámetro `n_clusters` usando los criterios de intertia y silhoutte."
      ],
      "metadata": {
        "id": "xBGsfhT5hXVC"
      }
    },
    {
      "cell_type": "code",
      "source": [
        "import matplotlib.pyplot as plt\n",
        "\n",
        "sils = []\n",
        "inertias = []\n",
        "\n",
        "for n in range(2,20):\n",
        "    clustering = KMeans(n_clusters=n, n_init='auto')\n",
        "    clustering.fit(np.asarray(X_counts.todense()))\n",
        "    # sil = silhouette_score(np.asarray(X_counts.todense()),clustering.labels_)\n",
        "    # sils.append(sil)\n",
        "    inertias.append(clustering.inertia_)\n",
        "\n",
        "\n",
        "plt.plot(list(range(2,20)),inertias)\n",
        "plt.show()"
      ],
      "metadata": {
        "id": "bpecWbud1DOR"
      },
      "execution_count": null,
      "outputs": []
    },
    {
      "cell_type": "markdown",
      "source": [
        "## Exploración de los clusters"
      ],
      "metadata": {
        "id": "ukpKNSfcdsad"
      }
    },
    {
      "cell_type": "markdown",
      "source": [
        "Podemos probar algunas técnicas adicionales para explorar los clusters"
      ],
      "metadata": {
        "id": "VQz3WBlK5nuT"
      }
    },
    {
      "cell_type": "code",
      "source": [
        "!pip install -qq wordcloud"
      ],
      "metadata": {
        "id": "XkLYugf8Vn1k"
      },
      "execution_count": null,
      "outputs": []
    },
    {
      "cell_type": "code",
      "source": [
        "from wordcloud import WordCloud\n",
        "import matplotlib.pyplot as plt\n",
        "\n",
        "fig, axs = plt.subplots(nrows=1,ncols=3,figsize=(15,10),dpi=100)\n",
        "for k,ax in enumerate(axs):\n",
        "    cluster_text = \" \".join([clean_docs[j] for j,cluster in enumerate(clusters_counts) if cluster==k])\n",
        "    wc = WordCloud().generate(cluster_text)\n",
        "    ax.set_title(f\"Cluster {k}\")\n",
        "    ax.imshow(wc, interpolation='bilinear')\n",
        "    ax.set_xticks([])\n",
        "    ax.set_yticks([])\n",
        "fig.show()"
      ],
      "metadata": {
        "id": "whFCsDYgYwp4"
      },
      "execution_count": null,
      "outputs": []
    },
    {
      "cell_type": "markdown",
      "source": [
        "Imprimimos algunos documentos en cada cluster"
      ],
      "metadata": {
        "id": "6E8NOEer7UEM"
      }
    },
    {
      "cell_type": "code",
      "source": [
        "np.random.seed(43)\n",
        "\n",
        "for k in range(3):\n",
        "    docs_in_cluster = [clean_docs[j] for j,cluster in enumerate(clusters_counts) if cluster==k]\n",
        "    print(f\"Cluster {k} {20*'-'}\")\n",
        "    print(f\"Número de documentos en el cluster: {clusters_counts[clusters_counts==k].shape[0]}\")\n",
        "    some_docs = np.random.choice(docs_in_cluster,size=3)\n",
        "    print(some_docs)"
      ],
      "metadata": {
        "id": "iYxzthhrgTyC"
      },
      "execution_count": null,
      "outputs": []
    },
    {
      "cell_type": "markdown",
      "source": [
        "⭕ **Ejercicio**\n",
        "\n",
        "Repite el experimento variando el parámetro `max_features` de los vectorizadores para ver si puedes subir las métricas de rendimiento y obtener una mejor separación de tópicos, esto hazlo *visualmente* (usando las nubes de palabras y algunos documentos).\n",
        "\n",
        "Usa los dos vectorizadores\n"
      ],
      "metadata": {
        "id": "PfeHRFHsmB-e"
      }
    },
    {
      "cell_type": "code",
      "source": [],
      "metadata": {
        "id": "bODgImjXkmfN"
      },
      "execution_count": null,
      "outputs": []
    },
    {
      "cell_type": "code",
      "source": [],
      "metadata": {
        "id": "aCaOm_vrd4qr"
      },
      "execution_count": null,
      "outputs": []
    }
  ],
  "metadata": {
    "kernelspec": {
      "display_name": "Python 3",
      "language": "python",
      "name": "python3"
    },
    "language_info": {
      "codemirror_mode": {
        "name": "ipython",
        "version": 3
      },
      "file_extension": ".py",
      "mimetype": "text/x-python",
      "name": "python",
      "nbconvert_exporter": "python",
      "pygments_lexer": "ipython3",
      "version": "3.7.4"
    },
    "colab": {
      "provenance": [],
      "toc_visible": true
    }
  },
  "nbformat": 4,
  "nbformat_minor": 0
}