{
  "nbformat": 4,
  "nbformat_minor": 0,
  "metadata": {
    "colab": {
      "provenance": [],
      "toc_visible": true
    },
    "kernelspec": {
      "name": "python3",
      "display_name": "Python 3"
    },
    "language_info": {
      "name": "python"
    }
  },
  "cells": [
    {
      "cell_type": "markdown",
      "source": [
        "<a href=\"https://colab.research.google.com/github/DCDPUAEM/DCDP/blob/main/03%20Machine%20Learning/notebooks/07-Decision-Trees.ipynb\" target=\"_parent\"><img src=\"https://colab.research.google.com/assets/colab-badge.svg\" alt=\"Open In Colab\"/></a>"
      ],
      "metadata": {
        "id": "n3cv9-x_gKat"
      }
    },
    {
      "cell_type": "markdown",
      "source": [
        "# Árboles de decisión"
      ],
      "metadata": {
        "id": "o6TaZpW8qma6"
      }
    },
    {
      "cell_type": "markdown",
      "source": [
        "<img src=\"https://github.com/DCDPUAEM/DCDP/raw/main/03%20Machine%20Learning/img/DT.png\">"
      ],
      "metadata": {
        "id": "gLY1XR5rjmL4"
      }
    },
    {
      "cell_type": "markdown",
      "source": [
        "En esta notebook usaremos el clasificador [Decision Tree](https://scikit-learn.org/stable/modules/generated/sklearn.tree.DecisionTreeClassifier.html) de scikit-learn.\n",
        "\n",
        "Primero, observaremos algunas caracteristicas generales del método y después, lo usaremos en un problema de clasificación con un dataset clásico del machine learning.\n",
        "\n",
        "🎯 Los objetivos de esta notebook son:\n",
        "\n",
        "1. Familiarizarse con el uso del algoritmo y sus hiperparámetros principales.\n",
        "2. Percibir las particularidades de este algoritmo y compararlo con otros algoritmos.\n",
        "3. Usar el algoritmo en un dataset real.  "
      ],
      "metadata": {
        "id": "DHVlH2Bud4Da"
      }
    },
    {
      "cell_type": "code",
      "source": [
        "import pandas as pd\n",
        "import matplotlib.pyplot as plt"
      ],
      "metadata": {
        "id": "FcheG_cRD9_a"
      },
      "execution_count": null,
      "outputs": []
    },
    {
      "cell_type": "code",
      "source": [
        "#@title Función para graficar la frontera de decisión\n",
        "\n",
        "from sklearn.inspection import DecisionBoundaryDisplay\n",
        "import numpy as np\n",
        "\n",
        "def graficar_FD(X,y,clf,h=0):\n",
        "    '''\n",
        "    X es todas las instancias las cuales incluiremos en el gráfico\n",
        "    '''\n",
        "    assert X.shape[1] == 2   # Sólo funciona para datos en dimensión 2\n",
        "    feature_1, feature_2 = np.meshgrid(\n",
        "    np.linspace(X[:,0].min()-h, X[:, 0].max()+h),\n",
        "    np.linspace(X[:, 1].min()-h, X[:, 1].max()+h)\n",
        "    )\n",
        "    grid = np.vstack([feature_1.ravel(), feature_2.ravel()]).T\n",
        "    y_grid_pred = clf.predict(grid)\n",
        "    y_grid_pred = y_grid_pred.reshape(feature_1.shape)\n",
        "    display = DecisionBoundaryDisplay(\n",
        "    xx0=feature_1, xx1=feature_2, response=y_grid_pred\n",
        "    )\n",
        "    display.plot()\n",
        "    display.ax_.scatter(\n",
        "        X[:, 0], X[:, 1], c=y, edgecolor=\"black\"\n",
        "    )\n",
        "    plt.show()\n",
        "    return display.ax_"
      ],
      "metadata": {
        "cellView": "form",
        "id": "XJ2MgCSHFmBY"
      },
      "execution_count": null,
      "outputs": []
    },
    {
      "cell_type": "markdown",
      "source": [
        "El módulo `dtreeviz` es útil para la visualización de árboles de decisión y la interpretación de modelos ([documentación](https://github.com/parrt/dtreeviz))."
      ],
      "metadata": {
        "id": "h6vhe29d5uVK"
      }
    },
    {
      "cell_type": "code",
      "source": [
        "!pip install -qq dtreeviz"
      ],
      "metadata": {
        "id": "YKhWGzhP5hNG"
      },
      "execution_count": null,
      "outputs": []
    },
    {
      "cell_type": "markdown",
      "source": [
        "# Ejemplo 1: Un ejemplo ilustrativo\n",
        "\n",
        "Con este ejemplo, exploraremos el uso básico del álgoritmo y observaremos las características y particularidades del clasificador DT."
      ],
      "metadata": {
        "id": "hHm65FMfuY4K"
      }
    },
    {
      "cell_type": "markdown",
      "source": [
        "## 1. Datos linealmente separables con una línea horizontal\n",
        "\n"
      ],
      "metadata": {
        "id": "_Tia5xfFLylY"
      }
    },
    {
      "cell_type": "markdown",
      "source": [
        "### Conjunto de datos\n",
        "\n",
        "En este primer ejemplo generamos un conjunto de datos linealmente separables con `make_blobs`. Estos datos pueden ser separados con una línea vértical, es decir con una condición de tipo\n",
        "\n",
        "* Si $x>\\alpha$ entonces $(x,y)\\in\\text{clase}_0$.\n",
        "* Si $x<\\alpha$ entonces $(x,y)\\in\\text{clase}_1$."
      ],
      "metadata": {
        "id": "P4D3IsxALKe2"
      }
    },
    {
      "cell_type": "markdown",
      "source": [
        "Primero, generamos y visualizamos los datos"
      ],
      "metadata": {
        "id": "d9r0a-hD4Uli"
      }
    },
    {
      "cell_type": "code",
      "source": [
        "from sklearn.datasets import make_blobs\n",
        "\n",
        "X, y = make_blobs(n_samples=600,centers=2,random_state=31)\n",
        "\n",
        "# colors = {0: 'blue', 1: 'red'} # Forzar a que cada clase tenga un color determinado\n",
        "colors = ['blue' if yi==0 else 'red' for yi in y] # Forzar a que cada clase tenga un color determinado\n",
        "\n",
        "plt.figure()\n",
        "# plt.scatter(X[:,0],X[:,1],c=[colors[yi] for yi in y])\n",
        "plt.scatter(X[:,0],X[:,1],c=colors)\n",
        "plt.show()"
      ],
      "metadata": {
        "id": "lqZPXmUYN9ro"
      },
      "execution_count": null,
      "outputs": []
    },
    {
      "cell_type": "markdown",
      "source": [
        "Dividimos los datos en *train/test*. Entrenamos el árbol de decisión usando la implementación de scikit-learn `sklearn.tree.DecisionTreeClassifier`. Realizamos la predicción sobre el conjunto de prueba."
      ],
      "metadata": {
        "id": "AkBPTaa84anV"
      }
    },
    {
      "cell_type": "code",
      "source": [
        "from sklearn.model_selection import train_test_split\n",
        "from sklearn.tree import DecisionTreeClassifier\n",
        "\n",
        "X_train, X_test, y_train, y_test = train_test_split(X, y, test_size=0.3, random_state=101) # 70% entrenamiento y 30% prueba\n",
        "\n",
        "clf = DecisionTreeClassifier()  # Inicializar el modelo con los hiperparámetros por defecto\n",
        "clf = clf.fit(X_train,y_train)  # Entrenar el modelo\n",
        "y_pred = clf.predict(X_test)    # Predecir las etiquetas para el conjunto de prueba"
      ],
      "metadata": {
        "id": "N36oEEHK4YK4"
      },
      "execution_count": null,
      "outputs": []
    },
    {
      "cell_type": "markdown",
      "source": [
        "### Entrenamiento y evaluación"
      ],
      "metadata": {
        "id": "NQwJ_57zLOBE"
      }
    },
    {
      "cell_type": "markdown",
      "source": [
        "Como es de esperar, obtenemos el 100% en todas las métricas"
      ],
      "metadata": {
        "id": "AVBqAM525NRI"
      }
    },
    {
      "cell_type": "code",
      "source": [
        "from sklearn.metrics import confusion_matrix\n",
        "import seaborn as sns\n",
        "from sklearn.metrics import accuracy_score, recall_score, precision_score\n",
        "\n",
        "print(f\"Accuracy: {round(accuracy_score(y_test,y_pred),3)}\")\n",
        "print(f\"Recall: {round(recall_score(y_test,y_pred),3)}\")\n",
        "print(f\"Precision: {round(precision_score(y_test,y_pred),3)}\")\n",
        "\n",
        "plt.figure(figsize=(3,3))\n",
        "cm = confusion_matrix(y_test,y_pred)\n",
        "s_cm = sns.heatmap(cm,cmap='plasma',annot=True)\n",
        "plt.show()"
      ],
      "metadata": {
        "id": "paSzESRGOEOh"
      },
      "execution_count": null,
      "outputs": []
    },
    {
      "cell_type": "markdown",
      "source": [
        "### Visualización del árbol (opcional)"
      ],
      "metadata": {
        "id": "nx66pAxiLCPb"
      }
    },
    {
      "cell_type": "markdown",
      "source": [
        "Veamos el árbol de decisión usando [`export_text`](https://scikit-learn.org/stable/modules/generated/sklearn.tree.export_text.html) del módulo `tree` de scikit-learn."
      ],
      "metadata": {
        "id": "CawGwBEF5Yhs"
      }
    },
    {
      "cell_type": "code",
      "source": [
        "from sklearn.tree import export_text\n",
        "\n",
        "text_representation = export_text(decision_tree=clf,feature_names=['x','y'])\n",
        "print(text_representation)"
      ],
      "metadata": {
        "id": "no7nskN-OhcG"
      },
      "execution_count": null,
      "outputs": []
    },
    {
      "cell_type": "code",
      "source": [
        "_ = graficar_FD(X,y,clf,h=0.5)"
      ],
      "metadata": {
        "id": "JkmSBhGdPPS1"
      },
      "execution_count": null,
      "outputs": []
    },
    {
      "cell_type": "markdown",
      "source": [
        "## Datos linealmente separables con una línea no vertical."
      ],
      "metadata": {
        "id": "ArjtpE4M3nEh"
      }
    },
    {
      "cell_type": "markdown",
      "source": [
        "Transformamos los datos para ahora sean separables con línea no horizontal. Para esto, rotamos cada punto un ángulo $\\theta=\\frac{\\pi}{4}=45°$, además, trasladamos la clase *positiva* con el vector $z=(-1,-2)$.\n",
        "\n",
        "**Ocultamos el código por limpieza**"
      ],
      "metadata": {
        "id": "BkozO0Ay6UD1"
      }
    },
    {
      "cell_type": "code",
      "source": [
        "#@title Conjunto de datos\n",
        "\n",
        "import numpy as np\n",
        "\n",
        "theta = np.pi/4 # Ángulo de rotación\n",
        "R = np.array([[np.cos(theta),-np.sin(theta)],[np.sin(theta),np.cos(theta)]]) # Matriz de rotación\n",
        "\n",
        "Xr = np.transpose(R@np.transpose(X)) # Rotamos el dataset\n",
        "\n",
        "idxs = np.where(y==1)[0]   # Obtenemos los índices donde y=1\n",
        "\n",
        "Xr[idxs,:] = Xr[idxs,:] + np.array([-1,-2])\n",
        "\n",
        "fig, axs = plt.subplots(1,2,figsize=(9,5),sharey=True)\n",
        "axs[0].scatter(X[:,0],X[:,1],c=['blue' if yi==0 else 'red' for yi in y])\n",
        "axs[0].set_title(\"Original dataset\")\n",
        "axs[1].scatter(Xr[:,0],Xr[:,1],c=['blue' if yi==0 else 'red' for yi in y])\n",
        "axs[1].set_title(\"Transformed dataset\")\n",
        "fig.show()"
      ],
      "metadata": {
        "id": "AsmIGzTx6TmQ",
        "cellView": "form"
      },
      "execution_count": null,
      "outputs": []
    },
    {
      "cell_type": "code",
      "source": [
        "from sklearn.model_selection import train_test_split\n",
        "\n",
        "X_train, X_test, y_train, y_test = train_test_split(Xr, y, test_size=0.3, random_state=101) # 70% training and 30% test"
      ],
      "metadata": {
        "id": "ehKSVwpH_r0B"
      },
      "execution_count": null,
      "outputs": []
    },
    {
      "cell_type": "markdown",
      "source": [
        "### Entrenamiento y evaluación"
      ],
      "metadata": {
        "id": "v4Mgg6M1NZ9m"
      }
    },
    {
      "cell_type": "code",
      "source": [
        "from sklearn.tree import DecisionTreeClassifier\n",
        "\n",
        "clf = DecisionTreeClassifier()  # Create Decision Tree classifier object\n",
        "clf = clf.fit(X_train,y_train)  # Train Decision Tree Classifier\n",
        "y_pred = clf.predict(X_test)    # Predict the response for test dataset"
      ],
      "metadata": {
        "id": "BwjCPJ_6NgoY"
      },
      "execution_count": null,
      "outputs": []
    },
    {
      "cell_type": "markdown",
      "source": [
        "Dados que los datos siguen siendo linealmente separables, seguimos obteniendo el 100% en todas las métricas."
      ],
      "metadata": {
        "id": "TYrghH9rC-F9"
      }
    },
    {
      "cell_type": "code",
      "source": [
        "from sklearn.metrics import confusion_matrix\n",
        "import seaborn as sns\n",
        "from sklearn.metrics import accuracy_score, recall_score, precision_score\n",
        "\n",
        "print(f\"Accuracy: {round(accuracy_score(y_test,y_pred),3)}\")\n",
        "print(f\"Recall: {round(recall_score(y_test,y_pred),5)}\")\n",
        "print(f\"Precision: {round(precision_score(y_test,y_pred),3)}\")\n",
        "\n",
        "plt.figure(figsize=(3,3))\n",
        "cm = confusion_matrix(y_test,y_pred)\n",
        "s_cm = sns.heatmap(cm,cmap='plasma',annot=True, fmt='g')\n",
        "plt.show()"
      ],
      "metadata": {
        "id": "1lSQ8DO4_zwA"
      },
      "execution_count": null,
      "outputs": []
    },
    {
      "cell_type": "markdown",
      "source": [
        "### Visualización del árbol"
      ],
      "metadata": {
        "id": "jOcQyoF-NomE"
      }
    },
    {
      "cell_type": "markdown",
      "source": [
        "Sin embargo, el árbol empieza a hacerse más complejo."
      ],
      "metadata": {
        "id": "tNNNHtZ2DHm-"
      }
    },
    {
      "cell_type": "code",
      "source": [
        "from sklearn.tree import export_text\n",
        "\n",
        "text_representation = export_text(decision_tree=clf,feature_names=['x','y'])\n",
        "print(text_representation)"
      ],
      "metadata": {
        "id": "eK2bQQc5_4yd"
      },
      "execution_count": null,
      "outputs": []
    },
    {
      "cell_type": "markdown",
      "source": [
        "La frontera de decisión no es la que esperaríamos:"
      ],
      "metadata": {
        "id": "M0smc2XnR1F3"
      }
    },
    {
      "cell_type": "code",
      "source": [
        "_ = graficar_FD(Xr,y,clf,h=0.5)"
      ],
      "metadata": {
        "id": "mx8i-5bGCUUq"
      },
      "execution_count": null,
      "outputs": []
    },
    {
      "cell_type": "markdown",
      "source": [
        "Como podemos ver, este clasificador no separa con una línea en general, aún si los datos son linealmente separables. **Los árboles de decisión obtienen una FD compuesta de segmentos de línea verticales y horizontales.**"
      ],
      "metadata": {
        "id": "fMZFacpJqyQj"
      }
    },
    {
      "cell_type": "markdown",
      "source": [
        "### Efecto de perturbaciones"
      ],
      "metadata": {
        "id": "11W12kCidBep"
      }
    },
    {
      "cell_type": "markdown",
      "source": [
        "Ahora, observemos el efecto de perturbar levemente el conjunto de datos. ¿Qué le pasa al arbol de decisión?\n",
        "\n",
        "Este tipo de perturbaciones pueden ocurrir como resultado de errores de medición o de la presencia de outliers.\n",
        "\n",
        "Movemos un par de puntos cerca de la FD."
      ],
      "metadata": {
        "id": "Mr0pJ-nKSfQo"
      }
    },
    {
      "cell_type": "code",
      "source": [
        "Xrp = Xr.copy()\n",
        "Xrp[192] = Xrp[192] + np.array([-1,-2])\n",
        "Xrp[486] = Xrp[486] + np.array([2,1])\n",
        "\n",
        "fig, axs = plt.subplots(1,2,figsize=(9,5),sharey=True)\n",
        "axs[0].scatter(Xr[:,0],Xr[:,1],c=['blue' if yi==0 else 'red' for yi in y])\n",
        "axs[0].set_title(\"Original dataset\")\n",
        "axs[1].scatter(Xrp[:,0],Xrp[:,1],c=['blue' if yi==0 else 'red' for yi in y])\n",
        "axs[1].set_title(\"Perturbed dataset\")\n",
        "fig.show()"
      ],
      "metadata": {
        "id": "8hUiUrdOdH9b"
      },
      "execution_count": null,
      "outputs": []
    },
    {
      "cell_type": "code",
      "source": [
        "from sklearn.model_selection import train_test_split\n",
        "from sklearn.tree import DecisionTreeClassifier\n",
        "\n",
        "X_train, X_test, y_train, y_test = train_test_split(Xrp, y, test_size=0.3, random_state=101) # 70% training and 30% test\n",
        "\n",
        "clf = DecisionTreeClassifier()  # Create Decision Tree classifier object\n",
        "clf = clf.fit(X_train,y_train)  # Train Decision Tree Classifier\n",
        "y_pred = clf.predict(X_test)    # Predict the response for test dataset"
      ],
      "metadata": {
        "id": "PiWGKgphQJFU"
      },
      "execution_count": null,
      "outputs": []
    },
    {
      "cell_type": "code",
      "source": [
        "from sklearn.metrics import confusion_matrix\n",
        "import seaborn as sns\n",
        "from sklearn.metrics import accuracy_score, recall_score, precision_score\n",
        "\n",
        "print(f\"Accuracy: {round(accuracy_score(y_test,y_pred),3)}\")\n",
        "print(f\"Recall: {round(recall_score(y_test,y_pred),5)}\")\n",
        "print(f\"Precision: {round(precision_score(y_test,y_pred),3)}\")\n",
        "\n",
        "plt.figure(figsize=(3,3))\n",
        "cm = confusion_matrix(y_test,y_pred)\n",
        "s_cm = sns.heatmap(cm,cmap='plasma',annot=True, fmt='g')\n",
        "plt.show()"
      ],
      "metadata": {
        "id": "dl_M9fD2QJFW"
      },
      "execution_count": null,
      "outputs": []
    },
    {
      "cell_type": "code",
      "source": [
        "from sklearn.tree import export_text\n",
        "\n",
        "text_representation = export_text(decision_tree=clf,feature_names=['x','y'])\n",
        "print(text_representation)"
      ],
      "metadata": {
        "id": "L5f2V5DEQJFX"
      },
      "execution_count": null,
      "outputs": []
    },
    {
      "cell_type": "code",
      "source": [
        "_ = graficar_FD(Xrp,y,clf,h=0.5)"
      ],
      "metadata": {
        "id": "fbmVDMdXQJFY"
      },
      "execution_count": null,
      "outputs": []
    },
    {
      "cell_type": "markdown",
      "source": [
        "# Ejemplo 2: MNIST"
      ],
      "metadata": {
        "id": "BOHwPFOmX7zx"
      }
    },
    {
      "cell_type": "markdown",
      "source": [
        "Ver la diferencia entre normalizar o no"
      ],
      "metadata": {
        "id": "Ew7tZerDkAYF"
      }
    },
    {
      "cell_type": "code",
      "source": [
        "from sklearn.datasets import load_digits\n",
        "\n",
        "digits = load_digits()\n",
        "\n",
        "X = digits.data\n",
        "y = digits.target"
      ],
      "metadata": {
        "id": "Le5lbPpXX_oj"
      },
      "execution_count": null,
      "outputs": []
    },
    {
      "cell_type": "code",
      "source": [
        "from sklearn.tree import DecisionTreeClassifier\n",
        "from sklearn.model_selection import train_test_split\n",
        "\n",
        "X_train, X_test, y_train, y_test = train_test_split(X, y, test_size=0.3, random_state=101)\n",
        "\n",
        "clf = DecisionTreeClassifier()\n",
        "clf = clf.fit(X_train,y_train)\n",
        "y_pred = clf.predict(X_test)"
      ],
      "metadata": {
        "id": "JG9-Y5TVYWxR"
      },
      "execution_count": null,
      "outputs": []
    },
    {
      "cell_type": "code",
      "source": [
        "print(f\"Accuracy entrenamiento: {clf.score(X_train,y_train)}\")\n",
        "print(f\"Accuracy prueba: {clf.score(X_test,y_test)}\")"
      ],
      "metadata": {
        "id": "Lpuc3WXfSJFc"
      },
      "execution_count": null,
      "outputs": []
    },
    {
      "cell_type": "markdown",
      "source": [
        "Viendo las métricas, ¿hay señales de entrenamiento?"
      ],
      "metadata": {
        "id": "4gWKa8KHS99Y"
      }
    },
    {
      "cell_type": "code",
      "source": [
        "import matplotlib.pyplot as plt\n",
        "import seaborn as sns\n",
        "from sklearn.metrics import accuracy_score, recall_score, precision_score, confusion_matrix\n",
        "\n",
        "print(f\"Accuracy: {round(accuracy_score(y_test,y_pred),3)}\")\n",
        "print(f\"Recall: {round(recall_score(y_test,y_pred, average='macro'),3)}\")\n",
        "print(f\"Precision: {round(precision_score(y_test,y_pred, average='macro'),3)}\")\n",
        "\n",
        "plt.figure(figsize=(3,3))\n",
        "cm = confusion_matrix(y_test,y_pred)\n",
        "s_cm = sns.heatmap(cm,cmap='plasma',annot=True, fmt='g')\n",
        "plt.show()"
      ],
      "metadata": {
        "id": "fMzvZFqlYwRN"
      },
      "execution_count": null,
      "outputs": []
    },
    {
      "cell_type": "code",
      "source": [
        "from sklearn import tree\n",
        "\n",
        "from sklearn.tree import export_text\n",
        "\n",
        "text_representation = export_text(decision_tree=clf,feature_names=[f'pixel_{j+1}' for j in range(X.shape[1])])\n",
        "print(text_representation)"
      ],
      "metadata": {
        "id": "5CIDRJC9Y7NU"
      },
      "execution_count": null,
      "outputs": []
    },
    {
      "cell_type": "markdown",
      "source": [
        "### No es necesaria la normalización"
      ],
      "metadata": {
        "id": "6uP__ydLXPNJ"
      }
    },
    {
      "cell_type": "code",
      "source": [
        "from sklearn.pipeline import Pipeline\n",
        "from sklearn.preprocessing import StandardScaler, MinMaxScaler\n",
        "from sklearn.model_selection import train_test_split\n",
        "\n",
        "X_train, X_test, y_train, y_test = train_test_split(X, y, test_size=0.3, random_state=101)\n",
        "\n",
        "# ----- Normalizando ----\n",
        "pl = Pipeline([('scl',MinMaxScaler()),\n",
        "               ('clf',DecisionTreeClassifier())])\n",
        "pl.fit(X_train,y_train)\n",
        "print(f\"Accuracy de prueba (Normalizando): {pl.score(X_test,y_test)}\")\n",
        "\n",
        "# ---- Sin normalizar ----\n",
        "clf = DecisionTreeClassifier()\n",
        "clf = clf.fit(X_train,y_train)\n",
        "print(f\"Accuracy de prueba (Sin normalizar): {clf.score(X_test,y_test)}\")\n"
      ],
      "metadata": {
        "id": "bquVwsUweOax"
      },
      "execution_count": null,
      "outputs": []
    },
    {
      "cell_type": "markdown",
      "source": [
        "### Efecto de los hiperparámetros"
      ],
      "metadata": {
        "id": "taNnvpVFfgTS"
      }
    },
    {
      "cell_type": "markdown",
      "source": [
        "Veamos cuál es el efecto en el accuracy de cambiar el parámetro `max_depth`"
      ],
      "metadata": {
        "id": "3ijxtqwiUTuU"
      }
    },
    {
      "cell_type": "code",
      "source": [
        "depths = [2,3,4,5,6,7,8,9,10,11]\n",
        "train_scores = []\n",
        "test_scores = []\n",
        "\n",
        "for d in depths:\n",
        "    clf = DecisionTreeClassifier(max_depth=d)\n",
        "    clf = clf.fit(X_train,y_train)\n",
        "    y_pred = clf.predict(X_test)\n",
        "    train_scores.append(clf.score(X_train,y_train))\n",
        "    test_scores.append(clf.score(X_test,y_test))\n",
        "\n",
        "plt.figure()\n",
        "plt.plot(depths,train_scores,label='Entrenamiento')\n",
        "plt.plot(depths,test_scores,label='Prueba')\n",
        "plt.axhline(0.835,color='gray',linestyle='--')\n",
        "plt.legend(loc='best')\n",
        "plt.xlabel(\"max_depth\")\n",
        "plt.ylabel(\"accuracy\")\n",
        "plt.show()"
      ],
      "metadata": {
        "id": "XdTS7E0-TG1T"
      },
      "execution_count": null,
      "outputs": []
    },
    {
      "cell_type": "markdown",
      "source": [
        "Con la ayuda de gridsearch, veamos cuál es la mejor profundidad que podemos obtener"
      ],
      "metadata": {
        "id": "XY2wWtUTWT_X"
      }
    },
    {
      "cell_type": "code",
      "source": [
        "from sklearn.model_selection import GridSearchCV\n",
        "\n",
        "gs = GridSearchCV(estimator = DecisionTreeClassifier(),\n",
        "                  param_grid = {'max_depth': depths})\n",
        "gs.fit(X_train,y_train)\n",
        "print(gs.best_params_)\n",
        "print(f\"Accuracy de prueba con el mejor clasificador: {gs.best_estimator_.score(X_test,y_test)}\")"
      ],
      "metadata": {
        "id": "YKOmR3XTUzuC"
      },
      "execution_count": null,
      "outputs": []
    },
    {
      "cell_type": "markdown",
      "source": [
        "### Comparación con otros algoritmos"
      ],
      "metadata": {
        "id": "_0uXYModWQsy"
      }
    },
    {
      "cell_type": "code",
      "source": [
        "from sklearn.tree import DecisionTreeClassifier\n",
        "from sklearn.svm import SVC\n",
        "import time\n",
        "\n",
        "X_train, X_test, y_train, y_test = train_test_split(X, y, test_size=0.1, random_state=101)\n",
        "\n",
        "dt_times = []\n",
        "for j in range(5):\n",
        "    start = time.time()\n",
        "    clf = DecisionTreeClassifier(max_depth=None)\n",
        "    clf = clf.fit(X_train,y_train)\n",
        "    end = time.time()\n",
        "    dt_times.append(end-start)\n",
        "print(f\"Tiempo promedio de ejecución DT: {np.mean(dt_times)}\")\n",
        "\n",
        "svm_times = []\n",
        "for j in range(5):\n",
        "    start = time.time()\n",
        "    clf = SVC(kernel='linear')\n",
        "    clf = clf.fit(X_train,y_train)\n",
        "    end = time.time()\n",
        "    svm_times.append(end-start)\n",
        "print(f\"Tiempo promedio de ejecución SVM: {np.mean(svm_times)}\")\n"
      ],
      "metadata": {
        "id": "vX-9U_75WS-m"
      },
      "execution_count": null,
      "outputs": []
    },
    {
      "cell_type": "markdown",
      "source": [
        "¿Cómo se compara el rendimiento?"
      ],
      "metadata": {
        "id": "YiHH6O5dbgM9"
      }
    },
    {
      "cell_type": "code",
      "source": [
        "from sklearn.svm import SVC\n",
        "\n",
        "X_train, X_test, y_train, y_test = train_test_split(X, y, test_size=0.3, random_state=101)\n",
        "\n",
        "clf = SVC()\n",
        "clf = clf.fit(X_train,y_train)\n",
        "print(f\"Accuracy de prueba (SVM): {clf.score(X_test,y_test)}\")\n",
        "\n",
        "print(f\"Accuracy de prueba (DT): {gs.best_estimator_.score(X_test,y_test)}\")"
      ],
      "metadata": {
        "id": "08bgv1Y0bmTI"
      },
      "execution_count": null,
      "outputs": []
    },
    {
      "cell_type": "markdown",
      "source": [
        "# Ejemplo 3: PIMA Dataset"
      ],
      "metadata": {
        "id": "l744DLSs6FIg"
      }
    },
    {
      "cell_type": "markdown",
      "source": [
        "## 1. El conjunto de datos"
      ],
      "metadata": {
        "id": "VupVs1qxEAIR"
      }
    },
    {
      "cell_type": "markdown",
      "source": [
        "Este dataset fue creado por el *National Institute of Diabetes and Digestive and Kidney Diseases* de Estados Unidos. El objetivo del dataset es predecir el diagnostico de cuándo un paciente tiene diabetes o no, basado en ciertas mediciones incluidas en el dataset. Varias restricciones fueron usadas en la selección de estas instancias para filtrar el dataset. En particular, se trata pacientes femeninas de al menos 21 años de edad pertenecientes al grupo indígena Pima de Arizona.\n",
        "\n",
        "Las variables incluidas son el numero de embarazos la paciente ha tenido, su BMI, nivel de insulina, edad, entre otras.\n",
        "\n",
        "El dataset se encuentra en https://www.kaggle.com/datasets/uciml/pima-indians-diabetes-database."
      ],
      "metadata": {
        "id": "G3vFmHPULcpU"
      }
    },
    {
      "cell_type": "code",
      "source": [
        "import pandas as pd\n",
        "\n",
        "url = 'https://github.com/DCDPUAEM/DCDP/raw/main/03%20Machine%20Learning/data/diabetes.csv'\n",
        "df = pd.read_csv(url,index_col=0)\n",
        "df"
      ],
      "metadata": {
        "id": "WvSDcCiBD_4M"
      },
      "execution_count": null,
      "outputs": []
    },
    {
      "cell_type": "markdown",
      "source": [
        "## Entrenar el clasificador y resultados"
      ],
      "metadata": {
        "id": "8OBIK856IEcw"
      }
    },
    {
      "cell_type": "markdown",
      "source": [
        "Escogemos las *features* que usaremos y definimos el dataset de features y el vector de etiquetas"
      ],
      "metadata": {
        "id": "6qMqoQT3IPXY"
      }
    },
    {
      "cell_type": "code",
      "source": [
        "feature_cols = ['pregnant', 'insulin', 'bmi', 'age','glucose','bp','pedigree']\n",
        "\n",
        "X = df[feature_cols].values    # Features\n",
        "y = df['label'].values         # Target variable"
      ],
      "metadata": {
        "id": "qOUwwCd5S3DO"
      },
      "execution_count": null,
      "outputs": []
    },
    {
      "cell_type": "markdown",
      "source": [
        "Dividimos los datos en train/test. Entrenamos el árbol de decisión usando la implementación de scikit-learn sklearn.tree.DecisionTreeClassifier. Realizamos la predicción sobre el conjunto de prueba."
      ],
      "metadata": {
        "id": "zOLVREgOIhWN"
      }
    },
    {
      "cell_type": "code",
      "source": [
        "from sklearn.model_selection import train_test_split\n",
        "from sklearn.tree import DecisionTreeClassifier\n",
        "\n",
        "X_train, X_test, y_train, y_test = train_test_split(X, y, test_size=0.3, random_state=1) # 70% training and 30% test\n",
        "\n",
        "clf = DecisionTreeClassifier()\n",
        "clf = clf.fit(X_train,y_train)\n",
        "y_pred = clf.predict(X_test)"
      ],
      "metadata": {
        "id": "PpZUvwi7Ig1u"
      },
      "execution_count": null,
      "outputs": []
    },
    {
      "cell_type": "code",
      "source": [
        "from sklearn.metrics import confusion_matrix\n",
        "import seaborn as sns\n",
        "from sklearn.metrics import accuracy_score, recall_score, precision_score\n",
        "\n",
        "print(f\"Accuracy: {round(accuracy_score(y_test,y_pred),3)}\")\n",
        "print(f\"Recall: {round(recall_score(y_test,y_pred),5)}\")\n",
        "print(f\"Precision: {round(precision_score(y_test,y_pred),3)}\")\n",
        "\n",
        "target_labels = ['no diabetes','diabetes']\n",
        "\n",
        "plt.figure(figsize=(3,3))\n",
        "cm = confusion_matrix(y_test,y_pred)\n",
        "s_cm = sns.heatmap(cm,cmap='plasma',annot=True, fmt='g',\n",
        "            xticklabels=target_labels,\n",
        "            yticklabels=target_labels)\n",
        "s_cm.set(xlabel='Predicted',ylabel='Real')\n",
        "plt.show()"
      ],
      "metadata": {
        "id": "rsso9OE3BVk_"
      },
      "execution_count": null,
      "outputs": []
    },
    {
      "cell_type": "markdown",
      "source": [
        "## Importancia de las features"
      ],
      "metadata": {
        "id": "dXSNV3Kej-zy"
      }
    },
    {
      "cell_type": "markdown",
      "source": [
        "Podemos obtener la importancia de las features"
      ],
      "metadata": {
        "id": "004cEhuKaxFb"
      }
    },
    {
      "cell_type": "code",
      "source": [
        "clf.feature_importances_"
      ],
      "metadata": {
        "id": "vTVRCjRpaw1z"
      },
      "execution_count": null,
      "outputs": []
    },
    {
      "cell_type": "code",
      "source": [
        "importances_df = pd.DataFrame({'feature':feature_cols,'importancia':np.round(clf.feature_importances_,3)})\n",
        "importances_df.sort_values(by='importancia',ascending=False,inplace=True)\n",
        "importances_df"
      ],
      "metadata": {
        "id": "O4RvkQpOamub"
      },
      "execution_count": null,
      "outputs": []
    },
    {
      "cell_type": "markdown",
      "source": [
        "## Visualizaciones de los árboles"
      ],
      "metadata": {
        "id": "SHIxJ_6Wj6dH"
      }
    },
    {
      "cell_type": "markdown",
      "source": [
        "Al visualizar árboles de decisión recuerda que el escalamiento no es necesario, en general. Si decides escalar, esto tiene repercusiones en la visualización del árbol."
      ],
      "metadata": {
        "id": "77CcvUVsSghj"
      }
    },
    {
      "cell_type": "markdown",
      "source": [
        "### Con scikit-learn"
      ],
      "metadata": {
        "id": "QUt9Z3-WlEvk"
      }
    },
    {
      "cell_type": "code",
      "source": [
        "from sklearn.tree import export_text\n",
        "\n",
        "text_representation = export_text(decision_tree=clf,\n",
        "                                       feature_names=feature_cols)\n",
        "print(text_representation)"
      ],
      "metadata": {
        "id": "as_iRGyHj8h0"
      },
      "execution_count": null,
      "outputs": []
    },
    {
      "cell_type": "code",
      "source": [
        "from sklearn.tree import plot_tree\n",
        "\n",
        "fig = plt.figure(figsize=(25,20))   # Definimos una figura más grande para que quepa\n",
        "_ = plot_tree(clf, feature_names=feature_cols,\n",
        "                   class_names=['0','1'],\n",
        "                   filled=True)"
      ],
      "metadata": {
        "id": "QoyVuldWk1I6"
      },
      "execution_count": null,
      "outputs": []
    },
    {
      "cell_type": "markdown",
      "source": [
        "### Using [graphviz](https://graphviz.org/)"
      ],
      "metadata": {
        "id": "nbHmh8pCWmzi"
      }
    },
    {
      "cell_type": "code",
      "source": [
        "from sklearn.tree import export_graphviz\n",
        "from six import StringIO\n",
        "from IPython.display import Image\n",
        "import pydotplus\n",
        "\n",
        "dot_data = StringIO()\n",
        "export_graphviz(clf, out_file=dot_data,\n",
        "                filled=True, rounded=True,\n",
        "                special_characters=True,feature_names = feature_cols,class_names=['0','1'])\n",
        "graph = pydotplus.graph_from_dot_data(dot_data.getvalue())\n",
        "graph.write_png('diabetes.png')\n",
        "Image(graph.create_png())"
      ],
      "metadata": {
        "id": "4d_KAeh3SOpv"
      },
      "execution_count": null,
      "outputs": []
    },
    {
      "cell_type": "markdown",
      "source": [
        "### Using [dtreeviz](https://github.com/parrt/dtreeviz)"
      ],
      "metadata": {
        "id": "c3PQex_sRsnz"
      }
    },
    {
      "cell_type": "code",
      "source": [
        "from dtreeviz import model\n",
        "\n",
        "ct = model(clf, X, y, feature_names = feature_cols)\n",
        "ct.view(fontname='DejaVu Sans')"
      ],
      "metadata": {
        "id": "dvKybSONxSut"
      },
      "execution_count": null,
      "outputs": []
    },
    {
      "cell_type": "markdown",
      "source": [
        "Si queremos salvar la imagen"
      ],
      "metadata": {
        "id": "A_8WgZDGWjWm"
      }
    },
    {
      "cell_type": "code",
      "source": [
        "v = ct.view(fontname='DejaVu Sans')\n",
        "v.save(\"tree.svg\")"
      ],
      "metadata": {
        "id": "Fq9Rqb3aWl85"
      },
      "execution_count": null,
      "outputs": []
    },
    {
      "cell_type": "markdown",
      "source": [
        "#⭕ **Práctica**:\n",
        "\n",
        "¿Puedes subir las métricas de desempeño de este clasificador en este dataset? A continuación hay algunas opciones que puedes probar:\n",
        "\n",
        "* Observar la variable 'bmi', tiene valores 0, ¿qué sentido tienen estos?\n",
        "    * Puedes quitar esas instancias.\n",
        "    * Puedes quitar la variable.\n",
        "* Cambiar el conjunto de features, ya sea manualmente o con algún método como [VarianceThreshold](https://scikit-learn.org/stable/modules/generated/sklearn.feature_selection.VarianceThreshold.html#sklearn.feature_selection.VarianceThreshold), [SelectKBest](https://scikit-learn.org/stable/modules/generated/sklearn.feature_selection.SelectKBest.html), etc.\n",
        "* Realizar un gridsearch en los parámetros del clasificador: `max_depth`, `criterion`, `min_samples_leaf`."
      ],
      "metadata": {
        "id": "XH4LAHlzH97g"
      }
    },
    {
      "cell_type": "markdown",
      "source": [
        "A continuación se muestra una estrategia para obtener alrededor de 75% de accuracy.\n",
        "\n",
        "Esta estrategia usa un imputador para reemplazar los valores 0 con el promedio. Además, se hace selección de features. Todo se junta en un pipeline.\n",
        "\n",
        "**Además, realizamos un gridsearch en un pipeline.**\n",
        "\n",
        "Puedes probar modificando algunos pasos para buscar obtener un mejor rendimiento."
      ],
      "metadata": {
        "id": "gwbg6Q2uYs85"
      }
    },
    {
      "cell_type": "code",
      "source": [
        "import pandas as pd\n",
        "\n",
        "url = 'https://github.com/DCDPUAEM/DCDP/raw/main/03%20Machine%20Learning/data/diabetes.csv'\n",
        "df = pd.read_csv(url,index_col=0)\n",
        "df"
      ],
      "metadata": {
        "id": "n_UHvMG_UADb"
      },
      "execution_count": null,
      "outputs": []
    },
    {
      "cell_type": "code",
      "source": [
        "feature_names = df.columns.to_list()[:-1]\n",
        "\n",
        "print(f\"Nombres de las features: {feature_names}\")"
      ],
      "metadata": {
        "id": "l7MUiy728wC1"
      },
      "execution_count": null,
      "outputs": []
    },
    {
      "cell_type": "code",
      "source": [
        "X = df.loc[:,feature_names].values\n",
        "y = df['label'].values"
      ],
      "metadata": {
        "id": "Lq-gOmZJ8q1a"
      },
      "execution_count": null,
      "outputs": []
    },
    {
      "cell_type": "markdown",
      "source": [
        "### ⚡ GridSearch con pipeline"
      ],
      "metadata": {
        "id": "yyBoAydZQX-w"
      }
    },
    {
      "cell_type": "code",
      "source": [
        "from sklearn.model_selection import GridSearchCV\n",
        "\n",
        "param_grid = {\n",
        "    \"selector__threshold\": [0,0.1,0.2,0.5],\n",
        "    \"clasificador__criterion\": ['gini','entropy'],\n",
        "    \"clasificador__max_depth\": [None,10],\n",
        "    \"clasificador__min_samples_split\": [2,3,4]\n",
        "}\n",
        "\n",
        "search = GridSearchCV(pl, param_grid, n_jobs=2)\n",
        "search.fit(X_train, y_train)\n",
        "print(\"Best parameter (CV score=%0.3f):\" % search.best_score_)\n",
        "print(search.best_params_)\n",
        "\n",
        "best_clf = search.best_estimator_\n",
        "\n",
        "print(f\"Accuracy en el entrenamiento: {best_clf.score(X_train,y_train)}\")\n",
        "print(f\"Accuracy en la prueba: {best_clf.score(X_test,y_test)}\")"
      ],
      "metadata": {
        "id": "_tJwQ9WFbJLX"
      },
      "execution_count": null,
      "outputs": []
    },
    {
      "cell_type": "code",
      "source": [
        "y_pred = best_clf.predict(X_test)\n",
        "\n",
        "print(f\"Accuracy: {round(accuracy_score(y_test,y_pred),3)}\")\n",
        "print(f\"Recall: {round(recall_score(y_test,y_pred),3)}\")\n",
        "print(f\"Precision: {round(precision_score(y_test,y_pred),3)}\")"
      ],
      "metadata": {
        "id": "ZuklND0fX1TF"
      },
      "execution_count": null,
      "outputs": []
    }
  ]
}