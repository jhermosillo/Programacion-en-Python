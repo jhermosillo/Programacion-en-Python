{
  "cells": [
    {
      "cell_type": "markdown",
      "source": [
        "<a href=\"https://colab.research.google.com/github/DCDPUAEM/DCDP/blob/main/03%20Machine%20Learning/notebooks/13-Practica-04.ipynb\" target=\"_parent\"><img src=\"https://colab.research.google.com/assets/colab-badge.svg\" alt=\"Open In Colab\"/></a>"
      ],
      "metadata": {
        "id": "JDUMxrIMt4xk"
      }
    },
    {
      "cell_type": "markdown",
      "metadata": {
        "id": "NQsnSD7NgY0F"
      },
      "source": [
        "# California Housing Dataset\n",
        "\n",
        "Este dataset fue utilizado en el segundo capítulo del libro de Aurélien Géron *Hands-On Machine learning with Scikit-Learn and TensorFlow*. Sirve como una excelente introducción a la implementación de algoritmos de aprendizaje automático, ya que requiere una limpieza de datos rudimentaria, tiene una lista de variables fácilmente comprensible y tiene un equilibrio entre ser directo y engorroso.\n",
        "\n",
        "Los datos contienen información del censo de California de 1990. Así que, aunque puede que sea de mucha ayuda para predecir los precios de viviendas actuales, proporciona un conjunto de datos introductorio accesible para mostrar los fundamentos del aprendizaje automático.\n",
        "\n",
        "🎯 En esta práctica buscaremos construimos el mejor predictor posible usando las técnicas de Machine Learning vistas hasta ahora:\n",
        "\n",
        "* Preprocesamiento y escalamiento.\n",
        "* Selección de features y reducción de dimensionalidad.\n",
        "* Algoritmos para la tarea de regresión."
      ]
    },
    {
      "cell_type": "markdown",
      "source": [
        "## Instrucciones\n",
        "\n",
        "1. Entrena un modelo de regresión lineal con el dataset completo, sin re-escalamiento ni reducción de dimensionalidad. Reporta la métrica de rendimiento MAE. *Esta será tu baseline*.\n",
        "2. Prueba diferentes modelos combinando las técnicas de re-escalamiento y reducción de dimensionalidad que consideres para obtener un mejor rendimiento MAE. Reporta tus parámetros. Puedes usar también otros algoritmos para regresión: Regresión Polinomial, Regresión con regularización, [Árboles de decisión (regresión)](https://scikit-learn.org/stable/modules/generated/sklearn.tree.DecisionTreeRegressor.html), [Random Forest (regresión)](https://scikit-learn.org/stable/modules/generated/sklearn.ensemble.RandomForestRegressor.html), [k-vecinos cercanos](https://scikit-learn.org/stable/modules/generated/sklearn.neighbors.KNeighborsRegressor.html#sklearn.neighbors.KNeighborsRegressor), etc.\n",
        "\n",
        "Como referencia, un *buen* valor de MAE que obtuve fue 45181 (no fue una busqueda tan exhaustiva).  "
      ],
      "metadata": {
        "id": "zYYXXn4bsJ-z"
      }
    },
    {
      "cell_type": "code",
      "execution_count": null,
      "metadata": {
        "id": "P51h7Sute4bC"
      },
      "outputs": [],
      "source": [
        "import pandas as pd"
      ]
    },
    {
      "cell_type": "code",
      "execution_count": null,
      "metadata": {
        "id": "nGko3hAvgM4C"
      },
      "outputs": [],
      "source": [
        "df = pd.read_csv('/content/sample_data/california_housing_train.csv')\n",
        "df"
      ]
    },
    {
      "cell_type": "code",
      "execution_count": null,
      "metadata": {
        "id": "ikxWyhKBglOg"
      },
      "outputs": [],
      "source": [
        "X = df.iloc[:,:-1]\n",
        "y = df.iloc[:,-1]\n",
        "\n",
        "print(X.shape)\n",
        "print(y.shape)"
      ]
    },
    {
      "cell_type": "code",
      "execution_count": null,
      "metadata": {
        "id": "uNS2YJeViRxK"
      },
      "outputs": [],
      "source": [
        "X_train, X_test, y_train, y_test = train_test_split(X, y, test_size=0.25, random_state=2024)\n",
        "\n",
        "print(X_train.shape)\n",
        "print(X_test.shape)\n",
        "print(y_train.shape)\n",
        "print(y_test.shape)"
      ]
    },
    {
      "cell_type": "markdown",
      "metadata": {
        "id": "TkhhmdizgVP5"
      },
      "source": [
        "## Baseline"
      ]
    },
    {
      "cell_type": "code",
      "source": [],
      "metadata": {
        "id": "Z8PE-6FIt_Rj"
      },
      "execution_count": null,
      "outputs": []
    },
    {
      "cell_type": "markdown",
      "metadata": {
        "id": "-9cAtvtQjspr"
      },
      "source": [
        "## Experimentación con otros modelos"
      ]
    },
    {
      "cell_type": "code",
      "source": [],
      "metadata": {
        "id": "aEocE8O9pAsB"
      },
      "execution_count": null,
      "outputs": []
    }
  ],
  "metadata": {
    "colab": {
      "toc_visible": true,
      "provenance": []
    },
    "kernelspec": {
      "display_name": "Python 3",
      "name": "python3"
    },
    "language_info": {
      "name": "python"
    }
  },
  "nbformat": 4,
  "nbformat_minor": 0
}