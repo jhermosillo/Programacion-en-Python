{
 "cells": [
  {
   "cell_type": "markdown",
   "metadata": {
    "colab_type": "text",
    "id": "view-in-github"
   },
   "source": [
    "<a href=\"https://colab.research.google.com/github/DCDPUAEM/DCDP/blob/main/01%20Programaci%C3%B3n%20en%20Python/notebooks/Introduccion_a_la_programacion_con_Python.ipynb\" target=\"_parent\"><img src=\"https://colab.research.google.com/assets/colab-badge.svg\" alt=\"Open In Colab\"/></a>"
   ]
  },
  {
   "cell_type": "markdown",
   "metadata": {},
   "source": [
    "# Algoritmo vs. Programa"
   ]
  },
  {
   "cell_type": "markdown",
   "metadata": {},
   "source": [
    "- Un algoritmo es:\n",
    "    - una secuencia ordenada de pasos individuales (paso 1, 2, 3)\n",
    "    - definidos (una acción a la vez)\n",
    "    - finitos (acciones con inicio y fin)\n",
    "    - para resolver un problema (objetivo+restricciones).\n",
    "\n",
    "- Un programa es una **estructura de datos** y un **algoritmo** escrito en un lenguaje de programación.\n"
   ]
  },
  {
   "cell_type": "markdown",
   "metadata": {},
   "source": [
    "# Corriendo código de Python\n",
    "\n",
    "- Python es un lenguaje interpretado, el código es ejecutado directamente, sin necesidad de ser compilado.\n",
    "\n",
    "- Esto permite que las instrucciones puedan ser evaluadas y visualizadas inmediatamente. \n",
    "\n",
    "- En una notebook, podrás visualizar la salida del código de una celda directamente debajo de ésta."
   ]
  },
  {
   "cell_type": "markdown",
   "metadata": {},
   "source": [
    "## Expresiones en Python\n",
    "\n",
    "Python puede recibir expresiones y evaluarlas directamente (como una calculadora).\n",
    "\n",
    "Por ejemplo puedes escribir:\n",
    "\n",
    "```\n",
    "3 + 7\n",
    "```\n",
    "\n",
    "Python analizará la expresión y te regresará el resultado de la operación:\n",
    "\n",
    "```\n",
    "10\n",
    "```\n",
    "\n",
    "&#9998; Ejecuta la siguiente celda y pruebalo tú mismo."
   ]
  },
  {
   "cell_type": "code",
   "execution_count": null,
   "metadata": {},
   "outputs": [],
   "source": [
    "3 + 7"
   ]
  },
  {
   "cell_type": "markdown",
   "metadata": {},
   "source": [
    "Algunos de los operadores que puedes utilizar:\n",
    "\n",
    "* ```+``` suma\n",
    "* ```-``` resta\n",
    "* ```*``` multiplicación\n",
    "* ```/``` división\n",
    "* ```//``` división entera\n",
    "* ```**``` potencia\n",
    "* ```%``` módulo (residuo de una división entera)\n",
    "\n",
    "Puedes combinar múltiples operadores en una misma expresión.\n",
    "\n",
    "\n",
    "**Nota**: Recuerda que ciertos operadores matemáticos tienen precedencia sobre otros. Puedes usar ```()``` para dar prioridad y evaluar partes de una expresión antes que otras.\n",
    "\n",
    "Por ejemplo, la división entera $\\frac{1+2^2}{5}$ se escribe (1+2**2)/5 y el resultado es 1.0 (valor real o flotante)."
   ]
  },
  {
   "cell_type": "markdown",
   "metadata": {},
   "source": [
    "### &#9998; Ahora intentalo tú escribiendo en la siguiente celda la expresión:\n",
    "$$\n",
    "\\frac{(7+3\\times(4-2^2)-1)}{3} \\textrm{ mod } 2\n",
    "$$\n",
    "El resultado debe ser 0 entero, no real"
   ]
  },
  {
   "cell_type": "code",
   "execution_count": null,
   "metadata": {},
   "outputs": [],
   "source": [
    "# Escribe la expresion en esta celda\n"
   ]
  },
  {
   "cell_type": "markdown",
   "metadata": {},
   "source": [
    "### &#9998; Sobre papel o mentalmente, verifica que el resultado de: \n",
    "\n",
    "<h3><center>5+1 *2 + 4/2*2+1 </center></h3>\n",
    "\n",
    "### es 12.0"
   ]
  },
  {
   "cell_type": "markdown",
   "metadata": {},
   "source": [
    "# Noción de variable"
   ]
  },
  {
   "cell_type": "markdown",
   "metadata": {},
   "source": [
    "- Recordemos que una computadora tiene memoria, por lo que podemos conservar información si recurrimos a ella. Para ello, usamos variables.\n",
    "- Una variable es un contenedor de datos que la computadora mantiene en algún lugar físico de la memoria. \n",
    "- Un programa puede **escribir** datos en el contenedor, lo que se conoce como **asignación a la variable**, y el contenido de ésta permanece guardado mientras no haya otra asignación.\n"
   ]
  },
  {
   "cell_type": "markdown",
   "metadata": {},
   "source": [
    "### &#9758; Asignación de una variable\n",
    "- a=2 \n",
    "- b= 'hola'\n",
    "\n"
   ]
  },
  {
   "cell_type": "markdown",
   "metadata": {},
   "source": [
    "#### &#9758;  Código en python (asignación de variables)"
   ]
  },
  {
   "cell_type": "code",
   "execution_count": null,
   "metadata": {},
   "outputs": [],
   "source": [
    "a=2\n",
    "b='hola'"
   ]
  },
  {
   "cell_type": "markdown",
   "metadata": {},
   "source": [
    "### &#9758; Lectura de una variable\n",
    "\n",
    "- a (El contenido de la variable a se imprime en pantalla o \"no pasa nada\")"
   ]
  },
  {
   "cell_type": "markdown",
   "metadata": {},
   "source": [
    "#### &#9758; Código en python (lectura de una variable)"
   ]
  },
  {
   "cell_type": "code",
   "execution_count": null,
   "metadata": {},
   "outputs": [],
   "source": [
    "a"
   ]
  },
  {
   "cell_type": "markdown",
   "metadata": {},
   "source": [
    "### &#9758; Asignación con lectura\n",
    "\n",
    "- cadena = b"
   ]
  },
  {
   "cell_type": "markdown",
   "metadata": {},
   "source": [
    "#### &#9758; Código en python (asignación con lectura)"
   ]
  },
  {
   "cell_type": "code",
   "execution_count": null,
   "metadata": {},
   "outputs": [],
   "source": [
    "cadena = b"
   ]
  },
  {
   "cell_type": "code",
   "execution_count": null,
   "metadata": {},
   "outputs": [],
   "source": [
    "cadena"
   ]
  },
  {
   "cell_type": "markdown",
   "metadata": {},
   "source": [
    "# Variables en Python\n",
    "\n",
    "En Python, nombrarás a la variable usando un _identificador_ y usarás el signo ```=``` para asignarle un valor. Por ejemplo:\n",
    "\n",
    "```\n",
    "mensaje = \"Hola mundo!\"\n",
    "n = 10\n",
    "pi = 3.14159265\n",
    "```\n",
    "\n",
    "Nombres de variables:\n",
    "\n",
    "* El nombre de la variables solo puede contener letras, dígitos o guion bajo (```_```).\n",
    "* Una variable debe iniciar con una letra o un *guion bajo*$^{(1)}$.\n",
    "* Las variables son sensibles a minúsculas y mayúsculas (```x``` es diferente a ```X```).\n",
    "\n",
    "*1. Iniciar una variable con guion bajo es utilizado para nombrar **variables privadas**.*"
   ]
  },
  {
   "cell_type": "markdown",
   "metadata": {},
   "source": [
    "Restricciones:\n",
    "* Algunas palabras son reservadas por Python y no puedes utilizarlas como nombres de variables.\n",
    "  \n",
    "  Palabras reservadas:\n",
    "```\n",
    " False class finally is return\n",
    "  None continue for lambda try\n",
    "  True def from nonlocal while\n",
    "  and del global not with\n",
    "  as elif if or yield\n",
    "  assert else import pass\n",
    "  break except in raise\n",
    "```\n",
    "* Una variable no puede iniciar con dígitos, por ejemplo, ```10numeros``` no es un nombre válido."
   ]
  },
  {
   "cell_type": "markdown",
   "metadata": {},
   "source": [
    "Algunas recomendaciones para elegir nombres de variables:\n",
    "* Utiliza nombres de variable descriptivos que permitan identificar para que es utilizada:\n",
    "  \n",
    "  ```\n",
    "  pi = 3.14159265\n",
    "  mensaje = \"Hola mundo!\"\n",
    "  segundos_por_dia = 86400\n",
    "  ```\n",
    "* Puedes usar nombres cortos para las variables (```i``` y ```j```) cuando solo las usarás durante una pequeña sección de código.\n",
    "* Es una práctica común usar únicamente letras minúsculas en el nombre de las variables.\n",
    "* Para variables con múltiples palabras, utiliza ```_``` para separarlas (```segundos_por_dia```)."
   ]
  },
  {
   "cell_type": "markdown",
   "metadata": {},
   "source": [
    "#### &#9998; Prueba declarar algunas variables y realizar una expresion"
   ]
  },
  {
   "cell_type": "code",
   "execution_count": null,
   "metadata": {},
   "outputs": [],
   "source": [
    "# Declara tus variables en esta celda"
   ]
  },
  {
   "cell_type": "markdown",
   "metadata": {},
   "source": [
    "## Comentarios en el código\n",
    "\n",
    "En la primera línea de la celda anterior aparece el símbolo ```#``` antes del texto. En python, esto permite escribir cualquier texto y será ignorado durante la ejecución. Esto te permite escribir notas y documentar tu código sin afectar el programa.\n",
    "\n",
    "También puedes hacer comentarios que se extienden por múltiples líneas encerrando el texto entre ```'''```.\n",
    "\n"
   ]
  },
  {
   "cell_type": "code",
   "execution_count": null,
   "metadata": {},
   "outputs": [],
   "source": [
    "#Un comentario en una sola linea\n",
    "m = 5\n",
    "\n",
    "'''\n",
    "Un comentario\n",
    "multi\n",
    "linea\n",
    "no afecta\n",
    "el codigo\n",
    "'''\n",
    "n = 10\n",
    "n*m"
   ]
  },
  {
   "cell_type": "markdown",
   "metadata": {},
   "source": [
    "# Tipos de datos\n",
    "\n",
    "Python es un lenguaje dinámicamente tipado, esto quiere decir que una misma variable puede tomar valores de distinto _tipo_ en distintos momentos.\n",
    "\n",
    "Entonces, al declarar una variable le asignarás un valor, el valor asignado tiene un _tipo_. Los tipos de datos primitivos disponibles en python son:\n",
    "\n",
    "* Integers o enteros.\n",
    "\n",
    "\n",
    "```\n",
    "n = 10\n",
    "```\n",
    "\n",
    "\n",
    "* Floats o punto flotante.\n",
    "\n",
    "\n",
    "```\n",
    "pi = 3.14159265\n",
    "```\n"
   ]
  },
  {
   "cell_type": "markdown",
   "metadata": {},
   "source": [
    "* String o cadena.\n",
    "\n",
    "\n",
    "```\n",
    "msj = \"Hola mundo!\"\n",
    "```\n",
    "\n",
    "\n",
    "* Booleans o Booleanos.\n",
    "\n",
    "\n",
    "```\n",
    "flag = True\n",
    "```"
   ]
  },
  {
   "cell_type": "markdown",
   "metadata": {},
   "source": [
    "Además los tipos de datos primitivos, existen tipos de datos que se componen de uno o más datos primitivos. Algunos de estos son:\n",
    "\n",
    "* List o listas.\n",
    "```\n",
    "first_five_numbers = [1, 2, 3, 4, 5]\n",
    "```\n",
    "\n",
    "* Tuple o tuplas.\n",
    "```\n",
    "pair = (1, 10)\n",
    "```"
   ]
  },
  {
   "cell_type": "markdown",
   "metadata": {},
   "source": [
    "* Ranges.\n",
    "```\n",
    "range(5)\n",
    "```\n",
    "\n",
    "* Sets o conjuntos.\n",
    "```\n",
    "numbers = {1, 2, 3, 4, 5}\n",
    "```"
   ]
  },
  {
   "cell_type": "markdown",
   "metadata": {},
   "source": [
    "* Dictionary o diccionarios.\n",
    "```\n",
    "agenda = {'jack': 4098, 'sjoerd': 4127}\n",
    "```"
   ]
  },
  {
   "cell_type": "markdown",
   "metadata": {},
   "source": [
    "&#9998; Prueba algunos tipos de datos asignando un nuevo valor a la variable ```var```, la celda imprimirá el tipo de dato."
   ]
  },
  {
   "cell_type": "code",
   "execution_count": null,
   "metadata": {},
   "outputs": [],
   "source": [
    "#cambia el valor de la siguiente variable a otros tipos de datos.\n",
    "var = 10\n",
    "type(var)"
   ]
  },
  {
   "cell_type": "markdown",
   "metadata": {},
   "source": [
    "Un ejemplo de tipado dinámico."
   ]
  },
  {
   "cell_type": "code",
   "execution_count": null,
   "metadata": {},
   "outputs": [],
   "source": [
    "#Primero declaramos una variable asignandole un valor entero\n",
    "var = 10\n",
    "print(var)\n",
    "\n",
    "#Ahora le asignamos otro tipo de dato a la variable\n",
    "var = \"hola\"\n",
    "print(var)"
   ]
  },
  {
   "cell_type": "markdown",
   "metadata": {},
   "source": [
    "# Noción de función"
   ]
  },
  {
   "cell_type": "markdown",
   "metadata": {},
   "source": [
    "- Una función es una rutina o subprograma que ejecuta una tarea específica y puede, o no, devolver un valor de algún tipo de dato. \n",
    "- El propósito de una función es encapsular la ejecución de esa tarea específica, para que pueda ser utilizada tantas veces como sea necesario en un programa, y en cualquier programa. \n",
    "- Para *llamar* a una función debes tener en cuenta los siguientes tres componentes que la conforman:\n",
    "\n",
    "  * El nombre de la función:\n",
    "\n",
    "    >Cada función, es identificada mediante el nombre que le fue asignado (como una variable). Un ejemplo es la función ```print()```, una función pre-definida en python que realiza la tarea de escribir en la salida estándar los parámetros recibidos.\n",
    "  \n",
    "  * Los parámetros de entrada de la función (pueden no tener parámetros):\n",
    "\n",
    "    >Algunas funciones reciben parámetros o argumentos como entrada para realizar su trabajo. Por ejemplo, las funciones ```int()```, ```float()``` y ```str()```. Reciben como argumento un tipo de dato y lo convierten a su respectivo tipo.\n",
    "\n",
    "  * El valor de retorno de la función (pueden no retornar valor):\n",
    "\n",
    "    >Las funciones también pueden o no retornar un valor como salida. Por ejemplo, la función int() regresa un nuevo valor entero. Cuando una función no retorna algún valor, entonces retornará **None**, un valor especial en python para definir un valor sin ningún tipo.\n"
   ]
  },
  {
   "cell_type": "markdown",
   "metadata": {},
   "source": [
    "## Algunas funciones pre-definidas en el lenguaje\n",
    "\n",
    "Por defecto, Python incluye algunas funciones pre-definidas que puedes usar durante un programa. Entre las más importantes se encuentran:\n",
    "\n",
    "Para enviar o recibir datos hacia o desde la consola:\n",
    "* [```print(*objects)```](https://docs.python.org/3/library/functions.html?highlight=int#print) Recibe uno o más parámetros y los imprime como salida.\n",
    "* [```input([prompt])```](https://docs.python.org/3/library/functions.html?highlight=int#input) Recibe una cadena y espera a recibir una acción en el teclado del usuario (hasta recibir un enter) y la retorna al programa como cadena.\n",
    "\n",
    "Para realizar cálculos:\n",
    "* [```max(iterable)``` o ```max(arg1, arg2, *args)```](https://docs.python.org/3/library/functions.html?highlight=int#max) Retorna el valor máximo.\n",
    "* [```min(iterable)``` o ```min(arg1, arg2, *args)```](https://docs.python.org/3/library/functions.html?highlight=int#min) Retorna el valor mínimo.\n",
    "* [```abs(x)```](https://docs.python.org/3/library/functions.html?highlight=int#abs) Retorna el valor absoluto de una variable.\n",
    "* [```pow(base, exp)```](https://docs.python.org/3/library/functions.html?highlight=int#pow) Retorna un valor numérico elevado a la potencia del otro.\n",
    "* [```round(number[, ndigits])```](https://docs.python.org/3/library/functions.html?highlight=int#round) Retorna el primer parámetro redondeado matemáticamente a los puntos decimales designados por el segundo.\n"
   ]
  },
  {
   "cell_type": "markdown",
   "metadata": {},
   "source": [
    "Otras funciones relevantes:\n",
    "* [```len(s)```](https://docs.python.org/3/library/functions.html?highlight=int#len) Recibe un objeto de tipo secuencia (lista, vector, matriz, cadena, etc.) y retorna el número de elementos que contiene.\n"
   ]
  },
  {
   "cell_type": "code",
   "execution_count": null,
   "metadata": {},
   "outputs": [],
   "source": [
    "# La funcion print imprime su entrada como salida\n",
    "print(\"Hola mundo!\")\n",
    "\n",
    "# La funcion int convierte su entrada a entero y lo retorna como salida\n",
    "diez = \"10\"\n",
    "print(diez)\n",
    "print(type(diez))\n",
    "n = int(diez)\n",
    "# La salida de int es un entero\n",
    "print(n)\n",
    "print(type(n))"
   ]
  },
  {
   "cell_type": "code",
   "execution_count": null,
   "metadata": {},
   "outputs": [],
   "source": [
    "# Las funciones min y max\n",
    "print(min(1,5))\n",
    "print(max(1,5))\n",
    "\n",
    "# tambien funcionan con listas (iterable)\n",
    "numbers = [1, 2, 3, 4, 5]\n",
    "print(min(numbers))\n",
    "print(max(numbers))"
   ]
  },
  {
   "cell_type": "code",
   "execution_count": null,
   "metadata": {},
   "outputs": [],
   "source": [
    "# las funciones abs, pow y round\n",
    "print(abs(-5))\n",
    "\n",
    "print(pow(3, 2))\n",
    "\n",
    "print(round(3.14159265, 2))"
   ]
  },
  {
   "cell_type": "code",
   "execution_count": null,
   "metadata": {},
   "outputs": [],
   "source": [
    "# La funcion input para recibir una cadena proporcionada por el usuario\n",
    "name = input(\"Ingresa tu nombre:\")\n",
    "print(\"Tu nombre es\", name)"
   ]
  },
  {
   "cell_type": "markdown",
   "metadata": {},
   "source": [
    "### Conversión entre tipos de datos\n",
    "\n",
    "En python tenemos _funciones_ pre-definidas int(), float() y str(), que pueden ser usadas para convertir de un tipo de dato a otro.\n",
    "\n",
    "* [```int(x)```](https://docs.python.org/3/library/functions.html?highlight=int#int)\n",
    "* [```float(x)```](https://docs.python.org/3/library/functions.html?highlight=int#float)\n",
    "* [```str(object)```](https://docs.python.org/3/library/stdtypes.html#str)\n",
    "\n",
    "\n",
    "Por ejemplo, si tienes una variable string y la necesitas como entero:\n",
    "\n",
    "\n",
    "```\n",
    "diez = \"10\"\n",
    "n = int(diez)\n",
    "```\n",
    "\n",
    "\n"
   ]
  },
  {
   "cell_type": "code",
   "execution_count": null,
   "metadata": {},
   "outputs": [],
   "source": [
    "diez = \"10\"\n",
    "print(type(diez))\n",
    "print(diez)\n",
    "\n",
    "\n",
    "#covirtiendo string a int\n",
    "n = int(diez)\n",
    "print(type(n))\n",
    "print(n)"
   ]
  },
  {
   "cell_type": "markdown",
   "metadata": {
    "id": "YHSaZ7NQQnHt"
   },
   "source": [
    "# ¡Felicidades!\n",
    "\n",
    "**Ahora conoces las bases para empezar a utilizar python.**\n",
    "\n",
    "**¿Muchos conceptos?**\n",
    "\n",
    "**No te preocupes, siempre puedes regresar a esta notebook para apoyarte cuando lo necesites.**\n"
   ]
  }
 ],
 "metadata": {
  "colab": {
   "collapsed_sections": [],
   "include_colab_link": true,
   "name": "Las bases para usar Python.ipynb",
   "provenance": []
  },
  "kernelspec": {
   "display_name": "Python 3 (ipykernel)",
   "language": "python",
   "name": "python3"
  },
  "language_info": {
   "codemirror_mode": {
    "name": "ipython",
    "version": 3
   },
   "file_extension": ".py",
   "mimetype": "text/x-python",
   "name": "python",
   "nbconvert_exporter": "python",
   "pygments_lexer": "ipython3",
   "version": "3.11.5"
  }
 },
 "nbformat": 4,
 "nbformat_minor": 4
}
